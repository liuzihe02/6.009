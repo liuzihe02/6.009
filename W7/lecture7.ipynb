{
 "cells": [
  {
   "cell_type": "markdown",
   "metadata": {},
   "source": [
    "Programming is hard.  The key to taming its challenges is to divide a complex program into smaller pieces, where each piece is easier to understand.  Different pieces might be divvied up among the different coders on a team, but careful division of a large code base even makes sense for a lone programmer.  If you don't believe us, try looking back at your code from one of the early labs and see how well you remember it!  Careful program design makes it easy for an informed coder to understand and modify a program.  When the program has well-defined top-level structure, often we can tell that we only need to make changes in one piece.  Then we only need to understand that piece.\n",
    "\n",
    "We've already seen decomposing a program into functions.  Another essential tool of decomposition is *encapsulation*, associated with the idea of *abstract data types (ADTs)*.  An ADT implementation connects a data structure with a set of useful operations on that structure.  The idea is that the details of the data structure are *hidden* from code using the ADT.  That way, the ADT implementation can be modified *independently* from all the other bits of code that depend on it.  You can imagine that one programmer is responsible for the ADT, and another programmer is responsible for coding some algorithm that uses the ADT.  These two programmers can now go about their business simultaneously, potentially finishing the project twice as fast as if they hadn't chosen this decomposition!  The story is even better when the ADT implementation and algorithm are both evolving over time, and each can be improved without affecting the other.  Again, this advantage is significant even with a lone programmer.\n",
    "\n",
    "OK, enough generalities.  Let's look at some examples.\n",
    "\n",
    "# Graph Search, Parameterized on Path Data Structures\n",
    "\n",
    "You've practiced graph pathfinding in Lab 2 and backtracking search in Lab 4.  As a running example throughout this lecture, we'll use a few naive recursive-backtracking approaches to pathfinding.  We'll work with graphs like this one, represented simply as a dictionary mapping nodes to lists of nodes reachable in one step."
   ]
  },
  {
   "cell_type": "code",
   "execution_count": 1,
   "metadata": {},
   "outputs": [],
   "source": [
    "graph = {'A': ['B', 'C'],\n",
    "         'B': ['C', 'D'],\n",
    "         'C': ['D'],\n",
    "         'D': ['C'],\n",
    "         'E': ['F'],\n",
    "         'F': ['C']}"
   ]
  },
  {
   "cell_type": "markdown",
   "metadata": {},
   "source": [
    "Our recursive algorithm will maintain a partial path as it goes, and we can use this class to encapsulate the operations we need on paths."
   ]
  },
  {
   "cell_type": "code",
   "execution_count": 2,
   "metadata": {},
   "outputs": [],
   "source": [
    "class Path:\n",
    "    def __init__(self, path=[]):\n",
    "        self.path = path\n",
    "\n",
    "    def add(self, node):\n",
    "        return Path(self.path + [node])\n",
    "\n",
    "    def visited(self, node):\n",
    "        return node in self.path\n",
    "\n",
    "    def len(self):\n",
    "        return len(self.path)\n",
    "\n",
    "    def as_list(self):\n",
    "        return self.path"
   ]
  },
  {
   "cell_type": "markdown",
   "metadata": {},
   "source": [
    "Now here's the main algorithm.  Notice that this version is not guaranteed to find the *shortest* path!"
   ]
  },
  {
   "cell_type": "code",
   "execution_count": 3,
   "metadata": {},
   "outputs": [],
   "source": [
    "#DFS traversal\n",
    "def find_path(graph, start, end, path):\n",
    "    path = path.add(start)\n",
    "    if start == end:\n",
    "        return path\n",
    "    if start not in graph:\n",
    "        return None\n",
    "    for node in graph[start]:\n",
    "        if not path.visited(node):\n",
    "            newpath = find_path(graph, node, end, path)\n",
    "            if newpath: return newpath\n",
    "    return None\n",
    "\n",
    "def find_path_main(graph, start, end):\n",
    "    p = find_path(graph, start, end, Path())\n",
    "    if p:\n",
    "        return p.as_list()\n",
    "    else:\n",
    "        return p"
   ]
  },
  {
   "cell_type": "code",
   "execution_count": 4,
   "metadata": {},
   "outputs": [
    {
     "data": {
      "text/plain": [
       "['A', 'B', 'C', 'D']"
      ]
     },
     "execution_count": 4,
     "metadata": {},
     "output_type": "execute_result"
    }
   ],
   "source": [
    "find_path_main(graph, 'A', 'D')"
   ]
  },
  {
   "cell_type": "markdown",
   "metadata": {},
   "source": [
    "Here are two other algorithms, to find *all* paths connecting two nodes and to find the *shortest* path connecting two nodes.  Especially the latter is significantly less efficient than what you probably had to come up with in Lab 2, but it still works well as an example here."
   ]
  },
  {
   "cell_type": "code",
   "execution_count": 5,
   "metadata": {},
   "outputs": [],
   "source": [
    "def find_all_paths(graph, start, end, path):\n",
    "    path = path.add(start)\n",
    "    if start == end:\n",
    "        return [path]\n",
    "    if start not in graph:\n",
    "        return []\n",
    "    paths = []\n",
    "    for node in graph[start]:\n",
    "        if not path.visited(node):\n",
    "            newpaths = find_all_paths(graph, node, end, path)\n",
    "            for newpath in newpaths:\n",
    "                paths.append(newpath)\n",
    "    return paths\n",
    "\n",
    "def find_all_paths_main(graph, start, end):\n",
    "    return [p.as_list()\n",
    "            for p in find_all_paths(graph, start, end, Path())]\n",
    "\n",
    "#DFS, but keep updating the shortest path\n",
    "def find_shortest_path(graph, start, end, path):\n",
    "    path = path.add(start)\n",
    "    if start == end:\n",
    "        return path\n",
    "    if start not in graph:\n",
    "        return None\n",
    "    shortest = None\n",
    "    for node in graph[start]:\n",
    "        if not path.visited(node):\n",
    "            newpath = find_shortest_path(graph, node, end, path)\n",
    "            if newpath:\n",
    "                if not shortest or newpath.len() < shortest.len():\n",
    "                    shortest = newpath\n",
    "    return shortest\n",
    "\n",
    "def find_shortest_path_main(graph, start, end):\n",
    "    p = find_shortest_path(graph, start, end, Path())\n",
    "    if p:\n",
    "        return p.as_list()\n",
    "    else:\n",
    "        return p"
   ]
  },
  {
   "cell_type": "code",
   "execution_count": 6,
   "metadata": {},
   "outputs": [
    {
     "data": {
      "text/plain": [
       "[['A', 'B', 'C', 'D'], ['A', 'B', 'D'], ['A', 'C', 'D']]"
      ]
     },
     "execution_count": 6,
     "metadata": {},
     "output_type": "execute_result"
    }
   ],
   "source": [
    "find_all_paths_main(graph, 'A', 'D')"
   ]
  },
  {
   "cell_type": "code",
   "execution_count": 7,
   "metadata": {},
   "outputs": [
    {
     "data": {
      "text/plain": [
       "['A', 'B', 'D']"
      ]
     },
     "execution_count": 7,
     "metadata": {},
     "output_type": "execute_result"
    }
   ],
   "source": [
    "find_shortest_path_main(graph, 'A', 'D')"
   ]
  },
  {
   "cell_type": "markdown",
   "metadata": {},
   "source": [
    "We can engineer instances of pathfinding problems where our current implementation runs much more slowly than it needs to.  For instance, consider a graph like this one.\n",
    "\n",
    "![a degenerate linear graph](linear.png)\n",
    "\n",
    "The nodes are consecutive integers, each connected to the number one higher than itself.  Our naive path data structure will run each `visited` check by a complete traversal of the path so far, which takes time proportional to the path length.  With many such checks per search, the time adds up.  Here's some code to demonstrate."
   ]
  },
  {
   "cell_type": "code",
   "execution_count": 8,
   "metadata": {},
   "outputs": [],
   "source": [
    "# To see how inefficient this pathfinding is, let's use this trivial straight-line graph.\n",
    "def straight_line(n):\n",
    "    return {i: [i+1] for i in range(n)}\n",
    "\n",
    "# Python's limit on recursion means we'll need to run several searches to get the times high enough to compare.\n",
    "def perf_test(n, path):\n",
    "    x = [find_path(straight_line(n), 0, n, path)\n",
    "         for i in range(1000)]"
   ]
  },
  {
   "cell_type": "code",
   "execution_count": 9,
   "metadata": {},
   "outputs": [],
   "source": [
    "perf_test(1000, Path())"
   ]
  },
  {
   "cell_type": "markdown",
   "metadata": {},
   "source": [
    "Note how the performance tester is parameterized on an object that provides path operations.  Why would we bother to do that?  Because next we'll see how easy it is to drop in alternative path implementations!"
   ]
  },
  {
   "cell_type": "markdown",
   "metadata": {},
   "source": [
    "## Linked-List Paths\n",
    "\n",
    "Remember that an abstract data type, or ADT, provides a set of *methods* that can be called to interact with *private* data of an object.  Code outside that object isn't supposed to muck with the object's fields directly.\n",
    "\n",
    "We can specify a path ADT as follows, informally.\n",
    "\n",
    "__Values:__\n",
    "- Sequences of nodes\n",
    "\n",
    "__Operations:__\n",
    "- Create a new empty path\n",
    "- Create a new path by adding a node to the end of another one\n",
    "- Check if a node belongs to a path\n",
    "- Get the length of a path\n",
    "- Convert a path to a normal Python list\n",
    "\n",
    "Note how vague we are about what a \"sequence of nodes\" really is.  This kind of informal specification is meant to explain to a *client* of a path object how to use that object: what to expect different method calls to return in different situations.  It is important that the client can call the object's methods usefully without knowing what is going on inside!\n",
    "\n",
    "Let's demonstrate the flexibility of an ADT implementer by creating an alternative implementation based on linked lists, like we saw in Lecture 5."
   ]
  },
  {
   "cell_type": "code",
   "execution_count": 32,
   "metadata": {},
   "outputs": [],
   "source": [
    "class EmptyLinkedPath:\n",
    "    def add(self, node):\n",
    "        return NonemptyLinkedPath(node, self)\n",
    "\n",
    "    def visited(self, node):        \n",
    "        return False\n",
    "\n",
    "    def len(self):\n",
    "        return 0\n",
    "\n",
    "    def as_list(self):\n",
    "        return []\n",
    "\n",
    "class NonemptyLinkedPath:\n",
    "    def __init__(self, head, tail):\n",
    "        self.head = head\n",
    "        self.tail = tail\n",
    "    \n",
    "    def add(self, node):\n",
    "        return NonemptyLinkedPath(node, self)\n",
    "    \n",
    "    def visited(self, node):\n",
    "        return node == self.head or self.tail.visited(node)\n",
    "    \n",
    "    def len(self):\n",
    "        return 1 + self.tail.len()\n",
    "\n",
    "    def as_list(self):\n",
    "        return self.tail.as_list() + [self.head]"
   ]
  },
  {
   "cell_type": "markdown",
   "metadata": {},
   "source": [
    "Now, like magic, we can reuse all three graph algorithms from before, but with our alternative path data type and associated code.  Note that, though we start each call off with an empty path, instances of the nonempty-path class will usually be created internally."
   ]
  },
  {
   "cell_type": "code",
   "execution_count": 33,
   "metadata": {},
   "outputs": [
    {
     "data": {
      "text/plain": [
       "['A', 'B', 'C', 'D']"
      ]
     },
     "execution_count": 33,
     "metadata": {},
     "output_type": "execute_result"
    }
   ],
   "source": [
    "find_path(graph, 'A', 'D', EmptyLinkedPath()).as_list()"
   ]
  },
  {
   "cell_type": "code",
   "execution_count": 34,
   "metadata": {},
   "outputs": [
    {
     "data": {
      "text/plain": [
       "[['A', 'B', 'C', 'D'], ['A', 'B', 'D'], ['A', 'C', 'D']]"
      ]
     },
     "execution_count": 34,
     "metadata": {},
     "output_type": "execute_result"
    }
   ],
   "source": [
    "[p.as_list() for p in find_all_paths(graph, 'A', 'D', EmptyLinkedPath())]"
   ]
  },
  {
   "cell_type": "code",
   "execution_count": 35,
   "metadata": {},
   "outputs": [
    {
     "data": {
      "text/plain": [
       "['A', 'B', 'D']"
      ]
     },
     "execution_count": 35,
     "metadata": {},
     "output_type": "execute_result"
    }
   ],
   "source": [
    "find_shortest_path(graph, 'A', 'D', EmptyLinkedPath()).as_list()"
   ]
  },
  {
   "cell_type": "markdown",
   "metadata": {},
   "source": [
    "Have we solved our performance problem on the degenerate linear graph?"
   ]
  },
  {
   "cell_type": "code",
   "execution_count": 259,
   "metadata": {},
   "outputs": [],
   "source": [
    "perf_test(200, EmptyLinkedPath())"
   ]
  },
  {
   "cell_type": "markdown",
   "metadata": {},
   "source": [
    "Apparently not!  This version is even slower, though, interestingly, it can be much more space-efficient for large graphs, thanks to sharing in linked lists.\n",
    "\n",
    "It's worth emphasizing the key benefit of ADTs that just made an appearance: **code can be written independently of ADT implementation details, allowing us to drop in different ADT implementations later**.\n",
    "\n",
    "##  A Customized Path Data Structure\n",
    "\n",
    "We could come up with some alternative path representations that work well for many different shapes of graphs.  Instead, let's try to do even better by designing a path class *customized* to graphs like our linear examples.\n",
    "\n",
    "To start with, how about paths that start at 0 and progress upward through consecutive integers?"
   ]
  },
  {
   "cell_type": "code",
   "execution_count": 10,
   "metadata": {},
   "outputs": [],
   "source": [
    "class LessThanPath:\n",
    "    def __init__(self, bound=0):\n",
    "        self.bound = bound\n",
    "        # ...meaning \"all consecutive positive integers less than bound.\"\n",
    "\n",
    "    def add(self, node):\n",
    "        if self.bound == node:\n",
    "            # Good, the client code followed the pattern we optimize for.\n",
    "            # The next path member comes right after the last.\n",
    "            return LessThanPath(node+1)\n",
    "        else:\n",
    "            # Doesn't fit the pattern.  Fall back to an unoptimized path.\n",
    "            p = Path()\n",
    "            for i in range(0, self.bound):\n",
    "                p = p.add(i)\n",
    "            return p.add(node)\n",
    "            # Notice that here we returned an instance of a different class,\n",
    "            # which is totally legit!\n",
    "\n",
    "    def visited(self, node):\n",
    "        # Nice: this check now runs in time independent of path length!\n",
    "        return 0 <= node and node < self.bound\n",
    "\n",
    "    def len(self):\n",
    "        # Ditto for computing the length.\n",
    "        return self.bound\n",
    "\n",
    "    def as_list(self):\n",
    "        # This method still takes time proportional to the path length.\n",
    "        # You can't win 'em all!\n",
    "        return list(range(self.bound))"
   ]
  },
  {
   "cell_type": "code",
   "execution_count": 11,
   "metadata": {},
   "outputs": [],
   "source": [
    "perf_test(1000, LessThanPath())"
   ]
  },
  {
   "cell_type": "markdown",
   "metadata": {},
   "source": [
    "Even for the relatively small graph size, we now get noticeably faster execution.\n",
    "\n",
    "We could be a bit more accommodating, when it comes to the graph shapes that we optimize for.  Why not support any path that is a range of consecutive integers?"
   ]
  },
  {
   "cell_type": "code",
   "execution_count": 12,
   "metadata": {},
   "outputs": [],
   "source": [
    "class RangePath:\n",
    "    def __init__(self, lower=0, upper=0):\n",
    "        self.lower = lower\n",
    "        self.upper = upper\n",
    "        # ...meaning \"all integers in [lower, upper).\"\n",
    "        # For the default values of 0 and 0, that's an empty interval!\n",
    "\n",
    "    def add(self, node):\n",
    "        if self.lower == self.upper:\n",
    "            # Empty range so far.  Switch it now to a single-element range.\n",
    "            return RangePath(node, node+1)\n",
    "        elif node == self.upper:\n",
    "            # The range is being expanded by one position higher.\n",
    "            return RangePath(self.lower, node+1)\n",
    "        else:\n",
    "            # Doesn't fit the pattern.  Fall back to an unoptimized path.\n",
    "            p = Path()\n",
    "            for i in range(self.lower, self.upper):\n",
    "                p = p.add(i)\n",
    "            return p.add(node)\n",
    "\n",
    "    def visited(self, node):\n",
    "        return self.lower <= node and node < self.upper\n",
    "\n",
    "    def len(self):\n",
    "        return self.upper - self.lower\n",
    "\n",
    "    def as_list(self):\n",
    "        return list(range(self.lower, self.upper))"
   ]
  },
  {
   "cell_type": "code",
   "execution_count": 13,
   "metadata": {},
   "outputs": [],
   "source": [
    "perf_test(1000, RangePath())"
   ]
  },
  {
   "cell_type": "markdown",
   "metadata": {},
   "source": [
    "Let's verify that the new implementation also works with a straight-line graph that doesn't begin at zero."
   ]
  },
  {
   "cell_type": "code",
   "execution_count": 14,
   "metadata": {},
   "outputs": [],
   "source": [
    "def straight_line_from(fr, n):\n",
    "    return {i: [i+1] for i in range(fr, fr+n)}\n",
    "\n",
    "def perf_test_from(fr, n, path):\n",
    "    x = [find_path(straight_line_from(fr, n), 0, n, path)\n",
    "         for i in range(1000)]"
   ]
  },
  {
   "cell_type": "code",
   "execution_count": 15,
   "metadata": {},
   "outputs": [],
   "source": [
    "perf_test_from(100, 2000, RangePath())"
   ]
  },
  {
   "cell_type": "markdown",
   "metadata": {},
   "source": [
    "We have seen another key lesson about ADTs: there is not just one canonical, “best” implementation of each ADT.  Instead, we often **build custom ADT implementations, based on the context of a particular problem**, reusing generic algorithms to work “for free” on our new ADT implementations."
   ]
  },
  {
   "cell_type": "markdown",
   "metadata": {},
   "source": [
    "## Exhaustive Testing for Correct Encapsulation\n",
    "\n",
    "We've already been relying implicitly on a concept of correctness for ADTs.  Usually each ADT has a *canonical implementation*, and we say that another implementation is correct if it is *indistinguishable from* the canonical (or reference) implementation.\n",
    "\n",
    "What does it mean to be indistinguishable?  Roughly, it means that no sequence of method calls can tell the difference.  All corresponding method calls return the same values with both implementations.\n",
    "\n",
    "One small catch is that method calls returning instances of the two classes we are comparing probably *won't* return equal values.  We *want* them to be different, because we bothered to write two different classes!  As long as some methods return values in base types like integer or Booleans, we can still test result equality on those methods, which is enough to give a useful notion of indistinguishability.\n",
    "\n",
    "For a fully formal definition of ADT correctness, we'll defer to 6.031 and other follow-on classes.  Here, though, let's use an approximation: for all possible method call sequences within some size bounds, the two classes should return the same answers.\n",
    "\n",
    "To that end, we'll define a set of classes that stand for path methods.  An object of one of these classes can be asked to call that method on a path object, and we can also ask if this method generates a new object of the same class (\"mutates\")."
   ]
  },
  {
   "cell_type": "code",
   "execution_count": 267,
   "metadata": {},
   "outputs": [],
   "source": [
    "class PathLen:\n",
    "    def call(self, path):\n",
    "        return path.len()\n",
    "    def mutates(self):\n",
    "        return False\n",
    "\n",
    "class PathAsList:\n",
    "    def call(self, path):\n",
    "        return path.as_list()\n",
    "    def mutates(self):\n",
    "        return False\n",
    "\n",
    "class PathAdd:\n",
    "    def __init__(self, node):\n",
    "        self.node = node\n",
    "    \n",
    "    def call(self, path):\n",
    "        return path.add(self.node)\n",
    "    def mutates(self):\n",
    "        return True\n",
    "\n",
    "class PathVisited:\n",
    "    def __init__(self, node):\n",
    "        self.node = node\n",
    "    \n",
    "    def call(self, path):\n",
    "        return path.visited(self.node)\n",
    "    def mutates(self):\n",
    "        return False"
   ]
  },
  {
   "cell_type": "markdown",
   "metadata": {},
   "source": [
    "Here's an example of \"the long way\" of checking that two kinds of paths successfully recognize 42 as occupying a one-element path."
   ]
  },
  {
   "cell_type": "code",
   "execution_count": 268,
   "metadata": {},
   "outputs": [
    {
     "data": {
      "text/plain": [
       "(True, True)"
      ]
     },
     "execution_count": 268,
     "metadata": {},
     "output_type": "execute_result"
    }
   ],
   "source": [
    "p1 = Path()\n",
    "p2 = RangePath()\n",
    "m1 = PathAdd(42)\n",
    "p1 = m1.call(p1)\n",
    "p2 = m1.call(p2)\n",
    "m2 = PathVisited(42)\n",
    "m2.call(p1), m2.call(p2)"
   ]
  },
  {
   "cell_type": "markdown",
   "metadata": {},
   "source": [
    "The idea is that the two path implementations should agree similarly on any sequence of method calls!  We bothered to define these funny classes standing for methods because now we can generate call sequences as data values.  Infinitely many call sequences are possible, so we'll generate only up to finite bounds."
   ]
  },
  {
   "cell_type": "code",
   "execution_count": 269,
   "metadata": {},
   "outputs": [],
   "source": [
    "# Generate all method calls whose arguments are positive integers smaller than the bound.\n",
    "def all_calls(bound):\n",
    "    return [PathLen(), PathAsList()] \\\n",
    "        + [PathAdd(i) for i in range(bound)] \\\n",
    "        + [PathVisited(i) for i in range(bound)]\n",
    "\n",
    "# Generate all bounded-call sequences of a given length.\n",
    "def all_call_seqs(bound, length):\n",
    "    if length == 0:\n",
    "        return [[]]\n",
    "    else:\n",
    "        return [[call] + calls\n",
    "                for call in all_calls(bound)\n",
    "                for calls in all_call_seqs(bound, length-1)]\n",
    "\n",
    "# Given two path implementations and a list of tests (each a call sequence),\n",
    "# verify that the two give all the same answers.\n",
    "def agree_on(path1, path2, tests):\n",
    "    for calls in tests:\n",
    "        p1 = path1\n",
    "        p2 = path2\n",
    "        # Note that we make copies here into local variables,\n",
    "        # which we modify as we loop through the current test.\n",
    "\n",
    "        for call in calls:\n",
    "            # Get the return values of the current call on both versions.\n",
    "            v1 = call.call(p1)\n",
    "            v2 = call.call(p2)\n",
    "            \n",
    "            if not call.mutates():\n",
    "                # Easy case: we are calling a method that returns a base type.\n",
    "                # Make sure the answer is the same on both sides.\n",
    "                assert v1 == v2\n",
    "            else:\n",
    "                # This must be a method that returns a new class instance.\n",
    "                # Replace our path variables accordingly.\n",
    "                p1 = v1\n",
    "                p2 = v2"
   ]
  },
  {
   "cell_type": "code",
   "execution_count": 270,
   "metadata": {},
   "outputs": [],
   "source": [
    "agree_on(Path(), EmptyLinkedPath(), all_call_seqs(3, 6))"
   ]
  },
  {
   "cell_type": "code",
   "execution_count": 271,
   "metadata": {},
   "outputs": [],
   "source": [
    "agree_on(Path(), LessThanPath(), all_call_seqs(3, 6))"
   ]
  },
  {
   "cell_type": "code",
   "execution_count": 272,
   "metadata": {},
   "outputs": [],
   "source": [
    "agree_on(Path(), RangePath(), all_call_seqs(3, 6))"
   ]
  },
  {
   "cell_type": "markdown",
   "metadata": {},
   "source": [
    "Great: our three alternative implementations are indistinguishable from the original, within these bounds on test cases.  The larger the bounds we choose in comparing two implementations, the greater our confidence that the two are truly equivalent.  Generally, testing with finitely many cases isn't enough to establish equivalence for sure, but (1) this kind of exhaustive testing can still be useful to find bugs, and (2) imagining testing with very complete sets of inputs gives a good intuition for what ADT equivalence/correctness really is."
   ]
  },
  {
   "cell_type": "markdown",
   "metadata": {},
   "source": [
    "# Mutable Finite Sets\n",
    "\n",
    "Finite sets are another classic ADT, embodied in Python's sets, though sometimes we have reasons to prefer other implementations.  We can define the finite set ADT like so:\n",
    "\n",
    "__Values:__\n",
    "- Finite-size sets of values\n",
    "\n",
    "__Operations:__\n",
    "- Create a new empty set\n",
    "- Add an element to a set\n",
    "- Check if a value belongs to a set\n",
    "- Get the size of a set\n",
    "- Render the set as a sorted list\n",
    "\n",
    "We'll consider this one as a **mutable** ADT, where methods modify the underlying set, rather than returning new sets.\n",
    "\n",
    "Here is an example of a simple algorithm parametrized on a finite-set implementation: computing how many distinct elements appear in a list.  It's easy to do by adding all the elements to a finite set and then returning the set's size."
   ]
  },
  {
   "cell_type": "code",
   "execution_count": 136,
   "metadata": {},
   "outputs": [],
   "source": [
    "def distinct(ls, set):\n",
    "    for v in ls:\n",
    "        set.add(v)\n",
    "    return set.size()"
   ]
  },
  {
   "cell_type": "markdown",
   "metadata": {},
   "source": [
    "To give us an implementation to test with, we wrap native Python sets in an appropriate class."
   ]
  },
  {
   "cell_type": "code",
   "execution_count": 186,
   "metadata": {},
   "outputs": [],
   "source": [
    "class NativeSet:\n",
    "    def __init__(self):\n",
    "        self.set = set()\n",
    "\n",
    "    def add(self, v):\n",
    "        self.set.add(v)\n",
    "\n",
    "    def mem(self, v):\n",
    "        return v in self.set\n",
    "\n",
    "    def size(self):\n",
    "        return len(self.set)\n",
    "    \n",
    "    def as_list(self):\n",
    "        return sorted(list(self.set))"
   ]
  },
  {
   "cell_type": "code",
   "execution_count": 187,
   "metadata": {},
   "outputs": [
    {
     "data": {
      "text/plain": [
       "8"
      ]
     },
     "execution_count": 187,
     "metadata": {},
     "output_type": "execute_result"
    }
   ],
   "source": [
    "distinct([1, 2, 3, 4, 2, 6, 7, 8, 8, 10], NativeSet())"
   ]
  },
  {
   "cell_type": "markdown",
   "metadata": {},
   "source": [
    "## Unsorted-Linked-List Sets\n",
    "\n",
    "Let's also implement sets (fairly slowly) with unsorted linked lists, which we represent using a `ListNode` class, rather than the pattern from before where we create separate classes for empty and nonempty lists."
   ]
  },
  {
   "cell_type": "code",
   "execution_count": 273,
   "metadata": {},
   "outputs": [],
   "source": [
    "class ListNode:\n",
    "    def __init__(self, head, tail):\n",
    "        self.head = head\n",
    "        self.tail = tail\n",
    "\n",
    "class ListSet:\n",
    "    def __init__(self):\n",
    "        self.list = None\n",
    "    \n",
    "    def add(self, v):\n",
    "        if not self.mem(v):\n",
    "            self.list = ListNode(v, self.list)\n",
    "    \n",
    "    def mem(self, v):\n",
    "        ls = self.list\n",
    "        while ls != None:\n",
    "            if ls.head == v:\n",
    "                return True\n",
    "            else:\n",
    "                ls = ls.tail\n",
    "        return False\n",
    "\n",
    "    def size(self):\n",
    "        ls = self.list\n",
    "        n = 0\n",
    "        while ls != None:\n",
    "            n += 1\n",
    "            ls = ls.tail\n",
    "        return n\n",
    "\n",
    "    def as_list(self):\n",
    "        ls = self.list\n",
    "        out = []\n",
    "        while ls != None:\n",
    "            out.append(ls.head)\n",
    "            ls = ls.tail\n",
    "        return sorted(out)"
   ]
  },
  {
   "cell_type": "code",
   "execution_count": 274,
   "metadata": {},
   "outputs": [
    {
     "data": {
      "text/plain": [
       "8"
      ]
     },
     "execution_count": 274,
     "metadata": {},
     "output_type": "execute_result"
    }
   ],
   "source": [
    "distinct([1, 2, 3, 4, 2, 6, 7, 8, 8, 10], ListSet())"
   ]
  },
  {
   "cell_type": "markdown",
   "metadata": {},
   "source": [
    "As expected: we get the same answer as with native sets."
   ]
  },
  {
   "cell_type": "markdown",
   "metadata": {},
   "source": [
    "## Binary-Search-Tree Sets\n",
    "\n",
    "We can also use binary search trees to implement finite sets."
   ]
  },
  {
   "cell_type": "code",
   "execution_count": 275,
   "metadata": {},
   "outputs": [],
   "source": [
    "class TreeNode:\n",
    "    def __init__(self, left, value, right):\n",
    "        self.left = left\n",
    "        self.value = value\n",
    "        self.right = right\n",
    "\n",
    "class TreeSet:\n",
    "    def __init__(self):\n",
    "        self.tree = None\n",
    "    \n",
    "    def mem(self, v):\n",
    "        t = self.tree\n",
    "        while t != None:\n",
    "            if v == t.value:\n",
    "                return True\n",
    "            elif v < t.value:\n",
    "                t = t.left\n",
    "            else:\n",
    "                t = t.right\n",
    "        return False\n",
    "    \n",
    "    def size(self):\n",
    "        def size_helper(t):\n",
    "            if t == None:\n",
    "                return 0\n",
    "            else:\n",
    "                return 1 + size_helper(t.left) + size_helper(t.right)\n",
    "        return size_helper(self.tree)\n",
    "    \n",
    "    def add(self, v):\n",
    "        t = self.tree\n",
    "        prev = None # What's this variable about?\n",
    "                    # Watch it get updated below, and then see how it's finally used at the end.\n",
    "                    # It records where we store a reference to the new node we allocate.\n",
    "        while t != None:\n",
    "            if v == t.value:\n",
    "                return\n",
    "            elif v < t.value:\n",
    "                prev = (t, 'left')\n",
    "                t = t.left\n",
    "            else:\n",
    "                prev = (t, 'right')\n",
    "                t = t.right\n",
    "        new = TreeNode(None, v, None)\n",
    "        if prev == None:\n",
    "            self.tree = new\n",
    "        elif prev[1] == 'left':\n",
    "            prev[0].left = new\n",
    "        else:\n",
    "            prev[0].right = new\n",
    "    \n",
    "    def as_list(self):\n",
    "        t = self.tree\n",
    "        out = []\n",
    "        \n",
    "        def as_list_helper(t):\n",
    "            if t != None:\n",
    "                as_list_helper(t.left)\n",
    "                out.append(t.value)\n",
    "                as_list_helper(t.right)\n",
    "        \n",
    "        as_list_helper(t)\n",
    "        return out"
   ]
  },
  {
   "cell_type": "code",
   "execution_count": 276,
   "metadata": {},
   "outputs": [
    {
     "data": {
      "text/plain": [
       "8"
      ]
     },
     "execution_count": 276,
     "metadata": {},
     "output_type": "execute_result"
    }
   ],
   "source": [
    "distinct([1, 2, 3, 4, 2, 6, 7, 8, 8, 10], TreeSet())"
   ]
  },
  {
   "cell_type": "markdown",
   "metadata": {},
   "source": [
    "## Exhaustive Testing\n",
    "\n",
    "We can adapt our approach of comparing answers on all call sequences within bounds."
   ]
  },
  {
   "cell_type": "code",
   "execution_count": 203,
   "metadata": {},
   "outputs": [],
   "source": [
    "class SetSize:\n",
    "    def call(self, set):\n",
    "        return set.size()\n",
    "    \n",
    "class SetAsList:\n",
    "    def call(self, set):\n",
    "        return set.as_list()\n",
    "\n",
    "class SetAdd:\n",
    "    def __init__(self, v):\n",
    "        self.v = v\n",
    "    \n",
    "    def call(self, set):\n",
    "        return set.add(self.v)\n",
    "\n",
    "class SetMem:\n",
    "    def __init__(self, v):\n",
    "        self.v = v\n",
    "    \n",
    "    def call(self, set):\n",
    "        return set.mem(self.v)\n",
    "\n",
    "def all_calls(bound):\n",
    "    return [SetSize(), SetAsList()] \\\n",
    "        + [SetAdd(i) for i in range(bound)] \\\n",
    "        + [SetMem(i) for i in range(bound)]\n",
    "\n",
    "def all_call_seqs(bound, length):\n",
    "    if length == 0:\n",
    "        return [[]]\n",
    "    else:\n",
    "        return [[call] + calls\n",
    "                for call in all_calls(bound)\n",
    "                for calls in all_call_seqs(bound, length-1)]\n",
    "\n",
    "def agree_on(set1, set2, tests):\n",
    "    for calls in tests:\n",
    "        s1 = set1()\n",
    "        s2 = set2()\n",
    "        # Note that here we allocate new sets at the start of a test!\n",
    "        # Thus, the arguments set1 and set2 are classes rather than objects.\n",
    "\n",
    "        for call in calls:\n",
    "            # Testing result equality is simpler, since with this mutable style,\n",
    "            # results should always be literally equal.\n",
    "            # (Methods run only for their side effects will return None, and of course\n",
    "            # None will be equal on both sides.)\n",
    "            assert call.call(s1) == call.call(s2)"
   ]
  },
  {
   "cell_type": "code",
   "execution_count": 193,
   "metadata": {},
   "outputs": [],
   "source": [
    "agree_on(NativeSet, ListSet, all_call_seqs(3, 6))"
   ]
  },
  {
   "cell_type": "code",
   "execution_count": 194,
   "metadata": {},
   "outputs": [],
   "source": [
    "agree_on(NativeSet, TreeSet, all_call_seqs(3, 6))"
   ]
  },
  {
   "cell_type": "markdown",
   "metadata": {},
   "source": [
    "Note how we pass the `ListSet` and `TreeSet` classes above, rather than objects that belong to them.  It's a neat Python feature that we can pass classes around as first-class data, instantiating them later just by calling them like functions!"
   ]
  },
  {
   "cell_type": "markdown",
   "metadata": {},
   "source": [
    "# Graphs as an Abstract Data Type\n",
    "\n",
    "We can parameterize our graph pathfinding algorithms further, so that they are generic not just in path implementations but also in graph implementations.  Graphs are naturally viewed as an ADT like so:\n",
    "\n",
    "__Values:__\n",
    "- Sets of nodes and edges\n",
    "\n",
    "__Operations:__\n",
    "- Create a new empty graph\n",
    "- Add a node to a graph\n",
    "- Add an edge to a graph\n",
    "- Check if a node belongs to a graph\n",
    "- Compute the neighbors (targets of outgoing edges) of a node in a graph\n",
    "\n",
    "We can easily recast our pathfinding code to work over arbitrary graph implementations."
   ]
  },
  {
   "cell_type": "code",
   "execution_count": 279,
   "metadata": {},
   "outputs": [],
   "source": [
    "def find_path(graph, start, end, path):\n",
    "    path = path.add(start)\n",
    "    if start == end:\n",
    "        return path\n",
    "    if not graph.hasNode(start):\n",
    "        return None\n",
    "    for node in graph.neighbors(start):\n",
    "        if not path.visited(node):\n",
    "            newpath = find_path(graph, node, end, path)\n",
    "            if newpath: return newpath\n",
    "    return None"
   ]
  },
  {
   "cell_type": "markdown",
   "metadata": {},
   "source": [
    "Here is one of the simplest possible implementations of graphs.  Note that it raises `KeyError` exceptions when nonexistent nodes are mentioned.  Spoiler alert: we'll face some new related challenges later in exhaustive testing!"
   ]
  },
  {
   "cell_type": "code",
   "execution_count": 280,
   "metadata": {},
   "outputs": [],
   "source": [
    "class BasicGraph:\n",
    "    def __init__(self):\n",
    "        self.nodes = []\n",
    "        self.edges = []\n",
    "    \n",
    "    def addNode(self, n):\n",
    "        if n not in self.nodes:\n",
    "            self.nodes.append(n)\n",
    "    \n",
    "    def addEdge(self, n1, n2):\n",
    "        if n1 not in self.nodes:\n",
    "            raise KeyError\n",
    "        if (n1, n2) not in self.edges:\n",
    "            self.edges.append((n1, n2))\n",
    "    \n",
    "    def hasNode(self, n):\n",
    "        return n in self.nodes\n",
    "    \n",
    "    def neighbors(self, n):\n",
    "        if n not in self.nodes:\n",
    "            raise KeyError\n",
    "        return sorted([n2\n",
    "                       for n1, n2 in self.edges\n",
    "                       if n1 == n])\n",
    "    \n",
    "    def makeEmpty(self):\n",
    "        return BasicGraph()"
   ]
  },
  {
   "cell_type": "markdown",
   "metadata": {},
   "source": [
    "For testing, it will be handy to have an operation to convert our original dictionary-based graph format into whatever format a graph class uses."
   ]
  },
  {
   "cell_type": "code",
   "execution_count": 281,
   "metadata": {},
   "outputs": [],
   "source": [
    "def create_graph(nodes, graph):\n",
    "    for node, neighbors in nodes.items():\n",
    "        graph.addNode(node)\n",
    "        for neighbor in neighbors:\n",
    "            graph.addEdge(node, neighbor)\n",
    "    return graph"
   ]
  },
  {
   "cell_type": "code",
   "execution_count": 282,
   "metadata": {},
   "outputs": [
    {
     "data": {
      "text/plain": [
       "['A', 'B', 'C', 'D']"
      ]
     },
     "execution_count": 282,
     "metadata": {},
     "output_type": "execute_result"
    }
   ],
   "source": [
    "find_path(create_graph(graph, BasicGraph()), 'A', 'D', Path()).as_list()"
   ]
  },
  {
   "cell_type": "markdown",
   "metadata": {},
   "source": [
    "Note how now, to invoke pathfinding, we choose both a graph implementation and a path implementation.  Any pair of correct implementations should lead to the same answer, though performance may vary drastically based on what we select."
   ]
  },
  {
   "cell_type": "markdown",
   "metadata": {},
   "source": [
    "## A Graph Data Type from Any Set Data Type\n",
    "\n",
    "By now, we've seen several examples of algorithms parameterized on ADT implementations.  Another very effective technique is to **parametrize ADT implementations on other ADT implementations**.  This pattern allows us to decompose a program into a hierarchy of pieces, where each piece is assembled from some more primitive pieces, and then that new piece in turn becomes an ingredient for assembling still higher-level pieces.\n",
    "\n",
    "A simple example in this context is a generic implementation of graphs parametrized over some implementation of finite sets.  We can use the finite sets to store the neighbor set of each node.  (Fancier parametrizations over other ADTs like dictionaries would be even more effective, and we leave those as an exercise for the reader.)\n",
    "\n",
    "Some diagrams might help explain the general idea.  A monolithic ADT implementation works like this:\n",
    "\n",
    "![dataflow through an ADT](adt.png)\n",
    "\n",
    "In contrast, a parameterized ADT implementation looks like this:\n",
    "\n",
    "![dataflow through a parameterized ADT](adt_parameterized.png)\n",
    "\n",
    "Here's a concrete example, a graph class that maintains a dictionary mapping nodes to neighbor sets, using our chosen set class."
   ]
  },
  {
   "cell_type": "code",
   "execution_count": 283,
   "metadata": {},
   "outputs": [],
   "source": [
    "class GraphUsingSet:\n",
    "    def __init__(self, setClass):\n",
    "        self.setClass = setClass\n",
    "        self.nodes = {}\n",
    "    \n",
    "    def addNode(self, n):\n",
    "        if n not in self.nodes:\n",
    "            self.nodes[n] = self.setClass()\n",
    "    \n",
    "    def addEdge(self, n1, n2):\n",
    "        if n1 not in self.nodes:\n",
    "            raise KeyError\n",
    "        self.nodes[n1].add(n2)\n",
    "    \n",
    "    def hasNode(self, n):\n",
    "        return n in self.nodes\n",
    "    \n",
    "    def neighbors(self, n):\n",
    "        if n not in self.nodes:\n",
    "            raise KeyError\n",
    "        return self.nodes[n].as_list()\n",
    "\n",
    "    def makeEmpty(self):\n",
    "        return GraphUsingSet(self.setClass)"
   ]
  },
  {
   "cell_type": "code",
   "execution_count": 284,
   "metadata": {},
   "outputs": [
    {
     "data": {
      "text/plain": [
       "['A', 'B', 'C', 'D']"
      ]
     },
     "execution_count": 284,
     "metadata": {},
     "output_type": "execute_result"
    }
   ],
   "source": [
    "find_path(create_graph(graph, GraphUsingSet(NativeSet)), 'A', 'D', Path()).as_list()"
   ]
  },
  {
   "cell_type": "code",
   "execution_count": 285,
   "metadata": {},
   "outputs": [
    {
     "data": {
      "text/plain": [
       "['A', 'B', 'C', 'D']"
      ]
     },
     "execution_count": 285,
     "metadata": {},
     "output_type": "execute_result"
    }
   ],
   "source": [
    "find_path(create_graph(graph, GraphUsingSet(TreeSet)), 'A', 'D', EmptyLinkedPath()).as_list()"
   ]
  },
  {
   "cell_type": "markdown",
   "metadata": {},
   "source": [
    "Those are just two examples of the three choices we get to make in invoking the generic algorithm: graph, set, and path.\n",
    "\n",
    "## A Very Specific Graph Implementation\n",
    "\n",
    "Actually, remembering our performance test before with the degenerate linear graph, we can take a shortcut to the ultimate optimized implementation!"
   ]
  },
  {
   "cell_type": "code",
   "execution_count": 325,
   "metadata": {},
   "outputs": [],
   "source": [
    "class LinearGraph:\n",
    "    def __init__(self, n):\n",
    "        self.n = n\n",
    "    \n",
    "    def addNode(self, n):\n",
    "        raise ValueError(\"Hey, I'm trying to cheat here!\")\n",
    "    \n",
    "    def addEdge(self, n1, n2):\n",
    "        raise ValueError(\"Hey, I'm trying to cheat here!\")\n",
    "    \n",
    "    def hasNode(self, n):\n",
    "        return 0 <= n and n < self.n\n",
    "    \n",
    "    def neighbors(self, n):\n",
    "        if not self.hasNode(n):\n",
    "            raise KeyError\n",
    "        return [n+1]\n",
    "\n",
    "    def makeEmpty(self):\n",
    "        return LinearGraph(0)"
   ]
  },
  {
   "cell_type": "markdown",
   "metadata": {},
   "source": [
    "Here's the best `BasicGraph` was able to offer us before, with our optimized path implementation.  It takes long enough to run that we notice the delay."
   ]
  },
  {
   "cell_type": "code",
   "execution_count": 334,
   "metadata": {},
   "outputs": [
    {
     "data": {
      "text/plain": [
       "<__main__.RangePath at 0x7fc472c90828>"
      ]
     },
     "execution_count": 334,
     "metadata": {},
     "output_type": "execute_result"
    }
   ],
   "source": [
    "find_path(create_graph(straight_line(2000), BasicGraph()), 0, 2000, RangePath())"
   ]
  },
  {
   "cell_type": "markdown",
   "metadata": {},
   "source": [
    "Now check out this call on our customized graph.  Execution is instant, because we don't need to spend time initializing graph data structures -- all the structure is encoded in the definition of `LinearGraph`."
   ]
  },
  {
   "cell_type": "code",
   "execution_count": 336,
   "metadata": {},
   "outputs": [
    {
     "data": {
      "text/plain": [
       "<__main__.RangePath at 0x7fc490067908>"
      ]
     },
     "execution_count": 336,
     "metadata": {},
     "output_type": "execute_result"
    }
   ],
   "source": [
    "find_path(LinearGraph(2000), 0, 2000, RangePath())"
   ]
  },
  {
   "cell_type": "markdown",
   "metadata": {},
   "source": [
    "## Exhaustive Testing\n",
    "\n",
    "Here's our last take on exhaustive testing, this time for graphs."
   ]
  },
  {
   "cell_type": "code",
   "execution_count": 339,
   "metadata": {},
   "outputs": [],
   "source": [
    "class GraphAddNode:\n",
    "    def __init__(self, node):\n",
    "        self.node = node\n",
    "    \n",
    "    def call(self, graph):\n",
    "        return graph.addNode(self.node)\n",
    "\n",
    "class GraphAddEdge:\n",
    "    def __init__(self, node1, node2):\n",
    "        self.node1 = node1\n",
    "        self.node2 = node2\n",
    "    \n",
    "    def call(self, graph):\n",
    "        return graph.addEdge(self.node1, self.node2)\n",
    "\n",
    "class GraphHasNode:\n",
    "    def __init__(self, node):\n",
    "        self.node = node\n",
    "    \n",
    "    def call(self, graph):\n",
    "        return graph.hasNode(self.node)\n",
    "\n",
    "class GraphNeighbors:\n",
    "    def __init__(self, node):\n",
    "        self.node = node\n",
    "    \n",
    "    def call(self, graph):\n",
    "        return graph.neighbors(self.node)\n",
    "\n",
    "def all_calls(bound):\n",
    "    return [GraphAddNode(i) for i in range(bound)] \\\n",
    "        + [GraphAddEdge(i, j) for i in range(bound) for j in range(bound)] \\\n",
    "        + [GraphHasNode(i) for i in range(bound)] \\\n",
    "        + [GraphNeighbors(i) for i in range(bound)]\n",
    "\n",
    "def all_call_seqs(bound, length):\n",
    "    if length == 0:\n",
    "        return [[]]\n",
    "    else:\n",
    "        return [[call] + calls\n",
    "                for call in all_calls(bound)\n",
    "                for calls in all_call_seqs(bound, length-1)]\n",
    "\n",
    "def agree_on(graph1, graph2, tests):\n",
    "    for calls in tests:\n",
    "        # We forced graphs to support methods to create empty instances of the same class.\n",
    "        # Why not pass in a class name like before?  It would get messy because we need to pass\n",
    "        # set implementations to some of our graph classes.\n",
    "        g1 = graph1.makeEmpty()\n",
    "        g2 = graph2.makeEmpty()\n",
    "\n",
    "        for call in calls:\n",
    "            # The new wrinkle this time: some method calls are meant to raise exceptions,\n",
    "            # and we need to check that the same exceptions are raised on both sides.\n",
    "            try:\n",
    "                v1 = call.call(g1)\n",
    "            except Exception as e:\n",
    "                v1 = e\n",
    "            \n",
    "            try:\n",
    "                v2 = call.call(g2)\n",
    "            except Exception as e:\n",
    "                v2 = e\n",
    "\n",
    "            assert v1 == v2 or (isinstance(v1, Exception) and type(v1) == type(v2))\n",
    "            # Why compare the exceptions' types instead of their values?\n",
    "            # We actually get different KeyError objects created on different invocations."
   ]
  },
  {
   "cell_type": "code",
   "execution_count": 340,
   "metadata": {},
   "outputs": [],
   "source": [
    "agree_on(BasicGraph(), GraphUsingSet(ListSet), all_call_seqs(3, 4))"
   ]
  },
  {
   "cell_type": "code",
   "execution_count": 341,
   "metadata": {},
   "outputs": [],
   "source": [
    "agree_on(BasicGraph(), GraphUsingSet(TreeSet), all_call_seqs(3, 4))"
   ]
  },
  {
   "cell_type": "markdown",
   "metadata": {},
   "source": [
    "# Summary\n",
    "\n",
    "*Encapsulation*, or information hiding, is one of the big ideas in effective program design.  One common embodiment of the idea is *abstract data types*, which package together operations on some hidden representation type.  We've highlighted a few key points about the versatility of abstract data types:\n",
    "\n",
    "- **Code can be written generically in some ADT, so that the code works when any implementation of the ADT is plugged in.**  This way, ADT implementations and their client programs can be coded, understood, and maintained separately.\n",
    "- **A correct implementation of an ADT appears to behave identically to the simple reference implementation on any sequence of method calls.**  That way, the former really is a drop-in replacement for the latter, and programmers may pretend that they are using the simpler reference implementation when they are actually using a more clever implementation.\n",
    "- There is not just one “best” implementation of any ADT: **we often want to implement one ADT differently for different problem contexts, appealing to the same generic algorithms that work “for free” given any implementation of the ADT.**  These custom implementations often improve performance by taking advantage of restrictions on the data that appear in the problem at hand.\n",
    "- **The same principles apply in roughly the same way to ADTs that are mutable (operations modify the data structure) or immutable (operations return new versions of the data structure).**\n",
    "- **It is possible and useful to parameterize one ADT implementation over another.**  This design technique supports *hierarchical* program decomposition, where a complex design is broken into a tree of pieces that are successively combined into more complex pieces.  Different members of a coding team can take responsibility for different pieces and work independently of improvements to the others, and even lone programmers can benefit from the chance to focus in on one part of a program, knowing that details of other parts don't directly influence its workings."
   ]
  }
 ],
 "metadata": {
  "kernelspec": {
   "display_name": "Python 3",
   "language": "python",
   "name": "python3"
  },
  "language_info": {
   "codemirror_mode": {
    "name": "ipython",
    "version": 3
   },
   "file_extension": ".py",
   "mimetype": "text/x-python",
   "name": "python",
   "nbconvert_exporter": "python",
   "pygments_lexer": "ipython3",
   "version": "3.10.12"
  }
 },
 "nbformat": 4,
 "nbformat_minor": 2
}
