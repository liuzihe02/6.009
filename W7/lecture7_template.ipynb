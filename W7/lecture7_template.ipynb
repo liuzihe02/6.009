{
 "cells": [
  {
   "cell_type": "markdown",
   "metadata": {},
   "source": [
    "# Graph Search, Parameterized on Path Data Structures"
   ]
  },
  {
   "cell_type": "code",
   "execution_count": null,
   "metadata": {},
   "outputs": [],
   "source": [
    "graph = {'A': ['B', 'C'],\n",
    "         'B': ['C', 'D'],\n",
    "         'C': ['D'],\n",
    "         'D': ['C'],\n",
    "         'E': ['F'],\n",
    "         'F': ['C']}"
   ]
  },
  {
   "cell_type": "code",
   "execution_count": null,
   "metadata": {},
   "outputs": [],
   "source": [
    "class Path:\n",
    "    def __init__(self, path=[]):\n",
    "        self.path = path\n",
    "\n",
    "    def add(self, node):\n",
    "        return Path(self.path + [node])\n",
    "\n",
    "    def visited(self, node):\n",
    "        return node in self.path\n",
    "\n",
    "    def len(self):\n",
    "        return len(self.path)\n",
    "\n",
    "    def as_list(self):\n",
    "        return self.path"
   ]
  },
  {
   "cell_type": "code",
   "execution_count": null,
   "metadata": {},
   "outputs": [],
   "source": [
    "def find_path(graph, start, end, path):\n",
    "    path = path.add(start)\n",
    "    if start == end:\n",
    "        return path\n",
    "    if start not in graph:\n",
    "        return None\n",
    "    for node in graph[start]:\n",
    "        if not path.visited(node):\n",
    "            newpath = find_path(graph, node, end, path)\n",
    "            if newpath: return newpath\n",
    "    return None\n",
    "\n",
    "def find_path_main(graph, start, end):\n",
    "    p = find_path(graph, start, end, Path())\n",
    "    if p:\n",
    "        return p.as_list()\n",
    "    else:\n",
    "        return p"
   ]
  },
  {
   "cell_type": "code",
   "execution_count": null,
   "metadata": {},
   "outputs": [],
   "source": [
    "find_path_main(graph, 'A', 'D')"
   ]
  },
  {
   "cell_type": "code",
   "execution_count": null,
   "metadata": {},
   "outputs": [],
   "source": [
    "def find_all_paths(graph, start, end, path):\n",
    "    path = path.add(start)\n",
    "    if start == end:\n",
    "        return [path]\n",
    "    if start not in graph:\n",
    "        return []\n",
    "    paths = []\n",
    "    for node in graph[start]:\n",
    "        if not path.visited(node):\n",
    "            newpaths = find_all_paths(graph, node, end, path)\n",
    "            for newpath in newpaths:\n",
    "                paths.append(newpath)\n",
    "    return paths\n",
    "\n",
    "def find_all_paths_main(graph, start, end):\n",
    "    return [p.as_list()\n",
    "            for p in find_all_paths(graph, start, end, Path())]\n",
    "\n",
    "\n",
    "def find_shortest_path(graph, start, end, path):\n",
    "    path = path.add(start)\n",
    "    if start == end:\n",
    "        return path\n",
    "    if start not in graph:\n",
    "        return None\n",
    "    shortest = None\n",
    "    for node in graph[start]:\n",
    "        if not path.visited(node):\n",
    "            newpath = find_shortest_path(graph, node, end, path)\n",
    "            if newpath:\n",
    "                if not shortest or newpath.len() < shortest.len():\n",
    "                    shortest = newpath\n",
    "    return shortest\n",
    "\n",
    "def find_shortest_path_main(graph, start, end):\n",
    "    p = find_shortest_path(graph, start, end, Path())\n",
    "    if p:\n",
    "        return p.as_list()\n",
    "    else:\n",
    "        return p"
   ]
  },
  {
   "cell_type": "code",
   "execution_count": null,
   "metadata": {},
   "outputs": [],
   "source": [
    "find_all_paths_main(graph, 'A', 'D')"
   ]
  },
  {
   "cell_type": "code",
   "execution_count": null,
   "metadata": {},
   "outputs": [],
   "source": [
    "find_shortest_path_main(graph, 'A', 'D')"
   ]
  },
  {
   "cell_type": "code",
   "execution_count": null,
   "metadata": {},
   "outputs": [],
   "source": [
    "# To see how inefficient this pathfinding is, let's use this trivial straight-line graph.\n",
    "def straight_line(n):\n",
    "    return {i: [i+1] for i in range(n)}\n",
    "\n",
    "# Python's limit on recursion means we'll need to run several searches to get the times high enough to compare.\n",
    "def perf_test(n, path):\n",
    "    x = [find_path(straight_line(n), 0, n, path)\n",
    "         for i in range(1000)]"
   ]
  },
  {
   "cell_type": "code",
   "execution_count": null,
   "metadata": {},
   "outputs": [],
   "source": [
    "perf_test(1000, Path())"
   ]
  },
  {
   "cell_type": "markdown",
   "metadata": {},
   "source": [
    "## Linked-List Paths"
   ]
  },
  {
   "cell_type": "code",
   "execution_count": null,
   "metadata": {},
   "outputs": [],
   "source": [
    "class EmptyLinkedPath:\n",
    "    def add(self, node):\n",
    "        return NonemptyLinkedPath(node, self)\n",
    "\n",
    "    def visited(self, node):        \n",
    "        return False\n",
    "\n",
    "    def len(self):\n",
    "        return 0\n",
    "\n",
    "    def as_list(self):\n",
    "        return []\n",
    "\n",
    "class NonemptyLinkedPath:\n",
    "    def __init__(self, head, tail):\n",
    "        self.head = head\n",
    "        self.tail = tail\n",
    "    \n",
    "    def add(self, node):\n",
    "        return NonemptyLinkedPath(node, self)\n",
    "    \n",
    "    def visited(self, node):\n",
    "        return node == self.head or self.tail.visited(node)\n",
    "    \n",
    "    def len(self):\n",
    "        return 1 + self.tail.len()\n",
    "\n",
    "    def as_list(self):\n",
    "        return self.tail.as_list() + [self.head]"
   ]
  },
  {
   "cell_type": "code",
   "execution_count": null,
   "metadata": {},
   "outputs": [],
   "source": [
    "find_path(graph, 'A', 'D', EmptyLinkedPath()).as_list()"
   ]
  },
  {
   "cell_type": "code",
   "execution_count": null,
   "metadata": {},
   "outputs": [],
   "source": [
    "[p.as_list() for p in find_all_paths(graph, 'A', 'D', EmptyLinkedPath())]"
   ]
  },
  {
   "cell_type": "code",
   "execution_count": null,
   "metadata": {},
   "outputs": [],
   "source": [
    "find_shortest_path(graph, 'A', 'D', EmptyLinkedPath()).as_list()"
   ]
  },
  {
   "cell_type": "code",
   "execution_count": null,
   "metadata": {},
   "outputs": [],
   "source": [
    "perf_test(200, EmptyLinkedPath())"
   ]
  },
  {
   "cell_type": "markdown",
   "metadata": {},
   "source": [
    "##  A Customized Path Data Structure"
   ]
  },
  {
   "cell_type": "code",
   "execution_count": null,
   "metadata": {},
   "outputs": [],
   "source": [
    "perf_test(1000, CustomPath())"
   ]
  },
  {
   "cell_type": "code",
   "execution_count": null,
   "metadata": {},
   "outputs": [],
   "source": [
    "def straight_line_from(fr, n):\n",
    "    return {i: [i+1] for i in range(fr, fr+n)}\n",
    "\n",
    "def perf_test_from(fr, n, path):\n",
    "    x = [find_path(straight_line_from(fr, n), 0, n, path)\n",
    "         for i in range(1000)]"
   ]
  },
  {
   "cell_type": "code",
   "execution_count": null,
   "metadata": {},
   "outputs": [],
   "source": [
    "perf_test_from(100, 2000, CustomPath())"
   ]
  },
  {
   "cell_type": "markdown",
   "metadata": {},
   "source": [
    "## Exhaustive Testing for Correct Encapsulation"
   ]
  },
  {
   "cell_type": "code",
   "execution_count": null,
   "metadata": {},
   "outputs": [],
   "source": [
    "class PathLen:\n",
    "    def call(self, path):\n",
    "        return path.len()\n",
    "    def mutates(self):\n",
    "        return False\n",
    "\n",
    "class PathAsList:\n",
    "    def call(self, path):\n",
    "        return path.as_list()\n",
    "    def mutates(self):\n",
    "        return False\n",
    "\n",
    "class PathAdd:\n",
    "    def __init__(self, node):\n",
    "        self.node = node\n",
    "    \n",
    "    def call(self, path):\n",
    "        return path.add(self.node)\n",
    "    def mutates(self):\n",
    "        return True\n",
    "\n",
    "class PathVisited:\n",
    "    def __init__(self, node):\n",
    "        self.node = node\n",
    "    \n",
    "    def call(self, path):\n",
    "        return path.visited(self.node)\n",
    "    def mutates(self):\n",
    "        return False"
   ]
  },
  {
   "cell_type": "code",
   "execution_count": null,
   "metadata": {},
   "outputs": [],
   "source": [
    "# Generate all method calls whose arguments are positive integers smaller than the bound.\n",
    "def all_calls(bound):\n",
    "    return [PathLen(), PathAsList()] \\\n",
    "        + [PathAdd(i) for i in range(bound)] \\\n",
    "        + [PathVisited(i) for i in range(bound)]\n",
    "\n",
    "# Generate all bounded-call sequences of a given length.\n",
    "def all_call_seqs(bound, length):\n",
    "    if length == 0:\n",
    "        return [[]]\n",
    "    else:\n",
    "        return [[call] + calls\n",
    "                for call in all_calls(bound)\n",
    "                for calls in all_call_seqs(bound, length-1)]\n",
    "\n",
    "# Given two path implementations and a list of tests (each a call sequence),\n",
    "# verify that the two give all the same answers.\n",
    "def agree_on(path1, path2, tests):\n",
    "    for calls in tests:\n",
    "        p1 = path1\n",
    "        p2 = path2\n",
    "        # Note that we make copies here into local variables,\n",
    "        # which we modify as we loop through the current test.\n",
    "\n",
    "        for call in calls:\n",
    "            pass"
   ]
  },
  {
   "cell_type": "code",
   "execution_count": null,
   "metadata": {},
   "outputs": [],
   "source": [
    "agree_on(Path(), EmptyLinkedPath(), all_call_seqs(3, 6))"
   ]
  },
  {
   "cell_type": "code",
   "execution_count": null,
   "metadata": {},
   "outputs": [],
   "source": [
    "agree_on(Path(), FancyPath(), all_call_seqs(3, 6))"
   ]
  },
  {
   "cell_type": "markdown",
   "metadata": {},
   "source": [
    "# Mutable Finite Sets"
   ]
  },
  {
   "cell_type": "code",
   "execution_count": null,
   "metadata": {},
   "outputs": [],
   "source": [
    "def distinct(ls, set):\n",
    "    for v in ls:\n",
    "        set.add(v)\n",
    "    return set.size()"
   ]
  },
  {
   "cell_type": "code",
   "execution_count": null,
   "metadata": {},
   "outputs": [],
   "source": [
    "class NativeSet:\n",
    "    def __init__(self):\n",
    "        self.set = set()\n",
    "\n",
    "    def add(self, v):\n",
    "        self.set.add(v)\n",
    "\n",
    "    def mem(self, v):\n",
    "        return v in self.set\n",
    "\n",
    "    def size(self):\n",
    "        return len(self.set)\n",
    "    \n",
    "    def as_list(self):\n",
    "        return sorted(list(self.set))"
   ]
  },
  {
   "cell_type": "code",
   "execution_count": null,
   "metadata": {},
   "outputs": [],
   "source": [
    "distinct([1, 2, 3, 4, 2, 6, 7, 8, 8, 10], NativeSet())"
   ]
  },
  {
   "cell_type": "markdown",
   "metadata": {},
   "source": [
    "## Unsorted-Linked-List Sets"
   ]
  },
  {
   "cell_type": "code",
   "execution_count": null,
   "metadata": {},
   "outputs": [],
   "source": [
    "class ListNode:\n",
    "    def __init__(self, head, tail):\n",
    "        self.head = head\n",
    "        self.tail = tail\n",
    "\n",
    "class ListSet:\n",
    "    def __init__(self):\n",
    "        self.list = None\n",
    "    \n",
    "    def add(self, v):\n",
    "        if not self.mem(v):\n",
    "            self.list = ListNode(v, self.list)\n",
    "    \n",
    "    def mem(self, v):\n",
    "        ls = self.list\n",
    "        while ls != None:\n",
    "            if ls.head == v:\n",
    "                return True\n",
    "            else:\n",
    "                ls = ls.tail\n",
    "        return False\n",
    "\n",
    "    def size(self):\n",
    "        ls = self.list\n",
    "        n = 0\n",
    "        while ls != None:\n",
    "            n += 1\n",
    "            ls = ls.tail\n",
    "        return n\n",
    "\n",
    "    def as_list(self):\n",
    "        ls = self.list\n",
    "        out = []\n",
    "        while ls != None:\n",
    "            out.append(ls.head)\n",
    "            ls = ls.tail\n",
    "        return sorted(out)"
   ]
  },
  {
   "cell_type": "code",
   "execution_count": null,
   "metadata": {},
   "outputs": [],
   "source": [
    "distinct([1, 2, 3, 4, 2, 6, 7, 8, 8, 10], ListSet())"
   ]
  },
  {
   "cell_type": "markdown",
   "metadata": {},
   "source": [
    "## Binary-Search-Tree Sets"
   ]
  },
  {
   "cell_type": "code",
   "execution_count": null,
   "metadata": {},
   "outputs": [],
   "source": [
    "class TreeNode:\n",
    "    def __init__(self, left, value, right):\n",
    "        self.left = left\n",
    "        self.value = value\n",
    "        self.right = right\n",
    "\n",
    "class TreeSet:\n",
    "    def __init__(self):\n",
    "        self.tree = None\n",
    "    \n",
    "    def mem(self, v):\n",
    "        t = self.tree\n",
    "        while t != None:\n",
    "            if v == t.value:\n",
    "                return True\n",
    "            elif v < t.value:\n",
    "                t = t.left\n",
    "            else:\n",
    "                t = t.right\n",
    "        return False\n",
    "    \n",
    "    def size(self):\n",
    "        def size_helper(t):\n",
    "            if t == None:\n",
    "                return 0\n",
    "            else:\n",
    "                return 1 + size_helper(t.left) + size_helper(t.right)\n",
    "        return size_helper(self.tree)\n",
    "    \n",
    "    def add(self, v):\n",
    "        t = self.tree\n",
    "        prev = None # What's this variable about?\n",
    "                    # Watch it get updated below, and then see how it's finally used at the end.\n",
    "                    # It records where we store a reference to the new node we allocate.\n",
    "        while t != None:\n",
    "            if v == t.value:\n",
    "                return\n",
    "            elif v < t.value:\n",
    "                prev = (t, 'left')\n",
    "                t = t.left\n",
    "            else:\n",
    "                prev = (t, 'right')\n",
    "                t = t.right\n",
    "        new = TreeNode(None, v, None)\n",
    "        if prev == None:\n",
    "            self.tree = new\n",
    "        elif prev[1] == 'left':\n",
    "            prev[0].left = new\n",
    "        else:\n",
    "            prev[0].right = new\n",
    "    \n",
    "    def as_list(self):\n",
    "        t = self.tree\n",
    "        out = []\n",
    "        \n",
    "        def as_list_helper(t):\n",
    "            if t != None:\n",
    "                as_list_helper(t.left)\n",
    "                out.append(t.value)\n",
    "                as_list_helper(t.right)\n",
    "        \n",
    "        as_list_helper(t)\n",
    "        return out"
   ]
  },
  {
   "cell_type": "code",
   "execution_count": null,
   "metadata": {},
   "outputs": [],
   "source": [
    "distinct([1, 2, 3, 4, 2, 6, 7, 8, 8, 10], TreeSet())"
   ]
  },
  {
   "cell_type": "markdown",
   "metadata": {},
   "source": [
    "## Exhaustive Testing"
   ]
  },
  {
   "cell_type": "code",
   "execution_count": null,
   "metadata": {},
   "outputs": [],
   "source": [
    "class SetSize:\n",
    "    def call(self, set):\n",
    "        return set.size()\n",
    "    \n",
    "class SetAsList:\n",
    "    def call(self, set):\n",
    "        return set.as_list()\n",
    "\n",
    "class SetAdd:\n",
    "    def __init__(self, v):\n",
    "        self.v = v\n",
    "    \n",
    "    def call(self, set):\n",
    "        return set.add(self.v)\n",
    "\n",
    "class SetMem:\n",
    "    def __init__(self, v):\n",
    "        self.v = v\n",
    "    \n",
    "    def call(self, set):\n",
    "        return set.mem(self.v)\n",
    "\n",
    "def all_calls(bound):\n",
    "    return [SetSize(), SetAsList()] \\\n",
    "        + [SetAdd(i) for i in range(bound)] \\\n",
    "        + [SetMem(i) for i in range(bound)]\n",
    "\n",
    "def all_call_seqs(bound, length):\n",
    "    if length == 0:\n",
    "        return [[]]\n",
    "    else:\n",
    "        return [[call] + calls\n",
    "                for call in all_calls(bound)\n",
    "                for calls in all_call_seqs(bound, length-1)]\n",
    "\n",
    "def agree_on(set1, set2, tests):\n",
    "    for calls in tests:\n",
    "        s1 = set1()\n",
    "        s2 = set2()\n",
    "        # Note that here we allocate new sets at the start of a test!\n",
    "        # Thus, the arguments set1 and set2 are classes rather than objects.\n",
    "\n",
    "        for call in calls:\n",
    "            pass"
   ]
  },
  {
   "cell_type": "code",
   "execution_count": null,
   "metadata": {},
   "outputs": [],
   "source": [
    "agree_on(NativeSet, ListSet, all_call_seqs(3, 6))"
   ]
  },
  {
   "cell_type": "code",
   "execution_count": null,
   "metadata": {},
   "outputs": [],
   "source": [
    "agree_on(NativeSet, TreeSet, all_call_seqs(3, 6))"
   ]
  },
  {
   "cell_type": "markdown",
   "metadata": {},
   "source": [
    "# Graphs as an Abstract Data Type"
   ]
  },
  {
   "cell_type": "code",
   "execution_count": null,
   "metadata": {},
   "outputs": [],
   "source": [
    "def find_path(graph, start, end, path):\n",
    "    path = path.add(start)\n",
    "    if start == end:\n",
    "        return path\n",
    "    if not graph.hasNode(start):\n",
    "        return None\n",
    "    for node in graph.neighbors(start):\n",
    "        if not path.visited(node):\n",
    "            newpath = find_path(graph, node, end, path)\n",
    "            if newpath: return newpath\n",
    "    return None"
   ]
  },
  {
   "cell_type": "code",
   "execution_count": null,
   "metadata": {},
   "outputs": [],
   "source": [
    "class BasicGraph:\n",
    "    def __init__(self):\n",
    "        self.nodes = []\n",
    "        self.edges = []\n",
    "    \n",
    "    def addNode(self, n):\n",
    "        if n not in self.nodes:\n",
    "            self.nodes.append(n)\n",
    "    \n",
    "    def addEdge(self, n1, n2):\n",
    "        if n1 not in self.nodes:\n",
    "            raise KeyError\n",
    "        if (n1, n2) not in self.edges:\n",
    "            self.edges.append((n1, n2))\n",
    "    \n",
    "    def hasNode(self, n):\n",
    "        return n in self.nodes\n",
    "    \n",
    "    def neighbors(self, n):\n",
    "        if n not in self.nodes:\n",
    "            raise KeyError\n",
    "        return sorted([n2\n",
    "                       for n1, n2 in self.edges\n",
    "                       if n1 == n])\n",
    "    \n",
    "    def makeEmpty(self):\n",
    "        return BasicGraph()"
   ]
  },
  {
   "cell_type": "markdown",
   "metadata": {},
   "source": [
    "For testing, it will be handy to have an operation to convert our original dictionary-based graph format into whatever format a graph class uses."
   ]
  },
  {
   "cell_type": "code",
   "execution_count": null,
   "metadata": {},
   "outputs": [],
   "source": [
    "def create_graph(nodes, graph):\n",
    "    for node, neighbors in nodes.items():\n",
    "        graph.addNode(node)\n",
    "        for neighbor in neighbors:\n",
    "            graph.addEdge(node, neighbor)\n",
    "    return graph"
   ]
  },
  {
   "cell_type": "code",
   "execution_count": null,
   "metadata": {},
   "outputs": [],
   "source": [
    "find_path(create_graph(graph, BasicGraph()), 'A', 'D', Path()).as_list()"
   ]
  },
  {
   "cell_type": "markdown",
   "metadata": {},
   "source": [
    "## A Graph Data Type from Any Set Data Type"
   ]
  },
  {
   "cell_type": "code",
   "execution_count": 1,
   "metadata": {},
   "outputs": [],
   "source": [
    "class GraphUsingSet:\n",
    "    def __init__(self, setClass):\n",
    "        self.setClass = setClass\n",
    "        self.nodes = {}\n",
    "    \n",
    "    def addNode(self, n):\n",
    "        raise NotImplementedError\n",
    "    \n",
    "    def addEdge(self, n1, n2):\n",
    "        if n1 not in self.nodes:\n",
    "            raise KeyError\n",
    "        raise NotImplementedError\n",
    "    \n",
    "    def hasNode(self, n):\n",
    "        return n in self.nodes\n",
    "    \n",
    "    def neighbors(self, n):\n",
    "        if n not in self.nodes:\n",
    "            raise KeyError\n",
    "        raise NotImplementedError\n",
    "\n",
    "    def makeEmpty(self):\n",
    "        return GraphUsingSet(self.setClass)"
   ]
  },
  {
   "cell_type": "code",
   "execution_count": null,
   "metadata": {},
   "outputs": [],
   "source": [
    "find_path(create_graph(graph, GraphUsingSet(NativeSet)), 'A', 'D', Path()).as_list()"
   ]
  },
  {
   "cell_type": "code",
   "execution_count": null,
   "metadata": {},
   "outputs": [],
   "source": [
    "find_path(create_graph(graph, GraphUsingSet(TreeSet)), 'A', 'D', EmptyLinkedPath()).as_list()"
   ]
  },
  {
   "cell_type": "markdown",
   "metadata": {},
   "source": [
    "## A Very Specific Graph Implementation"
   ]
  },
  {
   "cell_type": "code",
   "execution_count": null,
   "metadata": {},
   "outputs": [],
   "source": [
    "class RatherSpecificGraph:\n",
    "    def __init__(self):\n",
    "        raise NotImplementedError\n",
    "    \n",
    "    def addNode(self, n):\n",
    "        raise NotImplementedError\n",
    "    \n",
    "    def addEdge(self, n1, n2):\n",
    "        raise NotImplementedError\n",
    "    \n",
    "    def hasNode(self, n):\n",
    "        raise NotImplementedError\n",
    "    \n",
    "    def neighbors(self, n):\n",
    "        raise NotImplementedError\n",
    "\n",
    "    def makeEmpty(self):\n",
    "        raise NotImplementedError"
   ]
  },
  {
   "cell_type": "code",
   "execution_count": null,
   "metadata": {},
   "outputs": [],
   "source": [
    "find_path(create_graph(straight_line(2000), BasicGraph()), 0, 2000, RangePath())"
   ]
  },
  {
   "cell_type": "code",
   "execution_count": null,
   "metadata": {},
   "outputs": [],
   "source": [
    "find_path(RatherSpecificGraph(), 0, 2000, RangePath())"
   ]
  },
  {
   "cell_type": "markdown",
   "metadata": {},
   "source": [
    "## Exhaustive Testing"
   ]
  },
  {
   "cell_type": "code",
   "execution_count": null,
   "metadata": {},
   "outputs": [],
   "source": [
    "class GraphAddNode:\n",
    "    def __init__(self, node):\n",
    "        self.node = node\n",
    "    \n",
    "    def call(self, graph):\n",
    "        return graph.addNode(self.node)\n",
    "\n",
    "class GraphAddEdge:\n",
    "    def __init__(self, node1, node2):\n",
    "        self.node1 = node1\n",
    "        self.node2 = node2\n",
    "    \n",
    "    def call(self, graph):\n",
    "        return graph.addEdge(self.node1, self.node2)\n",
    "\n",
    "class GraphHasNode:\n",
    "    def __init__(self, node):\n",
    "        self.node = node\n",
    "    \n",
    "    def call(self, graph):\n",
    "        return graph.hasNode(self.node)\n",
    "\n",
    "class GraphNeighbors:\n",
    "    def __init__(self, node):\n",
    "        self.node = node\n",
    "    \n",
    "    def call(self, graph):\n",
    "        return graph.neighbors(self.node)\n",
    "\n",
    "def all_calls(bound):\n",
    "    return [GraphAddNode(i) for i in range(bound)] \\\n",
    "        + [GraphAddEdge(i, j) for i in range(bound) for j in range(bound)] \\\n",
    "        + [GraphHasNode(i) for i in range(bound)] \\\n",
    "        + [GraphNeighbors(i) for i in range(bound)]\n",
    "\n",
    "def all_call_seqs(bound, length):\n",
    "    if length == 0:\n",
    "        return [[]]\n",
    "    else:\n",
    "        return [[call] + calls\n",
    "                for call in all_calls(bound)\n",
    "                for calls in all_call_seqs(bound, length-1)]\n",
    "\n",
    "def agree_on(graph1, graph2, tests):\n",
    "    for calls in tests:\n",
    "        # We forced graphs to support methods to create empty instances of the same class.\n",
    "        # Why not pass in a class name like before?  It would get messy because we need to pass\n",
    "        # set implementations to some of our graph classes.\n",
    "        g1 = graph1.makeEmpty()\n",
    "        g2 = graph2.makeEmpty()\n",
    "\n",
    "        for call in calls:\n",
    "            pass"
   ]
  },
  {
   "cell_type": "code",
   "execution_count": null,
   "metadata": {},
   "outputs": [],
   "source": [
    "agree_on(BasicGraph(), GraphUsingSet(ListSet), all_call_seqs(3, 4))"
   ]
  },
  {
   "cell_type": "code",
   "execution_count": null,
   "metadata": {},
   "outputs": [],
   "source": [
    "agree_on(BasicGraph(), GraphUsingSet(TreeSet), all_call_seqs(3, 4))"
   ]
  }
 ],
 "metadata": {
  "kernelspec": {
   "display_name": "Python 3",
   "language": "python",
   "name": "python3"
  },
  "language_info": {
   "codemirror_mode": {
    "name": "ipython",
    "version": 3
   },
   "file_extension": ".py",
   "mimetype": "text/x-python",
   "name": "python",
   "nbconvert_exporter": "python",
   "pygments_lexer": "ipython3",
   "version": "3.6.7"
  }
 },
 "nbformat": 4,
 "nbformat_minor": 2
}
