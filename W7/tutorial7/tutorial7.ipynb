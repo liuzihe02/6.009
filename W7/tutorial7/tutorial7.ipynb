{
 "cells": [
  {
   "cell_type": "markdown",
   "metadata": {
    "collapsed": true
   },
   "source": [
    "# Mini CAT-SOOP\n",
    "Inheritance and Polymorphism in Python: How do Subclasses Work?"
   ]
  },
  {
   "cell_type": "markdown",
   "metadata": {},
   "source": [
    "_Today we'll motivate the use of Python classes with a few examples. The lecture and lab this week introduce interfaces. Here, we'll leverage interfaces and abstract data types to create an elegant system for managing your very own mini-6.009 course._"
   ]
  },
  {
   "cell_type": "markdown",
   "metadata": {},
   "source": [
    "You've been using the 6.009 website for a few weeks now and you can't help but notice how amazing it is. You dig a little deeper and find out that it's built on a platform called CAT-SOOP (written by the great Adam Hartz). Feeling inspired, you decide to build a mini version of CAT-SOOP."
   ]
  },
  {
   "cell_type": "markdown",
   "metadata": {},
   "source": [
    "## Class Diagram\n",
    "Your first job is to represent the people in the course.  You decide you need to represent a few different kinds of people: Students, TAs, and Instructors.  So you start writing some class outlines.  What classes do you need, and how are they related?"
   ]
  },
  {
   "cell_type": "markdown",
   "metadata": {},
   "source": [
    "The best design is one which will avoid repeated code by leveraging overlapping or shared components. Since all of the roles will share some things, it makes sense to place them under the Course Member umbrella. And since TAs and Instructors have both shared and separate powers, we'll have them subclass the Staff class. \n",
    "\n",
    "<center><img src=\"images/class_structure.png\" alt=\"class structure\" width=400></center>"
   ]
  },
  {
   "cell_type": "code",
   "execution_count": 25,
   "metadata": {
    "collapsed": true
   },
   "outputs": [],
   "source": [
    "class CourseMember():\n",
    "    def __init__(self, kerberos, name):\n",
    "        self.kerberos = kerberos\n",
    "        self.name = name\n",
    "    \n",
    "    def login(self):\n",
    "        print(f\"You are now logged in as {self.kerberos}\")\n",
    "    \n",
    "    def submit_lab(self, lab_code):\n",
    "        raise NotImplementedError(\"not implemented\") "
   ]
  },
  {
   "cell_type": "code",
   "execution_count": 26,
   "metadata": {
    "collapsed": true
   },
   "outputs": [],
   "source": [
    "class Student(CourseMember):\n",
    "    def __init__(self, kerberos, name):\n",
    "        super().__init__(kerberos, name)\n",
    "        self.grade = None\n",
    "        \n",
    "    def submit_lab(self, lab_code):\n",
    "        grade = get_grade(lab_code)\n",
    "        # Look up \"f-strings\", they can be very useful\n",
    "        print(f\"Your lab earned you the grade: {grade}\")\n",
    "        self.grade = grade"
   ]
  },
  {
   "cell_type": "code",
   "execution_count": 27,
   "metadata": {
    "collapsed": true
   },
   "outputs": [],
   "source": [
    "class Staff(CourseMember):\n",
    "    def release_lab(self, lab_content):\n",
    "        print(f\"{self.get_title()} uploaded the following to the website: {lab_content}.\")\n",
    "        \n",
    "    def submit_lab(self, lab_code):\n",
    "        grade = get_grade(lab_code)\n",
    "        print(f\"Your lab would have earned a grade of: {grade}\")"
   ]
  },
  {
   "cell_type": "code",
   "execution_count": 28,
   "metadata": {
    "collapsed": true
   },
   "outputs": [],
   "source": [
    "class TA(Staff):\n",
    "    # Note that the __init__ function is automatically the super's init\n",
    "    \n",
    "    def get_title(self):\n",
    "        return f\"TA {self.name.split(' ')[0]}\""
   ]
  },
  {
   "cell_type": "code",
   "execution_count": 29,
   "metadata": {
    "collapsed": true
   },
   "outputs": [],
   "source": [
    "class Instructor(Staff):\n",
    "    # Note that the __init__ function is automatically the super's init\n",
    "        \n",
    "    # Overloading the super-super class's method!\n",
    "    def login(self):\n",
    "        print(\"Welcome to your course! You are now logged in as the instructor.\")\n",
    "        \n",
    "    def get_title(self):\n",
    "        return f\"Professor {self.name.split(' ')[1]}\""
   ]
  },
  {
   "cell_type": "markdown",
   "metadata": {},
   "source": [
    "## Creating New Course Members\n",
    "Now that we have the classes, we need to be able to instantiate them.  We want all course members to have a Kerberos ID and a name."
   ]
  },
  {
   "cell_type": "code",
   "execution_count": 30,
   "metadata": {
    "collapsed": true
   },
   "outputs": [],
   "source": [
    "alyssa = TA(\"aphacker\", \"Alyssa P Hacker\")\n",
    "adam = Instructor(\"adamc\", \"Adam Chlipala\")"
   ]
  },
  {
   "cell_type": "code",
   "execution_count": 31,
   "metadata": {},
   "outputs": [
    {
     "data": {
      "text/plain": [
       "'aphacker'"
      ]
     },
     "execution_count": 31,
     "metadata": {},
     "output_type": "execute_result"
    }
   ],
   "source": [
    "alyssa.kerberos"
   ]
  },
  {
   "cell_type": "code",
   "execution_count": 32,
   "metadata": {},
   "outputs": [
    {
     "data": {
      "text/plain": [
       "'Adam Chlipala'"
      ]
     },
     "execution_count": 32,
     "metadata": {},
     "output_type": "execute_result"
    }
   ],
   "source": [
    "adam.name"
   ]
  },
  {
   "cell_type": "markdown",
   "metadata": {},
   "source": [
    "We now realize that we also want to store a grade for students, but it doesn't make sense to store them for staff. "
   ]
  },
  {
   "cell_type": "code",
   "execution_count": 33,
   "metadata": {
    "collapsed": true
   },
   "outputs": [],
   "source": [
    "ben = Student(\"benb\", \"Ben Bitdiddle\")"
   ]
  },
  {
   "cell_type": "code",
   "execution_count": 34,
   "metadata": {},
   "outputs": [
    {
     "data": {
      "text/plain": [
       "'Ben Bitdiddle'"
      ]
     },
     "execution_count": 34,
     "metadata": {},
     "output_type": "execute_result"
    }
   ],
   "source": [
    "ben.name"
   ]
  },
  {
   "cell_type": "code",
   "execution_count": 35,
   "metadata": {},
   "outputs": [
    {
     "data": {
      "text/plain": [
       "True"
      ]
     },
     "execution_count": 35,
     "metadata": {},
     "output_type": "execute_result"
    }
   ],
   "source": [
    "ben.grade is None"
   ]
  },
  {
   "cell_type": "markdown",
   "metadata": {},
   "source": [
    "Now that we've created some differences between our course members, let's check the types of our variables. `isinstance` in Python is a very powerful tool to check not only the class itself but also its superclass(es), super-superclass(es), etc."
   ]
  },
  {
   "cell_type": "code",
   "execution_count": 36,
   "metadata": {},
   "outputs": [
    {
     "data": {
      "text/plain": [
       "True"
      ]
     },
     "execution_count": 36,
     "metadata": {},
     "output_type": "execute_result"
    }
   ],
   "source": [
    "isinstance(adam, Instructor)"
   ]
  },
  {
   "cell_type": "code",
   "execution_count": 37,
   "metadata": {},
   "outputs": [
    {
     "data": {
      "text/plain": [
       "False"
      ]
     },
     "execution_count": 37,
     "metadata": {},
     "output_type": "execute_result"
    }
   ],
   "source": [
    "isinstance(adam, Student)"
   ]
  },
  {
   "cell_type": "code",
   "execution_count": 38,
   "metadata": {},
   "outputs": [
    {
     "data": {
      "text/plain": [
       "True"
      ]
     },
     "execution_count": 38,
     "metadata": {},
     "output_type": "execute_result"
    }
   ],
   "source": [
    "isinstance(adam, CourseMember)"
   ]
  },
  {
   "cell_type": "markdown",
   "metadata": {},
   "source": [
    "## Logging In\n",
    "We now want our mini CAT-SOOP to print a message when someone logs in.  Where should the login method live? "
   ]
  },
  {
   "cell_type": "code",
   "execution_count": 39,
   "metadata": {},
   "outputs": [
    {
     "name": "stdout",
     "output_type": "stream",
     "text": [
      "You are now logged in as benb\n"
     ]
    }
   ],
   "source": [
    "ben.login()"
   ]
  },
  {
   "cell_type": "code",
   "execution_count": 40,
   "metadata": {},
   "outputs": [
    {
     "name": "stdout",
     "output_type": "stream",
     "text": [
      "You are now logged in as aphacker\n"
     ]
    }
   ],
   "source": [
    "alyssa.login()"
   ]
  },
  {
   "cell_type": "markdown",
   "metadata": {},
   "source": [
    "Of course, you want to grant the instructor special magical powers when (s)he logs in. You're not sure how to code that up yet (magic is hard in Python), so you just want to display a different message for the moment."
   ]
  },
  {
   "cell_type": "code",
   "execution_count": 41,
   "metadata": {},
   "outputs": [
    {
     "name": "stdout",
     "output_type": "stream",
     "text": [
      "Welcome to your course! You are now logged in as the instructor.\n"
     ]
    }
   ],
   "source": [
    "adam.login()"
   ]
  },
  {
   "cell_type": "code",
   "execution_count": 42,
   "metadata": {},
   "outputs": [
    {
     "name": "stdout",
     "output_type": "stream",
     "text": [
      "You are now logged in as benb\n"
     ]
    }
   ],
   "source": [
    "ben.login()"
   ]
  },
  {
   "cell_type": "markdown",
   "metadata": {},
   "source": [
    "## Submitting Labs\n",
    "A key part of CAT-SOOP is submitting labs, so we definitely want to add that functionality.  We want everyone to be able to submit labs (TAs are supposed to do them too!) but we only want to store grades for students."
   ]
  },
  {
   "cell_type": "code",
   "execution_count": 43,
   "metadata": {
    "collapsed": true
   },
   "outputs": [],
   "source": [
    "# This function is not representative of the actual 6.009 grading algorithm!\n",
    "def get_grade(lab_code):\n",
    "    if 'import' in lab_code:\n",
    "        return 'F'\n",
    "    elif ';' in lab_code:\n",
    "        return 'C'\n",
    "    elif '#' not in lab_code:\n",
    "        return 'B'\n",
    "    return 'A'"
   ]
  },
  {
   "cell_type": "code",
   "execution_count": 44,
   "metadata": {},
   "outputs": [
    {
     "name": "stdout",
     "output_type": "stream",
     "text": [
      "Your lab earned you the grade: B\n"
     ]
    }
   ],
   "source": [
    "ben.submit_lab(\"def trie_lab(): for i in \")"
   ]
  },
  {
   "cell_type": "code",
   "execution_count": 45,
   "metadata": {},
   "outputs": [
    {
     "data": {
      "text/plain": [
       "'B'"
      ]
     },
     "execution_count": 45,
     "metadata": {},
     "output_type": "execute_result"
    }
   ],
   "source": [
    "ben.grade"
   ]
  },
  {
   "cell_type": "code",
   "execution_count": 46,
   "metadata": {},
   "outputs": [
    {
     "name": "stdout",
     "output_type": "stream",
     "text": [
      "Your lab would have earned a grade of: F\n"
     ]
    }
   ],
   "source": [
    "adam.submit_lab(\"import numpy\")"
   ]
  },
  {
   "cell_type": "markdown",
   "metadata": {},
   "source": [
    "## Releasing Labs\n",
    "Finally we need a way for staff members to write and release labs.  We only want staff members to be able to do this.  We also want it to do slightly different things for TAs and Instructors.  For TAs, it should say that `TA <first name>` uploaded the lab, but for Instructors, we want to know that `Professor <last name>` uploaded it. "
   ]
  },
  {
   "cell_type": "code",
   "execution_count": 47,
   "metadata": {},
   "outputs": [
    {
     "name": "stdout",
     "output_type": "stream",
     "text": [
      "Professor Chlipala uploaded the following to the website: Lab 17: Blockchain.\n"
     ]
    }
   ],
   "source": [
    "adam.release_lab(\"Lab 17: Blockchain\")"
   ]
  },
  {
   "cell_type": "code",
   "execution_count": 48,
   "metadata": {},
   "outputs": [
    {
     "name": "stdout",
     "output_type": "stream",
     "text": [
      "TA Alyssa uploaded the following to the website: Lab 22: Machine Learning.\n"
     ]
    }
   ],
   "source": [
    "alyssa.release_lab(\"Lab 22: Machine Learning\")"
   ]
  }
 ],
 "metadata": {
  "kernelspec": {
   "display_name": "Python 3",
   "language": "python",
   "name": "python3"
  },
  "language_info": {
   "codemirror_mode": {
    "name": "ipython",
    "version": 3
   },
   "file_extension": ".py",
   "mimetype": "text/x-python",
   "name": "python",
   "nbconvert_exporter": "python",
   "pygments_lexer": "ipython3",
   "version": "3.6.1"
  }
 },
 "nbformat": 4,
 "nbformat_minor": 2
}
