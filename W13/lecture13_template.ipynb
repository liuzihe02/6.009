{
 "cells": [
  {
   "cell_type": "code",
   "execution_count": null,
   "metadata": {},
   "outputs": [],
   "source": [
    "def characters(f):\n",
    "    \"\"\"For f an open file, yield all its characters in order.\"\"\"\n",
    "    \n",
    "    while True:\n",
    "        c = f.read(1)\n",
    "        if not c:\n",
    "            return\n",
    "        yield c"
   ]
  },
  {
   "cell_type": "markdown",
   "metadata": {},
   "source": [
    "# Parsing WebSIS Text Files"
   ]
  },
  {
   "cell_type": "code",
   "execution_count": null,
   "metadata": {},
   "outputs": [],
   "source": [
    "def allCharactersIn(checkForThese, inThis):\n",
    "    \"\"\"Check if all characters of one string are also in the other string.\"\"\"\n",
    "    \n",
    "    for ch in inThis:\n",
    "        if not ch in checkForThese:\n",
    "            return False\n",
    "    return True"
   ]
  },
  {
   "cell_type": "code",
   "execution_count": null,
   "metadata": {},
   "outputs": [],
   "source": [
    "def parseWebsis(filename):\n",
    "    \"\"\"Read a single WebSIS student-enrollment record from the named file.\"\"\"\n",
    "    raise NotImplementedError"
   ]
  },
  {
   "cell_type": "markdown",
   "metadata": {},
   "source": [
    "# Parsing XML Grades Data"
   ]
  },
  {
   "cell_type": "code",
   "execution_count": null,
   "metadata": {},
   "outputs": [],
   "source": [
    "def parseXml(filename):\n",
    "    \"\"\"Parse one XML tag (with children) from a file.\"\"\"\n",
    "    with open(filename, \"r\") as f:\n",
    "        # We maintain a stack of tags that we are still working on.\n",
    "        # Each is an object that contains a list of children.\n",
    "        # We start with a dummy tag standing for the document root.\n",
    "        stack = [{\"tag\": \"root\", \"children\": [], \"text\": \"\"}]\n",
    "\n",
    "        # Now we loop until there is no more content to read.\n",
    "        while True:\n",
    "            # Step 1: Find the start of the open tag.\n",
    "            for ch in characters(f):\n",
    "                if ch == '<':\n",
    "                    # Oo, an open tag!  Exit the loop and start processing the tag name.\n",
    "                    break\n",
    "                else:\n",
    "                    # This character has no special interpretation.  Add it to the string for the parent tag.\n",
    "                    stack[-1][\"text\"] += ch\n",
    "\n",
    "            # Step 2: Extract the tag name.\n",
    "            is_closer = False\n",
    "            tag = \"\"\n",
    "            for ch in characters(f):\n",
    "                if ch == '/':\n",
    "                    # Oh, a closing tag.  We'll need to pop from the stack afterward.\n",
    "                    is_closer = True\n",
    "                elif ch == '>':\n",
    "                    # Found the end\n",
    "                    break\n",
    "                else:\n",
    "                    # Found another character in the tag name.\n",
    "                    tag += ch\n",
    "\n",
    "            # Step 3: Manipulate the tag stack appropriately.\n",
    "            if tag == \"\":\n",
    "                # We seem to have reached the end of the file.\n",
    "                break\n",
    "            elif is_closer:\n",
    "                # For a closing tag, pop it off, adding it to the children list of the top of the stack,\n",
    "                # after removing leading and trailing spaces.\n",
    "                this_node = stack.pop()\n",
    "                this_node[\"text\"] = trim(this_node[\"text\"])\n",
    "                stack[-1][\"children\"].append(this_node)\n",
    "            else:\n",
    "                # For an opening tag, add it to the stack.\n",
    "                stack.append({\"tag\": tag, \"children\": [], \"text\": \"\"})\n",
    "\n",
    "        # Now we should find the main tag as the sole child of the root node.\n",
    "        return stack[0][\"children\"][0]"
   ]
  },
  {
   "cell_type": "code",
   "execution_count": null,
   "metadata": {},
   "outputs": [],
   "source": [
    "grades = parseXml(\"grades.xml\")\n",
    "grades"
   ]
  },
  {
   "cell_type": "code",
   "execution_count": null,
   "metadata": {},
   "outputs": [],
   "source": [
    "def assignmentFromXml(xml):\n",
    "    \"\"\"Convert one assignment (pset or quiz) to a nicer format.\"\"\"\n",
    "    \n",
    "    number = [int(child[\"text\"])\n",
    "              for child in xml[\"children\"]\n",
    "              if child[\"tag\"] == \"number\"][0]\n",
    "\n",
    "    students = {email[\"text\"]: int(grade[\"text\"])\n",
    "                for child in xml[\"children\"]\n",
    "                if child[\"tag\"] == \"student\"\n",
    "                for email in child[\"children\"]\n",
    "                if email[\"tag\"] == \"email\"\n",
    "                for grade in child[\"children\"]\n",
    "                if grade[\"tag\"] == \"grade\"}\n",
    "\n",
    "    return {\"number\": number, \"students\": students}\n",
    "\n",
    "def categoryFromXml(xml, singular):\n",
    "    \"\"\"Convert one category (psets or quizzes) to a nicer format.\"\"\"\n",
    "    \n",
    "    raise NotImplementedError\n",
    "\n",
    "def gradesFromXml(xml):\n",
    "    \"\"\"Convert a whole grades database from XML to a nicer format.\"\"\"\n",
    "    \n",
    "    psets = [child\n",
    "             for child in xml[\"children\"]\n",
    "             if child[\"tag\"] == \"psets\"][0]\n",
    "    quizzes = [child\n",
    "               for child in xml[\"children\"]\n",
    "               if child[\"tag\"] == \"quizzes\"][0]\n",
    "\n",
    "    return {\"psets\": categoryFromXml(psets, \"pset\"),\n",
    "            \"quizzes\": categoryFromXml(quizzes, \"quiz\")}"
   ]
  },
  {
   "cell_type": "markdown",
   "metadata": {},
   "source": [
    "Bringing it all together:"
   ]
  },
  {
   "cell_type": "code",
   "execution_count": null,
   "metadata": {},
   "outputs": [],
   "source": [
    "def parseGrades(filename):\n",
    "    \"\"\"Return the nice version of the grades database found in the file.\"\"\"\n",
    "    \n",
    "    return gradesFromXml(parseXml(filename))"
   ]
  },
  {
   "cell_type": "markdown",
   "metadata": {},
   "source": [
    "After all that fuss implementing an XML parser, we could have just used one that comes with Python.  Here's an example showing how."
   ]
  },
  {
   "cell_type": "code",
   "execution_count": null,
   "metadata": {},
   "outputs": [],
   "source": [
    "import xml.etree.ElementTree as ET\n",
    "\n",
    "def assignmentFromXmlEasier(xml):\n",
    "    number = int(xml.find(\"number\").text)\n",
    "    students = {child.find(\"email\").text: int(child.find(\"grade\").text)\n",
    "                for child in xml.findall(\"student\")}\n",
    "\n",
    "    return {\"number\": number, \"students\": students}\n",
    "\n",
    "def categoryFromXmlEasier(xml, singular):\n",
    "        return {item[\"number\"]: item[\"students\"]\n",
    "                for child in xml.findall(singular)\n",
    "                for item in [assignmentFromXmlEasier(child)]}\n",
    "\n",
    "def gradesFromXmlEasier(xml):\n",
    "        return {\"psets\": categoryFromXmlEasier(xml.find(\"psets\"), \"pset\"),\n",
    "                \"quizzes\": categoryFromXmlEasier(xml.find(\"quizzes\"), \"quiz\")}\n",
    "\n",
    "def parseGradesEasier(filename):\n",
    "        return gradesFromXmlEasier(ET.parse(filename).getroot())"
   ]
  },
  {
   "cell_type": "code",
   "execution_count": null,
   "metadata": {},
   "outputs": [],
   "source": [
    "parseGradesEasier('grades.xml')"
   ]
  },
  {
   "cell_type": "markdown",
   "metadata": {},
   "source": [
    "# Outputting Online Grades Data"
   ]
  },
  {
   "cell_type": "code",
   "execution_count": null,
   "metadata": {},
   "outputs": [],
   "source": [
    "def splitName(name):\n",
    "    raise NotImplementedError"
   ]
  },
  {
   "cell_type": "code",
   "execution_count": null,
   "metadata": {},
   "outputs": [],
   "source": [
    "def averageToLetter(n):\n",
    "    if n >= 90:\n",
    "        return \"A\"\n",
    "    elif n >= 80:\n",
    "        return \"B\"\n",
    "    elif n >= 70:\n",
    "        return \"C\"\n",
    "    elif n >= 60:\n",
    "        return \"D\"\n",
    "    else:\n",
    "        return \"A+\""
   ]
  },
  {
   "cell_type": "code",
   "execution_count": null,
   "metadata": {},
   "outputs": [],
   "source": [
    "def studentAverage(email, grades):\n",
    "    total = 0\n",
    "\n",
    "    for pset in grades[\"psets\"].values():\n",
    "        if email in pset:\n",
    "            total += pset[email]\n",
    "\n",
    "    for quiz in grades[\"quizzes\"].values():\n",
    "        if email in quiz:\n",
    "            total += quiz[email]\n",
    "\n",
    "    return total / (len(grades[\"psets\"]) + len(grades[\"quizzes\"]))\n",
    "\n",
    "def studentGrade(email, grades):\n",
    "    return averageToLetter(studentAverage(email, grades))"
   ]
  },
  {
   "cell_type": "code",
   "execution_count": null,
   "metadata": {},
   "outputs": [],
   "source": [
    "def outputGrades(filename, students, grades):\n",
    "    with open(filename, \"w\") as f:\n",
    "        f.write(\"Last Name,First Name,Middle,MIT ID,Subject #,Section #,Grade,Units,Comment\\n\")\n",
    "\n",
    "        for student in students:\n",
    "            last, first, middle = splitName(student[\"Student Name\"])\n",
    "            f.write(last + \",\" + first + \",\" + middle + \",\" \\\n",
    "                    + student[\"MIT ID\"] + \",\" \\\n",
    "                    + student[\"Enrolled\"] + \",\" \\\n",
    "                    + student[\"Sec\"] + \",\" \\\n",
    "                    + studentGrade(student[\"Email Address\"], grades) + \",\" \\\n",
    "                    + student[\"Un\"] + \",\" \\\n",
    "                    + \"\\n\")"
   ]
  },
  {
   "cell_type": "markdown",
   "metadata": {},
   "source": [
    "# Reading Multiple Input Files"
   ]
  },
  {
   "cell_type": "code",
   "execution_count": null,
   "metadata": {},
   "outputs": [],
   "source": [
    "import os\n",
    "\n",
    "def readCsvFile(filename):\n",
    "    \"\"\"Read a whole CSV file that begins with a header line.\n",
    "    Returns a list of dictionaries, with keys corresponding to header texts.\"\"\"\n",
    "    \n",
    "    raise NotImplementedError\n",
    "\n",
    "def readMultiFile(dirname):\n",
    "    \"\"\"Read all CSV files in a directory, to produce a grades database\n",
    "    of the kind we built above.\"\"\"\n",
    "    \n",
    "    out = {\"psets\": {},\n",
    "           \"quizzes\": {}}\n",
    "\n",
    "    for filename in os.listdir(dirname):\n",
    "        lines = readCsvFile(os.path.join(dirname, filename))\n",
    "        mapping = {line[\"Email Address\"]: int(line[\"Grade\"]) for line in lines}\n",
    "\n",
    "        m = re.search(\"pset([0-9]*)\\\\.csv\", filename)\n",
    "        if m:\n",
    "            out[\"psets\"][int(m.group(1))] = mapping\n",
    "        else:\n",
    "            m = re.search(\"quiz([0-9]*)\\\\.csv\", filename)\n",
    "            if m:\n",
    "                out[\"quizzes\"][int(m.group(1))] = mapping\n",
    "\n",
    "    return out"
   ]
  },
  {
   "cell_type": "markdown",
   "metadata": {},
   "source": [
    "# Writing Multiple Output Files"
   ]
  },
  {
   "cell_type": "code",
   "execution_count": null,
   "metadata": {},
   "outputs": [],
   "source": [
    "def makeStudentReports(dirname, students, grades):\n",
    "    \"\"\"Given values representing student data and grades, create the specified directory\n",
    "    and populate it with one textual grade report per student.\"\"\"\n",
    "    os.mkdir(dirname)\n",
    "\n",
    "    for student in students:\n",
    "        with open(os.path.join(dirname, student[\"MIT ID\"] + \".txt\"), \"w\") as f:\n",
    "            f.write(\"Dear \" + student[\"Student Name\"] + \",\\n\")\n",
    "            f.write(\"\\n\")\n",
    "            f.write(\"How are you enjoying Course \" + student[\"Course\"] + \"?  Here are your grades in 6.666.\\n\")\n",
    "            f.write(\"\\n\")\n",
    "\n",
    "            f.write(\"Psets:\\n\")\n",
    "            for pset, scores in grades[\"psets\"].items():\n",
    "                if student[\"Email Address\"] in scores:\n",
    "                    f.write(\"#\" + str(pset) + \": \" + str(scores[student[\"Email Address\"]]) + \"\\n\")\n",
    "            f.write(\"\\n\")\n",
    "\n",
    "            f.write(\"Quizzes:\\n\")\n",
    "            for quiz, scores in grades[\"quizzes\"].items():\n",
    "                if student[\"Email Address\"] in scores:\n",
    "                    f.write(\"#\" + str(quiz) + \": \" + str(scores[student[\"Email Address\"]]) + \"\\n\")"
   ]
  }
 ],
 "metadata": {
  "kernelspec": {
   "display_name": "Python 3",
   "language": "python",
   "name": "python3"
  },
  "language_info": {
   "codemirror_mode": {
    "name": "ipython",
    "version": 3
   },
   "file_extension": ".py",
   "mimetype": "text/x-python",
   "name": "python",
   "nbconvert_exporter": "python",
   "pygments_lexer": "ipython3",
   "version": "3.6.7"
  }
 },
 "nbformat": 4,
 "nbformat_minor": 2
}
