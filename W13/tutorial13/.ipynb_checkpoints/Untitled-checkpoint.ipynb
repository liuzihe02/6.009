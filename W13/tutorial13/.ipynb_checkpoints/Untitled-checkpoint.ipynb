{
 "cells": [
  {
   "cell_type": "markdown",
   "metadata": {},
   "source": [
    "# HTTP and Web Requests"
   ]
  },
  {
   "cell_type": "markdown",
   "metadata": {},
   "source": [
    "## The Internet"
   ]
  },
  {
   "cell_type": "markdown",
   "metadata": {},
   "source": [
    "When we navigate to pages on the internet, we communicate with computers running code elsewhere specifically designed to respond to our requests. They are referred to as servers. The devices we use to access these pages are referred to as clients\n",
    "\n",
    "\n"
   ]
  },
  {
   "cell_type": "markdown",
   "metadata": {},
   "source": [
    "<img src=\"internet.png\" width=\"500\">"
   ]
  },
  {
   "cell_type": "markdown",
   "metadata": {},
   "source": [
    "We get pages\n",
    "\n",
    "In Lab 10, we will be building a tool to help download files from the Internet. There will likely be new terminology and techniques you encounter. We'll go over it so that you understand the motivation behind the Lab."
   ]
  },
  {
   "cell_type": "markdown",
   "metadata": {},
   "source": [
    "## Web Protocols\n",
    "\n",
    "URLs are the identifiers we use to make requests for specific servers. For example, typing google.com in our browser will have our computer make a request to the servers Google owns serving their home page.\n",
    "\n",
    "Communication on the web can take many forms. Basically the client making a request and the server responding need to agree on a standard language for communication. This language will dictate what requests and responses look like. They are called protocols. \n",
    "\n",
    "The urls we request often look take the form:\n",
    "\n",
    "&nbsp;&nbsp;&nbsp;&nbsp; protocol://hostname:port/path-or-file-name\n",
    "\n",
    "The one that we typically use on the web is HTTP(S). The most basic type of request in HTTP is a GET request. This is done when we ask a server for some sort of information. Often this is a web page. When we type a url in Google Chrome or another browser, we make a GET request to that page. You can do it in your terminal to by typing something like\n",
    "\n",
    "curl --dump-header - https://www.google.com"
   ]
  },
  {
   "cell_type": "markdown",
   "metadata": {},
   "source": [
    "## Response Codes\n",
    "\n",
    "Most of the time, we make a request to some website such as https://6009.cat-soop.org/spring19/, and we successfully get a page back. This is not always the case. Numerous things can result, each of which typically has a response code for it. 200 means that a valid response was sent back. 404, which you may be familiar with, means that a server holding for the requested URL was not found. \n",
    "\n",
    "Response codes 1xx are informational. Response codes of 2xx mean the request was successful. Response codes of 3xx mean a redirection is needed. Response codes of 4xx mean the client making the request had an error. Response codes of 5xx mean the server encountered an error. Here is a list of common response codes that will be useful to know for the lab."
   ]
  },
  {
   "cell_type": "markdown",
   "metadata": {},
   "source": [
    "| Response Code        | Title                  | Description            |\n",
    "|:---------------------|:-----------------------|:-----------------------|\n",
    "| 200                  | OK                     | The request succeeded  |\n",
    "| 301                  | Moved Permenantly      | The URI of the requested resource has been changed permanently |\n",
    "| 302                  | Found                  | The URI of requested resource has been changed temporarily |\n",
    "| 307                  | Temporary Redirect     | The URI of requested resource has been changed temporarily |\n",
    "| 403                  | Forbidden              | The client does not have access rights to the content\n",
    "| 404                  | Not Found              | The server can not find requested resource |\n",
    "| 500                  | Internal Service Error | The server has encountered a situation it doesn't know how to handle. |"
   ]
  },
  {
   "cell_type": "markdown",
   "metadata": {},
   "source": [
    "#### Examples\n",
    "curl --dump-header - https://www.google.com/: 200 successful!    \n",
    "curl --dump-header - https://py.mit.edu/:  301 redirects to https://py.mit.edu/6.145   \n",
    "curl --dump-header - https://6009.cat-soop.org/spring19/labs/lab11: 404 doesn't exist because lab 10 is the last lab!"
   ]
  },
  {
   "cell_type": "markdown",
   "metadata": {},
   "source": [
    "## Caching"
   ]
  },
  {
   "cell_type": "markdown",
   "metadata": {},
   "source": [
    "Our browsers and computers have the capability to do things that . One of those things, that you'll hear referenced a lot in computer science, is caching. Caching, in its simplest terms, is basically saving things so that if you need to use them again, they'll be available. Our browsers do a lot of caching to make them more performant. For example, if you visit Facebook.com a lot, your browser might have logos, images, and other resources from Facebook servers saved / cached so that the next time you go back to Facebook, you don't have to request them again. \n",
    "\n",
    "https://www.giftofspeed.com/cache-checker/\n",
    "\n",
    "In Lab10 we will use caching so that if we download a loop of files (say for a GIF) we don't have to keep redownloading them, making everything much faster!"
   ]
  },
  {
   "cell_type": "code",
   "execution_count": 1,
   "metadata": {},
   "outputs": [],
   "source": [
    "import io\n",
    "import os\n",
    "import socket\n",
    "import http.client\n",
    "\n",
    "from urllib.parse import urlparse\n",
    "\n",
    "def http_response(url):\n",
    "    \"\"\"\n",
    "    Opens a request to the given URL using the `http.client` library.\n",
    "\n",
    "    Parameters:\n",
    "        url (str or bytes):\n",
    "            The URL containing the resource to be downloaded\n",
    "\n",
    "    Rerturns:\n",
    "        A file-like object representing the response received from the server.\n",
    "        In the case of http:// or https:// requests, the return value will be\n",
    "        an instance of `http.client.HTTPResponse`.  In the case of a file://\n",
    "        request (representing a local file on disk), the return value will be\n",
    "        an `io.BytesIO` object.\n",
    "\n",
    "        In either case, the returned object will support `read` and `readlines`,\n",
    "        and it will have a `status` attribute containing an HTTP status code.\n",
    "    \"\"\"\n",
    "    if isinstance(url, bytes):\n",
    "        url = url.decode('utf-8')\n",
    "    url = urlparse(url)\n",
    "    assert url.scheme in ('http', 'file', 'https')\n",
    "    if url.scheme == 'file':\n",
    "        fname = os.path.join(url.netloc, url.path)\n",
    "        if os.path.isfile(fname):\n",
    "            out = open(fname, 'rb')\n",
    "            out.status = 200\n",
    "        else:\n",
    "            out = io.BytesIO()\n",
    "            out.status = 404\n",
    "        return out\n",
    "    cls = http.client.HTTPConnection if url.scheme == 'http' else http.client.HTTPSConnection\n",
    "    try:\n",
    "        connection = cls(url.netloc, timeout=20)\n",
    "        connection.request('GET', url.path)\n",
    "    except socket.timeout:\n",
    "        raise ConnectionError('no response from server within 5 seconds; connection attempt timed out') from None\n",
    "    except socket.gaierror:\n",
    "        raise ConnectionError('could not connect') from None\n",
    "    return connection.getresponse()"
   ]
  },
  {
   "cell_type": "code",
   "execution_count": 26,
   "metadata": {},
   "outputs": [
    {
     "name": "stdout",
     "output_type": "stream",
     "text": [
      "Status: 200\n",
      "\n",
      "Content: b'Hello 6.009!\\n'\n"
     ]
    }
   ],
   "source": [
    "response = http_response('https://6009.cat-soop.org/_static/spring19/helloworld.txt')\n",
    "print (\"Status: {}\\n\".format(response.status))\n",
    "print (\"Content: {}\".format(response.read()))"
   ]
  },
  {
   "cell_type": "code",
   "execution_count": 27,
   "metadata": {},
   "outputs": [
    {
     "name": "stdout",
     "output_type": "stream",
     "text": [
      "Status: 404\n",
      "\n",
      "Content: b'<!DOCTYPE html>\\n\\n<html>\\n<head>\\n<!-- This page was generated by CAT-SOOP 15.0.0.dev27.  miau. -->\\n<meta charset=\"utf-8\"/>\\n<title>CAT-SOOP</title>\\n<link href=\"data:image/gif;base64,R0lGODlhEAAQAKEAAAAAAAAzZv///wAAACH5BAEKAAMALAAAAAAQABAAAAIynI85oL3A3IFARFehlcvW3XyaR5XiJ6Tqmo6sOsZoS2viets0XJ+vzCoFXS8Yw4SkDAoAOw==\" rel=\"icon\" type=\"image/gif\"/>\\n<!-- include catsoop base css -->\\n<link href=\"https://6009.cat-soop.org/_static/_base/themes/base.css\" rel=\"stylesheet\" type=\"text/css\"/>\\n<!-- set up JS namespace for catsoop -->\\n<script type=\"text/javascript\">\\n    // @license magnet:?xt=urn:btih:0b31508aeb0634b347b8270c7bee4d411b5d4109&dn=agpl-3.0.txt AGPL-v3\\n    var catsoop = {plugins: {}};\\n\\n    function toggleResponsiveHeader(){\\n        document.getElementsByTagName(\\'header\\')[0].classList.toggle(\\'responsive\\');\\n    }\\n\\n    document.addEventListener(\\'DOMContentLoaded\\', function(){\\n        var menu_boxes = document.getElementsByClassName(\\'dropdown-checkbox\\');\\n        for(var i=0; i<menu_boxes.length; i++){\\n            menu_boxes[i].checked = false;\\n        }\\n    });\\n\\n    function clearMenu(menu){\\n       menu.children[1].checked = false;\\n    }\\n    // @license-end\\n    </script>\\n<!-- load in katex and mathjax, and CAT-SOOP-specific math rendering  -->\\n<script src=\"https://6009.cat-soop.org/_static/_base/scripts/katex/katex.min.js\" type=\"text/javascript\"></script>\\n<link href=\"https://6009.cat-soop.org/_static/_base/scripts/katex/katex.min.css\" rel=\"stylesheet\" type=\"text/css\"/>\\n<script src=\"https://6009.cat-soop.org/_static/_base/scripts/mathjax/MathJax.js?config=TeX-AMS_CHTML\" type=\"text/javascript\"></script>\\n<script src=\"https://6009.cat-soop.org/_static/_base/scripts/cs_math.js\" type=\"text/javascript\"></script>\\n<!-- Syntax Highlighting -->\\n<script src=\"https://6009.cat-soop.org/_static/_base/scripts/highlight/cs_highlight.pack.min.js\" type=\"text/javascript\"></script>\\n<script type=\"text/javascript\">\\n    // @license magnet:?xt=urn:btih:0b31508aeb0634b347b8270c7bee4d411b5d4109&dn=agpl-3.0.txt AGPL-v3\\n      hljs.initHighlightingOnLoad();\\n    // @license-end\\n    </script>\\n<style>\\n      :root {\\n        --cs-base-bg-color: #0000CC;\\n        --cs-light-bg-color: None;\\n        --cs-base-font-color: #fff;\\n        --cs-light-font-color: ;\\n    }\\n    </style>\\n<meta content=\"width=device-width, initial-scale=1\" name=\"viewport\"/>\\n</head>\\n<body style=\"margin: 0px;\">\\n<header id=\"cs_header\">\\n<div class=\"nav-container\">\\n<div class=\"cs_header_text\"><a href=\"https://6009.cat-soop.org\">CAT-SOOP: <font color=\"red\">404</font></a></div>\\n</div>\\n</header>\\n<div class=\"cs_navigation cs_top_navigation\" id=\"cs_top_navigation\"></div>\\n<main class=\"cs_body\" id=\"cs_body\">\\n<div class=\"cs_left_menu\"></div>\\n<div class=\"cs_content\">\\n<div class=\"cs_page_body\">\\n<center><h1>File/Resource Not Found</h1></center>\\n<pre>CAT-SOOP could not find the specified file or resource:\\n\\'_static/spring19/nonexistent.txt\\'</pre>\\n</div>\\n</div>\\n<div class=\"cs_right_menu\"></div>\\n</main>\\n<footer>\\n<div class=\"cs_navigation cs_bottom_navigation\" id=\"cs_bottom_navigation\"></div>\\n<div class=\"cs_footer\">\\n<pre class=\"catsooplogo\" style=\"font-size:50%;\">\\\\   ???????? \\n/    /\\\\__/\\\\  \\n\\\\__=(  @_@ )=\\n(__________) \\n |_ |_ |_ |_ </pre>\\n      Powered by <a href=\"https://catsoop.mit.edu\" target=\"_blank\">CAT-SOOP</a> v15.0.0.dev27.<br/>\\n      CAT-SOOP is <a href=\"http://www.fsf.org/about/what-is-free-software\" target=\"_blank\">free/libre software</a>, available under the terms<br/>of the <a href=\"https://6009.cat-soop.org/_util/license\" target=\"_blank\">GNU Affero General Public License, version 3</a>.<br/>\\n<a download=\"\" href=\"https://6009.cat-soop.org/_util/source.zip\" target=\"_blank\">Download Source Code</a><br/>\\n<a href=\"https://6009.cat-soop.org/_util/jslicense.html\" rel=\"jslicense\" target=\"_blank\">Javascript License Information</a>\\n</div>\\n</footer>\\n</body>\\n</html>\\n\\n'\n"
     ]
    }
   ],
   "source": [
    "response = http_response('https://6009.cat-soop.org/_static/spring19/nonexistent.txt')\n",
    "print (\"Status: {}\\n\".format(response.status))\n",
    "print (\"Content: {}\".format(response.read()))"
   ]
  },
  {
   "cell_type": "code",
   "execution_count": 28,
   "metadata": {},
   "outputs": [
    {
     "name": "stdout",
     "output_type": "stream",
     "text": [
      "Iteration: 200, Status: 0\n",
      "Iteration: 200, Status: 1\n",
      "Iteration: 200, Status: 2\n",
      "Iteration: 200, Status: 3\n",
      "Iteration: 200, Status: 4\n",
      "Iteration: 200, Status: 5\n",
      "Iteration: 200, Status: 6\n",
      "Iteration: 200, Status: 7\n",
      "Iteration: 200, Status: 8\n",
      "Iteration: 200, Status: 9\n",
      "Iteration: 200, Status: 10\n",
      "Iteration: 200, Status: 11\n",
      "Iteration: 200, Status: 12\n",
      "Iteration: 200, Status: 13\n",
      "Iteration: 200, Status: 14\n",
      "Iteration: 200, Status: 15\n",
      "Iteration: 200, Status: 16\n",
      "Iteration: 200, Status: 17\n",
      "Iteration: 200, Status: 18\n",
      "Iteration: 200, Status: 19\n",
      "\n",
      "Time Spent: 1.0980808734893799\n"
     ]
    }
   ],
   "source": [
    "import time\n",
    "\n",
    "start = time.time()\n",
    "\n",
    "needed_file = 'https://6009.cat-soop.org/_static/spring19/helloworld.txt'\n",
    "for i in range(20):\n",
    "    response = http_response(needed_file)\n",
    "    print (\"Iteration: {}, Status: {}\".format(i, response.status))\n",
    "    \n",
    "end = time.time()\n",
    "print (\"\\nTime Spent: {}\".format(end - start))"
   ]
  },
  {
   "cell_type": "code",
   "execution_count": 29,
   "metadata": {},
   "outputs": [
    {
     "name": "stdout",
     "output_type": "stream",
     "text": [
      "Iteration: 200, Status: 0\n",
      "Iteration: 200, Status: 1\n",
      "Iteration: 200, Status: 2\n",
      "Iteration: 200, Status: 3\n",
      "Iteration: 200, Status: 4\n",
      "Iteration: 200, Status: 5\n",
      "Iteration: 200, Status: 6\n",
      "Iteration: 200, Status: 7\n",
      "Iteration: 200, Status: 8\n",
      "Iteration: 200, Status: 9\n",
      "Iteration: 200, Status: 10\n",
      "Iteration: 200, Status: 11\n",
      "Iteration: 200, Status: 12\n",
      "Iteration: 200, Status: 13\n",
      "Iteration: 200, Status: 14\n",
      "Iteration: 200, Status: 15\n",
      "Iteration: 200, Status: 16\n",
      "Iteration: 200, Status: 17\n",
      "Iteration: 200, Status: 18\n",
      "Iteration: 200, Status: 19\n",
      "\n",
      "Time Spent: 0.05346083641052246\n"
     ]
    }
   ],
   "source": [
    "start = time.time()\n",
    "\n",
    "needed_files = 'https://6009.cat-soop.org/_static/spring19/helloworld.txt'\n",
    "cached_results = None\n",
    "for i in range(20):\n",
    "    if cached_results is None:\n",
    "        response = http_response(needed_files)\n",
    "        print (\"Iteration: {}, Status: {}\".format(i, response.status))\n",
    "        cached_results = response.status\n",
    "    else:\n",
    "        print (\"Iteration: {}, Status: {}\".format(i, cached_results))\n",
    "        \n",
    "end = time.time()\n",
    "print (\"\\nTime Spent: {}\".format(end - start))"
   ]
  },
  {
   "cell_type": "code",
   "execution_count": null,
   "metadata": {},
   "outputs": [],
   "source": []
  }
 ],
 "metadata": {
  "kernelspec": {
   "display_name": "Python 3",
   "language": "python",
   "name": "python3"
  },
  "language_info": {
   "codemirror_mode": {
    "name": "ipython",
    "version": 3
   },
   "file_extension": ".py",
   "mimetype": "text/x-python",
   "name": "python",
   "nbconvert_exporter": "python",
   "pygments_lexer": "ipython3",
   "version": "3.6.7"
  }
 },
 "nbformat": 4,
 "nbformat_minor": 2
}
