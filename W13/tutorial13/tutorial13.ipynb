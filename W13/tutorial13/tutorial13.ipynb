{
 "cells": [
  {
   "cell_type": "markdown",
   "metadata": {},
   "source": [
    "# HTTP and Web Requests"
   ]
  },
  {
   "cell_type": "markdown",
   "metadata": {},
   "source": [
    "## The Internet"
   ]
  },
  {
   "cell_type": "markdown",
   "metadata": {},
   "source": [
    "When we navigate to pages on the internet, we communicate with computers running code elsewhere specifically designed to respond to our requests. They are referred to as servers. The devices we use to access these pages are referred to as clients\n",
    "\n",
    "\n"
   ]
  },
  {
   "cell_type": "markdown",
   "metadata": {},
   "source": [
    "<img src=\"internet.png\" width=\"500\">"
   ]
  },
  {
   "cell_type": "markdown",
   "metadata": {},
   "source": [
    "Whenever we navigate to websites, like cat-soop, we recieve pages back that contain content and styling that determine what the website will look like in our browser\n",
    "\n",
    "In Lab 10, we will be building a tool to help download files from the Internet. There will likely be new terminology and techniques you encounter. We'll go over it so that you understand the motivation behind the Lab."
   ]
  },
  {
   "cell_type": "markdown",
   "metadata": {},
   "source": [
    "## Web Protocols\n",
    "\n",
    "URLs are the identifiers we use to make requests to specific servers. For example, typing www.google.com in our browser will have our computer make a request to the servers Google owns serving their home page.\n",
    "\n",
    "Communication on the web can take many forms. Basically the client making a request and the server responding need to agree on a standard language for communication. This language will dictate what requests and responses look like. They are called protocols. There are different protocols used for getting webpages, for streaming video, and for sending email.\n",
    "\n",
    "The urls we request often look take the form:\n",
    "\n",
    "&nbsp;&nbsp;&nbsp;&nbsp; protocol://hostname:port/path-or-file-name\n",
    "\n",
    "The one that we typically use on the web is HTTP(S). The most basic type of request in HTTP is a GET request. This is done when we ask a server for some sort of information. Often this is a web page. When we type a url in Google Chrome or another browser, we make a GET request to that page. You can do it in your terminal to by typing something like\n",
    "\n",
    "curl --dump-header - https://6009.cat-soop.org/_static/spring19/helloworld.txt  \n",
    "curl --dump-header - https://www.google.com"
   ]
  },
  {
   "cell_type": "markdown",
   "metadata": {},
   "source": [
    "## Response Codes\n",
    "\n",
    "Most of the time, we make a request to some website such as https://6009.cat-soop.org/spring19/, and we successfully get a page back. This is not always the case. Numerous things can happen, each of which typically has a response code for it. 200 means that a valid response was sent back. 404, which you may be familiar with, means that a server holding for the requested URL was not found. \n",
    "\n",
    "Response codes of 1xx are informational.  \n",
    "Response codes of 2xx mean the request was successful.  \n",
    "Response codes of 3xx mean a redirection is needed.  \n",
    "Response codes of 4xx mean the client making the request had an error.  \n",
    "Response codes of 5xx mean the server encountered an error.  \n",
    "\n",
    "Here is a list of common response codes that will be useful to know for the lab."
   ]
  },
  {
   "cell_type": "markdown",
   "metadata": {},
   "source": [
    "| Response Code        | Title                  | Description            |\n",
    "|:---------------------|:-----------------------|:-----------------------|\n",
    "| 200                  | OK                     | The request succeeded  |\n",
    "| 301                  | Moved Permenantly      | The URI of the requested resource has been changed permanently |\n",
    "| 302                  | Found                  | The URI of requested resource has been changed temporarily |\n",
    "| 307                  | Temporary Redirect     | The URI of requested resource has been changed temporarily |\n",
    "| 403                  | Forbidden              | The client does not have access rights to the content\n",
    "| 404                  | Not Found              | The server can not find requested resource |\n",
    "| 500                  | Internal Service Error | The server has encountered a situation it doesn't know how to handle. |"
   ]
  },
  {
   "cell_type": "markdown",
   "metadata": {},
   "source": [
    "#### Examples\n",
    "curl --dump-header - https://6009.cat-soop.org/_static/spring19/helloworld.txt: 200 successful!    \n",
    "curl --dump-header - https://py.mit.edu/:  301 redirects to https://py.mit.edu/6.145   \n",
    "curl --dump-header - https://6009.cat-soop.org/spring19/labs/lab11: 404 doesn't exist because lab 10 is the last lab!"
   ]
  },
  {
   "cell_type": "markdown",
   "metadata": {},
   "source": [
    "## Caching"
   ]
  },
  {
   "cell_type": "markdown",
   "metadata": {},
   "source": [
    "Our browsers and computers have the capability to do difficult things automatically for us to improve performance and usability. One of those things, that you'll hear referenced a lot in computer science, is caching. Caching, in its simplest terms, is basically saving things so that if you need to use them again, they'll be available. Our browsers do a lot of caching to make them more performant. For example, if you visit Facebook.com a lot, your browser might have logos, images, and other resources from Facebook servers saved / cached so that the next time you go back to Facebook, you don't have to request them again. \n",
    "\n",
    "https://www.giftofspeed.com/cache-checker/\n",
    "\n",
    "In Lab10 we will use caching so that if we download a loop of files (say for a GIF) we don't have to keep redownloading them, making everything much faster!"
   ]
  },
  {
   "cell_type": "code",
   "execution_count": 1,
   "metadata": {},
   "outputs": [],
   "source": [
    "import io\n",
    "import os\n",
    "import socket\n",
    "import http.client\n",
    "\n",
    "from urllib.parse import urlparse\n",
    "\n",
    "def http_response(url):\n",
    "    \"\"\"\n",
    "    Opens a request to the given URL using the `http.client` library.\n",
    "\n",
    "    Parameters:\n",
    "        url (str or bytes):\n",
    "            The URL containing the resource to be downloaded\n",
    "\n",
    "    Rerturns:\n",
    "        A file-like object representing the response received from the server.\n",
    "        In the case of http:// or https:// requests, the return value will be\n",
    "        an instance of `http.client.HTTPResponse`.  In the case of a file://\n",
    "        request (representing a local file on disk), the return value will be\n",
    "        an `io.BytesIO` object.\n",
    "\n",
    "        In either case, the returned object will support `read` and `readlines`,\n",
    "        and it will have a `status` attribute containing an HTTP status code.\n",
    "    \"\"\"\n",
    "    if isinstance(url, bytes):\n",
    "        url = url.decode('utf-8')\n",
    "    url = urlparse(url)\n",
    "    assert url.scheme in ('http', 'file', 'https')\n",
    "    if url.scheme == 'file':\n",
    "        fname = os.path.join(url.netloc, url.path)\n",
    "        if os.path.isfile(fname):\n",
    "            out = open(fname, 'rb')\n",
    "            out.status = 200\n",
    "        else:\n",
    "            out = io.BytesIO()\n",
    "            out.status = 404\n",
    "        return out\n",
    "    cls = http.client.HTTPConnection if url.scheme == 'http' else http.client.HTTPSConnection\n",
    "    try:\n",
    "        connection = cls(url.netloc, timeout=20)\n",
    "        connection.request('GET', url.path)\n",
    "    except socket.timeout:\n",
    "        raise ConnectionError('no response from server within 5 seconds; connection attempt timed out') from None\n",
    "    except socket.gaierror:\n",
    "        raise ConnectionError('could not connect') from None\n",
    "    return connection.getresponse()"
   ]
  },
  {
   "cell_type": "code",
   "execution_count": 2,
   "metadata": {},
   "outputs": [
    {
     "ename": "ConnectionError",
     "evalue": "could not connect",
     "output_type": "error",
     "traceback": [
      "\u001b[0;31m---------------------------------------------------------------------------\u001b[0m",
      "\u001b[0;31mConnectionError\u001b[0m                           Traceback (most recent call last)",
      "Cell \u001b[0;32mIn[2], line 1\u001b[0m\n\u001b[0;32m----> 1\u001b[0m response \u001b[38;5;241m=\u001b[39m \u001b[43mhttp_response\u001b[49m\u001b[43m(\u001b[49m\u001b[38;5;124;43m'\u001b[39;49m\u001b[38;5;124;43mhttps://6009.cat-soop.org/_static/spring19/helloworld.txt\u001b[39;49m\u001b[38;5;124;43m'\u001b[39;49m\u001b[43m)\u001b[49m\n\u001b[1;32m      2\u001b[0m \u001b[38;5;28mprint\u001b[39m (\u001b[38;5;124m\"\u001b[39m\u001b[38;5;124mStatus: \u001b[39m\u001b[38;5;132;01m{}\u001b[39;00m\u001b[38;5;130;01m\\n\u001b[39;00m\u001b[38;5;124m\"\u001b[39m\u001b[38;5;241m.\u001b[39mformat(response\u001b[38;5;241m.\u001b[39mstatus))\n\u001b[1;32m      3\u001b[0m \u001b[38;5;28mprint\u001b[39m (\u001b[38;5;124m\"\u001b[39m\u001b[38;5;124mContent: \u001b[39m\u001b[38;5;132;01m{}\u001b[39;00m\u001b[38;5;124m\"\u001b[39m\u001b[38;5;241m.\u001b[39mformat(response\u001b[38;5;241m.\u001b[39mread()))\n",
      "Cell \u001b[0;32mIn[1], line 46\u001b[0m, in \u001b[0;36mhttp_response\u001b[0;34m(url)\u001b[0m\n\u001b[1;32m     44\u001b[0m     \u001b[38;5;28;01mraise\u001b[39;00m \u001b[38;5;167;01mConnectionError\u001b[39;00m(\u001b[38;5;124m'\u001b[39m\u001b[38;5;124mno response from server within 5 seconds; connection attempt timed out\u001b[39m\u001b[38;5;124m'\u001b[39m) \u001b[38;5;28;01mfrom\u001b[39;00m \u001b[38;5;28;01mNone\u001b[39;00m\n\u001b[1;32m     45\u001b[0m \u001b[38;5;28;01mexcept\u001b[39;00m socket\u001b[38;5;241m.\u001b[39mgaierror:\n\u001b[0;32m---> 46\u001b[0m     \u001b[38;5;28;01mraise\u001b[39;00m \u001b[38;5;167;01mConnectionError\u001b[39;00m(\u001b[38;5;124m'\u001b[39m\u001b[38;5;124mcould not connect\u001b[39m\u001b[38;5;124m'\u001b[39m) \u001b[38;5;28;01mfrom\u001b[39;00m \u001b[38;5;28;01mNone\u001b[39;00m\n\u001b[1;32m     47\u001b[0m \u001b[38;5;28;01mreturn\u001b[39;00m connection\u001b[38;5;241m.\u001b[39mgetresponse()\n",
      "\u001b[0;31mConnectionError\u001b[0m: could not connect"
     ]
    }
   ],
   "source": [
    "response = http_response('https://6009.cat-soop.org/_static/spring19/helloworld.txt')\n",
    "print (\"Status: {}\\n\".format(response.status))\n",
    "print (\"Content: {}\".format(response.read()))"
   ]
  },
  {
   "cell_type": "code",
   "execution_count": null,
   "metadata": {},
   "outputs": [],
   "source": [
    "response = http_response('https://6009.cat-soop.org/_static/spring19/nonexistent.txt')\n",
    "print (\"Status: {}\\n\".format(response.status))\n",
    "print (\"Content: {}\".format(response.read()))"
   ]
  },
  {
   "cell_type": "code",
   "execution_count": null,
   "metadata": {},
   "outputs": [],
   "source": [
    "import time\n",
    "\n",
    "start = time.time()\n",
    "\n",
    "needed_file = 'https://6009.cat-soop.org/_static/spring19/helloworld.txt'\n",
    "for i in range(20):\n",
    "    response = http_response(needed_file)\n",
    "    print (\"Iteration: {}, Status: {}, Content: {}\".format(i, response.status, response.read()))\n",
    "    \n",
    "end = time.time()\n",
    "print (\"\\nTime Spent: {}\".format(end - start))"
   ]
  },
  {
   "cell_type": "code",
   "execution_count": null,
   "metadata": {},
   "outputs": [],
   "source": [
    "start = time.time()\n",
    "\n",
    "needed_files = 'https://6009.cat-soop.org/_static/spring19/helloworld.txt'\n",
    "cached_results = None\n",
    "for i in range(20):\n",
    "    if cached_results is None:\n",
    "        response = http_response(needed_files)\n",
    "        cached_results = {'status': response.status, 'content': response.read()}\n",
    "    print (\"Iteration: {}, Status: {}, Content: {}\".format(i, cached_results['status'], cached_results['content']))\n",
    "        \n",
    "end = time.time()\n",
    "print (\"\\nTime Spent: {}\".format(end - start))"
   ]
  },
  {
   "cell_type": "code",
   "execution_count": null,
   "metadata": {},
   "outputs": [],
   "source": []
  }
 ],
 "metadata": {
  "kernelspec": {
   "display_name": "Python 3",
   "language": "python",
   "name": "python3"
  },
  "language_info": {
   "codemirror_mode": {
    "name": "ipython",
    "version": 3
   },
   "file_extension": ".py",
   "mimetype": "text/x-python",
   "name": "python",
   "nbconvert_exporter": "python",
   "pygments_lexer": "ipython3",
   "version": "3.10.12"
  }
 },
 "nbformat": 4,
 "nbformat_minor": 2
}
