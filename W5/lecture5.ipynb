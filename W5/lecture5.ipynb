{
 "cells": [
  {
   "cell_type": "markdown",
   "metadata": {},
   "source": [
    "In this lecture, we learn about linked structures, a family of data structures that can be visualized with diagrams of boxes with arrows between them.  That style is a natural match with recursion, which we have been studying so far mostly in the context of search problems.  Linked structures are related to the concept of pointers in some non-Python languages, and recursion and pointers together have been [described](https://www.joelonsoftware.com/2005/12/29/the-perils-of-javaschools-2/) as the defining difficult concepts of programming or computer science.  If nothing else, practicing these concepts will prepare you for the interview questions that the big-name software companies like to use!  It doesn't hurt that these ideas also form the bedrock for most kinds of algorithmically challenging coding."
   ]
  },
  {
   "cell_type": "markdown",
   "metadata": {},
   "source": [
    "# A Puzzle with Unintended Sharing in Python Lists\n",
    "\n",
    "The code for this lecture begins with a program demonstrating a problem that some students ran into in a lab near the beginning of the semester in 6.009.  Here's an easy way to initialize a list of lists, where each element of the overall list is an empty list."
   ]
  },
  {
   "cell_type": "code",
   "execution_count": 1,
   "metadata": {},
   "outputs": [],
   "source": [
    "n = 5\n",
    "ls = [[]] * n"
   ]
  },
  {
   "cell_type": "markdown",
   "metadata": {},
   "source": [
    "For the example of `n = 3`, the programmer might be thinking of this code as creating a list that we draw like:\n",
    "\n",
    "![Aliasing in action](aliasing.png)\n",
    "\n",
    "In other words, the programmer is expecting that each element of the main list is referencing a *separate* empty list.  Unfortunately, when we modify all of the constituent lists in most any way, we discover how the naïve model is misguided!  The reason is that the *real* effect of the code above is to create *one* empty list and then stash its references in all cells of the main list.  In other words, the true situation looks like:\n",
    "\n",
    "![Aliasing averted](noaliasing.png)\n",
    "\n",
    "A variety of different short code snippets could lead to the first drawing instead.  One of them uses a list comprehension:"
   ]
  },
  {
   "cell_type": "code",
   "execution_count": 2,
   "metadata": {},
   "outputs": [],
   "source": [
    "ls = [[] for i in range(n)]"
   ]
  },
  {
   "cell_type": "markdown",
   "metadata": {},
   "source": [
    "The important thing here is that the `[]` expression gets reevaluated for every value of `i`, creating a new list!\n",
    "\n",
    "The possibility for several arrows (called *pointers* or *references* in different contexts) to go to the same box is called *aliasing*, and it's a persistent source of complexity in programming.  You might be wondering why such a confusing feature should be  tolerated in a programming language.  It turns out that aliasing can enable some satisfyingly elegant programming styles, including one that we focus on in the rest of the lecture, which allows us to maintain *several closely related copies of a data structure, reusing space across them*.  The important thing is that we will avoid in-place updates and leave each data node alone after we create it, following part of the philosophy of *functional programming*."
   ]
  },
  {
   "cell_type": "markdown",
   "metadata": {},
   "source": [
    "# An Interlude on Estimating Running Time of Python Programs\n",
    "\n",
    "In covering some new styles of data-structure representation, we'll want a way to evaluate how quickly different operations execute.  Before we get there, we need to have a clear model of how data structures are laid out in memory.  The \"boxes and arrows\" diagrams we just used turn out to be pretty accurate.  We can think of a Python list (array) as a sequence of cells sitting next to each other.  Think of it as the first cell of a list having address `N` in memory, such that it is easy to look up the `i`th cell, because we compute its address as `N+i`.  The underlying computer provides fast implementations for both addition and looking up a cell by address.\n",
    "\n",
    "With that intuition, we can decompose a program operating on lists into the set of *primitive operations* it executes.  We'll consider that each primitive operation takes equal time to run, so that a good estimate of a program's running time is its count of primitive operations.\n",
    "\n",
    "Here are some lines of Python code demonstrating primitive operations on lists."
   ]
  },
  {
   "cell_type": "code",
   "execution_count": 3,
   "metadata": {},
   "outputs": [],
   "source": [
    "l = []\n",
    "# Make a new empty list.  (Initializing with multiple elements wouldn't count as primitive anymore!)\n",
    "l.append(5)\n",
    "l.append(7)\n",
    "# Appending to a list.\n",
    "v = l[1]\n",
    "# Reading from a position.\n",
    "l[0] = 6\n",
    "# Writing to a position."
   ]
  },
  {
   "cell_type": "markdown",
   "metadata": {},
   "source": [
    "It's actually a bit nonobvious how Python can make appending take the same time as seemingly simpler operations like reading and writing cells.  What if we run out of space in memory right after the current end of the list?  The solution strays into 6.006 territory, but the curious can find information online as in [this StackOverflow question](https://stackoverflow.com/questions/5833907/repeatedly-appending-to-a-large-list-python-2-6-6).\n",
    "\n",
    "It's important to recognize which operations are *not* primitive.  For instance, consider a list-slicing operation."
   ]
  },
  {
   "cell_type": "code",
   "execution_count": 4,
   "metadata": {},
   "outputs": [
    {
     "data": {
      "text/plain": [
       "[1, 2, 3, 4, 5, 6, 7, 8, 9]"
      ]
     },
     "execution_count": 4,
     "metadata": {},
     "output_type": "execute_result"
    }
   ],
   "source": [
    "l1 = list(range(10))\n",
    "l2 = l1[1:10]\n",
    "l2"
   ]
  },
  {
   "cell_type": "markdown",
   "metadata": {},
   "source": [
    "Slicing is actually implemented in terms of primitive operations, where the following code is a good guide, telling us that the slice spends a number of primitive operations equal to the size of the new list."
   ]
  },
  {
   "cell_type": "code",
   "execution_count": 5,
   "metadata": {},
   "outputs": [
    {
     "data": {
      "text/plain": [
       "[1, 2, 3, 4, 5, 6, 7, 8, 9]"
      ]
     },
     "execution_count": 5,
     "metadata": {},
     "output_type": "execute_result"
    }
   ],
   "source": [
    "l2 = []\n",
    "for i in range(1, 10):\n",
    "    l2.append(l1[i])\n",
    "l2"
   ]
  },
  {
   "cell_type": "markdown",
   "metadata": {},
   "source": [
    "What if we want to add a new element in the middle of the list?  The one-liner solution might lull us into a false sense of running-time security."
   ]
  },
  {
   "cell_type": "code",
   "execution_count": 6,
   "metadata": {},
   "outputs": [
    {
     "data": {
      "text/plain": [
       "[0, 1, 2, 3, 4, 'hi', 5, 6, 7, 8, 9]"
      ]
     },
     "execution_count": 6,
     "metadata": {},
     "output_type": "execute_result"
    }
   ],
   "source": [
    "l1[:5] + ['hi'] + l1[5:]"
   ]
  },
  {
   "cell_type": "markdown",
   "metadata": {},
   "source": [
    "What that code *really* does is like the following, where we see again a number of primitive operations proportional to the new list length."
   ]
  },
  {
   "cell_type": "code",
   "execution_count": 7,
   "metadata": {},
   "outputs": [
    {
     "data": {
      "text/plain": [
       "[0, 1, 2, 3, 4, 'hi', 5, 6, 7, 8, 9]"
      ]
     },
     "execution_count": 7,
     "metadata": {},
     "output_type": "execute_result"
    }
   ],
   "source": [
    "l2 = []\n",
    "for i in range(5):\n",
    "    l2.append(l1[i])\n",
    "l2.append('hi')\n",
    "for i in range(5, 10):\n",
    "    l2.append(l1[i])\n",
    "l2"
   ]
  },
  {
   "cell_type": "markdown",
   "metadata": {},
   "source": [
    "It's also worth commenting on the *space* usage of these derived lists.  Each copy uses completely separate memory.  If we keep making lists that differ from each other in only small ways, and we need to keep all of them around, we can quickly come to occupy quite a lot of computer memory.\n",
    "\n",
    "Let's summarize the pros and cons of Python lists.\n",
    "\n",
    " - **Pro**: a given list is represented compactly using sequential memory slots.\n",
    " - **Con**: many different lists that differ slightly from each other will take up lots of memory, with no sharing.\n",
    " - **Pro**: looking up or ovewriting a list cell by position is fast (a primitive operation).\n",
    " - **Pro**: adding to the end of a list is fast (a primitive operation).\n",
    " - **Con**: modifying a list or building a new one in most other ways are slow (broken into a number of primitive operations proportional to the new list length)."
   ]
  },
  {
   "cell_type": "markdown",
   "metadata": {},
   "source": [
    "# Linked Lists\n",
    "\n",
    "What are called lists in Python are called *arrays* in most other languages.  In the broader context, \"list\" is more likely to mean *linked list*.  What's the difference?\n",
    "\n",
    "Like we just said, an array occupies adjacent cells of memory.\n",
    "![an array](array.png)\n",
    "\n",
    "A linked list instead involves clusters of memory cells, each of which ends in a `None` (indicating end of list) or a reference (address) of the next cluster, like so:\n",
    "![a linked list](linkedlist.png)\n",
    "\n",
    "What advantages follow from this representation?  Well, one *dis*advantage is that it takes longer to look up an element of the list by position.  With arrays (Python lists), we can look up the 1000th element of `myList` like `myList[999]`.  With linked lists, we need to follow every arrow from the beginning node (called the root) onward, until hitting element `1000`!\n",
    "\n",
    "However, linked lists (and related data structures) often allow much faster creation of *new values based on old ones*.  If we want to add a new element to the beginning of the example list, the array way works in three steps:\n",
    "\n",
    "![adding to the front of an array](arraycopy.png)\n",
    "\n",
    "The copying step will take time proportional to the length of the array.  In contrast, with linked lists, we can build a new derived list in a single step that works immediately, for any addition of a new element to the beginning of a list.\n",
    "\n",
    "![adding to the front of a linked list](listcopy.png)\n",
    "\n",
    "We create a new list node that points to the original list root.  There was no need to change the original list.  In fact, the *original* list is still usable!  Linked structures make it very easy to build up a sequence of versions of a data structure, where versions share most of their nodes.  In this way, we not only speed up the creation of new versions, but we also save plenty of memory vs. a naïve array-based solution.\n",
    "\n",
    "Let's look at some simple functions to create and manipulate linked lists."
   ]
  },
  {
   "cell_type": "code",
   "execution_count": 8,
   "metadata": {},
   "outputs": [],
   "source": [
    "# Basic construction of linked lists: create an empty one.\n",
    "def nil():\n",
    "    return None\n",
    "\n",
    "# Create a new list that starts with x and then continues as list ls.\n",
    "def cons(x, ls):\n",
    "    return {\"data\": x,\n",
    "            \"next\": ls}\n",
    "    # Note that we are using Python dictionaries here to represent our \"clusters in memory,\"\n",
    "    # but we will switch to a nicer implementation next.\n",
    "\n",
    "# Is a list empty?\n",
    "def isEmpty(ls):\n",
    "    return ls == None\n",
    "\n",
    "# Return the first element of a nonempty list (raises exception if empty).\n",
    "def head(ls):\n",
    "    return ls[\"data\"]\n",
    "\n",
    "# Return the part of a list after the first element (raises exception if empty).\n",
    "def tail(ls):\n",
    "    return ls[\"next\"]"
   ]
  },
  {
   "cell_type": "markdown",
   "metadata": {},
   "source": [
    "So here is how we can build the list diagrammed above, where, by the way, the function name `cons` stands for \"construct\" and was introduced in [the Lisp programming language](https://en.wikipedia.org/wiki/Lisp_(programming_language)) in the 1950s!"
   ]
  },
  {
   "cell_type": "code",
   "execution_count": 9,
   "metadata": {},
   "outputs": [
    {
     "name": "stdout",
     "output_type": "stream",
     "text": [
      "False\n",
      "A\n",
      "B\n",
      "C\n",
      "True\n"
     ]
    }
   ],
   "source": [
    "l = cons('A', cons('B', cons('C', nil())))\n",
    "print(isEmpty(l))\n",
    "print(head(l))\n",
    "print(head(tail(l)))\n",
    "print(head(tail(tail(l))))\n",
    "print(isEmpty(tail(tail(tail(l)))))"
   ]
  },
  {
   "cell_type": "markdown",
   "metadata": {},
   "source": [
    "The functions we have defined above can be considered the primitive operations that apply to linked lists.  The performance pros and cons of linked lists follow:\n",
    " - **Pro**: it's very quick to create a new linked list that is like an old one but with a new first element.\n",
    " - **Con**: it's slower to create a new linked list that is like an old one but with a new *last* element.\n",
    " - **Con**: looking up elements by numeric position is slow (proportionate to position).\n",
    " - **Pro**: many linked lists at once can *share* nodes (clusters of memory addresses)!\n",
    "\n",
    "Let's work through some of these consequences with code examples.  Here's a simple way to compute a linked list's length, which unfortunately takes time proportional to that length."
   ]
  },
  {
   "cell_type": "code",
   "execution_count": 10,
   "metadata": {},
   "outputs": [
    {
     "data": {
      "text/plain": [
       "3"
      ]
     },
     "execution_count": 10,
     "metadata": {},
     "output_type": "execute_result"
    }
   ],
   "source": [
    "def length(ls):\n",
    "    len = 0\n",
    "\n",
    "    while not isEmpty(ls):\n",
    "        len += 1\n",
    "        ls = tail(ls)\n",
    "\n",
    "    return len\n",
    "\n",
    "length(l)"
   ]
  },
  {
   "cell_type": "markdown",
   "metadata": {},
   "source": [
    "We can realize the same approximate performance with a recursive solution."
   ]
  },
  {
   "cell_type": "code",
   "execution_count": 11,
   "metadata": {},
   "outputs": [
    {
     "data": {
      "text/plain": [
       "3"
      ]
     },
     "execution_count": 11,
     "metadata": {},
     "output_type": "execute_result"
    }
   ],
   "source": [
    "def length_rec(ls):\n",
    "    if isEmpty(ls):\n",
    "        return 0\n",
    "    else:\n",
    "        return 1 + length_rec(tail(ls))\n",
    "\n",
    "length_rec(l)"
   ]
  },
  {
   "cell_type": "markdown",
   "metadata": {},
   "source": [
    "Here's how to build a new list that is the reverse of the original."
   ]
  },
  {
   "cell_type": "code",
   "execution_count": 12,
   "metadata": {},
   "outputs": [
    {
     "name": "stdout",
     "output_type": "stream",
     "text": [
      "A\n",
      "C\n",
      "A\n"
     ]
    }
   ],
   "source": [
    "def rev(ls):\n",
    "    ret = nil()\n",
    "\n",
    "    while not isEmpty(ls):\n",
    "        ret = cons(head(ls), ret)\n",
    "        ls = tail(ls)\n",
    "\n",
    "    return ret\n",
    "\n",
    "print(head(l))\n",
    "l_reversed = rev(l)\n",
    "print(head(l_reversed))\n",
    "print(head(l))"
   ]
  },
  {
   "cell_type": "markdown",
   "metadata": {},
   "source": [
    "Note how the original list is left intact after the reversal.\n",
    "\n",
    "With a little more cleverness, we can write list reversal as a recursive function."
   ]
  },
  {
   "cell_type": "code",
   "execution_count": 13,
   "metadata": {},
   "outputs": [
    {
     "name": "stdout",
     "output_type": "stream",
     "text": [
      "A\n",
      "C\n",
      "A\n"
     ]
    }
   ],
   "source": [
    "def rev_rec(ls, acc=nil()):\n",
    "    # \"acc\" stands for \"accumulator,\" a standard term for this sort of extra parameter.\n",
    "\n",
    "    if isEmpty(ls):\n",
    "        return acc\n",
    "    else:\n",
    "        return rev_rec(tail(ls), cons(head(ls), acc))\n",
    "\n",
    "print(head(l))\n",
    "l_reversed = rev_rec(l)\n",
    "print(head(l_reversed))\n",
    "print(head(l))"
   ]
  },
  {
   "cell_type": "markdown",
   "metadata": {},
   "source": [
    "Concatenation of lists is another classic operation, and this one is easier to do recursively."
   ]
  },
  {
   "cell_type": "code",
   "execution_count": 14,
   "metadata": {},
   "outputs": [
    {
     "data": {
      "text/plain": [
       "['A', 'B', 'C', 'C', 'B']"
      ]
     },
     "execution_count": 14,
     "metadata": {},
     "output_type": "execute_result"
    }
   ],
   "source": [
    "def concat(ls1, ls2):\n",
    "    if isEmpty(ls1):\n",
    "        return ls2\n",
    "    else:\n",
    "        return cons(head(ls1), concat(tail(ls1), ls2))\n",
    "\n",
    "lc = concat(l, l_reversed)\n",
    "[head(lc), head(tail(lc)), head(tail(tail(lc))), head(tail(tail(tail(lc)))), head(tail(tail(tail(tail(lc)))))]"
   ]
  },
  {
   "cell_type": "markdown",
   "metadata": {},
   "source": [
    "Here's a simple way to generate long lists, for testing purposes."
   ]
  },
  {
   "cell_type": "code",
   "execution_count": 15,
   "metadata": {},
   "outputs": [
    {
     "data": {
      "text/plain": [
       "[2, 1, 0, True]"
      ]
     },
     "execution_count": 15,
     "metadata": {},
     "output_type": "execute_result"
    }
   ],
   "source": [
    "def upto(n):\n",
    "    ls = nil()\n",
    "\n",
    "    for i in range(n):\n",
    "        ls = cons(i, ls)\n",
    "\n",
    "    return ls\n",
    "\n",
    "[head(upto(3)), head(tail(upto(3))), head(tail(tail(upto(3)))), isEmpty(tail(tail(tail(upto(3)))))]"
   ]
  },
  {
   "cell_type": "markdown",
   "metadata": {},
   "source": [
    "When we try to concatenate large lists like `upto(100)`, Python tells us the maximum recursion depth is exceeded!  We can fix the problem by using an iterative implementation like so:"
   ]
  },
  {
   "cell_type": "code",
   "execution_count": 16,
   "metadata": {},
   "outputs": [
    {
     "data": {
      "text/plain": [
       "['A', 'B', 'C', 'C', 'B']"
      ]
     },
     "execution_count": 16,
     "metadata": {},
     "output_type": "execute_result"
    }
   ],
   "source": [
    "def concat_iter(ls1, ls2):\n",
    "    ls1 = rev(ls1)\n",
    "\n",
    "    while not isEmpty(ls1):\n",
    "        ls2 = cons(head(ls1), ls2)\n",
    "        ls1 = tail(ls1)\n",
    "\n",
    "    return ls2\n",
    "\n",
    "lc = concat_iter(l, l_reversed)\n",
    "[head(lc), head(tail(lc)), head(tail(tail(lc))), head(tail(tail(tail(lc)))), head(tail(tail(tail(tail(lc)))))]"
   ]
  },
  {
   "cell_type": "markdown",
   "metadata": {},
   "source": [
    "There is also a tricky way to define concatenation recursively, using our reversal function from before, with its optional second argument."
   ]
  },
  {
   "cell_type": "code",
   "execution_count": 17,
   "metadata": {},
   "outputs": [
    {
     "data": {
      "text/plain": [
       "['A', 'B', 'C', 'C', 'B']"
      ]
     },
     "execution_count": 17,
     "metadata": {},
     "output_type": "execute_result"
    }
   ],
   "source": [
    "def concat_rec(ls1, ls2):\n",
    "    return rev_rec(rev_rec(ls1), ls2)\n",
    "\n",
    "lc = concat_rec(l, l_reversed)\n",
    "[head(lc), head(tail(lc)), head(tail(tail(lc))), head(tail(tail(tail(lc)))), head(tail(tail(tail(tail(lc)))))]"
   ]
  },
  {
   "cell_type": "markdown",
   "metadata": {},
   "source": [
    "Let's wrap up the section with a few test cases that double as examples of how these functions should work."
   ]
  },
  {
   "cell_type": "code",
   "execution_count": 18,
   "metadata": {},
   "outputs": [],
   "source": [
    "def test_lists():\n",
    "    ls = cons(1, cons(2, cons(3, nil())))\n",
    "    assert not isEmpty(ls)\n",
    "    assert head(ls) == 1\n",
    "    assert head(tail(ls)) == 2\n",
    "    assert head(tail(tail(ls))) == 3\n",
    "    assert isEmpty(tail(tail(tail(ls))))\n",
    "\n",
    "    assert length(ls) == 3\n",
    "    assert length(tail(ls)) == 2\n",
    "\n",
    "    assert rev(ls) == cons(3, cons(2, cons(1, nil())))\n",
    "\n",
    "    assert concat(cons(4, cons(5, nil())), ls) == cons(4, cons(5, cons(1, cons (2, cons (3, nil())))))\n",
    "\n",
    "test_lists()"
   ]
  },
  {
   "cell_type": "markdown",
   "metadata": {},
   "source": [
    "# Object-Oriented Linked Lists\n",
    "\n",
    "It's actually nicer to implement linked lists with Python's *classes*, a core concept of *object-oriented programming*.  It will be natural to adapt our recursive implementations in this setting.  There will be separate classes for empty and nonempty lists.  First, though, we define a *base class* that contains all code common to the two cases, which here will just be the tricky way of implementing concatenation in terms of two reversals."
   ]
  },
  {
   "cell_type": "code",
   "execution_count": 19,
   "metadata": {},
   "outputs": [],
   "source": [
    "class List:\n",
    "    def concat(self, other):\n",
    "        return self.rev().rev(other)"
   ]
  },
  {
   "cell_type": "markdown",
   "metadata": {},
   "source": [
    "Now the case for empty lists.  Note that these methods get to be \"hardcoded\" to work for empty lists only!  That's the magic of object-oriented programming, letting us divide the thinking for functions across several classes that cover different cases."
   ]
  },
  {
   "cell_type": "code",
   "execution_count": 20,
   "metadata": {},
   "outputs": [],
   "source": [
    "class Nil(List):\n",
    "    def toArray(self):\n",
    "        return []\n",
    "\n",
    "    def isEmpty(self):\n",
    "        return True\n",
    "\n",
    "    def head(self):\n",
    "        raise ValueError(\"empty list doesn't have a head\")\n",
    "\n",
    "    def tail(self):\n",
    "        raise ValueError(\"empty list doesn't have a tail\")\n",
    "\n",
    "    def length(self):\n",
    "        return 0\n",
    "\n",
    "    def rev(self, acc=None):\n",
    "        if acc == None:\n",
    "            return self\n",
    "        else:\n",
    "            return acc"
   ]
  },
  {
   "cell_type": "markdown",
   "metadata": {},
   "source": [
    "The methods for nonempty lists are a bit more complex.  Note that an instance of the following class stands for one cell of a linked list, with fields for the head and tail."
   ]
  },
  {
   "cell_type": "code",
   "execution_count": 21,
   "metadata": {},
   "outputs": [],
   "source": [
    "class Cons(List):\n",
    "    def __init__(self, hd, tl):\n",
    "        self.hd = hd\n",
    "        self.tl = tl\n",
    "\n",
    "    def toArray(self):\n",
    "        return [self.hd] + self.tl.toArray()\n",
    "\n",
    "    def isEmpty(self):\n",
    "        return False\n",
    "\n",
    "    def head(self):\n",
    "        return self.hd\n",
    "\n",
    "    def tail(self):\n",
    "        return self.tl\n",
    "\n",
    "    def length(self):\n",
    "        return 1 + self.tl.length()\n",
    "\n",
    "    def rev(self, acc=Nil()):\n",
    "        return self.tl.rev(Cons(self.hd, acc))"
   ]
  },
  {
   "cell_type": "markdown",
   "metadata": {},
   "source": [
    "To repeat our tests from before:"
   ]
  },
  {
   "cell_type": "code",
   "execution_count": 22,
   "metadata": {},
   "outputs": [],
   "source": [
    "def test_oo_lists():\n",
    "    ls = Cons(1, Cons(2, Cons(3, Nil())))\n",
    "    assert not ls.isEmpty()\n",
    "    assert ls.head() == 1\n",
    "    assert ls.tail().head() == 2\n",
    "    assert ls.tail().tail().head() == 3\n",
    "    assert ls.tail().tail().tail().isEmpty()\n",
    "\n",
    "    assert ls.length() == 3\n",
    "    assert ls.tail().length() == 2\n",
    "\n",
    "    assert ls.rev().toArray() == [3, 2, 1]\n",
    "\n",
    "    assert Cons(4, Cons(5, Nil())).concat(ls).toArray() == [4, 5, 1, 2, 3]\n",
    "\n",
    "test_oo_lists()"
   ]
  },
  {
   "cell_type": "markdown",
   "metadata": {},
   "source": [
    "# Representing an Archive of Course Schedules\n",
    "\n",
    "The rest of the examples in the lecture code are based on course (subject) schedules for the fictitious Institute of 6.009.  There is likely to be much similarity between schedules across semesters, so we can share plenty of memory contents across many different semesters' schedules.  The basic functionality is a mapping from subject numbers to titles.\n",
    "\n",
    "We'll work with a class for representing subjects."
   ]
  },
  {
   "cell_type": "code",
   "execution_count": 23,
   "metadata": {},
   "outputs": [],
   "source": [
    "class Subject:\n",
    "    def __init__(self, num, titl):\n",
    "        self.num = num\n",
    "        self.titl = titl\n",
    "\n",
    "    def number(self):\n",
    "        return self.num\n",
    "\n",
    "    def title(self):\n",
    "        return self.titl"
   ]
  },
  {
   "cell_type": "markdown",
   "metadata": {},
   "source": [
    "Here's one semester's schedule as an array."
   ]
  },
  {
   "cell_type": "code",
   "execution_count": 24,
   "metadata": {},
   "outputs": [],
   "source": [
    "initial_schedule = [Subject(100, \"Introduction to N-Queens\"),\n",
    "                    Subject(101, \"Insights in Image Processing\"),\n",
    "                    Subject(110, \"Let's Read the Dictionary\"),\n",
    "                    Subject(111, \"Deconstructing Kevin Bacon\"),\n",
    "                    Subject(120, \"Readings in Recursion\"),\n",
    "                    Subject(121, \"Advanced Minesweeper\"),\n",
    "                    Subject(130, \"Sudoku Studies\"),\n",
    "                    Subject(131, \"A Brief History of Camping\"),\n",
    "                    Subject(200, \"Linked Lists Lab\"),\n",
    "                    Subject(201, \"Autocomplete Seminar\")]"
   ]
  },
  {
   "cell_type": "markdown",
   "metadata": {},
   "source": [
    "# A Simple Implementation with Arrays\n",
    "\n",
    "One of the simplest implementations in Python uses Python lists (arrays), creating a completely distinct schedule for each semester, with no sharing, because we just copy all old entries that we reuse."
   ]
  },
  {
   "cell_type": "code",
   "execution_count": 25,
   "metadata": {},
   "outputs": [],
   "source": [
    "class ArraySchedule:\n",
    "    def __init__(self):\n",
    "        self.subjects = []\n",
    "\n",
    "    def lookup(self, subject_number):\n",
    "        \"\"\"Return the title of subject in schedule, or None if not found.\"\"\"\n",
    "\n",
    "        for subject in self.subjects:\n",
    "            if subject.number() == subject_number:\n",
    "                return subject.title()\n",
    "        return None\n",
    "\n",
    "    def add(self, subject):\n",
    "        \"\"\"Return a new schedule, based on the given one, but with a new entry\n",
    "        added with given subject and title.\"\"\"\n",
    "\n",
    "        new = ArraySchedule()\n",
    "        new.subjects = self.subjects + [subject]\n",
    "        return new\n",
    "\n",
    "# Neat trick: we can write tests generically in a class like this one!\n",
    "def tests_helper(sched):\n",
    "    assert sched.lookup(101) == \"Insights in Image Processing\"\n",
    "\n",
    "    latest_and_greatest = sched.add(Subject(102, \"Tenets of Tent Packing\"))\n",
    "    assert latest_and_greatest.lookup(101) == \"Insights in Image Processing\"\n",
    "    assert latest_and_greatest.lookup(102) == \"Tenets of Tent Packing\"\n",
    "    assert sched.lookup(102) == None\n",
    "    # Important: the old schedule is still around and does not contain the new course!\n",
    "\n",
    "def tests(sched):\n",
    "    for subject in initial_schedule:\n",
    "        sched = sched.add(subject)\n",
    "\n",
    "    tests_helper(sched)\n",
    "\n",
    "tests(ArraySchedule())"
   ]
  },
  {
   "cell_type": "markdown",
   "metadata": {},
   "source": [
    "What happens if we create many modified schedules in sequence, and we want to keep all the old ones accessible?  Every schedule uses separate memory space for a different array!  That could be very wasteful as we accumulate more schedules that nonetheless have many similarities."
   ]
  },
  {
   "cell_type": "markdown",
   "metadata": {},
   "source": [
    "## Using Linked Lists\n",
    "\n",
    "An implementation with more sharing uses linked lists.  The simplest variant here allows the schedule entries to occupy arbitrary positions in the list.  For instance, using small integers as subject numbers, we might wind up with a list like this one:\n",
    "\n",
    "![schedule with linked lists](listsched.png)\n",
    "\n",
    "To look up a subject in the list, we start at the beginning and follow all the links, checking for subject-number equality until we find the entry or reach the end of the list.  A disadvantage of this representation is that, when a subject does not exist, we must always traverse the list fully before we can be sure.  However, adding a new entry is a simple \"cons\" operation like before, so we reuse all of the space for the old entries, and the new list can be built more or less instantly, regardless of the schedule size!"
   ]
  },
  {
   "cell_type": "code",
   "execution_count": 26,
   "metadata": {},
   "outputs": [],
   "source": [
    "class NilSchedule:\n",
    "    def add(self, subject):\n",
    "        return ConsSchedule(subject, self)\n",
    "\n",
    "    def lookup(self, subject_number):\n",
    "        return None\n",
    "\n",
    "class ConsSchedule:\n",
    "    def __init__(self, subject, rest):\n",
    "        self.hd = subject\n",
    "        self.tl = rest\n",
    "\n",
    "    def add(self, subject):\n",
    "        return ConsSchedule(subject, self)\n",
    "\n",
    "    def lookup(self, subject_number):\n",
    "        if self.hd.number() == subject_number:\n",
    "            return self.hd.title()\n",
    "        else:\n",
    "            return self.tl.lookup(subject_number)\n",
    "\n",
    "tests(NilSchedule())"
   ]
  },
  {
   "cell_type": "markdown",
   "metadata": {},
   "source": [
    "## Sorted Linked Lists\n",
    "\n",
    "We can keep much of the last solution's benefit and dodge the first complaint (having to traverse the whole list to realize a subject is missing) by maintaining the list in sorted order, more like this:\n",
    "\n",
    "![schedule with sorted linked lists](sortedlistsched.png)\n",
    "\n",
    "Now, in some rough sense, lookups take “about half as long,” on average.  Unfortunately, adding a new element now requires more work, to maintain sorting.  We often need to recreate copies of existing list cells."
   ]
  },
  {
   "cell_type": "code",
   "execution_count": 27,
   "metadata": {},
   "outputs": [],
   "source": [
    "class NilSortedSchedule:\n",
    "    def add(self, subject):\n",
    "        return ConsSortedSchedule(subject, self)\n",
    "\n",
    "    def lookup(self, subject_number):\n",
    "        return None\n",
    "\n",
    "class ConsSortedSchedule:\n",
    "    def __init__(self, subject, rest):\n",
    "        self.hd = subject\n",
    "        self.tl = rest\n",
    "\n",
    "    def add(self, subject):\n",
    "        if subject.number() < self.hd.number():\n",
    "            return ConsSortedSchedule(subject, self)\n",
    "        else:\n",
    "            return ConsSortedSchedule(self.hd, self.tl.add(subject))\n",
    "\n",
    "    def lookup(self, subject_number):\n",
    "        if self.hd.number() == subject_number:\n",
    "            return self.hd.title()\n",
    "        elif self.hd.number() > subject_number:\n",
    "            return None\n",
    "        else:\n",
    "            return self.tl.lookup(subject_number)\n",
    "\n",
    "tests(NilSortedSchedule())"
   ]
  },
  {
   "cell_type": "markdown",
   "metadata": {},
   "source": [
    "## Binary Search Trees (a true classic data structure)\n",
    "\n",
    "We can do even better than cutting lookup time by “about half.”  Instead we can get it to be “about the logarithm of the schedule size,” while still maintaining sharing across versions.  (We're being fuzzy about timing details here, saving the specifics for 6.006 and its follow-up courses.)\n",
    "\n",
    "Our new approach is *binary search trees*, which look like this:\n",
    "\n",
    "![a binary search tree](bst.png)\n",
    "\n",
    "The top node of the tree we call the *root*.  Here we have a good opportunity to introduce one of the oddities of programming terminology: in the world of computer science, trees grow upside down, with their roots on top!  Each node may have some *children*, connected with arrows going down.  Each node is also labeled with the key associated with it.  Notice that, reading left to right, we encounter the keys in sorted order.\n",
    "\n",
    "The basic idea of binary search trees is that each node is implicitly associated with a range of keys that could possibly be found there.  We use the same interval notation that you probably know from calculus class.  In any kind of lookup, we can skip whole subtrees whose intervals couldn't possibly contain the key we care about!  That's the key to speeding up all operations, as compared to sorted lists.\n",
    "\n",
    "The root of the tree is associated with interval \\[2, 7], containing all keys from the tree.  The root includes key 5.  All keys *less than 5 must be in its left child*, and all keys *greater than 5 must be in its right child*.  We illustrate this rule in tagging nodes with their intervals.  “Zigging left” pulls down the high end of the interval to equal the value we've skipped, and “zagging right” pushes up the low end of the interval to equal the value we've skipped.\n",
    "\n",
    "When searching for a key, we recursively walk down the tree.  If the key on the node matches the one we want, we're done.  Otherwise, we know *exactly which child tree to search next*, because their intervals have no keys in common!  We get to skip entirely the irrelevant subtree.\n",
    "\n",
    "Let's make all that concrete for our running example of the subject schedule."
   ]
  },
  {
   "cell_type": "code",
   "execution_count": 28,
   "metadata": {},
   "outputs": [],
   "source": [
    "class EmptyTreeSchedule:\n",
    "    def add(self, subject):\n",
    "        return NonemptyTreeSchedule(subject,\n",
    "                                    EmptyTreeSchedule(),\n",
    "                                    EmptyTreeSchedule())\n",
    "\n",
    "    def lookup(self, subject_number):\n",
    "        return None\n",
    "\n",
    "class NonemptyTreeSchedule:\n",
    "    def __init__(self, subject, leftChild, rightChild):\n",
    "        self.subject = subject\n",
    "        self.leftChild = leftChild\n",
    "        self.rightChild = rightChild\n",
    "\n",
    "    def add(self, subject):\n",
    "        if subject.number() == self.subject.number():\n",
    "            # In case of a subject-number match, we *overwrite* the root.\n",
    "            return NonemptyTreeSchedule(subject,\n",
    "                                        self.leftChild,\n",
    "                                        self.rightChild)\n",
    "        elif subject.number() < self.subject.number():\n",
    "            return NonemptyTreeSchedule(self.subject,\n",
    "                                        self.leftChild.add(subject),\n",
    "                                        self.rightChild)\n",
    "        else:\n",
    "            return NonemptyTreeSchedule(self.subject,\n",
    "                                        self.leftChild,\n",
    "                                        self.rightChild.add(subject))\n",
    "\n",
    "    def lookup(self, subject_number):\n",
    "        if subject_number == self.subject.number():\n",
    "            return self.subject.title()\n",
    "        elif subject_number < self.subject.number():\n",
    "            return self.leftChild.lookup(subject_number)\n",
    "        else:\n",
    "            return self.rightChild.lookup(subject_number)\n",
    "\n",
    "tests(EmptyTreeSchedule())"
   ]
  },
  {
   "cell_type": "markdown",
   "metadata": {},
   "source": [
    "### A Performance Gotcha\n",
    "\n",
    "Binary search trees manage to reuse many tree nodes across many different versions.  However, the way we build the tree schedule in the tests is actually rather inefficient!"
   ]
  },
  {
   "cell_type": "code",
   "execution_count": 29,
   "metadata": {},
   "outputs": [
    {
     "data": {
      "text/plain": [
       "'Redundancy'"
      ]
     },
     "execution_count": 29,
     "metadata": {},
     "output_type": "execute_result"
    }
   ],
   "source": [
    "import sys\n",
    "sys.setrecursionlimit(10000)\n",
    "\n",
    "tree = EmptyTreeSchedule()\n",
    "for i in range(3000):\n",
    "    tree = tree.add(Subject(i, \"Redundancy\"))\n",
    "tree.lookup(2500)"
   ]
  },
  {
   "cell_type": "markdown",
   "metadata": {},
   "source": [
    "Pretty slow, right?  What happened is that we actually wound up with degenerate trees that act like sorted linked lists!  Trace through the algorithm (on a smaller example) to see for yourself.\n",
    "\n",
    "Here's a function that can help us translate to trees more efficiently, when we know we're starting with a sorted array.  The key is to adopt a divide-and-conquer strategy with recursion."
   ]
  },
  {
   "cell_type": "code",
   "execution_count": 30,
   "metadata": {},
   "outputs": [
    {
     "data": {
      "text/plain": [
       "'Redundancy'"
      ]
     },
     "execution_count": 30,
     "metadata": {},
     "output_type": "execute_result"
    }
   ],
   "source": [
    "def sorted_array_to_bst(arr):\n",
    "    if len(arr) == 0:\n",
    "        return EmptyTreeSchedule()\n",
    "    else:\n",
    "        # The array has at least two elements.\n",
    "        # Pick some spot in the middle and build a tree for either side of it.\n",
    "        # Then create a new tree root from the middle element.\n",
    "        mid = len(arr) // 2\n",
    "        return NonemptyTreeSchedule(arr[mid],\n",
    "                                    sorted_array_to_bst(arr[:mid]),\n",
    "                                    sorted_array_to_bst(arr[mid+1:]))\n",
    "\n",
    "tests_helper(sorted_array_to_bst(initial_schedule))\n",
    "\n",
    "tree = sorted_array_to_bst([Subject(i, \"Redundancy\")\n",
    "                            for i in range(3000)])\n",
    "tree.lookup(2500)"
   ]
  },
  {
   "cell_type": "markdown",
   "metadata": {},
   "source": [
    "...and now the lookup is instant!  By the way, see 6.006 for fancier tree structures that can provide fast lookups regardless of order of insertion."
   ]
  },
  {
   "cell_type": "markdown",
   "metadata": {},
   "source": [
    "# Sudoku Revisited\n",
    "\n",
    "Here's a literal copy of the most optimized Sudoku code from the previous lecture."
   ]
  },
  {
   "cell_type": "code",
   "execution_count": 31,
   "metadata": {},
   "outputs": [
    {
     "name": "stdout",
     "output_type": "stream",
     "text": [
      "Backtracks = 232\n"
     ]
    }
   ],
   "source": [
    "backtracks = 0\n",
    "\n",
    "#x varies from entry1 to entry2 - 1, y varies from entry3 to entry4 - 1 \n",
    "sectors = [ [0, 3, 0, 3], [3, 6, 0, 3], [6, 9, 0, 3],\n",
    "            [0, 3, 3, 6], [3, 6, 3, 6], [6, 9, 3, 6],\n",
    "            [0, 3, 6, 9], [3, 6, 6, 9], [6, 9, 6, 9] ]\n",
    "\n",
    "#This procedure finds the next empty square to fill on the Sudoku grid\n",
    "def findNextCellToFill(grid):\n",
    "    #Look for an unfilled grid location\n",
    "    for x in range(0, 9):\n",
    "        for y in range(0, 9):\n",
    "            if grid[x][y] == 0:\n",
    "                return x,y\n",
    "    return -1,-1\n",
    "\n",
    "#This procedure checks if setting the (i, j) square to e is valid\n",
    "def isValid(grid, i, j, e):\n",
    "    rowOk = all([e != grid[i][x] for x in range(9)])\n",
    "    if rowOk:\n",
    "        columnOk = all([e != grid[x][j] for x in range(9)])\n",
    "        if columnOk:\n",
    "            #finding the top left x,y co-ordinates of\n",
    "            #the section or sub-grid containing the i,j cell\n",
    "            secTopX, secTopY = 3 *(i//3), 3 *(j//3)\n",
    "            for x in range(secTopX, secTopX+3):\n",
    "                for y in range(secTopY, secTopY+3):\n",
    "                    if grid[x][y] == e:\n",
    "                        return False\n",
    "            return True\n",
    "    return False\n",
    "\n",
    "#This procedure makes implications based on existing numbers on squares\n",
    "def makeImplications(grid, i, j, e):\n",
    "\n",
    "    global sectors\n",
    "\n",
    "    grid[i][j] = e\n",
    "    impl = [(i, j, e)]\n",
    "\n",
    "    done = False\n",
    "\n",
    "    #Keep going till you stop finding implications\n",
    "    while not done:\n",
    "        done = True\n",
    "\n",
    "        for k in range(len(sectors)):\n",
    "\n",
    "            sectinfo = []\n",
    "\n",
    "            #find missing elements in ith sector\n",
    "            vset = {1, 2, 3, 4, 5, 6, 7, 8, 9}\n",
    "            for x in range(sectors[k][0], sectors[k][1]):\n",
    "                for y in range(sectors[k][2], sectors[k][3]):\n",
    "                    if grid[x][y] != 0:\n",
    "                        vset.remove(grid[x][y])\n",
    "\n",
    "            #attach copy of vset to each missing square in ith sector\n",
    "            for x in range(sectors[k][0], sectors[k][1]):\n",
    "                for y in range(sectors[k][2], sectors[k][3]):\n",
    "                    if grid[x][y] == 0:\n",
    "                        sectinfo.append([x, y, vset.copy()])\n",
    "            \n",
    "            for m in range(len(sectinfo)):\n",
    "                sin = sectinfo[m]\n",
    "                \n",
    "                #find the set of elements on the row corresponding to m and remove them\n",
    "                rowv = set()\n",
    "                for y in range(9):\n",
    "                    rowv.add(grid[sin[0]][y])\n",
    "                left = sin[2].difference(rowv)\n",
    "                \n",
    "                #find the set of elements on the column corresponding to m and remove them\n",
    "                colv = set()\n",
    "                for x in range(9):\n",
    "                    colv.add(grid[x][sin[1]])\n",
    "                left = left.difference(colv)\n",
    "                             \n",
    "                #check if the vset is a singleton\n",
    "                if len(left) == 1:\n",
    "                    val = left.pop()\n",
    "                    if isValid(grid, sin[0], sin[1], val):\n",
    "                        grid[sin[0]][sin[1]] = val\n",
    "                        impl.append((sin[0], sin[1], val))\n",
    "                        done = False\n",
    "                \n",
    "    return impl\n",
    "\n",
    "#This procedure undoes all the implications\n",
    "def undoImplications(grid, impl):\n",
    "    for i in range(len(impl)):\n",
    "        grid[impl[i][0]][impl[i][1]] = 0\n",
    "    return\n",
    "\n",
    "#This procedure fills in the missing squares of a Sudoku puzzle\n",
    "#obeying the Sudoku rules by guessing when it has to and performing\n",
    "#implications when it can\n",
    "def solveSudokuMoreOpt(grid, i=0, j=0):\n",
    "\n",
    "    global backtracks\n",
    "\n",
    "    #find the next empty cell to fill\n",
    "    i, j = findNextCellToFill(grid)\n",
    "    if i == -1:\n",
    "        return True\n",
    "\n",
    "    for e in range(1, 10):\n",
    "        #Try different values in i, j location\n",
    "        if isValid(grid, i, j, e):\n",
    "\n",
    "            impl = makeImplications(grid, i, j, e)\n",
    "            \n",
    "            if solveSudokuMoreOpt(grid, i, j):\n",
    "                return True\n",
    "            #Undo the current cell for backtracking\n",
    "            backtracks += 1\n",
    "            undoImplications(grid, impl)\n",
    "\n",
    "    return False\n",
    "\n",
    "def printSudoku(grid):\n",
    "    numrow = 0\n",
    "    for row in grid:\n",
    "        if numrow % 3 == 0 and numrow != 0:\n",
    "            print (' ')\n",
    "        print (row[0:3], ' ', row[3:6], ' ', row[6:9])\n",
    "        numrow += 1       \n",
    "    return\n",
    "\n",
    "diff  = [[0,0,5,3,0,0,0,0,0],\n",
    "         [8,0,0,0,0,0,0,2,0],\n",
    "         [0,7,0,0,1,0,5,0,0],\n",
    "         [4,0,0,0,0,5,3,0,0],\n",
    "         [0,1,0,0,7,0,0,0,6],\n",
    "         [0,0,3,2,0,0,0,8,0],\n",
    "         [0,6,0,5,0,0,0,0,9],\n",
    "         [0,0,4,0,0,0,0,3,0],\n",
    "         [0,0,0,0,0,9,7,0,0]]\n",
    "\n",
    "backtracks = 0\n",
    "solveSudokuMoreOpt(diff)\n",
    "print ('Backtracks =', backtracks)"
   ]
  },
  {
   "cell_type": "markdown",
   "metadata": {},
   "source": [
    "Remember all the work we did to track changes made to the board, so we could undo them when backtracking?  How about if we represent boards as *binary search trees* whose keys are coordinates?  Then we can maintain multiple boards at once, with significant sharing across them!  We'll do it in a slightly gross way, reusing our subject-scheduling trees, representing each board square as a subject whose number is its coordinates and name is the value of the square (e.g., a digit).\n",
    "\n",
    "Here's the code again following that strategy, where comments like `# CHANGE! --->` indicate where we made modifications."
   ]
  },
  {
   "cell_type": "code",
   "execution_count": 32,
   "metadata": {},
   "outputs": [
    {
     "name": "stdout",
     "output_type": "stream",
     "text": [
      "Backtracks = 232\n"
     ]
    }
   ],
   "source": [
    "#This procedure finds the next empty square to fill on the Sudoku grid\n",
    "def findNextCellToFill(grid):\n",
    "    #Look for an unfilled grid location\n",
    "    for x in range(0, 9):\n",
    "        for y in range(0, 9):\n",
    "# CHANGE! --->\n",
    "# Look up grid cell with a method, by coordinates.\n",
    "            if grid.lookup((x, y)) == 0:\n",
    "                return x,y\n",
    "    return -1,-1\n",
    "\n",
    "#This procedure checks if setting the (i, j) square to e is valid\n",
    "def isValid(grid, i, j, e):\n",
    "# CHANGE! --->\n",
    "# Look up by coordinates.\n",
    "    rowOk = all([e != grid.lookup((i, x)) for x in range(9)])\n",
    "    if rowOk:\n",
    "        columnOk = all([e != grid.lookup((x, j)) for x in range(9)])\n",
    "        if columnOk:\n",
    "            #finding the top left x,y co-ordinates of\n",
    "            #the section or sub-grid containing the i,j cell\n",
    "            secTopX, secTopY = 3 *(i//3), 3 *(j//3)\n",
    "            for x in range(secTopX, secTopX+3):\n",
    "                for y in range(secTopY, secTopY+3):\n",
    "                    if grid.lookup((x, y)) == e:\n",
    "                        return False\n",
    "            return True\n",
    "    return False\n",
    "\n",
    "#This procedure makes implications based on existing numbers on squares\n",
    "def makeImplications(grid, i, j, e):\n",
    "\n",
    "    global sectors\n",
    "\n",
    "# CHANGE! --->\n",
    "# Generate a _new_ grid without overwriting the old one.\n",
    "# (For simplicity, we'll use the same variable to hold the new one,\n",
    "# since we never need to reference the old version again in this function.)\n",
    "    grid = grid.add(Subject((i, j), e))\n",
    "# CHANGE! --->\n",
    "# We no longer track a list of implications.\n",
    "#   impl = [(i, j, e)]\n",
    "\n",
    "    done = False\n",
    "\n",
    "    #Keep going till you stop finding implications\n",
    "    while not done:\n",
    "        done = True\n",
    "\n",
    "        for k in range(len(sectors)):\n",
    "\n",
    "            sectinfo = []\n",
    "\n",
    "            #find missing elements in ith sector\n",
    "            vset = {1, 2, 3, 4, 5, 6, 7, 8, 9}\n",
    "            for x in range(sectors[k][0], sectors[k][1]):\n",
    "                for y in range(sectors[k][2], sectors[k][3]):\n",
    "# CHANGE! --->\n",
    "# Look up by coordinates.\n",
    "                    if grid.lookup((x, y)) != 0:\n",
    "                        vset.remove(grid.lookup((x, y)))\n",
    "\n",
    "            #attach copy of vset to each missing square in ith sector\n",
    "            for x in range(sectors[k][0], sectors[k][1]):\n",
    "                for y in range(sectors[k][2], sectors[k][3]):\n",
    "# CHANGE! --->\n",
    "# Look up by coordinates.\n",
    "                    if grid.lookup((x,y)) == 0:\n",
    "                        sectinfo.append([x, y, vset.copy()])\n",
    "            \n",
    "            for m in range(len(sectinfo)):\n",
    "                sin = sectinfo[m]\n",
    "                \n",
    "                #find the set of elements on the row corresponding to m and remove them\n",
    "                rowv = set()\n",
    "                for y in range(9):\n",
    "# CHANGE! --->\n",
    "# Look up by coordinates.\n",
    "                    rowv.add(grid.lookup((sin[0], y)))\n",
    "                left = sin[2].difference(rowv)\n",
    "                \n",
    "                #find the set of elements on the column corresponding to m and remove them\n",
    "                colv = set()\n",
    "                for x in range(9):\n",
    "# CHANGE! --->\n",
    "# Look up by coordinates.\n",
    "                    colv.add(grid.lookup((x, sin[1])))\n",
    "                left = left.difference(colv)\n",
    "                             \n",
    "                #check if the vset is a singleton\n",
    "                if len(left) == 1:\n",
    "                    val = left.pop()\n",
    "                    if isValid(grid, sin[0], sin[1], val):\n",
    "# CHANGE! --->\n",
    "# Set by coordinates, overwriting grid variable.\n",
    "                        grid = grid.add(Subject((sin[0], sin[1]), val))\n",
    "# CHANGE! --->\n",
    "# Not maintaining impl anymore.\n",
    "#                       impl.append((sin[0], sin[1], val))\n",
    "                        done = False\n",
    "\n",
    "# CHANGE! --->\n",
    "# Return new grid, rather than implications.\n",
    "    return grid\n",
    "\n",
    "# CHANGE! --->\n",
    "# We don't need an undoing procedure anymore!\n",
    "#This procedure undoes all the implications\n",
    "#def undoImplications(grid, impl):\n",
    "#    for i in range(len(impl)):\n",
    "#        grid[impl[i][0]][impl[i][1]] = 0\n",
    "#    return\n",
    "\n",
    "# CHANGE! --->\n",
    "# Converting into our funky board format.\n",
    "def convert_board(grid, empty):\n",
    "    new_grid = empty\n",
    "    for i in range(9):\n",
    "        for j in range(9):\n",
    "            new_grid = new_grid.add(Subject((i, j), grid[i][j]))\n",
    "    return new_grid\n",
    "\n",
    "#This procedure fills in the missing squares of a Sudoku puzzle\n",
    "#obeying the Sudoku rules by guessing when it has to and performing\n",
    "#implications when it can\n",
    "def solveSudokuMoreOpt(grid, i=0, j=0):\n",
    "\n",
    "    global backtracks\n",
    "    \n",
    "    #find the next empty cell to fill\n",
    "    i, j = findNextCellToFill(grid)\n",
    "    if i == -1:\n",
    "        return True\n",
    "\n",
    "    for e in range(1, 10):\n",
    "        #Try different values in i, j location\n",
    "        if isValid(grid, i, j, e):\n",
    "# CHANGE! --->\n",
    "# Save new grid in a separate variable here.\n",
    "            new_grid = makeImplications(grid, i, j, e)\n",
    "            \n",
    "            if solveSudokuMoreOpt(new_grid, i, j):\n",
    "                return True\n",
    "            #Undo the current cell for backtracking\n",
    "            backtracks += 1\n",
    "# CHANGE! --->\n",
    "# No undoing required; just go back to using the old value!\n",
    "#           undoImplications(grid, impl)\n",
    "\n",
    "    return False\n",
    "\n",
    "diff  = [[0,0,5,3,0,0,0,0,0],\n",
    "         [8,0,0,0,0,0,0,2,0],\n",
    "         [0,7,0,0,1,0,5,0,0],\n",
    "         [4,0,0,0,0,5,3,0,0],\n",
    "         [0,1,0,0,7,0,0,0,6],\n",
    "         [0,0,3,2,0,0,0,8,0],\n",
    "         [0,6,0,5,0,0,0,0,9],\n",
    "         [0,0,4,0,0,0,0,3,0],\n",
    "         [0,0,0,0,0,9,7,0,0]]\n",
    "\n",
    "backtracks = 0\n",
    "solveSudokuMoreOpt(convert_board(diff, EmptyTreeSchedule()))\n",
    "print ('Backtracks =', backtracks)"
   ]
  },
  {
   "cell_type": "markdown",
   "metadata": {},
   "source": [
    "Notice that this version is slower than the undoing version, but one could argue we saved in code understandability."
   ]
  }
 ],
 "metadata": {
  "kernelspec": {
   "display_name": "Python 3",
   "language": "python",
   "name": "python3"
  },
  "language_info": {
   "codemirror_mode": {
    "name": "ipython",
    "version": 3
   },
   "file_extension": ".py",
   "mimetype": "text/x-python",
   "name": "python",
   "nbconvert_exporter": "python",
   "pygments_lexer": "ipython3",
   "version": "3.6.7"
  }
 },
 "nbformat": 4,
 "nbformat_minor": 2
}
