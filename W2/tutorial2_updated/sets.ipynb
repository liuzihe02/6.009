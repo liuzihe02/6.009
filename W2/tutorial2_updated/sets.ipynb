{
 "cells": [
  {
   "cell_type": "markdown",
   "metadata": {},
   "source": [
    "# Sets\n",
    "\n",
    "A set is an unordered collection with no duplicate elements. Basic uses include membership testing and eliminating duplicate entries. Set objects also support mathematical operations like union, intersection, difference, and symmetric difference. Sets can also have important efficiency benefits."
   ]
  },
  {
   "cell_type": "markdown",
   "metadata": {},
   "source": [
    "## One Motivation -- Lists can be slooooooow....\n",
    "One motivation for using sets is that several important operations (adding an element, determining whether an element is in the set) take *constant time* regardless of the size of the set, rather than linear time in the size of the list."
   ]
  },
  {
   "cell_type": "code",
   "execution_count": 1,
   "metadata": {},
   "outputs": [
    {
     "name": "stdout",
     "output_type": "stream",
     "text": [
      "[0, 1, 2, 3, 4, 5, 6, 7, 8, 9]\n"
     ]
    }
   ],
   "source": [
    "tiny_num = 10 # ten\n",
    "tiny_num_list = list(range(tiny_num)) \n",
    "print(tiny_num_list)"
   ]
  },
  {
   "cell_type": "code",
   "execution_count": 2,
   "metadata": {},
   "outputs": [
    {
     "name": "stdout",
     "output_type": "stream",
     "text": [
      "10000000\n"
     ]
    }
   ],
   "source": [
    "big_num = 10000000 # ten million\n",
    "big_num_list = list(range(big_num)) \n",
    "print(len(big_num_list))"
   ]
  },
  {
   "cell_type": "code",
   "execution_count": 3,
   "metadata": {},
   "outputs": [
    {
     "name": "stdout",
     "output_type": "stream",
     "text": [
      "[9999900, 9999901, 9999902, 9999903, 9999904, 9999905, 9999906, 9999907, 9999908, 9999909, 9999910, 9999911, 9999912, 9999913, 9999914, 9999915, 9999916, 9999917, 9999918, 9999919, 9999920, 9999921, 9999922, 9999923, 9999924, 9999925, 9999926, 9999927, 9999928, 9999929, 9999930, 9999931, 9999932, 9999933, 9999934, 9999935, 9999936, 9999937, 9999938, 9999939, 9999940, 9999941, 9999942, 9999943, 9999944, 9999945, 9999946, 9999947, 9999948, 9999949, 9999950, 9999951, 9999952, 9999953, 9999954, 9999955, 9999956, 9999957, 9999958, 9999959, 9999960, 9999961, 9999962, 9999963, 9999964, 9999965, 9999966, 9999967, 9999968, 9999969, 9999970, 9999971, 9999972, 9999973, 9999974, 9999975, 9999976, 9999977, 9999978, 9999979, 9999980, 9999981, 9999982, 9999983, 9999984, 9999985, 9999986, 9999987, 9999988, 9999989, 9999990, 9999991, 9999992, 9999993, 9999994, 9999995, 9999996, 9999997, 9999998, 9999999]\n"
     ]
    }
   ],
   "source": [
    "small_num = 100\n",
    "small_num_list = list(range(big_num - small_num, big_num))\n",
    "print (small_num_list)"
   ]
  },
  {
   "cell_type": "markdown",
   "metadata": {},
   "source": [
    "**How long do you think the following will take?**\n",
    "1. less than 1 second\n",
    "2. longer than 1 second but less than 10 seconds\n",
    "3. longer than 10 seconds but less than 1 minute\n",
    "4. longer than 1 minute"
   ]
  },
  {
   "cell_type": "code",
   "execution_count": 4,
   "metadata": {},
   "outputs": [
    {
     "name": "stdout",
     "output_type": "stream",
     "text": [
      "counting...\n",
      "count using list: 100 ; time: 3.9594051837921143 sec\n"
     ]
    }
   ],
   "source": [
    "# how many of small_num_list elements are in big_num_list?\n",
    "import time\n",
    "start = time.time()\n",
    "\n",
    "count = 0\n",
    "print(\"counting...\")\n",
    "for i in small_num_list:\n",
    "    if i in big_num_list:\n",
    "        count += 1\n",
    "        \n",
    "end = time.time()\n",
    "print(\"count using list:\", count, \"; time:\", end-start, \"sec\")"
   ]
  },
  {
   "cell_type": "markdown",
   "metadata": {},
   "source": [
    "**How long for the following different version?**"
   ]
  },
  {
   "cell_type": "code",
   "execution_count": 5,
   "metadata": {},
   "outputs": [
    {
     "name": "stdout",
     "output_type": "stream",
     "text": [
      "time building set:  0.21669769287109375 sec\n"
     ]
    }
   ],
   "source": [
    "# how many of small_num_list elements are in big_num_set?\n",
    "start = time.time()\n",
    "\n",
    "big_num_set = set(big_num_list) #include the time to build this\n",
    "\n",
    "end = time.time()\n",
    "print(\"time building set: \", end-start, \"sec\")"
   ]
  },
  {
   "cell_type": "code",
   "execution_count": 6,
   "metadata": {},
   "outputs": [
    {
     "name": "stdout",
     "output_type": "stream",
     "text": [
      "count using set: 100 ; time: 5.269050598144531e-05 sec\n"
     ]
    }
   ],
   "source": [
    "#small_num_list = big_num_list\n",
    "start = time.time()\n",
    "\n",
    "count = 0\n",
    "for i in small_num_list:\n",
    "    if i in big_num_set:\n",
    "        count += 1\n",
    "        \n",
    "end = time.time()\n",
    "print(\"count using set:\", count, \"; time:\", end-start, \"sec\")"
   ]
  },
  {
   "cell_type": "code",
   "execution_count": 7,
   "metadata": {},
   "outputs": [
    {
     "name": "stdout",
     "output_type": "stream",
     "text": [
      "count using set intersection: 100 ; time: 3.910064697265625e-05 sec\n"
     ]
    }
   ],
   "source": [
    "start = time.time()\n",
    "\n",
    "small_num_set = set(small_num_list)\n",
    "count_intersection = len(big_num_set.intersection(small_num_set))\n",
    "\n",
    "end = time.time()\n",
    "print(\"count using set intersection:\", count_intersection, \"; time:\", end-start, \"sec\")"
   ]
  },
  {
   "cell_type": "markdown",
   "metadata": {},
   "source": [
    "## Another Motivation -- Conceptual clarity with set operations"
   ]
  },
  {
   "cell_type": "code",
   "execution_count": null,
   "metadata": {},
   "outputs": [],
   "source": [
    "# Lists can have duplicate elements, and lists are ordered\n",
    "basket = ['apple', 'orange', 'apple', 'pear', 'orange']\n",
    "\n",
    "# Creating a set from a list results in a set without duplicate elements\n",
    "fruit1 = set(basket)\n",
    "print(fruit1)"
   ]
  },
  {
   "cell_type": "code",
   "execution_count": null,
   "metadata": {},
   "outputs": [],
   "source": [
    "# Adding a new element will change (mutate) the set...\n",
    "fruit1.add('banana')\n",
    "print(fruit1)"
   ]
  },
  {
   "cell_type": "code",
   "execution_count": null,
   "metadata": {},
   "outputs": [],
   "source": [
    "# Adding the same element again to a set doesn't change the set\n",
    "fruit1.add('apple')\n",
    "print(fruit1)"
   ]
  },
  {
   "cell_type": "markdown",
   "metadata": {},
   "source": [
    "### There are multiple ways to remove items from your set  "
   ]
  },
  {
   "cell_type": "code",
   "execution_count": null,
   "metadata": {},
   "outputs": [],
   "source": [
    "fruit1.remove('apple') # no exception if element in set\n",
    "print(fruit1)"
   ]
  },
  {
   "cell_type": "code",
   "execution_count": null,
   "metadata": {},
   "outputs": [],
   "source": [
    "fruit1.remove('grape')  # exception if element not in set\n",
    "print(fruit1)"
   ]
  },
  {
   "cell_type": "code",
   "execution_count": null,
   "metadata": {},
   "outputs": [],
   "source": [
    "fruit1.discard('grape')  #no exception if element not in set\n",
    "print(fruit1)"
   ]
  },
  {
   "cell_type": "code",
   "execution_count": null,
   "metadata": {},
   "outputs": [],
   "source": [
    "my_fruit = fruit1.pop()  #no exception if element not in set\n",
    "print(\"popped:\", my_fruit)\n",
    "print (fruit1)"
   ]
  },
  {
   "cell_type": "code",
   "execution_count": null,
   "metadata": {},
   "outputs": [],
   "source": [
    "# Sets are unordered: cannot index or slice into a set\n",
    "fruit1[0:]"
   ]
  },
  {
   "cell_type": "code",
   "execution_count": null,
   "metadata": {},
   "outputs": [],
   "source": [
    "# Can iterate over the elements in a set, in loops or comprehensions\n",
    "for elt in fruit1:\n",
    "    if 'n' in elt: \n",
    "        print(elt)\n",
    "        \n",
    "print([elt for elt in fruit1 if 'n' in elt])  #list comprehension\n",
    "print({elt for elt in fruit1 if 'n' in elt})  #set comprehension"
   ]
  },
  {
   "cell_type": "markdown",
   "metadata": {},
   "source": [
    "### Basic set operations"
   ]
  },
  {
   "cell_type": "code",
   "execution_count": null,
   "metadata": {},
   "outputs": [],
   "source": [
    "fruit1 = {'orange', 'apple', 'pear'}\n",
    "fruit2 = {'orange', 'apple', 'berry', 'grape'}\n",
    "print(\"fruit1 =\", fruit1)\n",
    "print(\"fruit2 =\", fruit2)"
   ]
  },
  {
   "cell_type": "code",
   "execution_count": null,
   "metadata": {},
   "outputs": [],
   "source": [
    "# Function Notation\n",
    "\n",
    "print(\"Intersection:\", fruit1.intersection(fruit2))\n",
    "\n",
    "print(\"Union:\", fruit1.union(fruit2))\n",
    "\n",
    "print(\"Difference, fruit1 - fruit2:\", fruit1.difference(fruit2))\n",
    "print(\"Difference, fruit2 - fruit1:\", fruit2.difference(fruit1))\n",
    "\n",
    "print(\"Symmetric Difference:\", fruit1.symmetric_difference(fruit2)) #elements in union but NOT in intersection"
   ]
  },
  {
   "cell_type": "code",
   "execution_count": null,
   "metadata": {},
   "outputs": [],
   "source": [
    "# Operator Notation\n",
    "\n",
    "#Intersection\n",
    "print(\"Intersection:\", fruit1 & fruit2)\n",
    "\n",
    "#Union\n",
    "print(\"Union:\", fruit1 | fruit2)\n",
    "\n",
    "#Difference\n",
    "print(\"Difference, fruit1 - fruit2:\", fruit1 - fruit2)\n",
    "print(\"Difference, fruit2 - fruit1:\", fruit2 - fruit1)\n",
    "\n",
    "#Symmetric Difference\n",
    "print(\"Symmetric Difference:\", fruit1 ^ fruit2)"
   ]
  },
  {
   "cell_type": "markdown",
   "metadata": {},
   "source": [
    "### Word of Caution! These operations all create new sets"
   ]
  },
  {
   "cell_type": "code",
   "execution_count": null,
   "metadata": {},
   "outputs": [],
   "source": [
    "old_fruits = {'apple', 'pear', 'melon'}\n",
    "new_fruits = {'melon', 'guava'}\n",
    "print (\"old_fruits = \", old_fruits)\n",
    "print (\"new_fruits = \", new_fruits)"
   ]
  },
  {
   "cell_type": "code",
   "execution_count": null,
   "metadata": {},
   "outputs": [],
   "source": [
    "my_fruits = old_fruits.union(new_fruits)\n",
    "print (\"my_fruits = \", my_fruits)\n",
    "print (\"old_fruits = \", old_fruits)\n",
    "print (\"new_fruits = \", new_fruits)"
   ]
  },
  {
   "cell_type": "code",
   "execution_count": null,
   "metadata": {},
   "outputs": [],
   "source": [
    "my_fruits = old_fruits.update(new_fruits) # is also the |= operator\n",
    "print (\"my_fruits = \", my_fruits)\n",
    "print (\"old_fruits = \", old_fruits)\n",
    "print (\"new_fruits = \", new_fruits)"
   ]
  },
  {
   "cell_type": "code",
   "execution_count": null,
   "metadata": {},
   "outputs": [],
   "source": [
    "start = time.time()\n",
    "\n",
    "total_set = set()\n",
    "for i in range(30000):\n",
    "    current_set = set(range(i, i+4))\n",
    "    total_set = total_set.union(current_set)\n",
    "    \n",
    "end = time.time()\n",
    "print(\"time using union: \", end-start, \"sec\")"
   ]
  },
  {
   "cell_type": "code",
   "execution_count": null,
   "metadata": {},
   "outputs": [],
   "source": [
    "start = time.time()\n",
    "\n",
    "total_set = set()\n",
    "for i in range(30000):\n",
    "    current_set = set(range(i, i+4))\n",
    "    total_set.update(current_set)\n",
    "    \n",
    "end = time.time()\n",
    "print(\"time using update: \", end-start, \"sec\")"
   ]
  },
  {
   "cell_type": "markdown",
   "metadata": {},
   "source": [
    "## What kind of objects can be in a set?\n",
    "The elements of sets must be hashable objects. Python's primitive immutable data types are all hashable -- e.g., strings, numbers, booleans, `None`. The \"values\" associated with these types are unique and thus instances of these types can serve as unique members in a set. In contrast, Python's built-in list type is mutable: the \"value\" of a list instance or object (e.g., `[1, 2]`) can mutate and thus change, so lists are deemed not hashable -- a persistent hash computed on the \"value\" of the list might change if the list mutates -- and thus lists *cannot* be members of sets. \n",
    "\n",
    "Tuples are an interesting case -- they can be members of sets *if* the elements of the tuple are themselves (recursively) hashable. Thus `(1, \"foo\")` can be in a set (it's \"value\" will never change). But the tuple `(1, [2])` has a second element that could be mutated, and thus this tuple is not hashable and cannot be in a set.\n",
    "By this reasoning, sets themselves cannot be members of sets! (See frozensets if you're interested in an immutable/hashable variant of sets, that *can* be elements of a set.) \n",
    "\n",
    "The hashable restriction is what makes it possible to determine whether an element is in a set using constant time with respect to the size of the set; i.e., one does not need to iterate over all elements of a set to determine whether that element is in the set. (See 6.006 for more details on how this hashing works.)\n",
    "\n",
    "For those interested: instances of user-defined classes are hashable by default. But the user can control or change the hashable nature of their class, depending on including `__eq__` and `__hash__` methods in their class definition. Read more about that in the Python documentation if you're interested in that advanced concept."
   ]
  },
  {
   "cell_type": "markdown",
   "metadata": {},
   "source": [
    "# Example: Is the number met before\n",
    "This section takes advantage of sets to solve a simple problem. Here we input a list of integers, your job is to return a list of Booleans which gives True if the number is met earlier in the input list and False if not:"
   ]
  },
  {
   "cell_type": "code",
   "execution_count": null,
   "metadata": {},
   "outputs": [],
   "source": [
    "data = [7, 4, 7, 3]\n",
    "#expected output: result = [False, False, True, False]"
   ]
  },
  {
   "cell_type": "markdown",
   "metadata": {},
   "source": [
    "**Approach:** use a set to store the numbers that we met before, and determine whether the next integer is met or not via the membership testing of set which takes constant time. "
   ]
  },
  {
   "cell_type": "code",
   "execution_count": null,
   "metadata": {},
   "outputs": [],
   "source": [
    "met = set() #Create an empty set\n",
    "result = [False]*len(data) #Initialize a list with the same length of data\n",
    "for index, number in enumerate(data):\n",
    "    if number in met:\n",
    "        result[index] = True #Indicate that the number has been met before\n",
    "    else:\n",
    "        met.add(number) #If not, add it to the set of previously met elements\n",
    "print(\"data:\", data)\n",
    "print(\"result:\", result)\n",
    "print(\"met:\", met)"
   ]
  },
  {
   "cell_type": "markdown",
   "metadata": {},
   "source": [
    "**Side note and Caution!** In the above, something like `[False]*3` would create the list `[False, False, False]`. Since `False` is immutable, everything is good and no confusion arises when we later change individual elements of the `result` list. But let's say we wanted a list of length 3, but with each element being its own empty list to which we'll add elements. Using `x = [[]]*3` creates a list that prints as `[[], [], []]` so might look good. But each of the elements are the **same** empty list! Thus `x[0].append(1)` results in `x` printings as `[[1], [1], [1]]`, and is a **very common aliasing bug**. You are much better off with a different approach to create a deeper data structure, e.g., using a list comprehension that ensures that each element of the list is it's own instance, such as `x = [[] for _ in range(3)]`."
   ]
  },
  {
   "cell_type": "code",
   "execution_count": 8,
   "metadata": {},
   "outputs": [
    {
     "name": "stdout",
     "output_type": "stream",
     "text": [
      "x: [[], [], []]\n",
      "x now: [[1], [1], [1]] -- aliased!\n",
      "\n",
      "y: [[], [], []]\n",
      "y now: [[1], [], []] -- not aliased\n"
     ]
    }
   ],
   "source": [
    "x = [[]]*3\n",
    "print(\"x:\", x)\n",
    "x[0].append(1)\n",
    "print(\"x now:\", x, \"-- aliased!\\n\")\n",
    "\n",
    "y = [[] for _ in range(3)]\n",
    "print(\"y:\", y)\n",
    "y[0].append(1)\n",
    "print(\"y now:\", y, \"-- not aliased\")"
   ]
  },
  {
   "cell_type": "markdown",
   "metadata": {},
   "source": [
    "**Alternative \"is number met before\":** different implementations to our goal or problem above are possible, and might have different efficiencies. For example, we could create the result list one item at a time, but using repeated appends:"
   ]
  },
  {
   "cell_type": "code",
   "execution_count": null,
   "metadata": {},
   "outputs": [],
   "source": [
    "met = set()\n",
    "result = []\n",
    "for index, number in enumerate(data):\n",
    "    if number in met:\n",
    "        result.append(True)\n",
    "    else:\n",
    "        met.add(number) #If not, add it to the set of previously met elements\n",
    "        result.append(False)\n",
    "print(\"data:\", data)\n",
    "print(\"result:\", result)\n",
    "print(\"met:\", met)"
   ]
  },
  {
   "cell_type": "code",
   "execution_count": null,
   "metadata": {
    "scrolled": true
   },
   "outputs": [],
   "source": [
    "#Even more (probably TOO) pythonic; many frown upon mutating inside a comprehension\n",
    "met = set()\n",
    "result = [True if val in met else (False, met.add(val))[0] for val in data]\n",
    "print(\"data:\", data)\n",
    "print(\"result:\", result)\n",
    "print(\"met:\", met)"
   ]
  }
 ],
 "metadata": {
  "anaconda-cloud": {},
  "kernelspec": {
   "display_name": "Python 3",
   "language": "python",
   "name": "python3"
  },
  "language_info": {
   "codemirror_mode": {
    "name": "ipython",
    "version": 3
   },
   "file_extension": ".py",
   "mimetype": "text/x-python",
   "name": "python",
   "nbconvert_exporter": "python",
   "pygments_lexer": "ipython3",
   "version": "3.10.12"
  }
 },
 "nbformat": 4,
 "nbformat_minor": 1
}
