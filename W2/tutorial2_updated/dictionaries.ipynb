{
 "cells": [
  {
   "cell_type": "markdown",
   "metadata": {
    "collapsed": true
   },
   "source": [
    "# Dictionaries\n",
    "Dictionaries are like sets, except that the \"elements\" of the dictionary are treated as keys, and a value is associated with that key. As in sets, the keys to dictionaries must be hashable objects. However, the values associated with the key can be anything, and can be mutable. In addition, the association between key and value can also be changed."
   ]
  },
  {
   "cell_type": "code",
   "execution_count": null,
   "metadata": {},
   "outputs": [],
   "source": [
    "# initialize sets\n",
    "obj1 = set()\n",
    "obj2 = {'hi'}\n",
    "\n",
    "# initialize dictionaries\n",
    "obj3 = {}\n",
    "obj4 = dict()\n",
    "obj5 = {'hi': 'hello'}\n",
    "\n",
    "print ('type of obj1 = ', type(obj1))\n",
    "print ('type of obj2 = ', type(obj2))\n",
    "print ('type of obj3 = ', type(obj3))\n",
    "print ('type of obj4 = ', type(obj4))\n",
    "print ('type of obj5 = ', type(obj5))"
   ]
  },
  {
   "cell_type": "code",
   "execution_count": null,
   "metadata": {},
   "outputs": [],
   "source": [
    "fruits = {}\n",
    "fruits['apple'] = 4\n",
    "fruits['pear'] = 6\n",
    "fruits['orange'] = 4\n",
    "print(fruits)"
   ]
  },
  {
   "cell_type": "code",
   "execution_count": null,
   "metadata": {},
   "outputs": [],
   "source": [
    "fruits = {}\n",
    "fruits['apple'] = [4, 5.5, 3]\n",
    "fruits[\"pear\"] = [6, 6.5, 7]\n",
    "print(fruits)"
   ]
  },
  {
   "cell_type": "code",
   "execution_count": null,
   "metadata": {},
   "outputs": [],
   "source": [
    "#Is key in a dictionary? Can use 'in' syntax.\n",
    "if 'pear' in fruits:\n",
    "    print ('They have pears!')\n",
    "    \n",
    "if 'orange' not in fruits:\n",
    "    print (\"They don't have oranges!\")"
   ]
  },
  {
   "cell_type": "code",
   "execution_count": null,
   "metadata": {},
   "outputs": [],
   "source": [
    "fruits['orange'] = [5.4, 4.3, 5.5]\n",
    "print(\"fruits:\", fruits)"
   ]
  },
  {
   "cell_type": "code",
   "execution_count": null,
   "metadata": {},
   "outputs": [],
   "source": [
    "# Iterate over keys in a dictionary. Any order can occur!\n",
    "for key in fruits:\n",
    "    print(\"key:\", key, \"\\tval:\", fruits[key])"
   ]
  },
  {
   "cell_type": "code",
   "execution_count": null,
   "metadata": {},
   "outputs": [],
   "source": [
    "# Also, can iterate over key, val items in a dictionary. Any order can occur!\n",
    "for key, val in fruits.items():\n",
    "    print(\"key:\", key, \"\\tval:\", val)"
   ]
  },
  {
   "cell_type": "code",
   "execution_count": null,
   "metadata": {},
   "outputs": [],
   "source": [
    "print (\"keys = \\t\\t\", list(fruits.keys()))\n",
    "print (\"values = \\t\", list(fruits.values()))"
   ]
  },
  {
   "cell_type": "code",
   "execution_count": null,
   "metadata": {},
   "outputs": [],
   "source": [
    "# Remove element from a dictionary\n",
    "del fruits['pear']  #Exception if key is not in dictionary\n",
    "print(\"fruits:\", fruits)"
   ]
  },
  {
   "cell_type": "code",
   "execution_count": null,
   "metadata": {},
   "outputs": [],
   "source": [
    "# Dictionary comprehensions also possible\n",
    "{n: n**3 for n in range(8)}"
   ]
  },
  {
   "cell_type": "code",
   "execution_count": null,
   "metadata": {},
   "outputs": [],
   "source": [
    "my_fruits = {'pear': 4, 'apple': 5, 'orange': 3}\n",
    "new_fruits = {'grape': 4, 'lemon': 8}\n",
    "print (\"my_fruits =\\t\", my_fruits)\n",
    "print (\"new_fruits =\\t\", new_fruits)"
   ]
  },
  {
   "cell_type": "code",
   "execution_count": null,
   "metadata": {},
   "outputs": [],
   "source": [
    "my_fruits.update(new_fruits)\n",
    "print (\"my_fruits =\\t\", my_fruits)"
   ]
  },
  {
   "cell_type": "code",
   "execution_count": null,
   "metadata": {},
   "outputs": [],
   "source": [
    "my_fruits = {'pear': 4, 'apple': 5, 'orange': 3}\n",
    "new_fruits = {'apple': 8}\n",
    "print (\"my_fruits = \\t\", my_fruits)\n",
    "print (\"new_fruits = \\t\", new_fruits)"
   ]
  },
  {
   "cell_type": "code",
   "execution_count": null,
   "metadata": {},
   "outputs": [],
   "source": [
    "my_fruits.update(new_fruits)\n",
    "print (\"my_fruits =\\t\", my_fruits)"
   ]
  },
  {
   "cell_type": "code",
   "execution_count": null,
   "metadata": {},
   "outputs": [],
   "source": [
    "fruits = {}\n",
    "fruits['apple'] = [4, 5.5, 3]\n",
    "fruits[\"pear\"] = [6, 6.5, 7]\n",
    "print(fruits)"
   ]
  },
  {
   "cell_type": "code",
   "execution_count": null,
   "metadata": {},
   "outputs": [],
   "source": [
    "def add_fruit_price(fruit, price):\n",
    "#     fruits.setdefault(fruit, []).append(price)\n",
    "    if fruit in fruits:\n",
    "        fruits[fruit].append(price)\n",
    "    else:\n",
    "        fruits[fruit] = [price]"
   ]
  },
  {
   "cell_type": "code",
   "execution_count": null,
   "metadata": {},
   "outputs": [],
   "source": [
    "add_fruit_price('guava', 8)\n",
    "print (fruits)"
   ]
  }
 ],
 "metadata": {
  "kernelspec": {
   "display_name": "Python 3",
   "language": "python",
   "name": "python3"
  },
  "language_info": {
   "codemirror_mode": {
    "name": "ipython",
    "version": 3
   },
   "file_extension": ".py",
   "mimetype": "text/x-python",
   "name": "python",
   "nbconvert_exporter": "python",
   "pygments_lexer": "ipython3",
   "version": "3.6.7"
  }
 },
 "nbformat": 4,
 "nbformat_minor": 2
}
