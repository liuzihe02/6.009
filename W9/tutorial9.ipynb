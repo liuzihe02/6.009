{
 "cells": [
  {
   "cell_type": "markdown",
   "metadata": {
    "collapsed": true
   },
   "source": [
    "# Choosing How to Representing Data"
   ]
  },
  {
   "cell_type": "markdown",
   "metadata": {},
   "source": [
    "_Today we'll revisit how redundant storage of data can improve the efficiency of particular queries. We'll introduce a technique to ensure consistency among the redundant data. We'll then take advantage of our repetitive data to eliminate the need for some storage._"
   ]
  },
  {
   "cell_type": "markdown",
   "metadata": {},
   "source": [
    "## A Meeting Calendar\n"
   ]
  },
  {
   "cell_type": "markdown",
   "metadata": {},
   "source": [
    "The data we'll be working with is a calendar of meetings. Meetings have a title, a date, and a set of invited people. Our users want to add meetings to their calendar with an add_meeting function. Let's keep a dictionary keyed by the meeting dates, so that we can query for the meetings on a particular day."
   ]
  },
  {
   "cell_type": "code",
   "execution_count": 1,
   "metadata": {
    "collapsed": true
   },
   "outputs": [],
   "source": [
    "class Meeting():\n",
    "    def __init__(self, title, date, invitees):\n",
    "        self.title = title\n",
    "        self.date = date\n",
    "        self.invitees = invitees \n",
    "        \n",
    "        # store the other dates on which this meeting occurs\n",
    "        self.recurrences = set() \n",
    "            \n",
    "    ########### ignore this method ###########\n",
    "    def pprint(self, num_people_to_show=5):\n",
    "        invitees = \"\"\n",
    "        personi = 0\n",
    "        for person in self.invitees:\n",
    "            if personi <= num_people_to_show:\n",
    "                invitees = invitees + person + \", \"\n",
    "                personi = personi + 1\n",
    "            else:\n",
    "                invitees = invitees[:-2] + \".....\"\n",
    "                break\n",
    "        result = f\"{self.title} with {invitees[:-2]}\"\n",
    "        \n",
    "        # add recurrences to printout\n",
    "        if len(self.recurrences) != 0 : \n",
    "            recurrs = \"; recurring on \"\n",
    "            for date in self.recurrences:\n",
    "                recurrs = recurrs + date + \", \"\n",
    "            recurrs = recurrs[:-2]\n",
    "            result = result + recurrs\n",
    "        \n",
    "        print(result)\n",
    "        \n",
    "        \n",
    "class Calendar():\n",
    "    def __init__(self):\n",
    "        self.dates = {}\n",
    "        self.people = {}\n",
    "        \n",
    "        self._checkRep()\n",
    "\n",
    "    def _isrecurring(self, new_meeting):\n",
    "        \"\"\"Checks whether this meeting already\n",
    "        exists with the same title and invitees.\n",
    "        \"\"\"\n",
    "        \n",
    "        for meetings in self.dates.values():\n",
    "            for meeting in meetings:\n",
    "                if meeting.title == new_meeting.title and \\\n",
    "                    meeting.invitees == new_meeting.invitees:\n",
    "                        return meeting\n",
    "        return False\n",
    "        \n",
    "    def add_meeting(self, meeting):\n",
    "        \n",
    "        recurring_meeting = self._isrecurring(meeting)\n",
    "            \n",
    "        if not recurring_meeting: \n",
    "            # Implementation before support for recurring meetings:\n",
    "            if not meeting.date in self.dates:\n",
    "                self.dates[meeting.date] = [meeting]\n",
    "            else: \n",
    "                self.dates[meeting.date].append(meeting)\n",
    "\n",
    "            for invitee in meeting.invitees:\n",
    "                if not invitee in self.people:\n",
    "                    self.people[invitee] = [meeting]\n",
    "                else: \n",
    "                    self.people[invitee].append(meeting)  \n",
    "        else:\n",
    "            # the recurring case\n",
    "            recurring_meeting.recurrences.add(meeting.date)             \n",
    "            \n",
    "        # uncomment this line and our checkRep breaks---this meeting is only added to the people dictionary:\n",
    "        # self.people[\"Adam\"].append(Meeting(\"Meeting I forgot about!\", \"04-04-19\", {\"Adam\"}))\n",
    "\n",
    "        self._checkRep()\n",
    "\n",
    "    def get_persons_meetings(self, person):\n",
    "        if person in self.people:\n",
    "            return self.people[person]\n",
    "        else:\n",
    "            raise LookupError(\"This person has no meetings.\")\n",
    "            \n",
    "        # First solution with looping needed, when we didn't store the people dictionary:\n",
    "        # results = []\n",
    "        # for meetings in self.dates.values():\n",
    "        #     for meeting in meetings:\n",
    "        #         if person in meeting.invitees:\n",
    "        #             results.append(meeting)\n",
    "        # return results\n",
    "\n",
    "\n",
    "    def _checkRep(self):\n",
    "        \"\"\"Ensures that the internal representations of the meeting data\n",
    "        are consistent; checks that all meetings in the people dictionary\n",
    "        are also in the date dictionary, and vice versa. If not, raises \n",
    "        an AssertionError. \"\"\"\n",
    "        \n",
    "        for dated_meetings in self.dates.values():\n",
    "            for meeting in dated_meetings:\n",
    "                for person in meeting.invitees:\n",
    "                    assert meeting in self.people[person]\n",
    "                \n",
    "        for personed_meetings in self.people.values():\n",
    "            for meeting in personed_meetings:\n",
    "                assert meeting in self.dates[meeting.date]\n",
    "                \n",
    "\n",
    "    ############## ignore this method ##############\n",
    "    def pprint(self):\n",
    "        for date, meetings in self.dates.items():\n",
    "            print(date + \": \") \n",
    "            for meeting in meetings:\n",
    "                meeting.pprint()\n",
    "            print()\n",
    "        self._checkRep()"
   ]
  },
  {
   "cell_type": "markdown",
   "metadata": {},
   "source": [
    "## Add a Bunch of Meetings"
   ]
  },
  {
   "cell_type": "markdown",
   "metadata": {},
   "source": [
    "Let's practice adding meetings to our calendar."
   ]
  },
  {
   "cell_type": "code",
   "execution_count": 2,
   "metadata": {
    "collapsed": true
   },
   "outputs": [],
   "source": [
    "calendar = Calendar()"
   ]
  },
  {
   "cell_type": "code",
   "execution_count": 3,
   "metadata": {
    "collapsed": true
   },
   "outputs": [],
   "source": [
    "meeting_to_add = Meeting(\"Lecture 9\", \"04-01-19\", {\"Srini\"})\n",
    "calendar.add_meeting(meeting_to_add)"
   ]
  },
  {
   "cell_type": "code",
   "execution_count": 4,
   "metadata": {},
   "outputs": [
    {
     "name": "stdout",
     "output_type": "stream",
     "text": [
      "04-01-19: \n",
      "Lecture 9 with Srini\n",
      "\n"
     ]
    }
   ],
   "source": [
    "calendar.pprint()"
   ]
  },
  {
   "cell_type": "markdown",
   "metadata": {},
   "source": [
    "Let's add a bunch more. (Don't get caught up in these details--lots of code just to add fun example meetings...)"
   ]
  },
  {
   "cell_type": "code",
   "execution_count": 5,
   "metadata": {
    "collapsed": true
   },
   "outputs": [],
   "source": [
    "instructors = {\"Adam\", \"Srini\"}\n",
    "tas = {\"Maryam\", \"Aron\", \"Jeff\", \"Zack\", \"Zach\", \"Oscar\", \"Elijah\", \"Kentaro\", \"Kevin\", \n",
    "            \"Yanni\", \"Heather\", \"Cavin\", \"Joseph\", \"Rami\", \"Valerie\", \"Subby\", \"Jisoo\"}\n",
    "\n",
    "tutorial_team = {\"Valerie\", \"Kevin\"}\n",
    "mon_staff = {\"Yanni\", \"Cavin\", \"Kentaro\", \"Subby\"}\n",
    "tues_staff = {\"Subby\", \"Jisoo\", \"Valerie\", \"Kevin\"}"
   ]
  },
  {
   "cell_type": "code",
   "execution_count": 6,
   "metadata": {
    "collapsed": true
   },
   "outputs": [],
   "source": [
    "calendar.add_meeting(Meeting(\"Tutorial Prep\", \"04-01-19\", tutorial_team | instructors))\n",
    "calendar.add_meeting(Meeting(\"Tutorial\", \"04-03-19\", tutorial_team))\n",
    "\n",
    "calendar.add_meeting(Meeting(\"Quiz Planning\", \"04-05-19\", instructors))\n",
    "calendar.add_meeting(Meeting(\"Staff Meeting\", \"04-08-19\", tas | instructors))\n",
    "\n",
    "calendar.add_meeting(Meeting(\"Monday OHs\", \"04-08-19\", mon_staff))\n",
    "calendar.add_meeting(Meeting(\"Tuesday OHs\", \"04-09-19\", tues_staff))\n",
    "calendar.add_meeting(Meeting(\"Monday OHs\", \"04-15-19\", mon_staff))\n",
    "calendar.add_meeting(Meeting(\"Tuesday OHs\", \"04-16-19\", tues_staff))\n",
    "calendar.add_meeting(Meeting(\"Monday OHs\", \"04-22-19\", mon_staff))\n",
    "calendar.add_meeting(Meeting(\"Tuesday OHs\", \"04-23-19\", tues_staff))\n",
    "calendar.add_meeting(Meeting(\"Monday OHs\", \"04-29-19\", mon_staff))\n",
    "calendar.add_meeting(Meeting(\"Tuesday OHs\", \"04-30-19\", tues_staff))\n"
   ]
  },
  {
   "cell_type": "code",
   "execution_count": 11,
   "metadata": {},
   "outputs": [
    {
     "name": "stdout",
     "output_type": "stream",
     "text": [
      "04-01-19: \n",
      "Lecture 9 with Srini\n",
      "Tutorial Prep with Kevin, Adam, Valerie, Srini\n",
      "\n",
      "04-03-19: \n",
      "Tutorial with Kevin, Valerie\n",
      "\n",
      "04-05-19: \n",
      "Quiz Planning with Adam, Srini\n",
      "\n",
      "04-08-19: \n",
      "Staff Meeting with Oscar, Maryam, Heather, Zack, Kentaro, Rami...\n",
      "Monday OHs with Subby, Yanni, Kentaro, Cavin; recurring on 04-15-19, 04-29-19, 04-22-19\n",
      "\n",
      "04-09-19: \n",
      "Tuesday OHs with Kevin, Subby, Valerie, Jisoo; recurring on 04-30-19, 04-16-19, 04-23-19\n",
      "\n"
     ]
    }
   ],
   "source": [
    "calendar.pprint()"
   ]
  },
  {
   "cell_type": "markdown",
   "metadata": {},
   "source": [
    "## Adam wants to know his Schedule"
   ]
  },
  {
   "cell_type": "code",
   "execution_count": 9,
   "metadata": {},
   "outputs": [
    {
     "name": "stdout",
     "output_type": "stream",
     "text": [
      "Tutorial Prep with Kevin, Adam, Valerie, Srini\n",
      "Quiz Planning with Adam, Srini\n",
      "Staff Meeting with Oscar, Maryam, Heather, Zack, Kentaro, Rami...\n"
     ]
    }
   ],
   "source": [
    "adams_meetings = calendar.get_persons_meetings(\"Adam\")\n",
    "\n",
    "for mtg in adams_meetings:\n",
    "    mtg.pprint()"
   ]
  },
  {
   "cell_type": "markdown",
   "metadata": {},
   "source": [
    "Check out the original get_persons_meetings solution. There's a lot of looping! On large calendars in which any individual is invited to only a small subset of meetings, this is very inefficient. Let's trade memory use for greater performance on these queries by also storing another dictionary, keyed by people. "
   ]
  },
  {
   "cell_type": "markdown",
   "metadata": {},
   "source": [
    "Now check out the one-line solution to get_persons_meetings, after implementing support for the people dictionaries! The dictionary access is almost instant. You might ask whether we just moved the inefficiency to the addMeeting function, though. Not necessarily, since addMeeting occurs just once for each meeting, but we may query for a particular person's meetings many times! This echoes the value of preprocessing which we've seen throughout the class. "
   ]
  },
  {
   "cell_type": "code",
   "execution_count": 10,
   "metadata": {},
   "outputs": [
    {
     "name": "stdout",
     "output_type": "stream",
     "text": [
      "Tutorial Prep with Kevin, Adam, Valerie, Srini\n",
      "Quiz Planning with Adam, Srini\n",
      "Staff Meeting with Oscar, Maryam, Heather, Zack, Kentaro, Rami...\n"
     ]
    }
   ],
   "source": [
    "adams_meetings = calendar.get_persons_meetings(\"Adam\")\n",
    "\n",
    "for mtg in adams_meetings:\n",
    "    mtg.pprint()"
   ]
  },
  {
   "cell_type": "markdown",
   "metadata": {},
   "source": [
    "Now we can tell Adam his meetings much more quickly!"
   ]
  },
  {
   "cell_type": "markdown",
   "metadata": {},
   "source": [
    "## Ensuring Consistency"
   ]
  },
  {
   "cell_type": "markdown",
   "metadata": {},
   "source": [
    "We now have two different representations of our meetings. How can we make sure that they remain internally consistent? Let's make a function to check the representation, checkRep. "
   ]
  },
  {
   "cell_type": "markdown",
   "metadata": {},
   "source": [
    "Note the use of the underscore at the beginning of the method name. This is a python convention for functions which aren't meant to be accessed outside of the class. We don't expect clients making Calendars to need to check their internal representation, so we keep this method private to the implementers."
   ]
  },
  {
   "cell_type": "markdown",
   "metadata": {},
   "source": [
    "Try breaking the consistency between the two internal data structures yourself, and see that checkRep raises an error. (Try uncommenting the line in addMeeting, for example.)"
   ]
  },
  {
   "cell_type": "markdown",
   "metadata": {},
   "source": [
    "_Our implementation of checkRep, of course, is quite inefficient. Perhaps we'd nix it after testing our Calendar, in favor of efficiency._"
   ]
  },
  {
   "cell_type": "markdown",
   "metadata": {},
   "source": [
    "## Reducing Redundancy\n",
    "\n",
    "So far, we decided to introduced lots of redundancy by storing meetings twice: once keyed by the dates, and once keyed by the invitee. We ensured that these two representations were consistent using a checkRep function. Now, let's try to win back a bit of storage space by not storing redundant recurring meeting information."
   ]
  },
  {
   "cell_type": "markdown",
   "metadata": {},
   "source": [
    "We could just add a method like add_recurring_meeting, but we already have Calendar users depending on the addMeeting function which we gave them in our specifications! So, within add_meeting, let's detect whether the meeting is a repeat."
   ]
  },
  {
   "cell_type": "markdown",
   "metadata": {},
   "source": [
    "Check out the new add_meeting function. In return for some implementation complexity, we now just store a set of the recurring dates of a meeting rather than the entire repeated Meeting objects!"
   ]
  },
  {
   "cell_type": "markdown",
   "metadata": {},
   "source": [
    "## The Takeaways!\n",
    "\n",
    "- Redundant storage can sometimes improve performance\n",
    "- Redundant storage introduces the risk of internal inconsistency and weird behavior\n",
    "    - One solution is to use a checkRep function to fail fast whenever inconsistencies arise\n",
    "- Sometimes data has inherent redundancies which can be exploited to reduce storage space\n",
    "    - Here, we saw this was a tradeoff with implementation complexity\n",
    "    \n",
    "You'll see these ideas in lab 6 and beyond!"
   ]
  }
 ],
 "metadata": {
  "kernelspec": {
   "display_name": "Python 3",
   "language": "python",
   "name": "python3"
  },
  "language_info": {
   "codemirror_mode": {
    "name": "ipython",
    "version": 3
   },
   "file_extension": ".py",
   "mimetype": "text/x-python",
   "name": "python",
   "nbconvert_exporter": "python",
   "pygments_lexer": "ipython3",
   "version": "3.10.12"
  }
 },
 "nbformat": 4,
 "nbformat_minor": 2
}
