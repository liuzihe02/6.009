{
 "cells": [
  {
   "cell_type": "markdown",
   "metadata": {},
   "source": [
    "# Symbolic Derivatives of Normal Python Functions\n",
    "\n",
    "Consider this innocuous-looking integer-to-integer function."
   ]
  },
  {
   "cell_type": "code",
   "execution_count": 15,
   "metadata": {},
   "outputs": [],
   "source": [
    "def f(x):\n",
    "    return x * 2 + x * x"
   ]
  },
  {
   "cell_type": "markdown",
   "metadata": {},
   "source": [
    "Recall some of the basic rules for computing derivatives from calculus.  (Or, if you've never seen them before, no need to worry, because we will just apply these rules mechanically!)  We explain how to transform each kind of expression into an expression for the derivative with respect to `x`.\n",
    "\n",
    "`D[x] = 1`\n",
    "\n",
    "`D[k] = 0`, for `k` a constant\n",
    "\n",
    "`D[e1 + e2] = D[e1] + D[e2]`\n",
    "\n",
    "`D[e1 * e2] = D[e1]*e2 + e1*D[e2]`\n",
    "\n",
    "How can we apply these rules automatically to Python functions like the above, to compute their derivatives in *symbolic* form that we can print for easy inspection?  It's not as easy as it sounds!\n",
    "\n",
    "However, Python's *magic methods* will provide a solution!\n",
    "\n",
    "Here's us cutting right to the solution, which we develop incrementally in lecture.  The basic idea is to develop a library of classes, standing for different kinds of arithmetic expressions over one variable `x`.  Afterward, we show how to use these classes for easy calculation of symbolic derivatives of normal Python functions."
   ]
  },
  {
   "cell_type": "code",
   "execution_count": 16,
   "metadata": {},
   "outputs": [],
   "source": [
    "# First, we define a base class for expressions.\n",
    "# That is, any expression will provide these methods with these bodies.\n",
    "class Expr:\n",
    "    # Magic method #1: an __add__ method explains how to handle use of the '+' operator\n",
    "    # when the *first* operand belongs to this class, thereby being passed in as self.\n",
    "    # The other operand is passed as the second argument.\n",
    "    def __add__(self, e):\n",
    "        # If we detect the second argument is a number, replace it with an instance of\n",
    "        # our class for constants, so that both operands can be Exprs.\n",
    "        if isinstance(e, int):\n",
    "            e = Const(e)\n",
    "\n",
    "        # Now return an instance of our class for additions.\n",
    "        return Plus(self, e)\n",
    "    \n",
    "    # Everything is symmetrical for multiplication.\n",
    "    def __mul__(self, e):\n",
    "        if isinstance(e, int):\n",
    "            e = Const(e)\n",
    "\n",
    "        return Times(self, e)\n",
    "\n",
    "# Our class for constants, which *inherits* from Expr\n",
    "class Const(Expr):\n",
    "    def __init__(self, num):\n",
    "        self.num = num\n",
    "    \n",
    "    # Another magic method: we dictate what it means to call an expression like a function!\n",
    "    # What do we say it means?  It's just evaluating the expression on a particular x value.\n",
    "    def __call__(self, x):\n",
    "        return self.num\n",
    "    \n",
    "    # We also provide easy symbolic construction of derivatives,\n",
    "    # following the rules quoted above.\n",
    "    def derivative(self):\n",
    "        return Const(0)\n",
    "    \n",
    "    # It is handy to return a version of an expression that may have been simplified algebraically.\n",
    "    # However, no simplifications apply to constants in isolation.\n",
    "    def simplify(self):\n",
    "        return self\n",
    "    \n",
    "    # This magic method is for generating the string that appears when we print an object.\n",
    "    def __repr__(self):\n",
    "        return str(self.num)\n",
    "\n",
    "# The variable x\n",
    "class Var(Expr):\n",
    "    def __call__(self, x):\n",
    "        return x\n",
    "    \n",
    "    def derivative(self):\n",
    "        return Const(1)\n",
    "    \n",
    "    def simplify(self):\n",
    "        return self\n",
    "    \n",
    "    def __repr__(self):\n",
    "        return \"x\"\n",
    "\n",
    "# Addition\n",
    "class Plus(Expr):\n",
    "    def __init__(self, e1, e2):\n",
    "        self.e1 = e1\n",
    "        self.e2 = e2\n",
    "    \n",
    "    def __call__(self, x):\n",
    "        return self.e1(x) + self.e2(x)\n",
    "    \n",
    "    def derivative(self):\n",
    "        return self.e1.derivative() + self.e2.derivative()\n",
    "    \n",
    "    def simplify(self):\n",
    "        e1 = self.e1.simplify()\n",
    "        e2 = self.e2.simplify()\n",
    "        \n",
    "        if isinstance(e1, Const) and e1.num == 0:\n",
    "            # Applies the law: 0 + y = y\n",
    "            return e2\n",
    "        elif isinstance(e2, Const) and e2.num == 0:\n",
    "            # y + 0 = y\n",
    "            return e1\n",
    "        elif isinstance(e1, Const) and isinstance(e2, Const):\n",
    "            # This case just pushes addition inside the Const class.\n",
    "            return Const(e1.num + e2.num)\n",
    "        else:\n",
    "            return e1 + e2\n",
    "    \n",
    "    def __repr__(self):\n",
    "        return \"(\" + self.e1.__repr__() + \" + \" + self.e2.__repr__() + \")\"\n",
    "\n",
    "class Times(Expr):\n",
    "    def __init__(self, e1, e2):\n",
    "        self.e1 = e1\n",
    "        self.e2 = e2\n",
    "    \n",
    "    def __call__(self, x):\n",
    "        return self.e1(x) * self.e2(x)\n",
    "    \n",
    "    def derivative(self):\n",
    "        return self.e1.derivative() * self.e2 + self.e1 * self.e2.derivative()\n",
    "    \n",
    "    def simplify(self):\n",
    "        e1 = self.e1.simplify()\n",
    "        e2 = self.e2.simplify()\n",
    "        \n",
    "        if isinstance(e1, Const) and e1.num == 1:\n",
    "            # 1 * y = y\n",
    "            return e2\n",
    "        elif isinstance(e2, Const) and e2.num == 1:\n",
    "            # y * 1 = 1\n",
    "            return e1\n",
    "        elif isinstance(e1, Const) and e1.num == 0:\n",
    "            # 0 * y = 0\n",
    "            return Const(0)\n",
    "        elif isinstance(e2, Const) and e2.num == 0:\n",
    "            # y * 0 = 0\n",
    "            return Const(0)\n",
    "        elif isinstance(e1, Const) and isinstance(e2, Const):\n",
    "            # Push multiplication inside the Const class.\n",
    "            return Const(e1.num * e2.num)\n",
    "        else:\n",
    "            return e1 * e2\n",
    "    \n",
    "    def __repr__(self):\n",
    "        return \"(\" + self.e1.__repr__() + \" * \" + self.e2.__repr__() + \")\""
   ]
  },
  {
   "cell_type": "markdown",
   "metadata": {},
   "source": [
    "We can pretty easily build syntax trees and evaluate them on `x` values."
   ]
  },
  {
   "cell_type": "code",
   "execution_count": 17,
   "metadata": {},
   "outputs": [
    {
     "data": {
      "text/plain": [
       "15"
      ]
     },
     "execution_count": 17,
     "metadata": {},
     "output_type": "execute_result"
    }
   ],
   "source": [
    "e = Plus(Times(Var(), Const(2)), Times(Var(), Var()))\n",
    "e(3)"
   ]
  },
  {
   "cell_type": "markdown",
   "metadata": {},
   "source": [
    "However, using the overloaded addition and multiplication operators we defined within `Expr`, we can write an even more satisfying syntax."
   ]
  },
  {
   "cell_type": "code",
   "execution_count": 18,
   "metadata": {},
   "outputs": [
    {
     "data": {
      "text/plain": [
       "15"
      ]
     },
     "execution_count": 18,
     "metadata": {},
     "output_type": "execute_result"
    }
   ],
   "source": [
    "e = Var() * 2 + Var() * Var()\n",
    "e(3)"
   ]
  },
  {
   "cell_type": "markdown",
   "metadata": {},
   "source": [
    "Computing derivates is easy, and the output is even nice-looking thanks to our `__repr__` methods."
   ]
  },
  {
   "cell_type": "code",
   "execution_count": 19,
   "metadata": {},
   "outputs": [
    {
     "data": {
      "text/plain": [
       "(((1 * 2) + (x * 0)) + ((1 * x) + (x * 1)))"
      ]
     },
     "execution_count": 19,
     "metadata": {},
     "output_type": "execute_result"
    }
   ],
   "source": [
    "e.derivative()"
   ]
  },
  {
   "cell_type": "markdown",
   "metadata": {},
   "source": [
    "However, we might want to simplify the derivative before printing it."
   ]
  },
  {
   "cell_type": "code",
   "execution_count": 20,
   "metadata": {},
   "outputs": [
    {
     "data": {
      "text/plain": [
       "(2 + (x + x))"
      ]
     },
     "execution_count": 20,
     "metadata": {},
     "output_type": "execute_result"
    }
   ],
   "source": [
    "e.derivative().simplify()"
   ]
  },
  {
   "cell_type": "markdown",
   "metadata": {},
   "source": [
    "Back to our original puzzle: how do we compute symbolic derivatives of normal Python functions like `f` defined above?  Answer: apply that function *once* to a `Var` instance, letting our operator overloading do the rest of the work!"
   ]
  },
  {
   "cell_type": "code",
   "execution_count": 21,
   "metadata": {},
   "outputs": [],
   "source": [
    "def expr_of(f):\n",
    "    return f(Var())"
   ]
  },
  {
   "cell_type": "code",
   "execution_count": 22,
   "metadata": {},
   "outputs": [
    {
     "data": {
      "text/plain": [
       "((x * 2) + (x * x))"
      ]
     },
     "execution_count": 22,
     "metadata": {},
     "output_type": "execute_result"
    }
   ],
   "source": [
    "expr_of(f)"
   ]
  },
  {
   "cell_type": "markdown",
   "metadata": {},
   "source": [
    "Nice: we got out the perfect syntax tree.  From here, it's easy to compute and display the derivative."
   ]
  },
  {
   "cell_type": "code",
   "execution_count": 23,
   "metadata": {},
   "outputs": [
    {
     "data": {
      "text/plain": [
       "(2 + (x + x))"
      ]
     },
     "execution_count": 23,
     "metadata": {},
     "output_type": "execute_result"
    }
   ],
   "source": [
    "expr_of(f).derivative().simplify()"
   ]
  },
  {
   "cell_type": "markdown",
   "metadata": {},
   "source": [
    "Did you catch one weakness of the approach?  What if we try to differentiate the following functions?"
   ]
  },
  {
   "cell_type": "code",
   "execution_count": 24,
   "metadata": {},
   "outputs": [],
   "source": [
    "def g(x):\n",
    "    return 2 * x + x * x"
   ]
  },
  {
   "cell_type": "markdown",
   "metadata": {},
   "source": [
    "Looks the same in all the ways we care about, right?  We just took advantage of commutativity of multiplication."
   ]
  },
  {
   "cell_type": "code",
   "execution_count": 14,
   "metadata": {},
   "outputs": [
    {
     "ename": "TypeError",
     "evalue": "unsupported operand type(s) for *: 'int' and 'Var'",
     "output_type": "error",
     "traceback": [
      "\u001b[0;31m---------------------------------------------------------------------------\u001b[0m",
      "\u001b[0;31mTypeError\u001b[0m                                 Traceback (most recent call last)",
      "Cell \u001b[0;32mIn[14], line 1\u001b[0m\n\u001b[0;32m----> 1\u001b[0m \u001b[43mexpr_of\u001b[49m\u001b[43m(\u001b[49m\u001b[43mg\u001b[49m\u001b[43m)\u001b[49m\u001b[38;5;241m.\u001b[39mderivative()\u001b[38;5;241m.\u001b[39msimplify()\n",
      "Cell \u001b[0;32mIn[9], line 2\u001b[0m, in \u001b[0;36mexpr_of\u001b[0;34m(f)\u001b[0m\n\u001b[1;32m      1\u001b[0m \u001b[38;5;28;01mdef\u001b[39;00m \u001b[38;5;21mexpr_of\u001b[39m(f):\n\u001b[0;32m----> 2\u001b[0m     \u001b[38;5;28;01mreturn\u001b[39;00m \u001b[43mf\u001b[49m\u001b[43m(\u001b[49m\u001b[43mVar\u001b[49m\u001b[43m(\u001b[49m\u001b[43m)\u001b[49m\u001b[43m)\u001b[49m\n",
      "Cell \u001b[0;32mIn[12], line 2\u001b[0m, in \u001b[0;36mg\u001b[0;34m(x)\u001b[0m\n\u001b[1;32m      1\u001b[0m \u001b[38;5;28;01mdef\u001b[39;00m \u001b[38;5;21mg\u001b[39m(x):\n\u001b[0;32m----> 2\u001b[0m     \u001b[38;5;28;01mreturn\u001b[39;00m \u001b[38;5;241;43m2\u001b[39;49m\u001b[43m \u001b[49m\u001b[38;5;241;43m*\u001b[39;49m\u001b[43m \u001b[49m\u001b[43mx\u001b[49m \u001b[38;5;241m+\u001b[39m x \u001b[38;5;241m*\u001b[39m x\n",
      "\u001b[0;31mTypeError\u001b[0m: unsupported operand type(s) for *: 'int' and 'Var'"
     ]
    }
   ],
   "source": [
    "expr_of(g).derivative().simplify()"
   ]
  },
  {
   "cell_type": "markdown",
   "metadata": {},
   "source": [
    "Agh, a scary error message!  The reason is that `*` decides which code to call based on the type of its *first* operand, and here we have a number as the first operand.  The built-in `int` class knows nothing about our syntax trees.\n",
    "\n",
    "It turns out here we need the *reverse multiply* magic method, and, for good measure, we'll show how to add it to the `Expr` class after the fact.  (This kind of \"method patching\" leads to hard-to-understand code, so we don't recommend it for most situations.)"
   ]
  },
  {
   "cell_type": "code",
   "execution_count": null,
   "metadata": {},
   "outputs": [],
   "source": [
    "def expr_radd(self, e):\n",
    "    if isinstance(e, int):\n",
    "        e = Const(e)\n",
    "\n",
    "    return Plus(e, self)\n",
    "    \n",
    "Expr.__radd__ = expr_radd\n",
    "\n",
    "def expr_rmul(self, e):\n",
    "    if isinstance(e, int):\n",
    "        e = Const(e)\n",
    "\n",
    "    return Times(e, self)\n",
    "    \n",
    "Expr.__rmul__ = expr_rmul"
   ]
  },
  {
   "cell_type": "code",
   "execution_count": null,
   "metadata": {},
   "outputs": [
    {
     "data": {
      "text/plain": [
       "(2 + (x + x))"
      ]
     },
     "execution_count": 14,
     "metadata": {},
     "output_type": "execute_result"
    }
   ],
   "source": [
    "expr_of(g).derivative().simplify()"
   ]
  },
  {
   "cell_type": "markdown",
   "metadata": {},
   "source": [
    "# Roll-Your-Own Generators\n",
    "\n",
    "We looked at generators a bit in Lecture 6, for iterating over the nodes of a tree.  Generators bring two main advantages over lists:\n",
    " 1. With a generator, we avoid needing to store all generated values simultaneously, which can bring significant memory savings.\n",
    " 2. In fact, it might be *impossible* to store all values generated!  A generator may yield *infinitely* many values.\n",
    "\n",
    "Since we usually want our programs to finish, how could it be useful to generate infinitely many values?  Check out this example.  We will take a roundabout path to finding the first few prime numbers."
   ]
  },
  {
   "cell_type": "code",
   "execution_count": 25,
   "metadata": {},
   "outputs": [],
   "source": [
    "def all_positive_integers():\n",
    "    \"\"\"Generator for all numbers greater than zero\"\"\"\n",
    "    \n",
    "    i = 1\n",
    "    while True:\n",
    "        # Note: loop is intentionally nonterminating!\n",
    "        yield i\n",
    "        i += 1\n",
    "\n",
    "def firstn(stream, num):\n",
    "    \"\"\"Return the first num (which must be positive) values generated by stream.\"\"\"\n",
    "    \n",
    "    for v in stream:\n",
    "        yield v\n",
    "        num -= 1\n",
    "        if num <= 0:\n",
    "            return"
   ]
  },
  {
   "cell_type": "markdown",
   "metadata": {},
   "source": [
    "Yes, a naive reading of `all_positive_integers` shows it running forever.  However, it continually invokes `yield`, which *suspends execution of the generator, until the consumer is ready for the next value*.  A consumer that only asks for finitely many values can terminate, even when the generator has the *capacity* to produce infinitely many values.  Here are some examples of pulling out interesting subsequences of `all_positive_integers`."
   ]
  },
  {
   "cell_type": "code",
   "execution_count": null,
   "metadata": {},
   "outputs": [
    {
     "data": {
      "text/plain": [
       "[1, 2, 3, 4, 5, 6, 7, 8, 9, 10]"
      ]
     },
     "execution_count": 2,
     "metadata": {},
     "output_type": "execute_result"
    }
   ],
   "source": [
    "list(firstn(all_positive_integers(), 10))"
   ]
  },
  {
   "cell_type": "code",
   "execution_count": null,
   "metadata": {},
   "outputs": [
    {
     "data": {
      "text/plain": [
       "[2, 4, 6, 8, 10, 12, 14, 16, 18, 20]"
      ]
     },
     "execution_count": 17,
     "metadata": {},
     "output_type": "execute_result"
    }
   ],
   "source": [
    "list(firstn((n for n in all_positive_integers() if n % 2 == 0), 10))"
   ]
  },
  {
   "cell_type": "code",
   "execution_count": null,
   "metadata": {},
   "outputs": [
    {
     "data": {
      "text/plain": [
       "[7, 14, 21, 28, 35, 42, 49, 56, 63, 70]"
      ]
     },
     "execution_count": 18,
     "metadata": {},
     "output_type": "execute_result"
    }
   ],
   "source": [
    "list(firstn((n for n in all_positive_integers() if n % 7 == 0), 10))"
   ]
  },
  {
   "cell_type": "markdown",
   "metadata": {},
   "source": [
    "We can also implement primality testing to get the first few primes."
   ]
  },
  {
   "cell_type": "code",
   "execution_count": null,
   "metadata": {},
   "outputs": [
    {
     "data": {
      "text/plain": [
       "[2, 3, 5, 7, 11, 13, 17, 19, 23, 29, 31, 37, 41, 43, 47, 53, 59, 61, 67, 71]"
      ]
     },
     "execution_count": 19,
     "metadata": {},
     "output_type": "execute_result"
    }
   ],
   "source": [
    "def is_prime(n):\n",
    "    return n > 1 and all(n % m != 0 for m in range(2, n))\n",
    "\n",
    "list(firstn((n for n in all_positive_integers() if is_prime(n)), 20))"
   ]
  },
  {
   "cell_type": "markdown",
   "metadata": {},
   "source": [
    "## Replicating the Functionality Without Using Generators\n",
    "\n",
    "It may seem like magic, how Python lets us code up an infinite sequence of values.  Let's reveal how straightforward it all is, by building the same features from basic classes.  (Our version won't look as nice, but it's equivalent in any deep sense.)"
   ]
  },
  {
   "cell_type": "code",
   "execution_count": null,
   "metadata": {},
   "outputs": [],
   "source": [
    "# Everywhere we used a generator, we'll instead use a child of this class.\n",
    "class Iterator:     \n",
    "    def hasNext(self):\n",
    "        \"\"\"Intended behavior: returns whether there is a next element.\"\"\"\n",
    "        raise NotImplementedError\n",
    "    \n",
    "    def next(self):\n",
    "        \"\"\"Intended behavior: returns next element.\n",
    "        Illegal to call when hasNext() returns False!\"\"\"\n",
    "        raise NotImplementedError\n",
    "    \n",
    "    # Bonus: we use yet another magic method to build a native Python iterator\n",
    "    # from one of our hand-crafted ones.\n",
    "    def __iter__(self):\n",
    "        while self.hasNext():\n",
    "            yield self.next()"
   ]
  },
  {
   "cell_type": "markdown",
   "metadata": {},
   "source": [
    "Now here's how to duplicate the generation of all positive integers."
   ]
  },
  {
   "cell_type": "code",
   "execution_count": null,
   "metadata": {},
   "outputs": [],
   "source": [
    "class AllPositiveIntegers(Iterator):\n",
    "    def __init__(self):\n",
    "        self.i = 1 # Attribute to hold next integer we should generate\n",
    "\n",
    "    def hasNext(self):\n",
    "        return True # Infinite streams always have next values!\n",
    "\n",
    "    def next(self):\n",
    "        result = self.i\n",
    "        self.i += 1\n",
    "        return result"
   ]
  },
  {
   "cell_type": "code",
   "execution_count": null,
   "metadata": {},
   "outputs": [
    {
     "name": "stdout",
     "output_type": "stream",
     "text": [
      "1\n",
      "2\n",
      "3\n"
     ]
    }
   ],
   "source": [
    "api = AllPositiveIntegers()\n",
    "print(api.next())\n",
    "print(api.next())\n",
    "print(api.next())"
   ]
  },
  {
   "cell_type": "markdown",
   "metadata": {},
   "source": [
    "Now let's redo the first-n functionality."
   ]
  },
  {
   "cell_type": "code",
   "execution_count": null,
   "metadata": {},
   "outputs": [],
   "source": [
    "class FirstN(Iterator):\n",
    "    def __init__(self, child, num):\n",
    "        self.child = child # A sub-iterator that we delegate to\n",
    "        self.num = num     # How many more values we want to grab from it, max\n",
    "    \n",
    "    def hasNext(self):\n",
    "        return self.num > 0 and self.child.hasNext()\n",
    "        # We must want to return more values AND the child must actually have a value to offer.\n",
    "    \n",
    "    def next(self):\n",
    "        self.num -= 1\n",
    "        return self.child.next()"
   ]
  },
  {
   "cell_type": "code",
   "execution_count": null,
   "metadata": {},
   "outputs": [
    {
     "data": {
      "text/plain": [
       "[1, 2]"
      ]
     },
     "execution_count": 24,
     "metadata": {},
     "output_type": "execute_result"
    }
   ],
   "source": [
    "list(FirstN(AllPositiveIntegers(), 2))"
   ]
  },
  {
   "cell_type": "markdown",
   "metadata": {},
   "source": [
    "Note that the `list` call above worked implicitly by calling the `__iter__` method of `Iterator`, which is called in any context where Python wants an iterator (in the built-in sense) but has been handed a value that isn't one yet.\n",
    "\n",
    "We can also easily go in the other direction, in converting between native iterators and our explicit ones.  This class's constructor takes a native iterator as an argument."
   ]
  },
  {
   "cell_type": "code",
   "execution_count": null,
   "metadata": {},
   "outputs": [],
   "source": [
    "class FromNativeIterator(Iterator):\n",
    "    def __init__(self, child):\n",
    "        self.child = iter(child)    # We delegate to this native iterator,\n",
    "                                    # calling iter to force it to be an actual iterator.\n",
    "        self.nextValue = None       # Stores a value confirmed to be next from the child.\n",
    "        self.unclaimedNext = False  # Records whether nextValue is in use or not.\n",
    "    \n",
    "    def hasNext(self):\n",
    "        if self.unclaimedNext:\n",
    "            return True\n",
    "        \n",
    "        # Note: we run a \"loop\" here designed so that it only runs for 0 or 1 iterations.\n",
    "        for v in self.child:\n",
    "            # Aha, there is a next value!  Store it away for next to grab.\n",
    "            self.nextValue = v\n",
    "            self.unclaimedNext = True\n",
    "            return True\n",
    "        \n",
    "        # No values available from the child.\n",
    "        return False\n",
    "\n",
    "    def next(self):\n",
    "        if self.hasNext():\n",
    "            # Just pull out and return the value we saved, erasing it.\n",
    "            result = self.nextValue\n",
    "            self.unclaimedNext = False\n",
    "            self.nextValue = None\n",
    "            return result"
   ]
  },
  {
   "cell_type": "code",
   "execution_count": null,
   "metadata": {},
   "outputs": [
    {
     "name": "stdout",
     "output_type": "stream",
     "text": [
      "True\n",
      "0\n",
      "True\n",
      "1\n",
      "True\n",
      "2\n",
      "False\n"
     ]
    }
   ],
   "source": [
    "r = FromNativeIterator(range(0, 3))\n",
    "print(r.hasNext())\n",
    "print(r.next())\n",
    "print(r.hasNext())\n",
    "print(r.next())\n",
    "print(r.hasNext())\n",
    "print(r.next())\n",
    "print(r.hasNext())"
   ]
  },
  {
   "cell_type": "markdown",
   "metadata": {},
   "source": [
    "The following invocation creates a list by creating the `range` iterator, converting it to our manual style, then implicitly converting back to a native iterator via `Iterator.__iter__` (since built-in function `list` wants its argument to be iterable)."
   ]
  },
  {
   "cell_type": "code",
   "execution_count": null,
   "metadata": {},
   "outputs": [
    {
     "data": {
      "text/plain": [
       "[1, None]"
      ]
     },
     "execution_count": 279,
     "metadata": {},
     "output_type": "execute_result"
    }
   ],
   "source": [
    "list(FromNativeIterator(range(0, 3)))"
   ]
  },
  {
   "cell_type": "markdown",
   "metadata": {},
   "source": [
    "## Comprehensions\n",
    "\n",
    "Here's a list comprehension suitable for two-dimensional minesweeper from Lab 3."
   ]
  },
  {
   "cell_type": "code",
   "execution_count": null,
   "metadata": {},
   "outputs": [],
   "source": [
    "def coordinate_in_bounds(x, y, max_x, max_y):\n",
    "    \"\"\"Is point (x, y) in bounds in a two-dimensional space with\n",
    "    the given maximum coordinates and minimum coordinates zero?\"\"\"\n",
    "    return 0 <= x and x <= max_x and 0 <= y and y <= max_y\n",
    "\n",
    "def neighbors(x, y, max_x, max_y):\n",
    "    \"\"\"Return list of coordinates of all neighbors of (x, y) in a 2-dimensionsal space\n",
    "    with the given maximum coordinate values.\"\"\"\n",
    "    \n",
    "    return [(nx, ny)\n",
    "            for nx in range(x - 1, x + 2)\n",
    "            for ny in range(y - 1, y + 2)\n",
    "            if coordinate_in_bounds(nx, ny, max_x, max_y)\n",
    "            if (nx, ny) != (x, y)]"
   ]
  },
  {
   "cell_type": "code",
   "execution_count": null,
   "metadata": {},
   "outputs": [
    {
     "name": "stdout",
     "output_type": "stream",
     "text": [
      "[(0, 1), (1, 0), (1, 1)]\n",
      "[(0, 0), (0, 1), (0, 2), (1, 0), (1, 2), (2, 0), (2, 1), (2, 2)]\n",
      "[(1, 0), (1, 1), (1, 2), (2, 0), (2, 2)]\n"
     ]
    }
   ],
   "source": [
    "print(neighbors(0, 0, 2, 2))\n",
    "print(neighbors(1, 1, 2, 2))\n",
    "print(neighbors(2, 1, 2, 2))"
   ]
  },
  {
   "cell_type": "markdown",
   "metadata": {},
   "source": [
    "How do comprehensions really work?  Python translates them into generators automatically!  Let's first build equivalent code in a very manual way, using our `Iterator` class.\n",
    "\n",
    "First, we replicate the built-in `range` function."
   ]
  },
  {
   "cell_type": "code",
   "execution_count": null,
   "metadata": {},
   "outputs": [],
   "source": [
    "class Range(Iterator):\n",
    "    def __init__(self, lower, upper):\n",
    "        self.lower = lower\n",
    "        self.upper = upper\n",
    "    \n",
    "    def hasNext(self):\n",
    "        return self.lower < self.upper\n",
    "\n",
    "    def next(self):\n",
    "        result = self.lower\n",
    "        self.lower += 1\n",
    "        return result"
   ]
  },
  {
   "cell_type": "code",
   "execution_count": null,
   "metadata": {},
   "outputs": [
    {
     "data": {
      "text/plain": [
       "[3, 4, 5]"
      ]
     },
     "execution_count": 284,
     "metadata": {},
     "output_type": "execute_result"
    }
   ],
   "source": [
    "list(Range(3, 6))"
   ]
  },
  {
   "cell_type": "markdown",
   "metadata": {},
   "source": [
    "Now a trickier case: a *composed* iterator takes in an iterator and *a function that creates iterators*.  The meaning is: loop through the first iterator, calling the function on each value as it is ready, performing a nested loop over the iterator that the function returns."
   ]
  },
  {
   "cell_type": "code",
   "execution_count": null,
   "metadata": {},
   "outputs": [],
   "source": [
    "class Composed(Iterator):\n",
    "    def __init__(self, iter1, iter2):\n",
    "        self.iter1 = iter1\n",
    "        self.iter2 = iter2\n",
    "        self.specific_iter2 = None # This attribute holds the most recent iterator\n",
    "                                   # created by the function iter2.\n",
    "    \n",
    "    def hasNext(self):\n",
    "        # It is a bit tricky to tell when there is a next item.\n",
    "        # We might need to \"fast-forward\" through many values produced by iter1,\n",
    "        # if each one corresponds to an empty iter2.\n",
    "        # As a nice side effect, we stash away the next value to return, if there is one.\n",
    "        while True:\n",
    "            if self.specific_iter2 and self.specific_iter2.hasNext():\n",
    "                return True\n",
    "        \n",
    "            if self.iter1.hasNext():\n",
    "                #keep going to next loop (advancing iter1) until specic_iter2 hasNext\n",
    "                self.specific_iter2 = self.iter2(self.iter1.next())\n",
    "            else:\n",
    "                return False\n",
    "    \n",
    "    def next(self):\n",
    "        if self.hasNext():\n",
    "            return self.specific_iter2.next()"
   ]
  },
  {
   "cell_type": "code",
   "execution_count": null,
   "metadata": {},
   "outputs": [
    {
     "data": {
      "text/plain": [
       "[0, 1, 1, 2, 2, 3, 3, 4]"
      ]
     },
     "execution_count": 285,
     "metadata": {},
     "output_type": "execute_result"
    }
   ],
   "source": [
    "list(Composed(Range(0, 4), lambda n: Range(n, n+2)))"
   ]
  },
  {
   "cell_type": "markdown",
   "metadata": {},
   "source": [
    "A *singleton* iterator yields just one value, which we give up-front."
   ]
  },
  {
   "cell_type": "code",
   "execution_count": null,
   "metadata": {},
   "outputs": [],
   "source": [
    "class Singleton(Iterator):\n",
    "    def __init__(self, value):\n",
    "        self.value = value     # Save to return when asked.\n",
    "        #this means we cannot run next on this item multiple times\n",
    "        self.unclaimed = True  # Remember whether we were already asked.\n",
    "    \n",
    "    def hasNext(self):\n",
    "        return self.unclaimed\n",
    "\n",
    "    def next(self):\n",
    "        #claim (mark this value as used before) this item\n",
    "        self.unclaimed = False\n",
    "        return self.value"
   ]
  },
  {
   "cell_type": "code",
   "execution_count": null,
   "metadata": {},
   "outputs": [
    {
     "data": {
      "text/plain": [
       "[0, 1, 4, 9]"
      ]
     },
     "execution_count": 286,
     "metadata": {},
     "output_type": "execute_result"
    }
   ],
   "source": [
    "list(Composed(Range(0, 4), lambda n: Singleton(n*n)))"
   ]
  },
  {
   "cell_type": "markdown",
   "metadata": {},
   "source": [
    "A *guard* iterator enforces a condition, yielding one dummy value if the condition holds, otherwise yielding no values."
   ]
  },
  {
   "cell_type": "code",
   "execution_count": null,
   "metadata": {},
   "outputs": [],
   "source": [
    "class Guard(Iterator):\n",
    "    def __init__(self, condition):\n",
    "        self.unclaimed = condition\n",
    "    \n",
    "    def hasNext(self):\n",
    "        return self.unclaimed\n",
    "    \n",
    "    def next(self):\n",
    "        self.unclaimed = False\n",
    "        return () # The dummy value is an empty tuple."
   ]
  },
  {
   "cell_type": "code",
   "execution_count": null,
   "metadata": {},
   "outputs": [
    {
     "data": {
      "text/plain": [
       "[(), ()]"
      ]
     },
     "execution_count": 87,
     "metadata": {},
     "output_type": "execute_result"
    }
   ],
   "source": [
    "list(Composed(Range(0, 4), lambda n: Guard(n % 2 == 0)))"
   ]
  },
  {
   "cell_type": "markdown",
   "metadata": {},
   "source": [
    "We are almost ready to replicate our comprehension example for enumerating neighbors.  We just need a way to convert an iterator to a list.  (Previously we used the `list` function, but it relies on conversion to built-in iterators, which seems like cheating!)"
   ]
  },
  {
   "cell_type": "code",
   "execution_count": null,
   "metadata": {},
   "outputs": [],
   "source": [
    "def list_of(iter1):\n",
    "    \"\"\"Return list of all elements generated by iter1.\"\"\"\n",
    "    \n",
    "    ls = []\n",
    "    while iter1.hasNext():\n",
    "        ls.append(iter1.next())\n",
    "    return ls"
   ]
  },
  {
   "cell_type": "code",
   "execution_count": null,
   "metadata": {},
   "outputs": [],
   "source": [
    "def neighbors(x, y, max_x, max_y):\n",
    "    \"\"\"Return list of coordinates of all neighbors of (x, y) in a 2-dimensionsal space\n",
    "    with the given maximum coordinate values.\"\"\"\n",
    "    \n",
    "    return Composed(Range(x - 1, x + 2),\n",
    "                    lambda nx: Composed(Range(y - 1, y + 2),\n",
    "                    lambda ny: Composed(Guard(coordinate_in_bounds(nx, ny, max_x, max_y)),\n",
    "                    lambda _: Composed(Guard((nx, ny) != (x, y)),\n",
    "                    lambda _: Singleton((nx, ny))))))\n",
    "\n",
    "def neighbor_list(x, y, max_x, max_y):\n",
    "    return list_of(neighbors(x, y, max_x, max_y))"
   ]
  },
  {
   "cell_type": "code",
   "execution_count": null,
   "metadata": {},
   "outputs": [
    {
     "data": {
      "text/plain": [
       "[(0, 1), (1, 0), (1, 1)]"
      ]
     },
     "execution_count": 290,
     "metadata": {},
     "output_type": "execute_result"
    }
   ],
   "source": [
    "neighbor_list(0, 0, 2, 2)"
   ]
  },
  {
   "cell_type": "code",
   "execution_count": null,
   "metadata": {},
   "outputs": [
    {
     "data": {
      "text/plain": [
       "[(0, 0), (0, 1), (0, 2), (1, 0), (1, 2), (2, 0), (2, 1), (2, 2)]"
      ]
     },
     "execution_count": 291,
     "metadata": {},
     "output_type": "execute_result"
    }
   ],
   "source": [
    "neighbor_list(1, 1, 2, 2)"
   ]
  },
  {
   "cell_type": "code",
   "execution_count": null,
   "metadata": {},
   "outputs": [
    {
     "data": {
      "text/plain": [
       "[(1, 1), (1, 2), (2, 1)]"
      ]
     },
     "execution_count": 292,
     "metadata": {},
     "output_type": "execute_result"
    }
   ],
   "source": [
    "neighbor_list(2, 2, 2, 2)"
   ]
  },
  {
   "cell_type": "markdown",
   "metadata": {},
   "source": [
    "It's also easy to produce an answer as a set rather than a list."
   ]
  },
  {
   "cell_type": "code",
   "execution_count": null,
   "metadata": {},
   "outputs": [],
   "source": [
    "def set_of(iter1):\n",
    "    \"\"\"Return set of all elements generated by iter1.\"\"\"\n",
    "    \n",
    "    s = set()\n",
    "    while iter1.hasNext():\n",
    "        s.add(iter1.next())\n",
    "    return s\n",
    "\n",
    "def neighbor_set(x, y, max_x, max_y):\n",
    "    return set_of(neighbors(x, y, max_x, max_y))"
   ]
  },
  {
   "cell_type": "code",
   "execution_count": null,
   "metadata": {},
   "outputs": [
    {
     "data": {
      "text/plain": [
       "{(0, 0), (0, 1), (0, 2), (1, 0), (1, 2), (2, 0), (2, 1), (2, 2)}"
      ]
     },
     "execution_count": 110,
     "metadata": {},
     "output_type": "execute_result"
    }
   ],
   "source": [
    "neighbor_set(1, 1, 2, 2)"
   ]
  },
  {
   "cell_type": "markdown",
   "metadata": {},
   "source": [
    "Compare the code with how we write the same computation using Python's built-in generators."
   ]
  },
  {
   "cell_type": "code",
   "execution_count": null,
   "metadata": {},
   "outputs": [],
   "source": [
    "def neighbors_native(x, y, max_x, max_y):\n",
    "    \"\"\"Return list of coordinates of all neighbors of (x, y) in a 2-dimensionsal space\n",
    "    with the given maximum coordinate values.\"\"\"\n",
    "    \n",
    "    for nx in range(x - 1, x + 2):\n",
    "        for ny in range(y - 1, y + 2):\n",
    "            if coordinate_in_bounds(nx, ny, max_x, max_y):\n",
    "                if (nx, ny) != (x, y):\n",
    "                    yield (nx, ny)"
   ]
  },
  {
   "cell_type": "code",
   "execution_count": null,
   "metadata": {},
   "outputs": [
    {
     "data": {
      "text/plain": [
       "[(0, 0), (0, 1), (0, 2), (1, 0), (1, 2), (2, 0), (2, 1), (2, 2)]"
      ]
     },
     "execution_count": 295,
     "metadata": {},
     "output_type": "execute_result"
    }
   ],
   "source": [
    "list(neighbors_native(1, 1, 2, 2))"
   ]
  },
  {
   "cell_type": "markdown",
   "metadata": {},
   "source": [
    "# Reflection\n",
    "\n",
    "*Encapsulation*, e.g. as we studied it in Lecture 7, is one of the key foundations of modern software development.  We define classes and other units of code with *private state* that other parts of a program aren't allowed to see.\n",
    "\n",
    "However, sometimes we can implement some pretty cool functionality by peeking inside the definitions of things!  The term of art for said peeking is *reflection*.\n",
    "\n",
    "To work up to some examples, consider this definition of a *queue* data structure, where we can *enqueue* values, which are then *dequeued* in the same order as we added them."
   ]
  },
  {
   "cell_type": "code",
   "execution_count": 26,
   "metadata": {},
   "outputs": [],
   "source": [
    "class BasicQueue:\n",
    "    def __init__(self):\n",
    "        self.contents = []\n",
    "    \n",
    "    def enqueue(self, v):\n",
    "        self.contents.append(v)\n",
    "    \n",
    "    def dequeue(self):\n",
    "        if self.contents == []:\n",
    "            raise ValueError\n",
    "        else:\n",
    "            result = self.contents[0]\n",
    "            self.contents = self.contents[1:]\n",
    "            # Note the previous line can be rather slow,\n",
    "            # as it must recreate most of the contents list,\n",
    "            # in time proportional to the list length.\n",
    "            return result"
   ]
  },
  {
   "cell_type": "code",
   "execution_count": 27,
   "metadata": {},
   "outputs": [
    {
     "name": "stdout",
     "output_type": "stream",
     "text": [
      "1\n",
      "2\n",
      "3\n"
     ]
    }
   ],
   "source": [
    "q = BasicQueue()\n",
    "q.enqueue(1)\n",
    "q.enqueue(2)\n",
    "print(q.dequeue())\n",
    "q.enqueue(3)\n",
    "print(q.dequeue())\n",
    "print(q.dequeue())"
   ]
  },
  {
   "cell_type": "markdown",
   "metadata": {},
   "source": [
    "Here is another implementation, which manages to avoid recreating a list on every dequeue.  We won't dwell on details of the code; what matters is it's a less-obvious implementation of the same functionality from `BasicQueue`."
   ]
  },
  {
   "cell_type": "code",
   "execution_count": 28,
   "metadata": {},
   "outputs": [],
   "source": [
    "class FancyQueue:\n",
    "    def __init__(self):\n",
    "        self.enqueueHere = []\n",
    "        self.dequeueHere = []\n",
    "    \n",
    "    def enqueue(self, v):\n",
    "        self.enqueueHere.append(v)\n",
    "    \n",
    "    def dequeue(self):\n",
    "        if self.dequeueHere == []:\n",
    "            if self.enqueueHere == []:\n",
    "                raise ValueError\n",
    "            else:\n",
    "                self.dequeueHere = self.enqueueHere\n",
    "                self.enqueueHere = []\n",
    "                self.dequeueHere.reverse()\n",
    "        \n",
    "        return self.dequeueHere.pop()"
   ]
  },
  {
   "cell_type": "code",
   "execution_count": 29,
   "metadata": {},
   "outputs": [
    {
     "name": "stdout",
     "output_type": "stream",
     "text": [
      "1\n",
      "2\n",
      "3\n"
     ]
    }
   ],
   "source": [
    "q = FancyQueue()\n",
    "q.enqueue(1)\n",
    "q.enqueue(2)\n",
    "print(q.dequeue())\n",
    "q.enqueue(3)\n",
    "print(q.dequeue())\n",
    "print(q.dequeue())"
   ]
  },
  {
   "cell_type": "markdown",
   "metadata": {},
   "source": [
    "Good: it returned the same answers as `BasicQueue`!  But that was just one test case.  Can we write some code to help us run many comparison tests easily?  Ideally, we would write *generic* code that builds testing infrastructure for a wide variety of classes, not just queue classes.  Reflection will let us do exactly that.\n",
    "\n",
    "First, we introduce the `dir` function, for listing the methods of a class."
   ]
  },
  {
   "cell_type": "code",
   "execution_count": 30,
   "metadata": {},
   "outputs": [
    {
     "data": {
      "text/plain": [
       "['__class__',\n",
       " '__delattr__',\n",
       " '__dict__',\n",
       " '__dir__',\n",
       " '__doc__',\n",
       " '__eq__',\n",
       " '__format__',\n",
       " '__ge__',\n",
       " '__getattribute__',\n",
       " '__gt__',\n",
       " '__hash__',\n",
       " '__init__',\n",
       " '__init_subclass__',\n",
       " '__le__',\n",
       " '__lt__',\n",
       " '__module__',\n",
       " '__ne__',\n",
       " '__new__',\n",
       " '__reduce__',\n",
       " '__reduce_ex__',\n",
       " '__repr__',\n",
       " '__setattr__',\n",
       " '__sizeof__',\n",
       " '__str__',\n",
       " '__subclasshook__',\n",
       " '__weakref__',\n",
       " 'dequeue',\n",
       " 'enqueue']"
      ]
     },
     "execution_count": 30,
     "metadata": {},
     "output_type": "execute_result"
    }
   ],
   "source": [
    "dir(BasicQueue)"
   ]
  },
  {
   "cell_type": "markdown",
   "metadata": {},
   "source": [
    "The long list reveals that all Python classes inherit a variety of magic methods, which will not interest us here.  We can easily filter them out, thanks to their naming convention."
   ]
  },
  {
   "cell_type": "code",
   "execution_count": 31,
   "metadata": {},
   "outputs": [
    {
     "data": {
      "text/plain": [
       "['dequeue', 'enqueue']"
      ]
     },
     "execution_count": 31,
     "metadata": {},
     "output_type": "execute_result"
    }
   ],
   "source": [
    "[name for name in dir(BasicQueue) if not name.startswith('__')]"
   ]
  },
  {
   "cell_type": "markdown",
   "metadata": {},
   "source": [
    "Good: now we only see the methods we really want to test.  How do we go from these names back to the real methods?  Like so, with built-in function `getattr`:"
   ]
  },
  {
   "cell_type": "code",
   "execution_count": 32,
   "metadata": {},
   "outputs": [
    {
     "data": {
      "text/plain": [
       "<function __main__.BasicQueue.dequeue(self)>"
      ]
     },
     "execution_count": 32,
     "metadata": {},
     "output_type": "execute_result"
    }
   ],
   "source": [
    "getattr(BasicQueue, 'dequeue')"
   ]
  },
  {
   "cell_type": "markdown",
   "metadata": {},
   "source": [
    "That's a good start, but we also need a way to list the arguments of a method.  Here we break the cardinal rule of 6.009 labs and import one function from a built-in library!"
   ]
  },
  {
   "cell_type": "code",
   "execution_count": 33,
   "metadata": {},
   "outputs": [
    {
     "data": {
      "text/plain": [
       "mappingproxy({'self': <Parameter \"self\">})"
      ]
     },
     "execution_count": 33,
     "metadata": {},
     "output_type": "execute_result"
    }
   ],
   "source": [
    "from inspect import signature\n",
    "signature(getattr(BasicQueue, 'dequeue')).parameters"
   ]
  },
  {
   "cell_type": "code",
   "execution_count": 34,
   "metadata": {},
   "outputs": [
    {
     "data": {
      "text/plain": [
       "mappingproxy({'self': <Parameter \"self\">, 'v': <Parameter \"v\">})"
      ]
     },
     "execution_count": 34,
     "metadata": {},
     "output_type": "execute_result"
    }
   ],
   "source": [
    "signature(getattr(BasicQueue, 'enqueue')).parameters"
   ]
  },
  {
   "cell_type": "markdown",
   "metadata": {},
   "source": [
    "That's a bit of a weird output.  Think of this function as returning dictionaries (from parameter names to info on them), but wrapped in a strange way.  Below we will immediately convert such values into normal dictionaries with the `dict` function.\n",
    "\n",
    "The last ingredient we need is a way of calling methods with argument lists that we construct as dictionaries."
   ]
  },
  {
   "cell_type": "code",
   "execution_count": 299,
   "metadata": {},
   "outputs": [
    {
     "data": {
      "text/plain": [
       "3"
      ]
     },
     "execution_count": 299,
     "metadata": {},
     "output_type": "execute_result"
    }
   ],
   "source": [
    "q = BasicQueue()\n",
    "getattr(q, 'enqueue')(**{'v': 3})\n",
    "q.dequeue()"
   ]
  },
  {
   "cell_type": "markdown",
   "metadata": {},
   "source": [
    "Funny-looking, huh?  Python lets us make function calls where the arguments start with `**`, in which case a dictionary is expected afterward, to assign values to parameters by name.\n",
    "\n",
    "Now let's create a bunch of generators that generate test cases against a given class.  A useful first ingredient is a function to create all possible dictionaries built from a set of keys and a set of available values.  Each key might get any of the values."
   ]
  },
  {
   "cell_type": "code",
   "execution_count": 35,
   "metadata": {},
   "outputs": [],
   "source": [
    "def all_dicts(keys, values):\n",
    "    \"\"\"Given a list of keys and an iterable of values, generate all possible dictionaries built with them.\"\"\"\n",
    "    \n",
    "    if keys == []:\n",
    "        yield {}\n",
    "    else:\n",
    "        for d in all_dicts(keys[1:], values):\n",
    "            for v in values:\n",
    "                d = d.copy()\n",
    "                d[keys[0]] = v\n",
    "                yield d"
   ]
  },
  {
   "cell_type": "code",
   "execution_count": 36,
   "metadata": {},
   "outputs": [
    {
     "data": {
      "text/plain": [
       "[{'C': 1, 'B': 1, 'A': 1},\n",
       " {'C': 1, 'B': 1, 'A': 2},\n",
       " {'C': 1, 'B': 2, 'A': 1},\n",
       " {'C': 1, 'B': 2, 'A': 2},\n",
       " {'C': 2, 'B': 1, 'A': 1},\n",
       " {'C': 2, 'B': 1, 'A': 2},\n",
       " {'C': 2, 'B': 2, 'A': 1},\n",
       " {'C': 2, 'B': 2, 'A': 2}]"
      ]
     },
     "execution_count": 36,
     "metadata": {},
     "output_type": "execute_result"
    }
   ],
   "source": [
    "list(all_dicts(['A', 'B', 'C'], [1, 2]))"
   ]
  },
  {
   "cell_type": "markdown",
   "metadata": {},
   "source": [
    "Next, given a class, we can generate all possible calls to its methods, using only argument values drawn from a set that we provide."
   ]
  },
  {
   "cell_type": "code",
   "execution_count": 37,
   "metadata": {},
   "outputs": [],
   "source": [
    "def calls_for(cls, args):\n",
    "    \"\"\"Generates a finite stream of method calls that can be made against the given class.\n",
    "    We only consider arguments drawn from the given iterable (args).\"\"\"\n",
    "    \n",
    "    for method in dir(cls):\n",
    "        if not method.startswith('__'):\n",
    "            params = dict(signature(getattr(cls, method)).parameters)\n",
    "            del params['self'] # This parameter pops up by default,\n",
    "                               # but Python already passes it for us automatically.\n",
    "            for d in all_dicts(list(params), args):\n",
    "                yield (method, d)"
   ]
  },
  {
   "cell_type": "code",
   "execution_count": 38,
   "metadata": {},
   "outputs": [
    {
     "data": {
      "text/plain": [
       "[('dequeue', {}), ('enqueue', {'v': 0}), ('enqueue', {'v': 1})]"
      ]
     },
     "execution_count": 38,
     "metadata": {},
     "output_type": "execute_result"
    }
   ],
   "source": [
    "list(calls_for(BasicQueue, [0, 1]))"
   ]
  },
  {
   "cell_type": "markdown",
   "metadata": {},
   "source": [
    "Our second-last ingredient is a way to generate all call sequences of a given length."
   ]
  },
  {
   "cell_type": "code",
   "execution_count": 39,
   "metadata": {},
   "outputs": [],
   "source": [
    "def call_sequences_of_length(cls, length, args):\n",
    "    \"\"\"Generates a finite stream of method call sequences of the given length,\n",
    "    made against the given class, using the provided arguments.\"\"\"\n",
    "    \n",
    "    if length == 0:\n",
    "        yield []\n",
    "    else:\n",
    "        for call in calls_for(cls, args):\n",
    "            for rest in call_sequences_of_length(cls, length-1, args):\n",
    "                yield [call] + rest"
   ]
  },
  {
   "cell_type": "code",
   "execution_count": 40,
   "metadata": {},
   "outputs": [
    {
     "data": {
      "text/plain": [
       "[[('dequeue', {}), ('dequeue', {})],\n",
       " [('dequeue', {}), ('enqueue', {'v': 0})],\n",
       " [('dequeue', {}), ('enqueue', {'v': 1})],\n",
       " [('enqueue', {'v': 0}), ('dequeue', {})],\n",
       " [('enqueue', {'v': 0}), ('enqueue', {'v': 0})],\n",
       " [('enqueue', {'v': 0}), ('enqueue', {'v': 1})],\n",
       " [('enqueue', {'v': 1}), ('dequeue', {})],\n",
       " [('enqueue', {'v': 1}), ('enqueue', {'v': 0})],\n",
       " [('enqueue', {'v': 1}), ('enqueue', {'v': 1})]]"
      ]
     },
     "execution_count": 40,
     "metadata": {},
     "output_type": "execute_result"
    }
   ],
   "source": [
    "list(call_sequences_of_length(BasicQueue, 2, [0, 1]))"
   ]
  },
  {
   "cell_type": "markdown",
   "metadata": {},
   "source": [
    "Our examples so far generate finite sequences, but here is a generator for all possible test cases of arbitrary lengths (using only argument values from a provided set).  We generate the length-1 sequences first, then the length-2 sequences, and so on.  (Note that approach guarantees that, when we find a return-value disagreement between two calls, it always happens on the *last* call of the test case, since every prefix of the test case was already generated earlier in the sequence.)"
   ]
  },
  {
   "cell_type": "code",
   "execution_count": 41,
   "metadata": {},
   "outputs": [],
   "source": [
    "def test_cases_for(cls, args):\n",
    "    \"\"\"Generates an infinite stream of test cases applicable to the given class,\n",
    "    where arguments are drawn from the given iterable.\n",
    "    A test case is a list of calls.\"\"\"\n",
    "    \n",
    "    length = 1\n",
    "    while True:\n",
    "        yield from call_sequences_of_length(cls, length, args)\n",
    "        length += 1"
   ]
  },
  {
   "cell_type": "code",
   "execution_count": 42,
   "metadata": {},
   "outputs": [
    {
     "data": {
      "text/plain": [
       "[[('dequeue', {})],\n",
       " [('enqueue', {'v': 0})],\n",
       " [('enqueue', {'v': 1})],\n",
       " [('dequeue', {}), ('dequeue', {})],\n",
       " [('dequeue', {}), ('enqueue', {'v': 0})],\n",
       " [('dequeue', {}), ('enqueue', {'v': 1})],\n",
       " [('enqueue', {'v': 0}), ('dequeue', {})],\n",
       " [('enqueue', {'v': 0}), ('enqueue', {'v': 0})],\n",
       " [('enqueue', {'v': 0}), ('enqueue', {'v': 1})],\n",
       " [('enqueue', {'v': 1}), ('dequeue', {})],\n",
       " [('enqueue', {'v': 1}), ('enqueue', {'v': 0})],\n",
       " [('enqueue', {'v': 1}), ('enqueue', {'v': 1})],\n",
       " [('dequeue', {}), ('dequeue', {}), ('dequeue', {})],\n",
       " [('dequeue', {}), ('dequeue', {}), ('enqueue', {'v': 0})],\n",
       " [('dequeue', {}), ('dequeue', {}), ('enqueue', {'v': 1})],\n",
       " [('dequeue', {}), ('enqueue', {'v': 0}), ('dequeue', {})],\n",
       " [('dequeue', {}), ('enqueue', {'v': 0}), ('enqueue', {'v': 0})],\n",
       " [('dequeue', {}), ('enqueue', {'v': 0}), ('enqueue', {'v': 1})],\n",
       " [('dequeue', {}), ('enqueue', {'v': 1}), ('dequeue', {})],\n",
       " [('dequeue', {}), ('enqueue', {'v': 1}), ('enqueue', {'v': 0})],\n",
       " [('dequeue', {}), ('enqueue', {'v': 1}), ('enqueue', {'v': 1})],\n",
       " [('enqueue', {'v': 0}), ('dequeue', {}), ('dequeue', {})],\n",
       " [('enqueue', {'v': 0}), ('dequeue', {}), ('enqueue', {'v': 0})],\n",
       " [('enqueue', {'v': 0}), ('dequeue', {}), ('enqueue', {'v': 1})],\n",
       " [('enqueue', {'v': 0}), ('enqueue', {'v': 0}), ('dequeue', {})],\n",
       " [('enqueue', {'v': 0}), ('enqueue', {'v': 0}), ('enqueue', {'v': 0})],\n",
       " [('enqueue', {'v': 0}), ('enqueue', {'v': 0}), ('enqueue', {'v': 1})],\n",
       " [('enqueue', {'v': 0}), ('enqueue', {'v': 1}), ('dequeue', {})],\n",
       " [('enqueue', {'v': 0}), ('enqueue', {'v': 1}), ('enqueue', {'v': 0})],\n",
       " [('enqueue', {'v': 0}), ('enqueue', {'v': 1}), ('enqueue', {'v': 1})],\n",
       " [('enqueue', {'v': 1}), ('dequeue', {}), ('dequeue', {})],\n",
       " [('enqueue', {'v': 1}), ('dequeue', {}), ('enqueue', {'v': 0})],\n",
       " [('enqueue', {'v': 1}), ('dequeue', {}), ('enqueue', {'v': 1})],\n",
       " [('enqueue', {'v': 1}), ('enqueue', {'v': 0}), ('dequeue', {})],\n",
       " [('enqueue', {'v': 1}), ('enqueue', {'v': 0}), ('enqueue', {'v': 0})],\n",
       " [('enqueue', {'v': 1}), ('enqueue', {'v': 0}), ('enqueue', {'v': 1})],\n",
       " [('enqueue', {'v': 1}), ('enqueue', {'v': 1}), ('dequeue', {})],\n",
       " [('enqueue', {'v': 1}), ('enqueue', {'v': 1}), ('enqueue', {'v': 0})],\n",
       " [('enqueue', {'v': 1}), ('enqueue', {'v': 1}), ('enqueue', {'v': 1})],\n",
       " [('dequeue', {}), ('dequeue', {}), ('dequeue', {}), ('dequeue', {})],\n",
       " [('dequeue', {}), ('dequeue', {}), ('dequeue', {}), ('enqueue', {'v': 0})],\n",
       " [('dequeue', {}), ('dequeue', {}), ('dequeue', {}), ('enqueue', {'v': 1})],\n",
       " [('dequeue', {}), ('dequeue', {}), ('enqueue', {'v': 0}), ('dequeue', {})],\n",
       " [('dequeue', {}),\n",
       "  ('dequeue', {}),\n",
       "  ('enqueue', {'v': 0}),\n",
       "  ('enqueue', {'v': 0})],\n",
       " [('dequeue', {}),\n",
       "  ('dequeue', {}),\n",
       "  ('enqueue', {'v': 0}),\n",
       "  ('enqueue', {'v': 1})],\n",
       " [('dequeue', {}), ('dequeue', {}), ('enqueue', {'v': 1}), ('dequeue', {})],\n",
       " [('dequeue', {}),\n",
       "  ('dequeue', {}),\n",
       "  ('enqueue', {'v': 1}),\n",
       "  ('enqueue', {'v': 0})],\n",
       " [('dequeue', {}),\n",
       "  ('dequeue', {}),\n",
       "  ('enqueue', {'v': 1}),\n",
       "  ('enqueue', {'v': 1})],\n",
       " [('dequeue', {}), ('enqueue', {'v': 0}), ('dequeue', {}), ('dequeue', {})],\n",
       " [('dequeue', {}),\n",
       "  ('enqueue', {'v': 0}),\n",
       "  ('dequeue', {}),\n",
       "  ('enqueue', {'v': 0})],\n",
       " [('dequeue', {}),\n",
       "  ('enqueue', {'v': 0}),\n",
       "  ('dequeue', {}),\n",
       "  ('enqueue', {'v': 1})],\n",
       " [('dequeue', {}),\n",
       "  ('enqueue', {'v': 0}),\n",
       "  ('enqueue', {'v': 0}),\n",
       "  ('dequeue', {})],\n",
       " [('dequeue', {}),\n",
       "  ('enqueue', {'v': 0}),\n",
       "  ('enqueue', {'v': 0}),\n",
       "  ('enqueue', {'v': 0})],\n",
       " [('dequeue', {}),\n",
       "  ('enqueue', {'v': 0}),\n",
       "  ('enqueue', {'v': 0}),\n",
       "  ('enqueue', {'v': 1})],\n",
       " [('dequeue', {}),\n",
       "  ('enqueue', {'v': 0}),\n",
       "  ('enqueue', {'v': 1}),\n",
       "  ('dequeue', {})],\n",
       " [('dequeue', {}),\n",
       "  ('enqueue', {'v': 0}),\n",
       "  ('enqueue', {'v': 1}),\n",
       "  ('enqueue', {'v': 0})],\n",
       " [('dequeue', {}),\n",
       "  ('enqueue', {'v': 0}),\n",
       "  ('enqueue', {'v': 1}),\n",
       "  ('enqueue', {'v': 1})],\n",
       " [('dequeue', {}), ('enqueue', {'v': 1}), ('dequeue', {}), ('dequeue', {})],\n",
       " [('dequeue', {}),\n",
       "  ('enqueue', {'v': 1}),\n",
       "  ('dequeue', {}),\n",
       "  ('enqueue', {'v': 0})],\n",
       " [('dequeue', {}),\n",
       "  ('enqueue', {'v': 1}),\n",
       "  ('dequeue', {}),\n",
       "  ('enqueue', {'v': 1})],\n",
       " [('dequeue', {}),\n",
       "  ('enqueue', {'v': 1}),\n",
       "  ('enqueue', {'v': 0}),\n",
       "  ('dequeue', {})],\n",
       " [('dequeue', {}),\n",
       "  ('enqueue', {'v': 1}),\n",
       "  ('enqueue', {'v': 0}),\n",
       "  ('enqueue', {'v': 0})],\n",
       " [('dequeue', {}),\n",
       "  ('enqueue', {'v': 1}),\n",
       "  ('enqueue', {'v': 0}),\n",
       "  ('enqueue', {'v': 1})],\n",
       " [('dequeue', {}),\n",
       "  ('enqueue', {'v': 1}),\n",
       "  ('enqueue', {'v': 1}),\n",
       "  ('dequeue', {})],\n",
       " [('dequeue', {}),\n",
       "  ('enqueue', {'v': 1}),\n",
       "  ('enqueue', {'v': 1}),\n",
       "  ('enqueue', {'v': 0})],\n",
       " [('dequeue', {}),\n",
       "  ('enqueue', {'v': 1}),\n",
       "  ('enqueue', {'v': 1}),\n",
       "  ('enqueue', {'v': 1})],\n",
       " [('enqueue', {'v': 0}), ('dequeue', {}), ('dequeue', {}), ('dequeue', {})],\n",
       " [('enqueue', {'v': 0}),\n",
       "  ('dequeue', {}),\n",
       "  ('dequeue', {}),\n",
       "  ('enqueue', {'v': 0})],\n",
       " [('enqueue', {'v': 0}),\n",
       "  ('dequeue', {}),\n",
       "  ('dequeue', {}),\n",
       "  ('enqueue', {'v': 1})],\n",
       " [('enqueue', {'v': 0}),\n",
       "  ('dequeue', {}),\n",
       "  ('enqueue', {'v': 0}),\n",
       "  ('dequeue', {})],\n",
       " [('enqueue', {'v': 0}),\n",
       "  ('dequeue', {}),\n",
       "  ('enqueue', {'v': 0}),\n",
       "  ('enqueue', {'v': 0})],\n",
       " [('enqueue', {'v': 0}),\n",
       "  ('dequeue', {}),\n",
       "  ('enqueue', {'v': 0}),\n",
       "  ('enqueue', {'v': 1})],\n",
       " [('enqueue', {'v': 0}),\n",
       "  ('dequeue', {}),\n",
       "  ('enqueue', {'v': 1}),\n",
       "  ('dequeue', {})],\n",
       " [('enqueue', {'v': 0}),\n",
       "  ('dequeue', {}),\n",
       "  ('enqueue', {'v': 1}),\n",
       "  ('enqueue', {'v': 0})],\n",
       " [('enqueue', {'v': 0}),\n",
       "  ('dequeue', {}),\n",
       "  ('enqueue', {'v': 1}),\n",
       "  ('enqueue', {'v': 1})],\n",
       " [('enqueue', {'v': 0}),\n",
       "  ('enqueue', {'v': 0}),\n",
       "  ('dequeue', {}),\n",
       "  ('dequeue', {})],\n",
       " [('enqueue', {'v': 0}),\n",
       "  ('enqueue', {'v': 0}),\n",
       "  ('dequeue', {}),\n",
       "  ('enqueue', {'v': 0})],\n",
       " [('enqueue', {'v': 0}),\n",
       "  ('enqueue', {'v': 0}),\n",
       "  ('dequeue', {}),\n",
       "  ('enqueue', {'v': 1})],\n",
       " [('enqueue', {'v': 0}),\n",
       "  ('enqueue', {'v': 0}),\n",
       "  ('enqueue', {'v': 0}),\n",
       "  ('dequeue', {})],\n",
       " [('enqueue', {'v': 0}),\n",
       "  ('enqueue', {'v': 0}),\n",
       "  ('enqueue', {'v': 0}),\n",
       "  ('enqueue', {'v': 0})],\n",
       " [('enqueue', {'v': 0}),\n",
       "  ('enqueue', {'v': 0}),\n",
       "  ('enqueue', {'v': 0}),\n",
       "  ('enqueue', {'v': 1})],\n",
       " [('enqueue', {'v': 0}),\n",
       "  ('enqueue', {'v': 0}),\n",
       "  ('enqueue', {'v': 1}),\n",
       "  ('dequeue', {})],\n",
       " [('enqueue', {'v': 0}),\n",
       "  ('enqueue', {'v': 0}),\n",
       "  ('enqueue', {'v': 1}),\n",
       "  ('enqueue', {'v': 0})],\n",
       " [('enqueue', {'v': 0}),\n",
       "  ('enqueue', {'v': 0}),\n",
       "  ('enqueue', {'v': 1}),\n",
       "  ('enqueue', {'v': 1})],\n",
       " [('enqueue', {'v': 0}),\n",
       "  ('enqueue', {'v': 1}),\n",
       "  ('dequeue', {}),\n",
       "  ('dequeue', {})],\n",
       " [('enqueue', {'v': 0}),\n",
       "  ('enqueue', {'v': 1}),\n",
       "  ('dequeue', {}),\n",
       "  ('enqueue', {'v': 0})],\n",
       " [('enqueue', {'v': 0}),\n",
       "  ('enqueue', {'v': 1}),\n",
       "  ('dequeue', {}),\n",
       "  ('enqueue', {'v': 1})],\n",
       " [('enqueue', {'v': 0}),\n",
       "  ('enqueue', {'v': 1}),\n",
       "  ('enqueue', {'v': 0}),\n",
       "  ('dequeue', {})],\n",
       " [('enqueue', {'v': 0}),\n",
       "  ('enqueue', {'v': 1}),\n",
       "  ('enqueue', {'v': 0}),\n",
       "  ('enqueue', {'v': 0})],\n",
       " [('enqueue', {'v': 0}),\n",
       "  ('enqueue', {'v': 1}),\n",
       "  ('enqueue', {'v': 0}),\n",
       "  ('enqueue', {'v': 1})],\n",
       " [('enqueue', {'v': 0}),\n",
       "  ('enqueue', {'v': 1}),\n",
       "  ('enqueue', {'v': 1}),\n",
       "  ('dequeue', {})],\n",
       " [('enqueue', {'v': 0}),\n",
       "  ('enqueue', {'v': 1}),\n",
       "  ('enqueue', {'v': 1}),\n",
       "  ('enqueue', {'v': 0})],\n",
       " [('enqueue', {'v': 0}),\n",
       "  ('enqueue', {'v': 1}),\n",
       "  ('enqueue', {'v': 1}),\n",
       "  ('enqueue', {'v': 1})],\n",
       " [('enqueue', {'v': 1}), ('dequeue', {}), ('dequeue', {}), ('dequeue', {})],\n",
       " [('enqueue', {'v': 1}),\n",
       "  ('dequeue', {}),\n",
       "  ('dequeue', {}),\n",
       "  ('enqueue', {'v': 0})],\n",
       " [('enqueue', {'v': 1}),\n",
       "  ('dequeue', {}),\n",
       "  ('dequeue', {}),\n",
       "  ('enqueue', {'v': 1})],\n",
       " [('enqueue', {'v': 1}),\n",
       "  ('dequeue', {}),\n",
       "  ('enqueue', {'v': 0}),\n",
       "  ('dequeue', {})],\n",
       " [('enqueue', {'v': 1}),\n",
       "  ('dequeue', {}),\n",
       "  ('enqueue', {'v': 0}),\n",
       "  ('enqueue', {'v': 0})],\n",
       " [('enqueue', {'v': 1}),\n",
       "  ('dequeue', {}),\n",
       "  ('enqueue', {'v': 0}),\n",
       "  ('enqueue', {'v': 1})],\n",
       " [('enqueue', {'v': 1}),\n",
       "  ('dequeue', {}),\n",
       "  ('enqueue', {'v': 1}),\n",
       "  ('dequeue', {})]]"
      ]
     },
     "execution_count": 42,
     "metadata": {},
     "output_type": "execute_result"
    }
   ],
   "source": [
    "list(firstn(test_cases_for(BasicQueue, [0, 1]), 100))"
   ]
  },
  {
   "cell_type": "markdown",
   "metadata": {},
   "source": [
    "The last ingredient is a way to run a test case against two classes, checking that they always agree on return values."
   ]
  },
  {
   "cell_type": "code",
   "execution_count": 309,
   "metadata": {},
   "outputs": [],
   "source": [
    "def run_test_case(cls1, cls2, case):\n",
    "    \"\"\"We are given two classes and a test case.\n",
    "    Confirm that the two classes give the same answers on this test case.\"\"\"\n",
    "    \n",
    "    v1 = cls1()\n",
    "    v2 = cls2()\n",
    "    for method, args in case:\n",
    "        # The fanciness below enforces that both methods either return the same value\n",
    "        # or both raise exceptions.  (For simplicity, we don't enforce that *the same*\n",
    "        # exception is raised.)\n",
    "        try:\n",
    "            r1 = getattr(v1, method)(**args)\n",
    "        except Exception:\n",
    "            r1 = Exception\n",
    "        \n",
    "        try:\n",
    "            r2 = getattr(v2, method)(**args)\n",
    "        except Exception:\n",
    "            r2 = Exception\n",
    "        \n",
    "        if r1 != r2:\n",
    "            print('Test case failed:', case)\n",
    "            assert False"
   ]
  },
  {
   "cell_type": "code",
   "execution_count": 310,
   "metadata": {},
   "outputs": [],
   "source": [
    "run_test_case(BasicQueue, FancyQueue, [('enqueue', {'v': 0}), ('dequeue', {})])"
   ]
  },
  {
   "cell_type": "markdown",
   "metadata": {},
   "source": [
    "Now it is easy to run our two classes head-to-head for as many distinct test cases as we like."
   ]
  },
  {
   "cell_type": "code",
   "execution_count": 311,
   "metadata": {},
   "outputs": [],
   "source": [
    "for case in firstn(test_cases_for(BasicQueue, [0, 1]), 100): run_test_case(BasicQueue, FancyQueue, case)"
   ]
  },
  {
   "cell_type": "markdown",
   "metadata": {},
   "source": [
    "So far so good!  We could even go further and compare the two classes on *all* possible test cases (for our chosen set of arguments).  Of course this comparison will never finish if the classes truly match, but you could leave it running overnight to keep building confidence!  Notice how here it is important that a generator needn't write all its outputs into a list somewhere.  Even when there are only finitely many outputs, it could take up a lot of memory storing them all somewhere.  Our approach with generators materializes each test case as it is needed, taking up very little space."
   ]
  },
  {
   "cell_type": "code",
   "execution_count": 312,
   "metadata": {},
   "outputs": [],
   "source": [
    "#for case in test_cases_for(BasicQueue, range(10)): run_test_case(BasicQueue, FancyQueue, case)\n",
    "# Warning: uncommenting the prior line leads to intentional infinite execution!"
   ]
  }
 ],
 "metadata": {
  "kernelspec": {
   "display_name": "Python 3",
   "language": "python",
   "name": "python3"
  },
  "language_info": {
   "codemirror_mode": {
    "name": "ipython",
    "version": 3
   },
   "file_extension": ".py",
   "mimetype": "text/x-python",
   "name": "python",
   "nbconvert_exporter": "python",
   "pygments_lexer": "ipython3",
   "version": "3.10.12"
  }
 },
 "nbformat": 4,
 "nbformat_minor": 2
}
