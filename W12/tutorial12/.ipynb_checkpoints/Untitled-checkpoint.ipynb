{
 "cells": [
  {
   "cell_type": "markdown",
   "metadata": {},
   "source": [
    "# Symbolic Algebra"
   ]
  },
  {
   "cell_type": "markdown",
   "metadata": {},
   "source": [
    "We're going to build a way to build, derive, and evaluate algebraic expressions. We want to be able to construct expressions that contain variables, numbers and operators."
   ]
  },
  {
   "cell_type": "markdown",
   "metadata": {},
   "source": [
    "The expressions we are going to care about can all be broken down into a bunch of binary expressions of the form\n",
    "\n",
    "L op R\n",
    "\n",
    "We can rewrite the following expression\n",
    "\n",
    "8y * 7x^2 + 3\n",
    "\n",
    "((8 * y) * (7 * (x * x))) + 3"
   ]
  },
  {
   "cell_type": "markdown",
   "metadata": {},
   "source": [
    "The operations we want to do are similar for many types of expressions. We will use Classes and other Object Oriented Programming (OOP) principles to\n",
    "   \n",
    "   1. Reduce the amount of repeated code\n",
    "   2. Make it easy to add new expressions"
   ]
  },
  {
   "cell_type": "markdown",
   "metadata": {},
   "source": [
    "### Class Hierarchy\n",
    "\n",
    "Our expressions will be made up of variables, numbers and binary operations. Each of this will be referred to as symbols. There will be functionality common to all of them. As a result, they will all extend a Symbol class that will maintain it\n",
    "\n",
    "The Var class will represent variables\n",
    "\n",
    "The Num class will represent numbers\n",
    "\n",
    "The BinOp class will hold logic common to all expressions of the form L op R This includes  \n",
    "&nbsp;&nbsp;&nbsp;&nbsp;Add (Adding)  \n",
    "&nbsp;&nbsp;&nbsp;&nbsp;Sub (Subtract)  \n",
    "&nbsp;&nbsp;&nbsp;&nbsp;Mul (Multiplication)  \n",
    "&nbsp;&nbsp;&nbsp;&nbsp;Div (Division)  \n",
    "\n",
    "The class hierarchy tree is below"
   ]
  },
  {
   "cell_type": "markdown",
   "metadata": {},
   "source": [
    "Symbol  \n",
    "│─── Var  \n",
    "│─── Num  \n",
    "│─── BinOp  \n",
    "&nbsp;&nbsp;&nbsp;&nbsp;│─── Add  \n",
    "&nbsp;&nbsp;&nbsp;&nbsp;│─── Sub  \n",
    "&nbsp;&nbsp;&nbsp;&nbsp;│─── Mul  \n",
    "&nbsp;&nbsp;&nbsp;&nbsp;│─── Div  "
   ]
  },
  {
   "cell_type": "code",
   "execution_count": 38,
   "metadata": {},
   "outputs": [],
   "source": [
    "class Symbol:\n",
    "    def __add__(left, right):\n",
    "        return Add(left, right)\n",
    "\n",
    "    def __sub__(left, right):\n",
    "        return Sub(left, right)\n",
    "\n",
    "    def __mul__(left, right):\n",
    "        return Mul(left, right)\n",
    "\n",
    "    def __truediv__(left, right):\n",
    "        return Div(left, right)\n",
    "\n",
    "    def __radd__(left, right):\n",
    "        return Add(left, right)\n",
    "\n",
    "    def __rsub__(left, right):\n",
    "        return Sub(left, right)\n",
    "\n",
    "    def __rmul__(left, right):\n",
    "        return Mul(left, right)\n",
    "\n",
    "    def __rtruediv__(left, right):\n",
    "        return Div(left, right)\n",
    "\n",
    "\n",
    "class Var(Symbol):\n",
    "    def __init__(self, n):\n",
    "        \"\"\"\n",
    "        Initializer.  Store an instance variable called `name`, containing the\n",
    "        value passed in to the initializer.\n",
    "        \"\"\"\n",
    "        self.name = n\n",
    "\n",
    "    def __str__(self):\n",
    "        return self.name\n",
    "\n",
    "    def __repr__(self):\n",
    "        return 'Var(' + repr(self.name) + ')'\n",
    "\n",
    "    def deriv(self, name):\n",
    "        if self.name == name:\n",
    "            return Num(1)\n",
    "        else:\n",
    "            return Num(0)\n",
    "    \n",
    "    def _eval(self, mapping):\n",
    "        if self.name in mapping:\n",
    "            return mapping[self.name]\n",
    "        else:\n",
    "            return self\n",
    "\n",
    "\n",
    "class Num(Symbol):\n",
    "    def __init__(self, n):\n",
    "        \"\"\"\n",
    "        Initializer.  Store an instance variable called `n`, containing the\n",
    "        value passed in to the initializer.\n",
    "        \"\"\"\n",
    "        self.n = n\n",
    "\n",
    "    def __str__(self):\n",
    "        return str(self.n)\n",
    "\n",
    "    def __repr__(self):\n",
    "        return 'Num(' + repr(self.n) + ')'\n",
    "    \n",
    "    def deriv(self, value):\n",
    "        return Num(0)\n",
    "\n",
    "    def _eval(self, mapping):\n",
    "        return self.n"
   ]
  },
  {
   "cell_type": "code",
   "execution_count": 39,
   "metadata": {},
   "outputs": [],
   "source": [
    "class BinOp(Symbol):\n",
    "    def __init__(self, left, right):\n",
    "        left_type = type(left)\n",
    "        if isinstance(left, Symbol): self.left = left\n",
    "        elif left_type == str: self.left = Var(left)\n",
    "        elif left_type == int:self.left = Num(left)\n",
    "        else: raise TypeError(\n",
    "                \"left is of an invalid type {}\".format(\n",
    "                    left_type,\n",
    "                )\n",
    "            )\n",
    "        right_type = type(right)\n",
    "        if isinstance(right, Symbol): self.right = right\n",
    "        elif right_type == str: self.right = Var(right)\n",
    "        elif right_type == int: self.right = Num(right)\n",
    "        else: raise TypeError(\n",
    "                \"right is of an invalid type {}\".format(\n",
    "                    right_type,\n",
    "                )\n",
    "            )\n",
    "\n",
    "        self._operator = None\n",
    "        self._order = None\n",
    "        self._special = None\n",
    "\n",
    "    def __repr__(self):\n",
    "        name = self.__class__.__name__\n",
    "        return name + \"(\" + repr(self.left) + \", \" + repr(self.right) + \")\"\n",
    "\n",
    "    def __str__(self):\n",
    "        operand_string = \" \" + self._operator + \" \"\n",
    "        if isinstance(self.left, BinOp):\n",
    "            if self.left._order < self._order:\n",
    "                left_string = \"(\" + str(self.left) + \")\"\n",
    "            else:\n",
    "                left_string = str(self.left)\n",
    "        else:\n",
    "            left_string = str(self.left)\n",
    "        if isinstance(self.right, BinOp):\n",
    "            if self.right._order < self._order or (self.right._order == self._order and self._special):\n",
    "                right_string = \"(\" + str(self.right) + \")\"\n",
    "            else:\n",
    "                right_string = str(self.right)\n",
    "        else:\n",
    "            right_string = str(self.right)\n",
    "        return left_string + operand_string + right_string"
   ]
  },
  {
   "cell_type": "code",
   "execution_count": 40,
   "metadata": {},
   "outputs": [],
   "source": [
    "class Add(BinOp):\n",
    "    def __init__(self, left, right):\n",
    "        BinOp.__init__(self, left, right)\n",
    "        self._operator = '+'\n",
    "        self._order = 0\n",
    "        self._special = True\n",
    "\n",
    "    def deriv(self, value):\n",
    "        return Add(self.left.deriv(value), self.right.deriv(value))\n",
    "\n",
    "    def _eval(self, mapping):\n",
    "        return self.left._eval(mapping) + self.right._eval(mapping)\n",
    "\n",
    "class Sub(BinOp):\n",
    "    def __init__(self, left, right):\n",
    "        BinOp.__init__(self, left, right)\n",
    "        self._operator = '-'\n",
    "        self._order = 1\n",
    "        self._special = True\n",
    "    \n",
    "    def deriv(self, value):\n",
    "        return Sub(self.left.deriv(value), self.right.deriv(value))\n",
    "\n",
    "    def _eval(self, mapping):\n",
    "        return self.left._eval(mapping) - self.right._eval(mapping)\n",
    "\n",
    "\n",
    "class Mul(BinOp):\n",
    "    def __init__(self, left, right):\n",
    "        BinOp.__init__(self, left, right)\n",
    "        self._operator = '*'\n",
    "        self._order = 1\n",
    "        self._special = False\n",
    "\n",
    "    def deriv(self, value):\n",
    "        left_deriv = self.left.deriv(value)\n",
    "        right_deriv = self.right.deriv(value)\n",
    "        return Add(Mul(self.left, right_deriv), Mul(left_deriv, self.right))\n",
    "\n",
    "    def _eval(self, mapping):\n",
    "        return self.left._eval(mapping) * self.right._eval(mapping)\n",
    "\n",
    "class Div(BinOp):\n",
    "    def __init__(self, left, right):\n",
    "        BinOp.__init__(self, left, right)\n",
    "        self._operator = '/'\n",
    "        self._order = 1\n",
    "        self._special = True\n",
    "    \n",
    "    def deriv(self, value):\n",
    "        left_deriv = self.left.deriv(value)\n",
    "        right_deriv = self.right.deriv(value)\n",
    "        return Div(Sub(Mul(self.right, left_deriv), Mul(self.left, right_deriv)), Mul(self.right, self.right))\n",
    "\n",
    "    def _eval(self, mapping):\n",
    "        return self.left._eval(mapping) / self.right._eval(mapping)"
   ]
  },
  {
   "cell_type": "code",
   "execution_count": 41,
   "metadata": {},
   "outputs": [],
   "source": [
    "x = Var('x')\n",
    "y = Var('y')"
   ]
  },
  {
   "cell_type": "code",
   "execution_count": 42,
   "metadata": {},
   "outputs": [
    {
     "data": {
      "text/plain": [
       "Add(Var('y'), Num(5))"
      ]
     },
     "execution_count": 42,
     "metadata": {},
     "output_type": "execute_result"
    }
   ],
   "source": [
    "expr._eval({'x':5})"
   ]
  },
  {
   "cell_type": "code",
   "execution_count": null,
   "metadata": {},
   "outputs": [],
   "source": []
  },
  {
   "cell_type": "code",
   "execution_count": null,
   "metadata": {},
   "outputs": [],
   "source": []
  }
 ],
 "metadata": {
  "kernelspec": {
   "display_name": "Python 3",
   "language": "python",
   "name": "python3"
  },
  "language_info": {
   "codemirror_mode": {
    "name": "ipython",
    "version": 3
   },
   "file_extension": ".py",
   "mimetype": "text/x-python",
   "name": "python",
   "nbconvert_exporter": "python",
   "pygments_lexer": "ipython3",
   "version": "3.6.7"
  }
 },
 "nbformat": 4,
 "nbformat_minor": 2
}
