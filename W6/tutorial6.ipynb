{
 "cells": [
  {
   "cell_type": "markdown",
   "metadata": {
    "collapsed": true
   },
   "source": [
    "# Nested Data Structures: Navigating MIT"
   ]
  },
  {
   "cell_type": "markdown",
   "metadata": {},
   "source": [
    "Today, we'll build and modify a recursive data structure: a graph containing nodes representing courses. We maintain directed edges in the graph to represent prerequisites. We'll see that organizing the data in such a structure makes it easier to answer the questions we're interested in."
   ]
  },
  {
   "cell_type": "markdown",
   "metadata": {},
   "source": [
    "## Freshman Year\n",
    "You're an excited course 6 freshman, and you have a list of courses you want to take:"
   ]
  },
  {
   "cell_type": "code",
   "execution_count": 1,
   "metadata": {
    "collapsed": true
   },
   "outputs": [],
   "source": [
    "my_courses = [\n",
    "    '6.0001',\n",
    "    '6.004',\n",
    "    '6.009',\n",
    "    '6.042',\n",
    "    '6.006',\n",
    "    '6.031',\n",
    "    '6.170',\n",
    "    '6.033'\n",
    "]"
   ]
  },
  {
   "cell_type": "markdown",
   "metadata": {},
   "source": [
    "You have discovered that there are ratings for the courses you're interested in:"
   ]
  },
  {
   "cell_type": "code",
   "execution_count": 2,
   "metadata": {
    "collapsed": true
   },
   "outputs": [],
   "source": [
    "my_courses_with_ratings = [\n",
    "    ('6.0001', 6.8),\n",
    "    ('6.004', 6.6),\n",
    "    ('6.009', 7),\n",
    "    ('6.042', 6.2),\n",
    "    ('6.006', 6.8),\n",
    "    ('6.031', 6.5),\n",
    "    ('6.170', 6.3),\n",
    "    ('6.033', 6.4),\n",
    "]"
   ]
  },
  {
   "cell_type": "markdown",
   "metadata": {},
   "source": [
    "Just as you try to register for all of your courses in one semester, you recall that some of the courses have prerequisites. You browse the course catalog and make the prereqs list here. The first element in the tuple is the course that is required for the second element."
   ]
  },
  {
   "cell_type": "code",
   "execution_count": 3,
   "metadata": {
    "collapsed": true
   },
   "outputs": [],
   "source": [
    "prereqs = [\n",
    "    ('6.0001', '6.009'),\n",
    "    ('6.0001', '6.006'),\n",
    "    ('6.0001', '6.004'),\n",
    "    ('6.0001', '6.01'),\n",
    "    ('6.009', '6.031'),\n",
    "    ('6.031', '6.170'),\n",
    "    ('6.004', '6.033'),\n",
    "    ('6.042', '6.006'),\n",
    "    ('6.006', '6.046'),\n",
    "    ('6.003', '6.011'),\n",
    "    ('6.0001', '6.02'),\n",
    "    ('18.01', '18.02'),\n",
    "    ('18.02', '18.03'),\n",
    "    ('18.02', '18.06'),\n",
    "    ('8.01', '8.02'),\n",
    "    ('18.06', '18.065'),\n",
    "    ('6.004', '6.823'),\n",
    "    ('6.033', '6.824'),\n",
    "    ('6.042', '6.045'),\n",
    "    ('6.009', '6.033'),\n",
    "    ('6.031', '6.172'),\n",
    "    ('6.006', '6.172'),\n",
    "    ('6.004', '6.172'),\n",
    "    ('6.031', '6.170'),\n",
    "    ('6.006', '6.170'),\n",
    "    ('18.02', '18.600'),\n",
    "    ('18.600', '18.650'),\n",
    "    ('18.03', '6.003'),\n",
    "    ('8.02', '6.003'),\n",
    "]"
   ]
  },
  {
   "cell_type": "markdown",
   "metadata": {},
   "source": [
    "Noticing that your prereq list is much longer than the list of courses you want to take, you decide to preprocess the data into a more useful form. "
   ]
  },
  {
   "cell_type": "code",
   "execution_count": 4,
   "metadata": {
    "collapsed": true
   },
   "outputs": [],
   "source": [
    "class Course:\n",
    "    def __init__(self, number, rating):\n",
    "        self.number = number\n",
    "        self.rating = rating\n",
    "        self.prereqs = {}\n",
    "        self.following = {}\n",
    "        \n",
    "    def get_immediate_prereqs(self):\n",
    "        return list(self.prereqs.values())\n",
    "    \n",
    "    def get_immediate_following(self):\n",
    "        return list(self.following.values())\n",
    "    \n",
    "    def add_prereq(self, prereq):\n",
    "        self.prereqs[prereq.number] = prereq\n",
    "    \n",
    "    def add_following(self, following):\n",
    "        self.following[following.number] = following\n",
    "        \n",
    "    def remove_prereq(self, prereq):\n",
    "        del self.prereqs[prereq.number]\n",
    "        \n",
    "    def remove_following(self, following):\n",
    "        del self.following[following.number]\n",
    "    \n",
    "    def get_all_prereqs(self):\n",
    "        all_prereqs = self.prereqs.copy()\n",
    "        \n",
    "        # Recursively find the prereq's prereqs\n",
    "        for prereq in self.prereqs.values():\n",
    "            all_prereqs.update(prereq.get_all_prereqs())\n",
    "            \n",
    "        return all_prereqs\n",
    "    \n",
    "    def get_all_following(self):\n",
    "        all_following = self.following.copy()\n",
    "        \n",
    "        # Recursively find the following's followings\n",
    "        for following in self.following.values():\n",
    "            all_following.update(following.get_all_following())\n",
    "            \n",
    "        return all_following\n",
    "    \n",
    "    def is_recommended(self, min_rating):\n",
    "        class_is_recommended = self.rating >= min_rating\n",
    "        prereqs_are_recommended = all({pr.is_recommended(min_rating) for pr in self.get_immediate_prereqs()})\n",
    "        return class_is_recommended and prereqs_are_recommended"
   ]
  },
  {
   "cell_type": "markdown",
   "metadata": {},
   "source": [
    "Now that you can represent a single course, you want to make a CourseRoad to help you map out your MIT career. "
   ]
  },
  {
   "cell_type": "code",
   "execution_count": 5,
   "metadata": {
    "collapsed": true
   },
   "outputs": [],
   "source": [
    "class CourseRoad:\n",
    "    def __init__(self, courses, prereqs):\n",
    "        self.courses = {}\n",
    "        self.intros = set()\n",
    "        \n",
    "        for course_number, rating in courses:\n",
    "            self.courses[course_number] = Course(course_number, rating)\n",
    "        \n",
    "        for prereq_number, following_number in prereqs:\n",
    "            if prereq_number in self.courses and following_number in self.courses:\n",
    "                self.make_prereq(prereq_number, following_number)\n",
    "                \n",
    "        for course in self.courses.values():\n",
    "            if len(course.get_immediate_prereqs()) == 0:\n",
    "                self.intros.add(course.number)\n",
    "        \n",
    "    def make_prereq(self, prereq_number, following_number):\n",
    "        prereq = self.courses[prereq_number]\n",
    "        following = self.courses[following_number]\n",
    "        \n",
    "        prereq.add_following(following)\n",
    "        following.add_prereq(prereq)\n",
    "            \n",
    "    def get_course_ordering(self):\n",
    "        def helper(course, taken):\n",
    "            course_order = []\n",
    "            for following in course.get_immediate_following():\n",
    "                # Take the course if all prereqs are satisfied\n",
    "                if all({c.number in taken for c in following.get_immediate_prereqs()}):\n",
    "                    taken.add(following.number)\n",
    "                    course_order.append(following.number)\n",
    "                    course_order += helper(following, taken)\n",
    "            return course_order\n",
    "        \n",
    "        course_order = []\n",
    "        taken = set()\n",
    "        \n",
    "        for intro_number in self.intros:\n",
    "            intro_course = self.courses[intro_number]\n",
    "            \n",
    "            # Take the intro course\n",
    "            course_order.append(intro_number)\n",
    "            taken.add(intro_number)\n",
    "            \n",
    "            # Take the courses following the intro course\n",
    "            course_order.extend(helper(intro_course, taken))\n",
    "            \n",
    "        return course_order\n",
    "        \n",
    "    def delete_course(self, course_number):\n",
    "        course = self.courses[course_number]\n",
    "        del self.courses[course_number]\n",
    "        \n",
    "        for following in course.get_immediate_following():\n",
    "            following.remove_prereq(course)\n",
    "            \n",
    "        for prereq in course.get_immediate_prereqs():\n",
    "            prereq.remove_following(course)\n",
    "            \n",
    "        for following in course.get_immediate_following():\n",
    "            for prereq in course.get_immediate_prereqs():\n",
    "                prereq.add_following(following)\n",
    "                following.add_prereq(prereq)\n",
    "    \n",
    "    def is_course_recommended(self, course_number, min_rating):\n",
    "        return self.courses[course_number].is_recommended(min_rating)\n",
    "    \n",
    "    def get_all_prereqs(self, course_number):\n",
    "        return set(self.courses[course_number].get_all_prereqs().keys())\n",
    "    \n",
    "    def get_all_following(self, course_number):\n",
    "        return set(self.courses[course_number].get_all_following().keys())\n",
    "    \n",
    "    def print_out(self):\n",
    "        \"\"\"\n",
    "        For debugging and visualization purposes only.\n",
    "        \"\"\"\n",
    "        for number, course in self.courses.items():\n",
    "            prereq_numbers = {c.number for c in course.get_immediate_prereqs()}\n",
    "            following_numbers = {c.number for c in course.get_immediate_following()}\n",
    "            print(\n",
    "                \"{0:21}{1:5}{2:10}{3:5}{4:20}\".format(\n",
    "                    \"\" if prereq_numbers == set() else str(prereq_numbers),\n",
    "                    \"\" if prereq_numbers == set() else \"->\",\n",
    "                    number,\n",
    "                    \"\" if following_numbers == set() else \"->\",\n",
    "                    \"\" if following_numbers == set() else str(following_numbers),\n",
    "                )\n",
    "            )\n",
    "    "
   ]
  },
  {
   "cell_type": "code",
   "execution_count": 6,
   "metadata": {
    "collapsed": true
   },
   "outputs": [],
   "source": [
    "my_courseroad = CourseRoad(my_courses_with_ratings, prereqs)"
   ]
  },
  {
   "cell_type": "code",
   "execution_count": 7,
   "metadata": {},
   "outputs": [
    {
     "name": "stdout",
     "output_type": "stream",
     "text": [
      "                          6.0001    ->   {'6.009', '6.006', '6.004'}\n",
      "{'6.0001'}           ->   6.004     ->   {'6.033'}           \n",
      "{'6.0001'}           ->   6.009     ->   {'6.033', '6.031'}  \n",
      "                          6.042     ->   {'6.006'}           \n",
      "{'6.0001', '6.042'}  ->   6.006     ->   {'6.170'}           \n",
      "{'6.009'}            ->   6.031     ->   {'6.170'}           \n",
      "{'6.006', '6.031'}   ->   6.170                              \n",
      "{'6.009', '6.004'}   ->   6.033                              \n"
     ]
    }
   ],
   "source": [
    "my_courseroad.print_out()"
   ]
  },
  {
   "cell_type": "markdown",
   "metadata": {},
   "source": [
    "## Sophomore Year \n",
    "Wanting to plan your life even more, you want a function in CourseRoad that will give you a valid ordering of the courses you want to take, so that all of the prerequisites are fulfilled for a course before you take it."
   ]
  },
  {
   "cell_type": "code",
   "execution_count": 8,
   "metadata": {
    "collapsed": true
   },
   "outputs": [],
   "source": [
    "my_courseroad = CourseRoad(my_courses_with_ratings, prereqs)"
   ]
  },
  {
   "cell_type": "code",
   "execution_count": 9,
   "metadata": {},
   "outputs": [
    {
     "data": {
      "text/plain": [
       "['6.0001', '6.009', '6.031', '6.004', '6.033', '6.042', '6.006', '6.170']"
      ]
     },
     "execution_count": 9,
     "metadata": {},
     "output_type": "execute_result"
    }
   ],
   "source": [
    "my_courseroad.get_course_ordering()"
   ]
  },
  {
   "cell_type": "markdown",
   "metadata": {},
   "source": [
    "## Junior Year\n",
    "This year, you're starting to feel a bit hosed. Your friend tells you that 6.031 is a super hard course, so you decide to pretend it doesn't exist: you will not take the course. But, any prereqs for 6.031 will have to be prereqs for courses that require it. You add functionality to your CourseRoad accordingly."
   ]
  },
  {
   "cell_type": "code",
   "execution_count": 10,
   "metadata": {
    "collapsed": true
   },
   "outputs": [],
   "source": [
    "my_courseroad = CourseRoad(my_courses_with_ratings, prereqs)"
   ]
  },
  {
   "cell_type": "code",
   "execution_count": 11,
   "metadata": {
    "collapsed": true
   },
   "outputs": [],
   "source": [
    "my_courseroad.delete_course('6.031')"
   ]
  },
  {
   "cell_type": "code",
   "execution_count": 12,
   "metadata": {},
   "outputs": [
    {
     "name": "stdout",
     "output_type": "stream",
     "text": [
      "                          6.0001    ->   {'6.009', '6.006', '6.004'}\n",
      "{'6.0001'}           ->   6.004     ->   {'6.033'}           \n",
      "{'6.0001'}           ->   6.009     ->   {'6.170', '6.033'}  \n",
      "                          6.042     ->   {'6.006'}           \n",
      "{'6.0001', '6.042'}  ->   6.006     ->   {'6.170'}           \n",
      "{'6.009', '6.006'}   ->   6.170                              \n",
      "{'6.009', '6.004'}   ->   6.033                              \n"
     ]
    }
   ],
   "source": [
    "my_courseroad.print_out()"
   ]
  },
  {
   "cell_type": "code",
   "execution_count": 13,
   "metadata": {},
   "outputs": [
    {
     "data": {
      "text/plain": [
       "['6.0001', '6.009', '6.004', '6.033', '6.042', '6.006', '6.170']"
      ]
     },
     "execution_count": 13,
     "metadata": {},
     "output_type": "execute_result"
    }
   ],
   "source": [
    "my_courseroad.get_course_ordering()"
   ]
  },
  {
   "cell_type": "markdown",
   "metadata": {},
   "source": [
    "## Senior Year\n",
    "Now that you've taken many classes at MIT, you'd like to know whether or not you've taken all the prereqs for a particular course. This includes both the immediate prereqs and the prereqs of those prereqs. Similarly, you'd like to know all of the courses that follow a course you've liked"
   ]
  },
  {
   "cell_type": "code",
   "execution_count": 14,
   "metadata": {
    "collapsed": true
   },
   "outputs": [],
   "source": [
    "my_courseroad = CourseRoad(my_courses_with_ratings, prereqs)"
   ]
  },
  {
   "cell_type": "code",
   "execution_count": 15,
   "metadata": {},
   "outputs": [
    {
     "data": {
      "text/plain": [
       "{'6.0001', '6.006', '6.009', '6.031', '6.042'}"
      ]
     },
     "execution_count": 15,
     "metadata": {},
     "output_type": "execute_result"
    }
   ],
   "source": [
    "my_courseroad.get_all_prereqs('6.170')"
   ]
  },
  {
   "cell_type": "code",
   "execution_count": 16,
   "metadata": {},
   "outputs": [
    {
     "data": {
      "text/plain": [
       "{'6.0001', '6.009'}"
      ]
     },
     "execution_count": 16,
     "metadata": {},
     "output_type": "execute_result"
    }
   ],
   "source": [
    "my_courseroad.get_all_prereqs('6.031')"
   ]
  },
  {
   "cell_type": "code",
   "execution_count": 17,
   "metadata": {},
   "outputs": [
    {
     "data": {
      "text/plain": [
       "{'6.170'}"
      ]
     },
     "execution_count": 17,
     "metadata": {},
     "output_type": "execute_result"
    }
   ],
   "source": [
    "my_courseroad.get_all_following('6.031')"
   ]
  },
  {
   "cell_type": "code",
   "execution_count": 18,
   "metadata": {},
   "outputs": [
    {
     "data": {
      "text/plain": [
       "set()"
      ]
     },
     "execution_count": 18,
     "metadata": {},
     "output_type": "execute_result"
    }
   ],
   "source": [
    "my_courseroad.get_all_following('6.170')"
   ]
  },
  {
   "cell_type": "markdown",
   "metadata": {},
   "source": [
    "## Super Senior Year\n",
    "Remembering your lovely days in 6.009, you realize that your standards are high for the courses you'll take in your extra year. You only wish to take courses above a certain rating, all of the prereqs (and prereqs of prereqs) of which are also above that rating. You add functionality to your CourseRoad to tell you if a course and all of its prereqs are above your standard."
   ]
  },
  {
   "cell_type": "code",
   "execution_count": 19,
   "metadata": {
    "collapsed": true
   },
   "outputs": [],
   "source": [
    "my_courseroad = CourseRoad(my_courses_with_ratings, prereqs)"
   ]
  },
  {
   "cell_type": "code",
   "execution_count": 20,
   "metadata": {},
   "outputs": [
    {
     "data": {
      "text/plain": [
       "True"
      ]
     },
     "execution_count": 20,
     "metadata": {},
     "output_type": "execute_result"
    }
   ],
   "source": [
    "my_courseroad.is_course_recommended('6.170', 6.1)"
   ]
  },
  {
   "cell_type": "code",
   "execution_count": 21,
   "metadata": {},
   "outputs": [
    {
     "data": {
      "text/plain": [
       "False"
      ]
     },
     "execution_count": 21,
     "metadata": {},
     "output_type": "execute_result"
    }
   ],
   "source": [
    "my_courseroad.is_course_recommended('6.170', 6.5)"
   ]
  },
  {
   "cell_type": "markdown",
   "metadata": {},
   "source": [
    "## Happy Graduation!"
   ]
  }
 ],
 "metadata": {
  "kernelspec": {
   "display_name": "Python 3",
   "language": "python",
   "name": "python3"
  },
  "language_info": {
   "codemirror_mode": {
    "name": "ipython",
    "version": 3
   },
   "file_extension": ".py",
   "mimetype": "text/x-python",
   "name": "python",
   "nbconvert_exporter": "python",
   "pygments_lexer": "ipython3",
   "version": "3.6.1"
  }
 },
 "nbformat": 4,
 "nbformat_minor": 2
}
