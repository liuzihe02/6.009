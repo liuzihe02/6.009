{
 "cells": [
  {
   "cell_type": "markdown",
   "metadata": {},
   "source": [
    "# Generators\n",
    "\n",
    "Generators are functions that return a list of values to iterate over. Rather than constructing the whole list, we create and return one element at a time. This can often be faster and more space efficient. If we are looking for an element that meets some criteria, we can't break and don't have to create every single element. Since we are only making one element at a time, we avoid having to make a massive list that could give us a MemoryError"
   ]
  },
  {
   "cell_type": "code",
   "execution_count": 1,
   "metadata": {},
   "outputs": [],
   "source": [
    "def generate_range(n):\n",
    "    counter = 0\n",
    "    while counter <= n:\n",
    "        yield counter\n",
    "        counter += 1"
   ]
  },
  {
   "cell_type": "code",
   "execution_count": 2,
   "metadata": {},
   "outputs": [
    {
     "name": "stdout",
     "output_type": "stream",
     "text": [
      "0\n",
      "1\n",
      "2\n",
      "3\n",
      "4\n",
      "5\n",
      "6\n",
      "7\n",
      "8\n",
      "9\n",
      "10\n"
     ]
    }
   ],
   "source": [
    "for elem in generate_range(10):\n",
    "    print (elem)"
   ]
  },
  {
   "cell_type": "code",
   "execution_count": 3,
   "metadata": {},
   "outputs": [],
   "source": [
    "def generate_range(n):\n",
    "    if n > 0:\n",
    "        yield from generate_range(n-1)\n",
    "    yield n"
   ]
  },
  {
   "cell_type": "code",
   "execution_count": 4,
   "metadata": {},
   "outputs": [
    {
     "name": "stdout",
     "output_type": "stream",
     "text": [
      "0\n",
      "1\n",
      "2\n",
      "3\n",
      "4\n",
      "5\n",
      "6\n",
      "7\n",
      "8\n",
      "9\n",
      "10\n"
     ]
    }
   ],
   "source": [
    "for elem in generate_range(10):\n",
    "    print (elem)"
   ]
  },
  {
   "cell_type": "code",
   "execution_count": 24,
   "metadata": {},
   "outputs": [
    {
     "name": "stdout",
     "output_type": "stream",
     "text": [
      "<generator object generate_range at 0x1075f0eb8>\n"
     ]
    }
   ],
   "source": [
    "print (generate_range(10))"
   ]
  },
  {
   "cell_type": "code",
   "execution_count": 26,
   "metadata": {},
   "outputs": [
    {
     "ename": "TypeError",
     "evalue": "'generator' object is not subscriptable",
     "output_type": "error",
     "traceback": [
      "\u001b[0;31m---------------------------------------------------------------------------\u001b[0m",
      "\u001b[0;31mTypeError\u001b[0m                                 Traceback (most recent call last)",
      "\u001b[0;32m<ipython-input-26-6bf08b6f18eb>\u001b[0m in \u001b[0;36m<module>\u001b[0;34m\u001b[0m\n\u001b[0;32m----> 1\u001b[0;31m \u001b[0mprint\u001b[0m \u001b[0;34m(\u001b[0m\u001b[0mgenerate_range\u001b[0m\u001b[0;34m(\u001b[0m\u001b[0;36m10\u001b[0m\u001b[0;34m)\u001b[0m\u001b[0;34m[\u001b[0m\u001b[0;36m3\u001b[0m\u001b[0;34m]\u001b[0m\u001b[0;34m)\u001b[0m\u001b[0;34m\u001b[0m\u001b[0;34m\u001b[0m\u001b[0m\n\u001b[0m",
      "\u001b[0;31mTypeError\u001b[0m: 'generator' object is not subscriptable"
     ]
    }
   ],
   "source": [
    "print (generate_range(10)[3])"
   ]
  },
  {
   "cell_type": "code",
   "execution_count": 27,
   "metadata": {},
   "outputs": [
    {
     "name": "stdout",
     "output_type": "stream",
     "text": [
      "[0, 1, 2, 3, 4, 5, 6, 7, 8, 9, 10]\n",
      "3\n"
     ]
    }
   ],
   "source": [
    "print (list(generate_range(10)))\n",
    "print (list(generate_range(10))[3])"
   ]
  },
  {
   "cell_type": "code",
   "execution_count": 5,
   "metadata": {},
   "outputs": [],
   "source": [
    "def get_all_subsets(elements, current_index=0, current_subset=None):\n",
    "    results = []\n",
    "    if current_subset is None:\n",
    "        current_subset = []\n",
    "    if current_index < len(elements):\n",
    "        current_element = elements[current_index]\n",
    "        # add current element to subset\n",
    "        results.extend(get_all_subsets(elements, current_index+1, current_subset + [current_element]))\n",
    "        # skip current element\n",
    "        results.extend(get_all_subsets(elements, current_index+1, current_subset))\n",
    "    else:\n",
    "#         print (\"appending: {}\".format(current_subset))\n",
    "        results.append(current_subset)\n",
    "    return results"
   ]
  },
  {
   "cell_type": "code",
   "execution_count": 6,
   "metadata": {},
   "outputs": [
    {
     "data": {
      "text/plain": [
       "[[1, 2, 3], [1, 2], [1, 3], [1], [2, 3], [2], [3], []]"
      ]
     },
     "execution_count": 6,
     "metadata": {},
     "output_type": "execute_result"
    }
   ],
   "source": [
    "get_all_subsets([1,2,3])"
   ]
  },
  {
   "cell_type": "code",
   "execution_count": 7,
   "metadata": {},
   "outputs": [
    {
     "data": {
      "text/plain": [
       "128"
      ]
     },
     "execution_count": 7,
     "metadata": {},
     "output_type": "execute_result"
    }
   ],
   "source": [
    "len(get_all_subsets([1,2,3,4,5,6,7]))"
   ]
  },
  {
   "cell_type": "code",
   "execution_count": 8,
   "metadata": {},
   "outputs": [
    {
     "data": {
      "text/plain": [
       "1024"
      ]
     },
     "execution_count": 8,
     "metadata": {},
     "output_type": "execute_result"
    }
   ],
   "source": [
    "len(get_all_subsets(list(range(10))))"
   ]
  },
  {
   "cell_type": "code",
   "execution_count": 9,
   "metadata": {},
   "outputs": [
    {
     "data": {
      "text/plain": [
       "1048576"
      ]
     },
     "execution_count": 9,
     "metadata": {},
     "output_type": "execute_result"
    }
   ],
   "source": [
    "len(get_all_subsets(list(range(20))))"
   ]
  },
  {
   "cell_type": "code",
   "execution_count": 10,
   "metadata": {},
   "outputs": [],
   "source": [
    "def generate_all_subsets(elements, current_index=0, current_subset=None):\n",
    "    if current_subset is None:\n",
    "        current_subset = []\n",
    "    if current_index < len(elements):\n",
    "        current_element = elements[current_index]\n",
    "        # add current element to subset\n",
    "        yield from generate_all_subsets(elements, current_index+1, current_subset + [current_element])\n",
    "        # skip current element\n",
    "        yield from generate_all_subsets(elements, current_index+1, current_subset)\n",
    "    else:\n",
    "        print (\"yielding: {}\".format(current_subset))\n",
    "        yield current_subset"
   ]
  },
  {
   "cell_type": "code",
   "execution_count": 11,
   "metadata": {},
   "outputs": [],
   "source": [
    "elements = [1,2,3]"
   ]
  },
  {
   "cell_type": "code",
   "execution_count": 12,
   "metadata": {},
   "outputs": [
    {
     "name": "stdout",
     "output_type": "stream",
     "text": [
      "yielding: [1, 2, 3]\n",
      "next: [1, 2, 3]\n",
      "yielding: [1, 2]\n",
      "next: [1, 2]\n",
      "yielding: [1, 3]\n",
      "next: [1, 3]\n",
      "yielding: [1]\n",
      "next: [1]\n",
      "yielding: [2, 3]\n",
      "next: [2, 3]\n",
      "yielding: [2]\n",
      "next: [2]\n",
      "yielding: [3]\n",
      "next: [3]\n",
      "yielding: []\n",
      "next: []\n"
     ]
    }
   ],
   "source": [
    "for element in generate_all_subsets(elements):\n",
    "    print (\"next:\", element)"
   ]
  },
  {
   "cell_type": "code",
   "execution_count": 13,
   "metadata": {},
   "outputs": [
    {
     "name": "stdout",
     "output_type": "stream",
     "text": [
      "next: [1, 2, 3]\n",
      "next: [1, 2]\n",
      "next: [1, 3]\n",
      "next: [1]\n",
      "next: [2, 3]\n",
      "next: [2]\n",
      "next: [3]\n",
      "next: []\n"
     ]
    }
   ],
   "source": [
    "for element in get_all_subsets(elements):\n",
    "    print (\"next:\", element)"
   ]
  },
  {
   "cell_type": "markdown",
   "metadata": {},
   "source": [
    "# Trie Example"
   ]
  },
  {
   "cell_type": "code",
   "execution_count": 14,
   "metadata": {},
   "outputs": [],
   "source": [
    "class Trie:\n",
    "    def __init__(self, itemtype=None):\n",
    "        self.value = None\n",
    "        self.children = {}\n",
    "        self.type = itemtype\n",
    "\n",
    "    def checktype(self, key):\n",
    "        \"\"\"\n",
    "        Raise an error when a prefix of the wrong type is used\n",
    "        \"\"\"\n",
    "        if not isinstance(key, self.type):\n",
    "            raise TypeError\n",
    "\n",
    "    def getval(self, key):\n",
    "        \"\"\"\n",
    "        Helper for get and contains. Gets the value associated\n",
    "        with a key if one exists, otherwise returns None\n",
    "        \"\"\"\n",
    "        # Base case, traversed Trie down to the last element of the key\n",
    "        if len(key) == 0:\n",
    "            return self.value\n",
    "        # Recursive step: walk down Trie one element of key at a time\n",
    "        childKey = key[:1]\n",
    "        if childKey in self.children:\n",
    "            return self.children[childKey].getval(key[1:])\n",
    "        # If key does not exist in the Trie\n",
    "        else:\n",
    "            return None\n",
    "\n",
    "    def set(self, key, value):\n",
    "        \"\"\"\n",
    "        Add a key with the given value to the trie, or reassign the associated\n",
    "        value if it is already present in the trie.  Assume that key is an\n",
    "        immutable ordered sequence.  Raise a TypeError if the given key is of\n",
    "        the wrong type.\n",
    "        \"\"\"\n",
    "        if self.type is None:\n",
    "            self.type = type(key)\n",
    "        else:\n",
    "            self.checktype(key)\n",
    "        # Iteratively travel down the trie one element of key at a time\n",
    "        current = self\n",
    "        for i in range(len(key)):\n",
    "            subkey = key[i:i+1]\n",
    "            if subkey not in current.children:\n",
    "                # Add a node for this key element if it doesn't already exist\n",
    "                if value is not None:\n",
    "                    current.children[subkey] = Trie(self.type)\n",
    "                else:\n",
    "                    # If we try to delete a key that doesn't exist in the Trie\n",
    "                    raise KeyError\n",
    "            current = current.children[subkey]\n",
    "        # Set the value for the node associated with the key\n",
    "        current.value = value\n",
    "\n",
    "\n",
    "    def get(self, key):\n",
    "        \"\"\"\n",
    "        Return the value for the specified prefix.  If the given key is not in\n",
    "        the trie, raise a KeyError.  If the given key is of the wrong type,\n",
    "        raise a TypeError.\n",
    "        \"\"\"\n",
    "        self.checktype(key)\n",
    "        val = self.getval(key)\n",
    "        if val is None:\n",
    "            raise KeyError\n",
    "        else:\n",
    "            return val\n",
    "\n",
    "    def delete(self, key):\n",
    "        \"\"\"\n",
    "        Delete the given key from the trie if it exists.\n",
    "        \"\"\"\n",
    "        # Setting the value of the key to None is all we need\n",
    "        # to do to dissociate them in the Trie\n",
    "        self.set(key, None)\n",
    "\n",
    "    def contains(self, key):\n",
    "        \"\"\"\n",
    "        Is key a key in the trie? return True or False.\n",
    "        \"\"\"\n",
    "        return self.getval(key) is not None\n",
    "\n",
    "    def get_items(self):\n",
    "        \"\"\"\n",
    "        Returns a list of (key, value) pairs for all keys/values in this trie and\n",
    "        its children.\n",
    "        \"\"\"\n",
    "        # APPROACH: Recursively build up items from children\n",
    "        ans = []\n",
    "        # Base case: Found a Trie node associated with a value\n",
    "        if self.value is not None:\n",
    "            ans.append((self.type(), self.value))\n",
    "        # Recursive step: Get items from children and prepend the keys associated with\n",
    "        # the children to build up full sequences\n",
    "        for childkey in self.children:\n",
    "            for subitem, val in self.children[childkey].get_items():\n",
    "                ans.append((childkey+subitem, val))\n",
    "        return ans\n",
    "    \n",
    "    def generate_items(self):\n",
    "        \"\"\"\n",
    "        Returns a list of (key, value) pairs for all keys/values in this trie and\n",
    "        its children\n",
    "        \"\"\"\n",
    "        # Base case: Found a Trie node associated with a value\n",
    "        if self.value is not None:\n",
    "            yield (self.type(), self.value)\n",
    "        # Recursive step: Get items from children and prepend the keys associated with\n",
    "        # the children to build up full sequences\n",
    "        for childkey in self.children:\n",
    "            for subitem, val in self.children[childkey].generate_items():\n",
    "                yield childkey+subitem, val"
   ]
  },
  {
   "cell_type": "code",
   "execution_count": 15,
   "metadata": {},
   "outputs": [],
   "source": [
    "from text_tokenize import tokenize_sentences\n",
    "\n",
    "def make_word_trie(text):\n",
    "    \"\"\"\n",
    "    Given a piece of text as a single string, create a Trie whose keys are the\n",
    "    words in the text, and whose values are the number of times the associated\n",
    "    word appears in the text\n",
    "    \"\"\"\n",
    "    frequencies = {}\n",
    "    for sentence in tokenize_sentences(text):\n",
    "        for word in sentence.split():\n",
    "            if word not in frequencies:\n",
    "                frequencies[word] = 0\n",
    "            frequencies[word] += 1\n",
    "    t = Trie()\n",
    "    for word, freq in frequencies.items():\n",
    "        t.set(word, freq)\n",
    "    return t"
   ]
  },
  {
   "cell_type": "code",
   "execution_count": 16,
   "metadata": {},
   "outputs": [],
   "source": [
    "def get_frequent_words(trie, desired_frequency, number_of_words):\n",
    "    words = []\n",
    "    for item, freq in trie.get_items():\n",
    "        if freq > desired_frequency:\n",
    "            words.append(item)\n",
    "            if len(words) == number_of_words:\n",
    "                break\n",
    "    return words"
   ]
  },
  {
   "cell_type": "code",
   "execution_count": 17,
   "metadata": {},
   "outputs": [],
   "source": [
    "def generate_frequent_words(trie, desired_frequency, number_of_words):\n",
    "    words = []\n",
    "    for item, freq in trie.generate_items():\n",
    "        if freq > desired_frequency:\n",
    "            words.append(item)\n",
    "            if len(words) == number_of_words:\n",
    "                break\n",
    "    return words"
   ]
  },
  {
   "cell_type": "code",
   "execution_count": 18,
   "metadata": {},
   "outputs": [
    {
     "name": "stdout",
     "output_type": "stream",
     "text": [
      "Non-Generator\n",
      "item seen more than 10 times: \t\t['project', 'poor', 'people', 'perhaps']\n",
      "item seen more than 100 times: \t\t['a', 'alice', 'all', 'and']\n",
      "item seen more than 1000 times: \t['the']\n",
      "item seen more than 100000 times: \t[]\n",
      "\n",
      "Genertor\n",
      "item seen more than 10 times: \t\t['project', 'poor', 'people', 'perhaps']\n",
      "item seen more than 100 times: \t\t['a', 'alice', 'all', 'and']\n",
      "item seen more than 1000 times: \t['the']\n",
      "item seen more than 100000 times: \t[]\n"
     ]
    }
   ],
   "source": [
    "filename = 'resources/alice.txt'\n",
    "with open(filename, encoding=\"utf-8\") as f:\n",
    "    text = f.read()\n",
    "trie = make_word_trie(text)\n",
    "\n",
    "print (\"Non-Generator\")\n",
    "print (\"item seen more than {} times: \\t\\t{}\".format(10, get_frequent_words(trie, 10, 4)))\n",
    "print (\"item seen more than {} times: \\t\\t{}\".format(100, get_frequent_words(trie, 100, 4)))\n",
    "print (\"item seen more than {} times: \\t{}\".format(1000, get_frequent_words(trie, 1000, 4)))\n",
    "print (\"item seen more than {} times: \\t{}\\n\".format(100000, get_frequent_words(trie, 100000, 4)))\n",
    "\n",
    "print (\"Genertor\")\n",
    "print (\"item seen more than {} times: \\t\\t{}\".format(10, generate_frequent_words(trie, 10, 4)))\n",
    "print (\"item seen more than {} times: \\t\\t{}\".format(100, generate_frequent_words(trie, 100, 4)))\n",
    "print (\"item seen more than {} times: \\t{}\".format(1000, generate_frequent_words(trie, 1000, 4)))\n",
    "print (\"item seen more than {} times: \\t{}\".format(100000, generate_frequent_words(trie, 100000, 4)))"
   ]
  },
  {
   "cell_type": "code",
   "execution_count": 28,
   "metadata": {},
   "outputs": [],
   "source": [
    "filename = 'resources/lots_of_words.txt'\n",
    "with open(filename, encoding=\"utf-8\") as f:\n",
    "    text = f.read()\n",
    "trie = make_word_trie(text)"
   ]
  },
  {
   "cell_type": "code",
   "execution_count": 22,
   "metadata": {},
   "outputs": [
    {
     "name": "stdout",
     "output_type": "stream",
     "text": [
      "10 items seen more than 1000 times: \n",
      "\t['a', 'an', 'and', 'any', 'as', 'again', 'at', 'all', 'after', 'away']\n",
      "spent 0.3436 seconds\n",
      "\n",
      "10 items seen more than 10000 times: \n",
      "\t['a', 'and', 'as', 'for', 'to', 'the', 'that', 'be', 'with', 'me']\n",
      "spent 0.3398 seconds\n",
      "\n",
      "10 items seen more than 100000 times: \n",
      "\t[]\n",
      "spent 0.3693 seconds\n",
      "\n"
     ]
    }
   ],
   "source": [
    "import time\n",
    "\n",
    "start = time.time()\n",
    "frequent_words = get_frequent_words(trie, 1000, 10)\n",
    "end = time.time()\n",
    "print (\"{} items seen more than {} times: \\n\\t{}\".format(\n",
    "        10,\n",
    "        1000,\n",
    "        frequent_words))\n",
    "print (\"spent {0:.4f} seconds\\n\".format(end - start))\n",
    "\n",
    "start = time.time()\n",
    "frequent_words = get_frequent_words(trie, 10000, 10)\n",
    "end = time.time()\n",
    "print (\"{} items seen more than {} times: \\n\\t{}\".format(\n",
    "        10,\n",
    "        10000,\n",
    "        frequent_words))\n",
    "print (\"spent {0:.4f} seconds\\n\".format(end - start))\n",
    "\n",
    "start = time.time()\n",
    "frequent_words = get_frequent_words(trie, 100000, 10)\n",
    "end = time.time()\n",
    "print (\"{} items seen more than {} times: \\n\\t{}\".format(\n",
    "        10,\n",
    "        100000,\n",
    "        frequent_words))\n",
    "print (\"spent {0:.4f} seconds\\n\".format(end - start))"
   ]
  },
  {
   "cell_type": "code",
   "execution_count": 23,
   "metadata": {},
   "outputs": [
    {
     "name": "stdout",
     "output_type": "stream",
     "text": [
      "10 items seen more than 1000 times: \n",
      "\t['a', 'an', 'and', 'any', 'as', 'again', 'at', 'all', 'after', 'away']\n",
      "spent 0.0104 seconds\n",
      "\n",
      "10 items seen more than 10000 times: \n",
      "\t['a', 'and', 'as', 'for', 'to', 'the', 'that', 'be', 'with', 'me']\n",
      "spent 0.1008 seconds\n",
      "\n",
      "10 items seen more than 100000 times: \n",
      "\t[]\n",
      "spent 0.3041 seconds\n",
      "\n"
     ]
    }
   ],
   "source": [
    "import time\n",
    "\n",
    "start = time.time()\n",
    "frequent_words = generate_frequent_words(trie, 1000, 10)\n",
    "end = time.time()\n",
    "print (\"{} items seen more than {} times: \\n\\t{}\".format(\n",
    "        10,\n",
    "        1000,\n",
    "        frequent_words))\n",
    "print (\"spent {0:.4f} seconds\\n\".format(end - start))\n",
    "\n",
    "start = time.time()\n",
    "frequent_words = generate_frequent_words(trie, 10000, 10)\n",
    "end = time.time()\n",
    "print (\"{} items seen more than {} times: \\n\\t{}\".format(\n",
    "        10,\n",
    "        10000,\n",
    "        frequent_words))\n",
    "print (\"spent {0:.4f} seconds\\n\".format(end - start))\n",
    "\n",
    "start = time.time()\n",
    "frequent_words = generate_frequent_words(trie, 100000, 10)\n",
    "end = time.time()\n",
    "print (\"{} items seen more than {} times: \\n\\t{}\".format(\n",
    "        10,\n",
    "        100000,\n",
    "        frequent_words))\n",
    "print (\"spent {0:.4f} seconds\\n\".format(end - start))"
   ]
  },
  {
   "cell_type": "code",
   "execution_count": null,
   "metadata": {},
   "outputs": [],
   "source": []
  }
 ],
 "metadata": {
  "kernelspec": {
   "display_name": "Python 3",
   "language": "python",
   "name": "python3"
  },
  "language_info": {
   "codemirror_mode": {
    "name": "ipython",
    "version": 3
   },
   "file_extension": ".py",
   "mimetype": "text/x-python",
   "name": "python",
   "nbconvert_exporter": "python",
   "pygments_lexer": "ipython3",
   "version": "3.6.7"
  }
 },
 "nbformat": 4,
 "nbformat_minor": 2
}
