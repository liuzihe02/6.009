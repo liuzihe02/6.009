{
 "cells": [
  {
   "cell_type": "markdown",
   "metadata": {},
   "source": [
    "# Administrivia\n",
    "\n",
    "Welcome to 6.009!  Today we're using the section slots for a few copies of a shorter-than-usual lecture, and here are the notes and code to go along with it.\n",
    "\n",
    "The most important thing to know is that [our web site](https://mit.edu/6.009) has all the info on 6.009!  We'll repeat some highlights here.\n",
    "\n",
    "## What Is the Class About?\n",
    "\n",
    "**Practice in the fundamentals of programming!**  Just like you can't learn a sport by reading a textbook and answering multiple-choice questions, you can't learn programming without doing lots of it.  We will structure the lectures and assignments around big-picture topics like recursion, data structures, and object-oriented design.  However, in parallel to that \"programming literacy\" element, you'll keep building your programming skills, on programs significantly more complex than in our prerequisite subjects.\n",
    "\n",
    "We do stick to Python as the 6.009 implementation language, though most of what you learn should generalize to other popular programming languages.\n",
    "\n",
    "## Prerequisites\n",
    "\n",
    "We're pretty strict about enforcing our prerequisite of 6.00, 6.0001, 6.0002, or 6.145.  We know which students have completed those classes (by advanced-standing exam or the old-fashioned way), and our web site won't let others submit the assignments or quizzes (so they're free to stay enrolled in the class, but they won't like their grades!).\n",
    "\n",
    "We really do build on the prerequisite material to start with more advanced material.  This is *not* a first programming class.\n",
    "\n",
    "## Staff\n",
    "\n",
    "We have 100-some staff members this semester!  There are two instructors, one of whom this week is delivering the lecture you're attending based on these notes.  Generally the instructors will split the lectures.  We also have 18 teaching assistants (TAs), plus over 100 laboratory assistants (LAs), who you will get to know in sections and office hours, as all-purpose assistants in getting your Python code right.\n",
    "\n",
    "## What Happens in a Typical Week?\n",
    "\n",
    "**Monday: Lecture.**  Like this one, all of our lectures will involve a mix of illustrating big-picture concepts on screen and/or board, demonstrating interesting Python programs, and writing some Python code together.  Each lecture focuses on a particular topic, which generally then becomes the subject of the next laboratory assignment to be released.\n",
    "\n",
    "**Laboratory Assignments: released on and due on Fridays.**  These are the heart of the 6.009 experience!  We provide you with starter code to show a cool user interface on top of Python code that you will write from scratch.  Grading is based almost entirely on test cases that we provide to you in advance; pass all of them and you are lined up for full credit on the programming part.  There are also some concept questions you must answer to earn some of the remaining credit.  Furthermore, credit for passing test cases is only confirmed once you pass a *checkoff* conversation with a member of our staff in office hours, where you must demonstrate understanding of your code.  We also like to give students tips during these conversations on how to improve their code.\n",
    "\n",
    "**Quizzes: about one per month, Wednesday evenings.**  Three weeks of the semester have quizzes instead of labs coming due.  Our quizzes look just like mini versions of our labs: download starter code that explains several programming puzzles you are to solve (based cumulatively on material covered in labs to that point), to be graded in terms of test cases passed.  You must write the code on your laptop in class.  A twist is that we let you earn back some partial credit, if you don't get all the tests passing during the quiz.  We give you a few days to fix your code and submit it for a *regrade*, where we inspect the \"before\" and \"after\" versions to give back credit in proportion to how close to finished the \"before\" version was.\n",
    "\n",
    "**Tutorials** happen during our scheduled Wednesday sections.  Staff members go through additional examples to prepare you for the labs about to be released.  After the tutorial presentation is over, these sessions turn into open office hours, where you can put yourself in the queue to be helped by instructors, TAs, or LAs.  We also give checkoffs in these sessions.\n",
    "\n",
    "**Friday sections** are pure office hours, like Wednesdays but without tutorials first.  Our **additional evening office hours** work the same.  (Stay tuned for times and places of evening office hours to be confirmed!)\n",
    "\n",
    "## How are Final Grades Assigned?\n",
    "\n",
    "Labs add up to 40% of the final grade, with each lab weighed equally.  Then the three quizzes count respectively 15%, 20%, and 25%.\n",
    "\n",
    "We have a gradual lateness-penalty policy for labs, explained with a Python program on our web site.  Each student also has **three automatic four-day extensions** on labs, which our grade calculator automatically activates in whichever way optimizes your final grade.  S^3 notes of support are needed for any further extensions.\n",
    "\n",
    "## Collaboration Policy\n",
    "\n",
    "**It is very important that every student read and understand [our collaboration policy](https://6009.cat-soop.org/spring19/information#catsoop_section_6)!**  As a newcomer to programming, it's hard to know which parts of the experience are essential to go through firsthand.  Our policy is designed to help you have those experiences, and for fairness to all students we enforce the policy strictly.  Sadly enough, we typically catch dozens of students a semester copying from each other, etc.  We report serious cases to the MIT Office of Student Citizenship, and building up a record there can lead to some pretty unpleasant penalties.\n",
    "\n",
    "We want to emphasize that for most of you *it is not going to be obvious now what counts as copying*, so please read our policy thoroughly!\n",
    "\n",
    "## What to Install on your Computer\n",
    "\n",
    "Please install **Python version 3.6 or higher**.  You may also want to install the cute Jupyter Notebook tool being used to display these lecture notes with runnable code.  Our web site's front page begins with a link to installation instructions.\n",
    "\n",
    "We're happy with students using a variety of editors to write their Python code.  No particular editor is required or blessed by the staff.  We will do our best to help with whatever editor you choose.  For instance, if you like the editor endorsed by the prerequisite subject you took, feel free to stick with it."
   ]
  },
  {
   "cell_type": "markdown",
   "metadata": {},
   "source": [
    "# The N-Queens Problem\n",
    "\n",
    "The 8-Queens problem on a chessboard corresponds to finding a placement of 8 queens such that no queen attacks any other queen.  This means that\n",
    "\n",
    " 1. No two queens can be on the same column.\n",
    " 2. No two queens can be on the same row.\n",
    " 3. No two queens can be on the same diagonal.\n",
    "\n",
    "Can you find a solution?\n",
    "\n",
    "![8X8 empty board](board1.png)\n",
    "\n",
    "If 8 queens are too many to handle, try the 5-queens problem below!\n",
    "\n",
    "![5X5 empty board](board2.png)\n",
    "\n",
    "A solution to the 8-queens problem is shown below.  This is not the only solution! \n",
    "\n",
    "![8X8 solution](board3.png)                                               \n",
    "\n",
    "And here’s a solution to the 5-queens problem.\n",
    "\n",
    "![5X5 solution](board4.png)\n",
    "\n",
    "But how can we find the above solutions or different ones? Let’s simplify the problem first.  Suppose we look at a smaller 2 × 2 board. Can we place two queens so they don’t attack each other?  The answer is no since a queen on any square of a 2 × 2 board can attack every other square.\n",
    "\n",
    "![2X2 empty board](board5.png)\n",
    "\n",
    "What about a 3 × 3 board? Here is an attempt:\n",
    "\n",
    "![3X3 attempt](board6.png)\n",
    "\n",
    "For the first placement (above left), we can see that the queen attacks six other squares and occupies one.  So there are 7 squares that are disallowed by the very first queen placement, leaving 2 squares available. When we put the second queen on one of those squares, there are no squares available. Of course, we could have tried putting the first queen in a different spot, but that won’t help.  The first queen regardless of where it is placed will occupy and attack at least 7 squares, leaving two. There is no solution for a 3 × 3 board.\n",
    "\n",
    "## Systematic Search\n",
    "\n",
    "What about a 4 × 4 board? Let’s be systematic about searching for a solution. We will try to place queens column by column and change placements if we fail. We start by placing a queen in the top left corner in the first column as shown below (first picture). There are two choices in placing a queen on the second column and we choose one as shown in the second picture below.  Now we are stuck! We can’t place a queen in the third column. :(\n",
    " \n",
    "![4X4 attempt](board7.png)\n",
    "\n",
    "Note that when we tried to place the third queen in the third column above we simply checked that the third queen didn’t conflict with the first and the second.  We do not need to check that the first two queens do not conflict with each other.  This is because we did that check when we placed the second queen.  This will be important to remember when we look at the code to check for conflicts.\n",
    "\n",
    "Given that we failed at finding a solution, should we give up? No, because we could try a different positioning for the second queen. Here we go:\n",
    "\n",
    "![4X4 attempt](board8.png)\n",
    "\n",
    "We went further, but are stuck again, this time on the fourth and last column. :(\n",
    "But we are not out of options.  We arbitrarily chose the top corner for the first queen and we could try a different position. (There are four options for the first queen.)  Here we go:\n",
    "\n",
    "![4X4 attempt](board9.png)\n",
    "\n",
    "Success: the 4-queens problem has a solution. :) It actually has two; try to find a different one.\n",
    "\n",
    "It will take a normal person quite a long time to use this strategy to find a solution to the 8-queens problem.  But such an exhaustive brute-force strategy should work.  And if we can code up the solution, since computers can do calculations billions of times faster than humans, we will able to run the program and find a solution in a matter of seconds!\n",
    "\n",
    "The first step in writing code for 8-queens is to decide on a data structure for the problem: How are we going to represent the board and the positions of the queens?"
   ]
  },
  {
   "cell_type": "markdown",
   "metadata": {},
   "source": [
    "## Representing Boards\n",
    "\n",
    "Since a chess board is a two-dimensional grid, a natural representation is a two-dimensional array.  For instance, consider again our example of a solution to the 5-queens problem.\n",
    "\n",
    "![5X5 solution](board4.png)\n",
    "\n",
    "We can store it in Python variable `board1` like so, where you can see the structure of `True` and `False` matching the layout of queen and no-queen squares in the image.  Let's also make a small change to produce `board2`, an example of an *invalid* board configuration."
   ]
  },
  {
   "cell_type": "code",
   "execution_count": 94,
   "metadata": {},
   "outputs": [],
   "source": [
    "board1 = [[True, False, False, False, False],\n",
    "         [False, False, True, False, False],\n",
    "         [False, False, False, False, True],\n",
    "         [False, True, False, False, False],\n",
    "         [False, False, False, True, False]]\n",
    "\n",
    "board2 = [[True, False, False, False, False],\n",
    "         [False, False, True, False, False],\n",
    "         [False, False, False, False, True],\n",
    "         [False, True, False, False, False],\n",
    "         [False, False, True, False, False]]"
   ]
  },
  {
   "cell_type": "markdown",
   "metadata": {},
   "source": [
    "## Naive Conflict Checking\n",
    "\n",
    "Actually, what makes `board2` invalid, anyway?  Let's formalize the concept with *conflict checking*, which detects when one queen can attack another.  First, we formalize attacking with a function `can_attack`, which becomes a building block for our conflict checker `conflicts`."
   ]
  },
  {
   "cell_type": "code",
   "execution_count": 95,
   "metadata": {},
   "outputs": [],
   "source": [
    "def can_attack(q1, q2):\n",
    "    \"\"\"Given (row, col) coordinates of two queens q1 and q2 on a chess board,\n",
    "    return whether one can attack the other.\n",
    "    (Actually, it's symmetric, so we don't need to specify who is the attacker!)\"\"\"\n",
    "    \n",
    "    # Same row?\n",
    "    if q1[0] == q2[0]:\n",
    "        return True\n",
    "    \n",
    "    # Same column?\n",
    "    if q1[1] == q2[1]:\n",
    "        return True\n",
    "    \n",
    "    # Same diagonal?\n",
    "    if abs(q1[0] - q2[0]) == abs(q1[1] - q2[1]):\n",
    "        return True\n",
    "    \n",
    "    return False\n",
    "\n",
    "def conflicts(board):\n",
    "    \"\"\"Takes in a chess board, represented as a two-dimensional array of Booleans.\n",
    "    A square contains True when a queen is placed there.\n",
    "    We should return whether any queen can attack any other queen.\"\"\"\n",
    "    dimension = len(board)\n",
    "    \n",
    "    # First, loop over all positions on the board.\n",
    "    for row1 in range(dimension):\n",
    "        for col1 in range(dimension):\n",
    "            if board[row1][col1]:\n",
    "                # There is a queen here?  Let's consider all other positions it might be able to attack.\n",
    "                for row2 in range(dimension):\n",
    "                    for col2 in range(dimension):\n",
    "                        # If this is the same position the outer loop selected, skip it!\n",
    "                        if (row2 != row1 or col2 != col1) and board[row2][col2]:\n",
    "                            if can_attack((row1, col1), (row2, col2)):\n",
    "                                return True\n",
    "    \n",
    "    # We considered all pairs and found no conflicts!\n",
    "    return False"
   ]
  },
  {
   "cell_type": "markdown",
   "metadata": {},
   "source": [
    "It's good practice to write test cases for nonobvious functions like these.  We'll include some modest ones here, using the `assert` keyword, which fails if an expression turns out to be `False`."
   ]
  },
  {
   "cell_type": "code",
   "execution_count": 96,
   "metadata": {},
   "outputs": [],
   "source": [
    "assert can_attack((0, 0), (1, 1))\n",
    "assert not can_attack((0, 0), (2, 1))\n",
    "assert not conflicts(board1)\n",
    "assert conflicts(board2)"
   ]
  },
  {
   "cell_type": "markdown",
   "metadata": {},
   "source": [
    "### More Pythonically...\n",
    "\n",
    "We're probably getting ahead of ourselves this early in the semester, but here's an example of ways to make the code a bit more compact, using features like *comprehsions*, which we'll study in more detail soon.  We maintain the same function structure and just beautify function bodies."
   ]
  },
  {
   "cell_type": "code",
   "execution_count": 97,
   "metadata": {},
   "outputs": [],
   "source": [
    "def can_attack(q1, q2):\n",
    "    \"\"\"Given (row, col) coordinates of two queens q1 and q2 on a chess board,\n",
    "    return whether one can attack the other.\n",
    "    (Actually, it's symmetric, so we don't need to specify who is the attacker!)\"\"\"\n",
    "    \n",
    "    return q1[0] == q2[0] \\\n",
    "        or q1[1] == q2[1] \\\n",
    "        or abs(q1[0] - q2[0]) == abs(q1[1] - q2[1])\n",
    "\n",
    "def conflicts(board):\n",
    "    \"\"\"Takes in a chess board, represented as a two-dimensional array of Booleans.\n",
    "    A square contains True when a queen is placed there.\n",
    "    We should return whether any queen can attack any other queen.\"\"\"\n",
    "    dimension = len(board)\n",
    "    \n",
    "    return any(can_attack((row1, col1), (row2, col2))\n",
    "        for row1 in range(dimension)\n",
    "        for col1 in range(dimension)\n",
    "        if board[row1][col1]\n",
    "        for row2 in range(dimension)\n",
    "        for col2 in range(dimension)\n",
    "        if row2 != row1 or col2 != col1\n",
    "        if board[row2][col2])"
   ]
  },
  {
   "cell_type": "code",
   "execution_count": 98,
   "metadata": {},
   "outputs": [],
   "source": [
    "assert can_attack((0, 0), (1, 1))\n",
    "assert not can_attack((0, 0), (2, 1))\n",
    "assert not conflicts(board1)\n",
    "assert conflicts(board2)"
   ]
  },
  {
   "cell_type": "markdown",
   "metadata": {},
   "source": [
    "## Finding Four-Queens Solutions\n",
    "\n",
    "Enough preliminaries: let's actually solve an instance of the original problem.  It's going to look a little gross, but we'll work up to a nicer-looking version.  We start with a few helper functions."
   ]
  },
  {
   "cell_type": "code",
   "execution_count": 46,
   "metadata": {},
   "outputs": [],
   "source": [
    "def all_positions(dimension):\n",
    "    \"\"\"Return all positions of dimension X dimension board.\"\"\"\n",
    "    \n",
    "    return [(row, col)\n",
    "        for row in range(dimension)\n",
    "        for col in range(dimension)]\n",
    "\n",
    "def make_board(qs):\n",
    "    \"\"\"Make a four-by-four board, whose filled squares are exactly those in the list qs.\"\"\"\n",
    "    \n",
    "    # Note below that we have one list comprehension nested inside another!\n",
    "    # It acts like a nested loop treating first the rows and then the columns.\n",
    "    # The result is nested lists, just like we wanted.\n",
    "    # Also note that the word \"in\" is doing double duty.\n",
    "    # On the first line below, it is a Boolean test for membership in a list.\n",
    "    # On the following two lines, it is used in its more common looping sense (introduced with \"for\").\n",
    "    return [[(row, col) in qs\n",
    "            for col in range(4)]\n",
    "            for row in range(4)]\n",
    "\n",
    "def find_four_queens(not_any_of_these=[]):\n",
    "    \"\"\"Finds a board illustrating a solution to the four-queens problem.\n",
    "    Optionally, we provide a list of ineligible solutions.\"\"\"\n",
    "    \n",
    "    # One small \"trick\" below: we do not wait until constructing a full board\n",
    "    # to check if we actually placed four distinct queens.\n",
    "    # Instead, those \"filter\" tests happen at the start of each loop body.\n",
    "    \n",
    "    for q1 in all_positions(4):\n",
    "        for q2 in all_positions(4):\n",
    "            if q2 not in [q1]:\n",
    "                for q3 in all_positions(4):\n",
    "                    if q3 not in [q1, q2]:\n",
    "                        for q4 in all_positions(4):\n",
    "                            if q4 not in [q1, q2, q3]:\n",
    "                                board = make_board([q1, q2, q3, q4])\n",
    "                                if board not in not_any_of_these and not conflicts(board):\n",
    "                                    return board\n",
    "\n",
    "    return None"
   ]
  },
  {
   "cell_type": "markdown",
   "metadata": {},
   "source": [
    "It may help to illustrate the helper functions with test cases."
   ]
  },
  {
   "cell_type": "code",
   "execution_count": 47,
   "metadata": {},
   "outputs": [
    {
     "data": {
      "text/plain": [
       "[(0, 0),\n",
       " (0, 1),\n",
       " (0, 2),\n",
       " (0, 3),\n",
       " (1, 0),\n",
       " (1, 1),\n",
       " (1, 2),\n",
       " (1, 3),\n",
       " (2, 0),\n",
       " (2, 1),\n",
       " (2, 2),\n",
       " (2, 3),\n",
       " (3, 0),\n",
       " (3, 1),\n",
       " (3, 2),\n",
       " (3, 3)]"
      ]
     },
     "execution_count": 47,
     "metadata": {},
     "output_type": "execute_result"
    }
   ],
   "source": [
    "all_positions(4)"
   ]
  },
  {
   "cell_type": "code",
   "execution_count": 48,
   "metadata": {},
   "outputs": [
    {
     "data": {
      "text/plain": [
       "[[True, False, False, False],\n",
       " [False, False, True, False],\n",
       " [False, False, False, False],\n",
       " [False, False, False, False]]"
      ]
     },
     "execution_count": 48,
     "metadata": {},
     "output_type": "execute_result"
    }
   ],
   "source": [
    "make_board([(0, 0), (1, 2)])"
   ]
  },
  {
   "cell_type": "markdown",
   "metadata": {},
   "source": [
    "This is the big moment: let's find a solution to 4-Queens!"
   ]
  },
  {
   "cell_type": "code",
   "execution_count": 51,
   "metadata": {},
   "outputs": [
    {
     "data": {
      "text/plain": [
       "[[False, True, False, False],\n",
       " [False, False, False, True],\n",
       " [True, False, False, False],\n",
       " [False, False, True, False]]"
      ]
     },
     "execution_count": 51,
     "metadata": {},
     "output_type": "execute_result"
    }
   ],
   "source": [
    "first_solution = find_four_queens()\n",
    "first_solution"
   ]
  },
  {
   "cell_type": "markdown",
   "metadata": {},
   "source": [
    "Now for one that *isn't* the first one we found."
   ]
  },
  {
   "cell_type": "code",
   "execution_count": 53,
   "metadata": {
    "scrolled": true
   },
   "outputs": [
    {
     "data": {
      "text/plain": [
       "[[False, False, True, False],\n",
       " [True, False, False, False],\n",
       " [False, False, False, True],\n",
       " [False, True, False, False]]"
      ]
     },
     "execution_count": 53,
     "metadata": {},
     "output_type": "execute_result"
    }
   ],
   "source": [
    "second_solution = find_four_queens([first_solution])\n",
    "second_solution"
   ]
  },
  {
   "cell_type": "markdown",
   "metadata": {},
   "source": [
    "It turns out there isn't a third solution, as the following call checks.  The lack of any output, when we run the line, indicates that the function returned `None`!"
   ]
  },
  {
   "cell_type": "code",
   "execution_count": 55,
   "metadata": {},
   "outputs": [],
   "source": [
    "find_four_queens([first_solution, second_solution])"
   ]
  },
  {
   "cell_type": "markdown",
   "metadata": {},
   "source": [
    "It's easy enough to write a function that automates a search through all unique solutions."
   ]
  },
  {
   "cell_type": "code",
   "execution_count": 60,
   "metadata": {},
   "outputs": [],
   "source": [
    "def find_all_four_queens():\n",
    "    \"\"\"Return all solutions to the four-queens problem.\"\"\"\n",
    "    \n",
    "    solutions = []\n",
    "    while True:\n",
    "        solution = find_four_queens(solutions)\n",
    "        if not solution:\n",
    "            return solutions\n",
    "        else:\n",
    "            solutions.append(solution)"
   ]
  },
  {
   "cell_type": "code",
   "execution_count": 99,
   "metadata": {},
   "outputs": [
    {
     "data": {
      "text/plain": [
       "[[1, 3, 0, 2], [2, 0, 3, 1]]"
      ]
     },
     "execution_count": 99,
     "metadata": {},
     "output_type": "execute_result"
    }
   ],
   "source": [
    "find_all_four_queens()"
   ]
  },
  {
   "cell_type": "markdown",
   "metadata": {},
   "source": [
    "## A More Clever Representation of Boards\n",
    "\n",
    "The 2-D list representation of the board was a natural representation, and it clearly serves our purpose.  It turns out because we are only looking for solutions where there is a single queen on each row (or for that matter column), we can get away with using a one-dimensional array where each index represents each row of the board and the entry represents the column on which the queen resides.\n",
    "\n",
    "This data structure can represent partial configurations in the sense that there are only 3 queens on the 4 × 4 board above.  This is important because we will want to build up a solution from an empty board as in our first algorithm.  Of course, in our algorithm we placed queens in rows beginning from left to right, but that was an arbitrary choice.\n",
    "\n",
    "Here are our two example boards from before reexpressed."
   ]
  },
  {
   "cell_type": "code",
   "execution_count": 63,
   "metadata": {},
   "outputs": [],
   "source": [
    "board1 = [0, 2, 4, 1, 3]\n",
    "board2 = [0, 2, 4, 1, 2]"
   ]
  },
  {
   "cell_type": "markdown",
   "metadata": {},
   "source": [
    "We can now write code to check for the three rules given our new representation.  Notice that we get the first rule for free in the sense that we cannot place two queens on the same row, since we can only have a single number as the value stored at each array index.  Not only is the 1-D representation more compact, it also saves us from checking one of the rules.  For the second rule that checks that no column contains two or more queens, we just need to make sure that no number appears more than once in the array. The third rule involves slightly more computation.\n",
    "\n",
    "A higher-level conceptual leap is that *we no longer check for all conflicts on every call to our checker function*.  Instead, we only check for conflicts for *the most recently added queen*, which allows us to cut off the search earlier (which depends on how the checker is used, in `find_four_queens` below it)."
   ]
  },
  {
   "cell_type": "code",
   "execution_count": 100,
   "metadata": {},
   "outputs": [],
   "source": [
    "def conflict_for_new_queen(board, col):\n",
    "    \"\"\"Consider adding a new queen to the partial board (a list of just the queens of the first few rows).\n",
    "    The new queen's row is fixed to be the very next one w.r.t. the list length.\n",
    "    The argument col tells us which column the new queen goes into.\n",
    "    Return whether the new queen can attack any of the old ones.\"\"\"\n",
    "    \n",
    "    if col in board:\n",
    "        # This column was already used!  Note that we used another Boolean list-membership check.\n",
    "        return True\n",
    "    \n",
    "    for i in range(len(board)):\n",
    "        if abs(board[i] - col) == abs(i - len(board)):\n",
    "            # Hit on a diagonal!\n",
    "            return True\n",
    "\n",
    "    return False\n",
    "\n",
    "def find_four_queens(not_any_of_these=[]):\n",
    "    \"\"\"Finds a board illustrating a solution to the four-queens problem.\n",
    "    Optionally, we provide a list of ineligible solutions.\"\"\"\n",
    "\n",
    "    board = []\n",
    "    # There will be moderately complex funny business with this board.\n",
    "    # We mutate it freely as we proceed through the search.\n",
    "    # A guess about one queen's position adds the guess' column to the *end* of the board list.\n",
    "    # When a guess turns out to be wrong, we *undo* by *removing* the last list element.\n",
    "    \n",
    "    for q1 in range(4):\n",
    "        board.append(q1)\n",
    "        for q2 in range(4):\n",
    "            if not conflict_for_new_queen(board, q2):\n",
    "                board.append(q2)\n",
    "                for q3 in range(4):\n",
    "                    if not conflict_for_new_queen(board, q3):\n",
    "                        board.append(q3)\n",
    "                        for q4 in range(4):\n",
    "                            if not conflict_for_new_queen(board, q4):\n",
    "                                board.append(q4)\n",
    "                                if board not in not_any_of_these:\n",
    "                                    return board\n",
    "                                # If we get here, the guess for q4 was wrong!\n",
    "                                del board[-1] # Delete last entry in list.\n",
    "                        del board[-1]\n",
    "                del board[-1]\n",
    "        del board[-1]\n",
    "\n",
    "    return None"
   ]
  },
  {
   "cell_type": "code",
   "execution_count": 101,
   "metadata": {},
   "outputs": [
    {
     "data": {
      "text/plain": [
       "[1, 3, 0, 2]"
      ]
     },
     "execution_count": 101,
     "metadata": {},
     "output_type": "execute_result"
    }
   ],
   "source": [
    "find_four_queens()"
   ]
  },
  {
   "cell_type": "code",
   "execution_count": 102,
   "metadata": {},
   "outputs": [
    {
     "data": {
      "text/plain": [
       "[[1, 3, 0, 2], [2, 0, 3, 1]]"
      ]
     },
     "execution_count": 102,
     "metadata": {},
     "output_type": "execute_result"
    }
   ],
   "source": [
    "find_all_four_queens()"
   ]
  },
  {
   "cell_type": "markdown",
   "metadata": {},
   "source": [
    "## Making It Generic in Board Size, Using Recursion\n",
    "\n",
    "We are getting a bit ahead of ourselves, and we will revisit this subject in more detail in week 4's lecture, but let's get a glimpse at a rather compact *recursive* version that generalizes easily to any board dimension."
   ]
  },
  {
   "cell_type": "code",
   "execution_count": 107,
   "metadata": {},
   "outputs": [],
   "source": [
    "def find_n_queens(n, board=[]):\n",
    "    \"\"\"Finds a board illustrating a solution to the n-queens problem.\"\"\"\n",
    "    \n",
    "    # Notice that we are building up the board list as we go,\n",
    "    # starting from empty and appending each guess.\n",
    "\n",
    "    if len(board) == n:\n",
    "        # That's why a good recursion base case (stopping condition) is that\n",
    "        # the board is now as long as the dimension.\n",
    "        return board\n",
    "    else:\n",
    "        # Recursive case: consider every possible placement of the next queen.\n",
    "        for q in range(n):\n",
    "            if not conflict_for_new_queen(board, q):\n",
    "                result = find_n_queens(n, board + [q])\n",
    "                # Note a key difference from our last solution:\n",
    "                # rather than _mutating_ (changing) the board we compute a _new_ one.\n",
    "                # As a result, the old board is undisturbed and available for easy further use!\n",
    "                if result:\n",
    "                    # Note that \"if result\" is checking whether \"result\" is not \"None\".\n",
    "                    return result\n",
    "\n",
    "        return None"
   ]
  },
  {
   "cell_type": "code",
   "execution_count": 108,
   "metadata": {},
   "outputs": [
    {
     "data": {
      "text/plain": [
       "[1, 3, 0, 2]"
      ]
     },
     "execution_count": 108,
     "metadata": {},
     "output_type": "execute_result"
    }
   ],
   "source": [
    "find_n_queens(4)"
   ]
  },
  {
   "cell_type": "code",
   "execution_count": 109,
   "metadata": {},
   "outputs": [
    {
     "data": {
      "text/plain": [
       "[0, 4, 7, 5, 2, 6, 1, 3]"
      ]
     },
     "execution_count": 109,
     "metadata": {},
     "output_type": "execute_result"
    }
   ],
   "source": [
    "find_n_queens(8)"
   ]
  },
  {
   "cell_type": "code",
   "execution_count": 110,
   "metadata": {},
   "outputs": [
    {
     "data": {
      "text/plain": [
       "[0, 2, 4, 1, 9, 11, 13, 3, 12, 8, 5, 14, 6, 10, 7]"
      ]
     },
     "execution_count": 110,
     "metadata": {},
     "output_type": "execute_result"
    }
   ],
   "source": [
    "find_n_queens(15)"
   ]
  }
 ],
 "metadata": {
  "kernelspec": {
   "display_name": "Python 3",
   "language": "python",
   "name": "python3"
  },
  "language_info": {
   "codemirror_mode": {
    "name": "ipython",
    "version": 3
   },
   "file_extension": ".py",
   "mimetype": "text/x-python",
   "name": "python",
   "nbconvert_exporter": "python",
   "pygments_lexer": "ipython3",
   "version": "3.6.7"
  }
 },
 "nbformat": 4,
 "nbformat_minor": 2
}
