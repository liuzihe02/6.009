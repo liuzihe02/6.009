{
 "cells": [
  {
   "cell_type": "markdown",
   "metadata": {},
   "source": [
    "## Replicating Generators\n",
    "\n",
    "The below represents the parent class for our custom generator object."
   ]
  },
  {
   "cell_type": "code",
   "execution_count": 1,
   "metadata": {},
   "outputs": [],
   "source": [
    "# Everywhere we used a generator, we'll instead use a child of this class.\n",
    "\n",
    "#this is our custom iterator, not a subclass of Iterator class!\n",
    "#this is our parent class\n",
    "class Iterator:     \n",
    "    def hasNext(self):\n",
    "        \"\"\"Intended behavior: returns whether there is a next element.\"\"\"\n",
    "        raise NotImplementedError\n",
    "    \n",
    "    def next(self):\n",
    "        \"\"\"Intended behavior: returns next element.\n",
    "        Illegal to call when hasNext() returns False!\"\"\"\n",
    "        raise NotImplementedError\n",
    "    \n",
    "    # Bonus: we use yet another magic method to build a native Python iterator\n",
    "    # from one of our hand-crafted ones.\n",
    "\n",
    "    #this is the bit to create an actual Python iterator!\n",
    "    def __iter__(self):\n",
    "        while self.hasNext():\n",
    "            yield self.next()"
   ]
  },
  {
   "cell_type": "markdown",
   "metadata": {},
   "source": [
    "Duplicating the generation of all positive integers"
   ]
  },
  {
   "cell_type": "code",
   "execution_count": 2,
   "metadata": {},
   "outputs": [],
   "source": [
    "class AllPositiveIntegers(Iterator):\n",
    "    def __init__(self):\n",
    "        self.i = 1 # Attribute to hold next integer we should generate\n",
    "\n",
    "    def hasNext(self):\n",
    "        return True # Infinite streams always have next values!\n",
    "\n",
    "    def next(self):\n",
    "        result = self.i\n",
    "        self.i += 1\n",
    "        return result"
   ]
  },
  {
   "cell_type": "code",
   "execution_count": 3,
   "metadata": {},
   "outputs": [
    {
     "name": "stdout",
     "output_type": "stream",
     "text": [
      "1\n",
      "2\n",
      "3\n"
     ]
    }
   ],
   "source": [
    "api = AllPositiveIntegers()\n",
    "print(api.next())\n",
    "print(api.next())\n",
    "print(api.next())"
   ]
  },
  {
   "cell_type": "markdown",
   "metadata": {},
   "source": [
    "first-n functionality to generate the first `n` items in a stream"
   ]
  },
  {
   "cell_type": "code",
   "execution_count": 4,
   "metadata": {},
   "outputs": [],
   "source": [
    "class FirstN(Iterator):\n",
    "    def __init__(self, child, num):\n",
    "        self.child = child # A sub-iterator that we delegate to\n",
    "        self.num = num     # How many more values we want to grab from it, max\n",
    "    \n",
    "    def hasNext(self):\n",
    "        return self.num > 0 and self.child.hasNext()\n",
    "        # We must want to return more values AND the child must actually have a value to offer.\n",
    "    \n",
    "    def next(self):\n",
    "        self.num -= 1\n",
    "        return self.child.next()"
   ]
  },
  {
   "cell_type": "markdown",
   "metadata": {},
   "source": [
    "the `list` call below worked implicitly by calling the `__iter__` method of `Iterator`, which is called in any context where Python wants an iterator (in the built-in sense) but has been handed a value that isn't one yet."
   ]
  },
  {
   "cell_type": "code",
   "execution_count": 5,
   "metadata": {},
   "outputs": [
    {
     "data": {
      "text/plain": [
       "[1, 2, 3, 4, 5]"
      ]
     },
     "execution_count": 5,
     "metadata": {},
     "output_type": "execute_result"
    }
   ],
   "source": [
    "list(FirstN(AllPositiveIntegers(), 5))"
   ]
  },
  {
   "cell_type": "markdown",
   "metadata": {},
   "source": [
    "## Replicating List Comprehensions\n",
    "\n",
    "How do list comprehensions really work? Python translates them into generators automatically!\n",
    "\n",
    "First, let's make the built-in `range` function"
   ]
  },
  {
   "cell_type": "code",
   "execution_count": 6,
   "metadata": {},
   "outputs": [],
   "source": [
    "class Range(Iterator):\n",
    "    def __init__(self, lower, upper):\n",
    "        self.lower = lower\n",
    "        self.upper = upper\n",
    "    \n",
    "    def hasNext(self):\n",
    "        return self.lower < self.upper\n",
    "\n",
    "    def next(self):\n",
    "        result = self.lower\n",
    "        self.lower += 1\n",
    "        return result"
   ]
  },
  {
   "cell_type": "code",
   "execution_count": 7,
   "metadata": {},
   "outputs": [
    {
     "data": {
      "text/plain": [
       "[3, 4, 5]"
      ]
     },
     "execution_count": 7,
     "metadata": {},
     "output_type": "execute_result"
    }
   ],
   "source": [
    "list(Range(3, 6))"
   ]
  },
  {
   "cell_type": "markdown",
   "metadata": {},
   "source": [
    "**Composed Iterator**\n",
    "\n",
    "Let's also make a *composed* iterator which takes in an iterator `iter1` and a function `iter2` that creates another interator. Hence, we loop through each element in `iter1`, then call `iter2` on each element of `iter1`. Note that this is a nested loop."
   ]
  },
  {
   "cell_type": "code",
   "execution_count": 8,
   "metadata": {},
   "outputs": [],
   "source": [
    "class Composed(Iterator):\n",
    "    def __init__(self, iter1, iter2):\n",
    "        self.iter1 = iter1\n",
    "        self.iter2 = iter2\n",
    "        self.specific_iter2 = None # This attribute holds the most recent iterator\n",
    "                                   # created by the function iter2.\n",
    "    \n",
    "    def hasNext(self):\n",
    "        # It is a bit tricky to tell when there is a next item.\n",
    "        # We might need to \"fast-forward\" through many values produced by iter1,\n",
    "        # if each one corresponds to an empty iter2.\n",
    "        # As a nice side effect, we stash away the next value to return, if there is one.\n",
    "        while True:\n",
    "            if self.specific_iter2 and self.specific_iter2.hasNext():\n",
    "                return True\n",
    "        \n",
    "            if self.iter1.hasNext():\n",
    "                #keep going to next loop (advancing iter1) until specic_iter2 hasNext\n",
    "                self.specific_iter2 = self.iter2(self.iter1.next())\n",
    "            else:\n",
    "                return False\n",
    "    \n",
    "    def next(self):\n",
    "        if self.hasNext():\n",
    "            return self.specific_iter2.next()"
   ]
  },
  {
   "cell_type": "code",
   "execution_count": 9,
   "metadata": {},
   "outputs": [
    {
     "data": {
      "text/plain": [
       "[0, 1, 1, 2, 2, 3, 3, 4]"
      ]
     },
     "execution_count": 9,
     "metadata": {},
     "output_type": "execute_result"
    }
   ],
   "source": [
    "list(Composed(Range(0, 4), lambda n: Range(n, n+2)))"
   ]
  },
  {
   "cell_type": "markdown",
   "metadata": {},
   "source": [
    "**Singleton Iterator**\n",
    "\n",
    "This yields just one value which we return immediately"
   ]
  },
  {
   "cell_type": "code",
   "execution_count": 10,
   "metadata": {},
   "outputs": [],
   "source": [
    "class Singleton(Iterator):\n",
    "    def __init__(self, value):\n",
    "        self.value = value     # Save to return when asked.\n",
    "        #this means we cannot run next on this item multiple times\n",
    "        self.unclaimed = True  # Remember whether we were already asked.\n",
    "    \n",
    "    def hasNext(self):\n",
    "        return self.unclaimed\n",
    "\n",
    "    def next(self):\n",
    "        #claim (mark this value as used before) this item\n",
    "        self.unclaimed = False\n",
    "        return self.value"
   ]
  },
  {
   "cell_type": "code",
   "execution_count": 11,
   "metadata": {},
   "outputs": [
    {
     "data": {
      "text/plain": [
       "[0, 1, 4, 9]"
      ]
     },
     "execution_count": 11,
     "metadata": {},
     "output_type": "execute_result"
    }
   ],
   "source": [
    "list(Composed(Range(0, 4), lambda n: Singleton(n*n)))"
   ]
  },
  {
   "cell_type": "markdown",
   "metadata": {},
   "source": [
    "Some examples of using `Composed` and `Singleton`.\n",
    "\n",
    "Simple List Comprehension:"
   ]
  },
  {
   "cell_type": "code",
   "execution_count": 12,
   "metadata": {},
   "outputs": [
    {
     "name": "stdout",
     "output_type": "stream",
     "text": [
      "[0, 2, 4, 6, 8]\n"
     ]
    }
   ],
   "source": [
    "def map_iterator(func, iter):\n",
    "    return Composed(iter, lambda x: Singleton(func(x)))\n",
    "\n",
    "# Equivalent to: [x * 2 for x in range(5)]\n",
    "doubled = map_iterator(lambda x: x * 2, Range(0, 5))\n",
    "result = list(doubled)\n",
    "print(result)  # Output: [0, 2, 4, 6, 8]"
   ]
  },
  {
   "cell_type": "markdown",
   "metadata": {},
   "source": [
    "Nested List Comprehension:"
   ]
  },
  {
   "cell_type": "code",
   "execution_count": 13,
   "metadata": {},
   "outputs": [
    {
     "name": "stdout",
     "output_type": "stream",
     "text": [
      "[(0, 0), (0, 1), (1, 0), (1, 1), (2, 0), (2, 1)]\n"
     ]
    }
   ],
   "source": [
    "# Equivalent to: [(x, y) for x in range(3) for y in range(2)]\n",
    "nested = Composed(Range(0, 3), \n",
    "                  lambda x: Composed(Range(0, 2), \n",
    "                                     lambda y: Singleton((x, y))))\n",
    "result = list(nested)\n",
    "print(result)  # Output: [(0, 0), (0, 1), (1, 0), (1, 1), (2, 0), (2, 1)]"
   ]
  },
  {
   "cell_type": "markdown",
   "metadata": {},
   "source": [
    "List Comprehension with Conditional:"
   ]
  },
  {
   "cell_type": "code",
   "execution_count": 14,
   "metadata": {},
   "outputs": [
    {
     "name": "stdout",
     "output_type": "stream",
     "text": [
      "[0, 'odd', 2, 'odd', 4]\n"
     ]
    }
   ],
   "source": [
    "# Equivalent to: [x if x % 2 == 0 else 'odd' for x in range(5)]\n",
    "conditional = map_iterator(lambda x: x if x % 2 == 0 else 'odd', Range(0, 5))\n",
    "result = list(conditional)\n",
    "print(result)  # Output: [0, 'odd', 2, 'odd', 4]"
   ]
  },
  {
   "cell_type": "markdown",
   "metadata": {},
   "source": [
    "### Native List Comprehension for Generators\n",
    "\n",
    "We can also use list comprehension for generators, but instead of storing elements of a list in memory, this creates generator objects. The synatax is `(operation for item in generator/iterable)`"
   ]
  },
  {
   "cell_type": "code",
   "execution_count": 15,
   "metadata": {},
   "outputs": [
    {
     "name": "stdout",
     "output_type": "stream",
     "text": [
      "0\n",
      "10\n",
      "20\n"
     ]
    }
   ],
   "source": [
    "# generator expression\n",
    "generator_exp = (i * 5 for i in range(5) if i%2==0)\n",
    "\n",
    "for i in generator_exp:\n",
    "    print(i)"
   ]
  }
 ],
 "metadata": {
  "kernelspec": {
   "display_name": "venv",
   "language": "python",
   "name": "python3"
  },
  "language_info": {
   "codemirror_mode": {
    "name": "ipython",
    "version": 3
   },
   "file_extension": ".py",
   "mimetype": "text/x-python",
   "name": "python",
   "nbconvert_exporter": "python",
   "pygments_lexer": "ipython3",
   "version": "3.10.12"
  }
 },
 "nbformat": 4,
 "nbformat_minor": 2
}
