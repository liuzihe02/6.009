{
 "cells": [
  {
   "cell_type": "code",
   "execution_count": 33,
   "metadata": {
    "scrolled": true
   },
   "outputs": [],
   "source": [
    "from instrument import instrument #utility to help visualize recursive calls (on stderr)"
   ]
  },
  {
   "cell_type": "code",
   "execution_count": 34,
   "metadata": {
    "scrolled": true
   },
   "outputs": [],
   "source": [
    "instrument.SHOW_CALL = True\n",
    "instrument.SHOW_RET = True"
   ]
  },
  {
   "cell_type": "markdown",
   "metadata": {},
   "source": [
    "# Recursive Patterns\n",
    "## Let's start with some simple functions that recurse on lists...\n",
    "### Walk the list to find the first value satisfying function `f`"
   ]
  },
  {
   "cell_type": "code",
   "execution_count": 35,
   "metadata": {},
   "outputs": [],
   "source": [
    "@instrument\n",
    "def walk_list(L, f):\n",
    "    \"\"\"Walk a list -- in a recursive style. Note that this is done as a\n",
    "    stepping stone toward other recursive functions, and so does not\n",
    "    use easier/direct built-in list functions.\n",
    "    \n",
    "    In this first version -- walk the list just to find/return the\n",
    "    FIRST item that satisfies some condition, where f(item) is true.\n",
    "    \n",
    "    >>> walk_list([1, 2, 3], lambda x: x > 2)\n",
    "    3\n",
    "    \"\"\"\n",
    "    if L == []:      #base case\n",
    "        return None\n",
    "    if f(L[0]):      #another base case\n",
    "        return L[0]\n",
    "    return walk_list(L[1:], f) #recursive case"
   ]
  },
  {
   "cell_type": "code",
   "execution_count": 36,
   "metadata": {},
   "outputs": [
    {
     "name": "stderr",
     "output_type": "stream",
     "text": [
      "call to walk_list: [1, 2, 3], <function <lambda> at 0x7f750dcf3250>\n",
      "   call to walk_list: [2, 3], <function <lambda> at 0x7f750dcf3250>\n",
      "      call to walk_list: [3], <function <lambda> at 0x7f750dcf3250>\n",
      "      walk_list returns: 3\n",
      "   walk_list returns: 3\n",
      "walk_list returns: 3\n"
     ]
    },
    {
     "data": {
      "text/plain": [
       "3"
      ]
     },
     "execution_count": 36,
     "metadata": {},
     "output_type": "execute_result"
    }
   ],
   "source": [
    "walk_list([1, 2, 3], lambda x: x > 2)"
   ]
  },
  {
   "cell_type": "markdown",
   "metadata": {},
   "source": [
    "### Walk a list, but now returning a <em>list</em> of items that satisfy `f` -- uses stack"
   ]
  },
  {
   "cell_type": "code",
   "execution_count": 37,
   "metadata": {},
   "outputs": [],
   "source": [
    "@instrument\n",
    "def walk_list_filter1(L, f):\n",
    "    \"\"\" Walk a list, returning a list of items that satisfy the\n",
    "    condition f.\n",
    "\n",
    "    This implementation uses the stack to hold intermediate results,\n",
    "    and completes construction of the return list upon return of\n",
    "    the recursive call.\n",
    "\n",
    "    >>> walk_list_filter1([1, 2, 3], lambda x: x % 2 == 1) #odd only\n",
    "    [1, 3]\n",
    "    \"\"\"\n",
    "    if L == []:\n",
    "        return []\n",
    "    if f(L[0]):\n",
    "        # the following waits to build (and then return) the list\n",
    "        # until after the recursive call comes back with a sub-result\n",
    "        return [L[0]] + walk_list_filter1(L[1:], f)\n",
    "    else:\n",
    "        return walk_list_filter1(L[1:], f)"
   ]
  },
  {
   "cell_type": "code",
   "execution_count": 38,
   "metadata": {},
   "outputs": [
    {
     "name": "stdout",
     "output_type": "stream",
     "text": [
      "[1, 3]\n"
     ]
    },
    {
     "name": "stderr",
     "output_type": "stream",
     "text": [
      "call to walk_list_filter1: [1, 2, 3], <function <lambda> at 0x7f750dcf2440>\n",
      "   call to walk_list_filter1: [2, 3], <function <lambda> at 0x7f750dcf2440>\n",
      "      call to walk_list_filter1: [3], <function <lambda> at 0x7f750dcf2440>\n",
      "         call to walk_list_filter1: [], <function <lambda> at 0x7f750dcf2440>\n",
      "         walk_list_filter1 returns: []\n",
      "      walk_list_filter1 returns: [3]\n",
      "   walk_list_filter1 returns: [3]\n",
      "walk_list_filter1 returns: [1, 3]\n"
     ]
    }
   ],
   "source": [
    "print(walk_list_filter1([1, 2, 3], lambda x: x % 2 == 1))"
   ]
  },
  {
   "cell_type": "markdown",
   "metadata": {},
   "source": [
    "### Walk a list, returning a list of items that satisfy `f` -- uses helper with a \"so_far\" argument"
   ]
  },
  {
   "cell_type": "code",
   "execution_count": 39,
   "metadata": {},
   "outputs": [],
   "source": [
    "@instrument\n",
    "def walk_list_filter2(L, f):\n",
    "    \"\"\" Walk a list, returning a list of items that satisfy the\n",
    "    condition f.\n",
    "\n",
    "    This implementation uses a helper with an explicit 'so far'\n",
    "    variable, that holds the return value as it is being built\n",
    "    up incrementally on each call.\n",
    "\n",
    "    >>> walk_list_filter2([1, 2, 3], lambda x: x % 2 == 1)\n",
    "    [1, 3]\n",
    "    \"\"\"\n",
    "    @instrument\n",
    "    def helper(L, ans_so_far):\n",
    "        if L == []:\n",
    "            return ans_so_far\n",
    "        if f(L[0]):\n",
    "            ans_so_far.append(L[0])\n",
    "        return helper(L[1:], ans_so_far) #tail recursive\n",
    "    \n",
    "    return helper(L, [])"
   ]
  },
  {
   "cell_type": "code",
   "execution_count": 40,
   "metadata": {
    "scrolled": true
   },
   "outputs": [
    {
     "name": "stderr",
     "output_type": "stream",
     "text": [
      "call to walk_list_filter2: [1, 2, 3], <function <lambda> at 0x7f750dcf3370>\n",
      "call to helper: [1, 2, 3], []\n",
      "   call to helper: [2, 3], [1]\n",
      "      call to helper: [3], [1]\n",
      "         call to helper: [], [1, 3]\n",
      "         helper returns: [1, 3]\n",
      "      helper returns: [1, 3]\n",
      "   helper returns: [1, 3]\n",
      "helper returns: [1, 3]\n",
      "walk_list_filter2 returns: [1, 3]\n"
     ]
    },
    {
     "data": {
      "text/plain": [
       "[1, 3]"
      ]
     },
     "execution_count": 40,
     "metadata": {},
     "output_type": "execute_result"
    }
   ],
   "source": [
    "walk_list_filter2([1, 2, 3], lambda x: x % 2 == 1)"
   ]
  },
  {
   "cell_type": "markdown",
   "metadata": {},
   "source": [
    "Note the difference in how this works. `walk_list_filter2` builds up the result as an evolving argument to `helper`. \n",
    "When we're done, the stack does nothing more than keep passing that result back up the call chain (i.e., is written in \n",
    "a tail-recursive fashion). \n",
    "In contrast, `walk_list_filter1` uses the stack to hold partial results, and then does further work to \n",
    "build or complete the result after each recursive call returns."
   ]
  },
  {
   "cell_type": "markdown",
   "metadata": {},
   "source": [
    "## Now consider some functions that recurse on trees...\n",
    "We want to extend the basic idea of recursive walkers and builders for lists, now to trees. We'll see the same patterns at work, but now often with more base cases and/or more recursive branch cases.\n",
    "\n",
    "For these examples, we need a simple tree structure. Here we'll represent a node in a tree as a list with the first element being the node value, and the rest of the list being the children nodes.\n",
    "That is to say, our tree structure is a simple nested list structure.\n",
    "\n",
    "<center><img src=\"images/tree1.png\" alt=\"tree [13, [7], [8, [99], [16], [42]]]\" width=150></center>"
   ]
  },
  {
   "cell_type": "code",
   "execution_count": 41,
   "metadata": {},
   "outputs": [
    {
     "data": {
      "text/plain": [
       "[13, [7], [8, [99], [16, [77]], [42]]]"
      ]
     },
     "execution_count": 41,
     "metadata": {},
     "output_type": "execute_result"
    }
   ],
   "source": [
    "tree1 = [13,\n",
    "         [7],\n",
    "         [8, \n",
    "          [99],\n",
    "          [16, \n",
    "           [77]],\n",
    "          [42]]]\n",
    "tree1"
   ]
  },
  {
   "cell_type": "code",
   "execution_count": 42,
   "metadata": {},
   "outputs": [],
   "source": [
    "@instrument\n",
    "def depth_tree(tree):\n",
    "    \"\"\" Walk a tree, returning the depth of the tree\n",
    "    >>> depth_tree([13, [7], [8, [99], [16, [77]], [42]]])\n",
    "    4\n",
    "    \"\"\"\n",
    "    #in case somehow we have empty lists\n",
    "    if tree == []:       #base case\n",
    "        return 0    \n",
    "\n",
    "    children = tree[1:]\n",
    "\n",
    "    #this is a list of a single element\n",
    "    if not children:     #base case\n",
    "        return 1\n",
    "    \n",
    "    #recursive case\n",
    "    return max(1+depth_tree(child) for child in children)"
   ]
  },
  {
   "cell_type": "code",
   "execution_count": 43,
   "metadata": {},
   "outputs": [
    {
     "name": "stderr",
     "output_type": "stream",
     "text": [
      "call to depth_tree: [13, [7], [8, [99], [16, [77]], [42]]]\n",
      "   call to depth_tree: [7]\n",
      "   depth_tree returns: 1\n",
      "   call to depth_tree: [8, [99], [16, [77]], [42]]\n",
      "      call to depth_tree: [99]\n",
      "      depth_tree returns: 1\n",
      "      call to depth_tree: [16, [77]]\n",
      "         call to depth_tree: [77]\n",
      "         depth_tree returns: 1\n",
      "      depth_tree returns: 2\n",
      "      call to depth_tree: [42]\n",
      "      depth_tree returns: 1\n",
      "   depth_tree returns: 3\n",
      "depth_tree returns: 4\n"
     ]
    },
    {
     "data": {
      "text/plain": [
       "4"
      ]
     },
     "execution_count": 43,
     "metadata": {},
     "output_type": "execute_result"
    }
   ],
   "source": [
    "depth_tree([13, [7], [8, [99], [16, [77]], [42]]])"
   ]
  },
  {
   "cell_type": "code",
   "execution_count": 44,
   "metadata": {},
   "outputs": [],
   "source": [
    "@instrument\n",
    "def tree_max(tree):\n",
    "    \"\"\"Walk a tree, returning the maximum value in the (assumed non-empty) tree.\n",
    "    >>> tree_max([13, [7], [8, [99], [16, [77]], [42]]])\n",
    "    99    \n",
    "    \"\"\"\n",
    "    val = tree[0]\n",
    "    children = tree[1:]\n",
    "    if not children:     #base case\n",
    "        return val\n",
    "    # recursive case. Note that the following launches \n",
    "    # MULTIPLE recursive calls, one for each child...\n",
    "    return max(val, max(tree_max(child) for child in children))"
   ]
  },
  {
   "cell_type": "code",
   "execution_count": 45,
   "metadata": {
    "scrolled": true
   },
   "outputs": [
    {
     "name": "stderr",
     "output_type": "stream",
     "text": [
      "call to tree_max: [13, [7], [8, [99], [16, [77]], [42]]]\n",
      "   call to tree_max: [7]\n",
      "   tree_max returns: 7\n",
      "   call to tree_max: [8, [99], [16, [77]], [42]]\n",
      "      call to tree_max: [99]\n",
      "      tree_max returns: 99\n",
      "      call to tree_max: [16, [77]]\n",
      "         call to tree_max: [77]\n",
      "         tree_max returns: 77\n",
      "      tree_max returns: 77\n",
      "      call to tree_max: [42]\n",
      "      tree_max returns: 42\n",
      "   tree_max returns: 99\n",
      "tree_max returns: 99\n"
     ]
    },
    {
     "data": {
      "text/plain": [
       "99"
      ]
     },
     "execution_count": 45,
     "metadata": {},
     "output_type": "execute_result"
    }
   ],
   "source": [
    "tree_max(tree1)"
   ]
  },
  {
   "cell_type": "markdown",
   "metadata": {},
   "source": [
    "Notice that the recursion structure is exactly the same in both cases?  We could generalize to something like a `walk_tree` that took a tree *and* a function `f` (and perhaps some other base case values), and did that operation at each step. We'll leave that as an exercise for the reader. "
   ]
  },
  {
   "cell_type": "markdown",
   "metadata": {},
   "source": [
    "## Finally, consider some functions that recurse on directed graphs...\n",
    "For this, we need a more sophisticated structure, since a node may be referenced from more than one other node. We'll represent a directed graph (also known as a \"digraph\") as a dictionary with node names as keys, and associated with the key is a list holding the node value and a list of children node names. The special name 'root' is the root of the graph.\n",
    "\n",
    "<center><img src=\"images/graph1.png\" alt=\"graph1\" width=200></center>"
   ]
  },
  {
   "cell_type": "markdown",
   "metadata": {},
   "source": [
    "\n",
    "Moreover, graphs may also contain cycles! E.g.,\n",
    "\n",
    "<center><img src=\"images/graph_cycle.png\" alt=\"graph with cycle\" width=220></center>\n",
    "\n",
    "How do we avoid infinite recursion?"
   ]
  },
  {
   "cell_type": "code",
   "execution_count": 46,
   "metadata": {},
   "outputs": [],
   "source": [
    "graph1 = {'root': [13, ['A', 'B']],\n",
    "          'A': [77, ['B', 'C']],\n",
    "          'B': [88, []],\n",
    "          'C': [-32, ['D']],\n",
    "          'D': [42, []]}"
   ]
  },
  {
   "cell_type": "code",
   "execution_count": 47,
   "metadata": {},
   "outputs": [],
   "source": [
    "graph2 = {'root': [13, ['A', 'B']],\n",
    "          'A': [77, ['B', 'C']],\n",
    "          'B': [88, []],\n",
    "          'C': [-32, ['D']],\n",
    "          'D': [42, ['A']]}  # D --> A"
   ]
  },
  {
   "cell_type": "code",
   "execution_count": 48,
   "metadata": {},
   "outputs": [],
   "source": [
    "@instrument\n",
    "def graph_max(graph):\n",
    "    \"\"\"Walk a graph, returning the maximum value in a (non-empty) graph.\n",
    "    However, there might be cycles, so need to be careful not to\n",
    "    get stuck in them!\n",
    "    \"\"\"\n",
    "\n",
    "    visited = set()\n",
    "    @instrument\n",
    "    def node_max(node_name):\n",
    "        visited.add(node_name)\n",
    "        val = graph[node_name][0]\n",
    "        children = graph[node_name][1]\n",
    "        #explore all unvisited nodes in a BFS way\n",
    "        new_children = [c for c in children if c not in visited]\n",
    "        #as long as theres one child\n",
    "        if new_children:\n",
    "            return max(val, max(node_max(child) for child in new_children))\n",
    "        return val\n",
    "    return node_max('root')"
   ]
  },
  {
   "cell_type": "code",
   "execution_count": 49,
   "metadata": {},
   "outputs": [],
   "source": [
    "instrument.SHOW_CALL = True\n",
    "instrument.SHOW_RET = True"
   ]
  },
  {
   "cell_type": "code",
   "execution_count": 50,
   "metadata": {},
   "outputs": [
    {
     "name": "stderr",
     "output_type": "stream",
     "text": [
      "call to graph_max: {'root': [13, ['A', 'B']], 'A': [77, ['B', 'C']], 'B':  ...\n",
      "call to node_max: root\n",
      "   call to node_max: A\n",
      "      call to node_max: B\n",
      "      node_max returns: 88\n",
      "      call to node_max: C\n",
      "         call to node_max: D\n",
      "         node_max returns: 42\n",
      "      node_max returns: 42\n",
      "   node_max returns: 88\n",
      "   call to node_max: B\n",
      "   node_max returns: 88\n",
      "node_max returns: 88\n",
      "graph_max returns: 88\n"
     ]
    },
    {
     "data": {
      "text/plain": [
       "88"
      ]
     },
     "execution_count": 50,
     "metadata": {},
     "output_type": "execute_result"
    }
   ],
   "source": [
    "graph_max(graph1)"
   ]
  },
  {
   "cell_type": "code",
   "execution_count": 51,
   "metadata": {},
   "outputs": [
    {
     "name": "stderr",
     "output_type": "stream",
     "text": [
      "call to graph_max: {'root': [13, ['A', 'B']], 'A': [77, ['B', 'C']], 'B':  ...\n",
      "call to node_max: root\n",
      "   call to node_max: A\n",
      "      call to node_max: B\n",
      "      node_max returns: 88\n",
      "      call to node_max: C\n",
      "         call to node_max: D\n",
      "         node_max returns: 42\n",
      "      node_max returns: 42\n",
      "   node_max returns: 88\n",
      "   call to node_max: B\n",
      "   node_max returns: 88\n",
      "node_max returns: 88\n",
      "graph_max returns: 88\n"
     ]
    },
    {
     "data": {
      "text/plain": [
       "88"
      ]
     },
     "execution_count": 51,
     "metadata": {},
     "output_type": "execute_result"
    }
   ],
   "source": [
    "graph_max(graph2)"
   ]
  },
  {
   "cell_type": "markdown",
   "metadata": {
    "collapsed": true
   },
   "source": [
    "# Circular Lists\n",
    "It's possible to create a simple python list that has itself as an element. In essence, that means that python lists themselves might be \"graphs\" and have cycles in them, not just have a tree-like structure!"
   ]
  },
  {
   "cell_type": "code",
   "execution_count": 52,
   "metadata": {},
   "outputs": [
    {
     "name": "stdout",
     "output_type": "stream",
     "text": [
      "x: [0, [...], 2]\n",
      "x[1][1][1][1][1][1][1][1][1][1][2]: 2\n"
     ]
    }
   ],
   "source": [
    "x = [0, 1, 2]\n",
    "x[1] = x\n",
    "print(\"x:\", x)\n",
    "print(\"x[1][1][1][1][1][1][1][1][1][1][2]:\", x[1][1][1][1][1][1][1][1][1][1][2])"
   ]
  },
  {
   "cell_type": "markdown",
   "metadata": {},
   "source": [
    "We'd like a version of `deep_copy_list` that could create a (separate standalone) copy of a recursive list, *with the same* structural sharing (including any cycles that might exist!) as in the original recursive list."
   ]
  },
  {
   "cell_type": "code",
   "execution_count": 53,
   "metadata": {},
   "outputs": [],
   "source": [
    "@instrument\n",
    "def deep_copy_list(old, copies=None):\n",
    "    if copies is None:\n",
    "        copies = {}\n",
    "\n",
    "    oid = id(old)      #get the unique python object-id for old\n",
    "\n",
    "    if oid in copies:  #base case: already copied object, just return it\n",
    "        return copies[oid]\n",
    "\n",
    "    if not isinstance(old, list):  #base case: not a list, remember & return it\n",
    "        copies[oid] = old\n",
    "        return copies[oid]\n",
    "    \n",
    "    #recursive case\n",
    "    copies[oid] = []\n",
    "    for e in old:\n",
    "        copies[oid].append(deep_copy_list(e, copies))\n",
    "    return copies[oid]"
   ]
  },
  {
   "cell_type": "code",
   "execution_count": 54,
   "metadata": {},
   "outputs": [
    {
     "name": "stdout",
     "output_type": "stream",
     "text": [
      "x: [0, [...], 2]\n",
      "y: ['zero', [...], 2]\n",
      "y[1][1][1][1][1][1][1][1][1][1][2]: 2\n"
     ]
    },
    {
     "name": "stderr",
     "output_type": "stream",
     "text": [
      "call to deep_copy_list: [0, [...], 2]\n",
      "   call to deep_copy_list: 0, {140140709972416: []}\n",
      "   deep_copy_list returns: 0\n",
      "   call to deep_copy_list: [0, [...], 2], {140140709972416: [0], 140141043220688:  ...\n",
      "   deep_copy_list returns: [0]\n",
      "   call to deep_copy_list: 2, {140140709972416: [0, [...]], 140141043220688: 0}\n",
      "   deep_copy_list returns: 2\n",
      "deep_copy_list returns: [0, [...], 2]\n"
     ]
    }
   ],
   "source": [
    "y = deep_copy_list(x)\n",
    "y[0] = 'zero'\n",
    "print(\"x:\", x)\n",
    "print(\"y:\", y)\n",
    "print(\"y[1][1][1][1][1][1][1][1][1][1][2]:\", y[1][1][1][1][1][1][1][1][1][1][2])"
   ]
  }
 ],
 "metadata": {
  "kernelspec": {
   "display_name": "Python 3",
   "language": "python",
   "name": "python3"
  },
  "language_info": {
   "codemirror_mode": {
    "name": "ipython",
    "version": 3
   },
   "file_extension": ".py",
   "mimetype": "text/x-python",
   "name": "python",
   "nbconvert_exporter": "python",
   "pygments_lexer": "ipython3",
   "version": "3.10.12"
  }
 },
 "nbformat": 4,
 "nbformat_minor": 2
}
